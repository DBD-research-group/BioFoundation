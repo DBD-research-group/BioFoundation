{
 "cells": [
  {
   "cell_type": "markdown",
   "metadata": {},
   "source": [
    "### **Streaming**\n",
    "\n",
    "- when the dataset does not fit into storage\n",
    "- examples are loaded to memory one-by-one as we iterate over the dataset\n",
    "- loading and processing is done on the fly\n",
    "- experiment with only a small handful of examples!\n",
    "- **problem**: nothing is cached, everything is done on-the-fly everytime"
   ]
  },
  {
   "cell_type": "code",
   "execution_count": 2,
   "metadata": {},
   "outputs": [],
   "source": [
    "from datasets import load_dataset"
   ]
  },
  {
   "cell_type": "code",
   "execution_count": 8,
   "metadata": {},
   "outputs": [],
   "source": [
    "speech_commands = load_dataset(\"speech_commands\", \"v0.01\", streaming=True)"
   ]
  },
  {
   "cell_type": "markdown",
   "metadata": {},
   "source": [
    "We now have to iterate over a dataset, we cannot work with indices anymore"
   ]
  },
  {
   "cell_type": "code",
   "execution_count": 10,
   "metadata": {},
   "outputs": [
    {
     "data": {
      "text/plain": [
       "{'file': 'bed/4a294341_nohash_0.wav',\n",
       " 'audio': {'path': 'bed/4a294341_nohash_0.wav',\n",
       "  'array': array([0.00076294, 0.00296021, 0.00439453, ..., 0.00286865, 0.00283813,\n",
       "         0.00216675]),\n",
       "  'sampling_rate': 16000},\n",
       " 'label': 20,\n",
       " 'is_unknown': True,\n",
       " 'speaker_id': '4a294341',\n",
       " 'utterance_id': 0}"
      ]
     },
     "execution_count": 10,
     "metadata": {},
     "output_type": "execute_result"
    }
   ],
   "source": [
    "next(iter(speech_commands[\"train\"]))"
   ]
  },
  {
   "cell_type": "code",
   "execution_count": 11,
   "metadata": {},
   "outputs": [],
   "source": [
    "# takt the first n elements \n",
    "speech_head = speech_commands[\"train\"].take(3)"
   ]
  },
  {
   "cell_type": "code",
   "execution_count": 14,
   "metadata": {},
   "outputs": [
    {
     "data": {
      "text/plain": [
       "{'file': 'bed/4a294341_nohash_0.wav',\n",
       " 'audio': {'path': 'bed/4a294341_nohash_0.wav',\n",
       "  'array': array([0.00076294, 0.00296021, 0.00439453, ..., 0.00286865, 0.00283813,\n",
       "         0.00216675]),\n",
       "  'sampling_rate': 16000},\n",
       " 'label': 20,\n",
       " 'is_unknown': True,\n",
       " 'speaker_id': '4a294341',\n",
       " 'utterance_id': 0}"
      ]
     },
     "execution_count": 14,
     "metadata": {},
     "output_type": "execute_result"
    }
   ],
   "source": [
    "list(speech_head)[0]"
   ]
  }
 ],
 "metadata": {
  "kernelspec": {
   "display_name": "dal-toolbox",
   "language": "python",
   "name": "python3"
  },
  "language_info": {
   "codemirror_mode": {
    "name": "ipython",
    "version": 3
   },
   "file_extension": ".py",
   "mimetype": "text/x-python",
   "name": "python",
   "nbconvert_exporter": "python",
   "pygments_lexer": "ipython3",
   "version": "3.9.16"
  },
  "orig_nbformat": 4
 },
 "nbformat": 4,
 "nbformat_minor": 2
}
