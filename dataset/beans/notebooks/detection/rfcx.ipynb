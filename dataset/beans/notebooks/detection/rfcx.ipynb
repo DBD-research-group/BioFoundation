{
    "cells": [
        {
            "cell_type": "markdown",
            "metadata": {},
            "source": [
                "# Upload the BEANS rfcx recordings to HF"
            ]
        },
        {
            "cell_type": "markdown",
            "metadata": {},
            "source": [
                "#### 1. Download the recordings the way BEANS do it on their [GitHub](https://github.com/earthspecies/beans)"
            ]
        },
        {
            "cell_type": "markdown",
            "metadata": {},
            "source": [
                "First we will navigate into the mounted data_birdset folder to download the temporary files from the Repo their and install wget & unzip as they are not on the university bash."
            ]
        },
        {
            "cell_type": "code",
            "execution_count": 1,
            "metadata": {},
            "outputs": [
                {
                    "name": "stdout",
                    "output_type": "stream",
                    "text": [
                        "/workspace/data_birdset/beans\n",
                        "/workspace/data_birdset/beans\n"
                    ]
                },
                {
                    "name": "stderr",
                    "output_type": "stream",
                    "text": [
                        "/workspace/.venv/lib/python3.10/site-packages/IPython/core/magics/osm.py:417: UserWarning: This is now an optional IPython functionality, setting dhist requires you to install the `pickleshare` library.\n",
                        "  self.shell.db['dhist'] = compress_dhist(dhist)[-100:]\n"
                    ]
                },
                {
                    "name": "stdout",
                    "output_type": "stream",
                    "text": [
                        "Reading package lists... Done\n",
                        "Building dependency tree... Done\n",
                        "Reading state information... Done\n",
                        "wget is already the newest version (1.21.2-2ubuntu1).\n",
                        "0 upgraded, 0 newly installed, 0 to remove and 49 not upgraded.\n",
                        "Reading package lists... Done\n",
                        "Building dependency tree... Done\n",
                        "Reading state information... Done\n",
                        "unzip is already the newest version (6.0-26ubuntu3.2).\n",
                        "0 upgraded, 0 newly installed, 0 to remove and 49 not upgraded.\n"
                    ]
                }
            ],
            "source": [
                "%cd '../../../../data_birdset/beans'\n",
                "!pwd\n",
                "!sudo apt install wget\n",
                "!sudo apt install unzip"
            ]
        },
        {
            "cell_type": "markdown",
            "metadata": {},
            "source": [
                "Then we will run their script to download the metadata and recordings to have the same splits."
            ]
        },
        {
            "cell_type": "code",
            "execution_count": 5,
            "metadata": {},
            "outputs": [
                {
                    "name": "stderr",
                    "output_type": "stream",
                    "text": [
                        "Converting data/rfcx/train/63a82d848.flac ...\n",
                        "Converting data/rfcx/train/63a97cbdf.flac ...\n",
                        "Converting data/rfcx/train/63b01d3ee.flac ...\n",
                        "Converting data/rfcx/train/63b4d63b0.flac ...\n",
                        "Converting data/rfcx/train/63b5691ba.flac ...\n",
                        "Converting data/rfcx/train/63b6c797f.flac ...\n",
                        "Converting data/rfcx/train/63c6ce9e6.flac ...\n",
                        "Converting data/rfcx/train/63cc4d598.flac ...\n",
                        "Converting data/rfcx/train/63e47e918.flac ...\n",
                        "Converting data/rfcx/train/63fbf2f2e.flac ...\n",
                        "Converting data/rfcx/train/6400b3087.flac ...\n",
                        "Converting data/rfcx/train/64024bf74.flac ...\n",
                        "Converting data/rfcx/train/64025c7e6.flac ...\n",
                        "Converting data/rfcx/train/640b20641.flac ...\n",
                        "Converting data/rfcx/train/64132f653.flac ...\n",
                        "Converting data/rfcx/train/6414d3225.flac ...\n",
                        "Converting data/rfcx/train/64336bff0.flac ...\n",
                        "Converting data/rfcx/train/643cb10ea.flac ...\n",
                        "Converting data/rfcx/train/643e1b455.flac ...\n",
                        "Converting data/rfcx/train/6444d49cc.flac ...\n",
                        "Converting data/rfcx/train/644f71ae8.flac ...\n",
                        "Converting data/rfcx/train/64877c794.flac ...\n",
                        "Converting data/rfcx/train/649668d38.flac ...\n",
                        "Converting data/rfcx/train/649fecc4b.flac ...\n",
                        "Converting data/rfcx/train/64a3ef59a.flac ...\n",
                        "Converting data/rfcx/train/64e252faf.flac ...\n",
                        "Converting data/rfcx/train/64fb08bc0.flac ...\n",
                        "Converting data/rfcx/train/65123b656.flac ...\n",
                        "Converting data/rfcx/train/65123f0c1.flac ...\n",
                        "Converting data/rfcx/train/651eeba9d.flac ...\n",
                        "Converting data/rfcx/train/65394fb73.flac ...\n",
                        "Converting data/rfcx/train/65409e443.flac ...\n",
                        "Converting data/rfcx/train/6542fd7a5.flac ...\n",
                        "Converting data/rfcx/train/6553d31ad.flac ...\n",
                        "Converting data/rfcx/train/655ca0adb.flac ...\n",
                        "Converting data/rfcx/train/656a61cad.flac ...\n",
                        "Converting data/rfcx/train/65727379c.flac ...\n",
                        "Converting data/rfcx/train/657339fdd.flac ...\n",
                        "Converting data/rfcx/train/65971c0e7.flac ...\n",
                        "Converting data/rfcx/train/65bcc9ad4.flac ...\n",
                        "Converting data/rfcx/train/65daa4d4d.flac ...\n",
                        "Converting data/rfcx/train/65f32be6d.flac ...\n",
                        "Converting data/rfcx/train/660604c58.flac ...\n",
                        "Converting data/rfcx/train/6606e8d7e.flac ...\n",
                        "Converting data/rfcx/train/6645f0d5d.flac ...\n",
                        "Converting data/rfcx/train/664a8e8e5.flac ...\n",
                        "Converting data/rfcx/train/664ed0511.flac ...\n",
                        "Converting data/rfcx/train/6666e213d.flac ...\n",
                        "Converting data/rfcx/train/666dd7d48.flac ...\n",
                        "Converting data/rfcx/train/667b7363f.flac ...\n",
                        "Converting data/rfcx/train/667cb9ba7.flac ...\n",
                        "Converting data/rfcx/train/668784de4.flac ...\n",
                        "Converting data/rfcx/train/6699f108a.flac ...\n",
                        "Converting data/rfcx/train/669f590b8.flac ...\n",
                        "Converting data/rfcx/train/669fbbc17.flac ...\n",
                        "Converting data/rfcx/train/66bdde8b1.flac ...\n",
                        "Converting data/rfcx/train/66c614234.flac ...\n",
                        "Converting data/rfcx/train/66c798e69.flac ...\n",
                        "Converting data/rfcx/train/66c81cfbe.flac ...\n",
                        "Converting data/rfcx/train/66d9dd900.flac ...\n",
                        "Converting data/rfcx/train/66ef262ad.flac ...\n",
                        "Converting data/rfcx/train/67022a81b.flac ...\n",
                        "Converting data/rfcx/train/6705bf12c.flac ...\n",
                        "Converting data/rfcx/train/670946fce.flac ...\n",
                        "Converting data/rfcx/train/670a35128.flac ...\n",
                        "Converting data/rfcx/train/67205f705.flac ...\n",
                        "Converting data/rfcx/train/672f5ed25.flac ...\n",
                        "Converting data/rfcx/train/67315c3ee.flac ...\n",
                        "Converting data/rfcx/train/673fee396.flac ...\n",
                        "Converting data/rfcx/train/674f8feff.flac ...\n",
                        "Converting data/rfcx/train/6756702b4.flac ...\n",
                        "Converting data/rfcx/train/676e069d8.flac ...\n",
                        "Converting data/rfcx/train/677056319.flac ...\n",
                        "Converting data/rfcx/train/6770bda7d.flac ...\n",
                        "Converting data/rfcx/train/67763b1b9.flac ...\n",
                        "Converting data/rfcx/train/6778c5bb8.flac ...\n",
                        "Converting data/rfcx/train/6781295c9.flac ...\n",
                        "Converting data/rfcx/train/678d9eb55.flac ...\n",
                        "Converting data/rfcx/train/67971f615.flac ...\n",
                        "Converting data/rfcx/train/67a28ac5f.flac ...\n",
                        "Converting data/rfcx/train/67bed7868.flac ...\n",
                        "Converting data/rfcx/train/68049cb26.flac ...\n",
                        "Converting data/rfcx/train/6815e692e.flac ...\n",
                        "Converting data/rfcx/train/682657006.flac ...\n",
                        "Converting data/rfcx/train/682b40044.flac ...\n",
                        "Converting data/rfcx/train/6838dc4f9.flac ...\n",
                        "Converting data/rfcx/train/687733bf1.flac ...\n",
                        "Converting data/rfcx/train/687d7c1a1.flac ...\n",
                        "Converting data/rfcx/train/688975ce0.flac ...\n",
                        "Converting data/rfcx/train/689b160fc.flac ...\n",
                        "Converting data/rfcx/train/68bc65ca0.flac ...\n",
                        "Converting data/rfcx/train/68d182a12.flac ...\n",
                        "Converting data/rfcx/train/68f7d8362.flac ...\n",
                        "Converting data/rfcx/train/690168015.flac ...\n",
                        "Converting data/rfcx/train/69110fa51.flac ...\n",
                        "Converting data/rfcx/train/69173294f.flac ...\n",
                        "Converting data/rfcx/train/691b56096.flac ...\n",
                        "Converting data/rfcx/train/692d28174.flac ...\n",
                        "Converting data/rfcx/train/6942084b3.flac ...\n",
                        "Converting data/rfcx/train/694c6f6eb.flac ...\n",
                        "Converting data/rfcx/train/697f7210b.flac ...\n",
                        "Converting data/rfcx/train/69868001e.flac ...\n",
                        "Converting data/rfcx/train/698cd97d6.flac ...\n",
                        "Converting data/rfcx/train/698ffb022.flac ...\n",
                        "Converting data/rfcx/train/699cb4746.flac ...\n",
                        "Converting data/rfcx/train/69aacafc4.flac ...\n",
                        "Converting data/rfcx/train/69bfafa26.flac ...\n",
                        "Converting data/rfcx/train/69c09e886.flac ...\n",
                        "Converting data/rfcx/train/69c49684c.flac ...\n",
                        "Converting data/rfcx/train/69ea6d76b.flac ...\n",
                        "Converting data/rfcx/train/69f4d28ca.flac ...\n",
                        "Converting data/rfcx/train/6a0ac2d09.flac ...\n",
                        "Converting data/rfcx/train/6a1ffc4ef.flac ...\n",
                        "Converting data/rfcx/train/6a2b677ce.flac ...\n",
                        "Converting data/rfcx/train/6a317163a.flac ...\n",
                        "Converting data/rfcx/train/6a52e9f6f.flac ...\n",
                        "Converting data/rfcx/train/6a5511f58.flac ...\n",
                        "Converting data/rfcx/train/6a562d105.flac ...\n",
                        "Converting data/rfcx/train/6a5b1af16.flac ...\n",
                        "Converting data/rfcx/train/6a6af3c63.flac ...\n",
                        "Converting data/rfcx/train/6ac2d2237.flac ...\n",
                        "Converting data/rfcx/train/6ac7d258c.flac ...\n",
                        "Converting data/rfcx/train/6ada2a181.flac ...\n",
                        "Converting data/rfcx/train/6ada440f0.flac ...\n",
                        "Converting data/rfcx/train/6add524d7.flac ...\n",
                        "Converting data/rfcx/train/6af512022.flac ...\n",
                        "Converting data/rfcx/train/6af54a2ef.flac ...\n",
                        "Converting data/rfcx/train/6b02f1a54.flac ...\n",
                        "Converting data/rfcx/train/6b0891684.flac ...\n",
                        "Converting data/rfcx/train/6b100fbfb.flac ...\n",
                        "Converting data/rfcx/train/6b1093628.flac ...\n",
                        "Converting data/rfcx/train/6b12f4702.flac ...\n",
                        "Converting data/rfcx/train/6b135462f.flac ...\n",
                        "Converting data/rfcx/train/6b2ece076.flac ...\n",
                        "Converting data/rfcx/train/6b41b1e67.flac ...\n",
                        "Converting data/rfcx/train/6b46c794b.flac ...\n",
                        "Converting data/rfcx/train/6b58e5412.flac ...\n",
                        "Converting data/rfcx/train/6b5e9336d.flac ...\n",
                        "Converting data/rfcx/train/6b657cb3d.flac ...\n",
                        "Converting data/rfcx/train/6b891f8f2.flac ...\n",
                        "Converting data/rfcx/train/6b8cf6e79.flac ...\n",
                        "Converting data/rfcx/train/6b9e3f7c6.flac ...\n",
                        "Converting data/rfcx/train/6bb8d1ca4.flac ...\n",
                        "Converting data/rfcx/train/6bc20e7cd.flac ...\n",
                        "Converting data/rfcx/train/6be6d5d72.flac ...\n",
                        "Converting data/rfcx/train/6bf2953a8.flac ...\n",
                        "Converting data/rfcx/train/6bf5363f9.flac ...\n",
                        "Converting data/rfcx/train/6c032e356.flac ...\n",
                        "Converting data/rfcx/train/6c1570bf2.flac ...\n",
                        "Converting data/rfcx/train/6c2400d3e.flac ...\n",
                        "Converting data/rfcx/train/6c246167d.flac ...\n",
                        "Converting data/rfcx/train/6c2f751ac.flac ...\n",
                        "Converting data/rfcx/train/6c30da560.flac ...\n",
                        "Converting data/rfcx/train/6c321d828.flac ...\n",
                        "Converting data/rfcx/train/6c3a87652.flac ...\n",
                        "Converting data/rfcx/train/6c46ba8f1.flac ...\n",
                        "Converting data/rfcx/train/6c4ce1cf2.flac ...\n",
                        "Converting data/rfcx/train/6c52da176.flac ...\n",
                        "Converting data/rfcx/train/6c5faae21.flac ...\n",
                        "Converting data/rfcx/train/6c64afa85.flac ...\n",
                        "Converting data/rfcx/train/6c6582461.flac ...\n",
                        "Converting data/rfcx/train/6c660a505.flac ...\n",
                        "Converting data/rfcx/train/6c767aa6f.flac ...\n",
                        "Converting data/rfcx/train/6c7789b72.flac ...\n",
                        "Converting data/rfcx/train/6c83c1263.flac ...\n",
                        "Converting data/rfcx/train/6c9085f82.flac ...\n",
                        "Converting data/rfcx/train/6cd509d6a.flac ...\n",
                        "Converting data/rfcx/train/6cda2ee54.flac ...\n",
                        "Converting data/rfcx/train/6d0148a8c.flac ...\n",
                        "Converting data/rfcx/train/6d108a590.flac ...\n",
                        "Converting data/rfcx/train/6d12aaa66.flac ...\n",
                        "Converting data/rfcx/train/6d2e11770.flac ...\n",
                        "Converting data/rfcx/train/6d42282f7.flac ...\n",
                        "Converting data/rfcx/train/6d58d2bf8.flac ...\n",
                        "Converting data/rfcx/train/6d5f5e052.flac ...\n",
                        "Converting data/rfcx/train/6d6ba3db7.flac ...\n",
                        "Converting data/rfcx/train/6d837fc66.flac ...\n",
                        "Converting data/rfcx/train/6d888a2dc.flac ...\n",
                        "Converting data/rfcx/train/6d911c10a.flac ...\n",
                        "Converting data/rfcx/train/6d93f853d.flac ...\n",
                        "Converting data/rfcx/train/6da7cffc7.flac ...\n",
                        "Converting data/rfcx/train/6db1d74f4.flac ...\n",
                        "Converting data/rfcx/train/6dc150a3d.flac ...\n",
                        "Converting data/rfcx/train/6dc1f9567.flac ...\n",
                        "Converting data/rfcx/train/6dc37ce72.flac ...\n",
                        "Converting data/rfcx/train/6dc49f821.flac ...\n",
                        "Converting data/rfcx/train/6dea8e7f0.flac ...\n",
                        "Converting data/rfcx/train/6df1f68bd.flac ...\n",
                        "Converting data/rfcx/train/6e06d9c36.flac ...\n",
                        "Converting data/rfcx/train/6e2259a14.flac ...\n",
                        "Converting data/rfcx/train/6e31b2ad0.flac ...\n",
                        "Converting data/rfcx/train/6e54fae64.flac ...\n",
                        "Converting data/rfcx/train/6e678f45d.flac ...\n",
                        "Converting data/rfcx/train/6e681db37.flac ...\n",
                        "Converting data/rfcx/train/6e744c9a0.flac ...\n",
                        "Converting data/rfcx/train/6e82ee19a.flac ...\n",
                        "Converting data/rfcx/train/6e9a6ed8e.flac ...\n",
                        "Converting data/rfcx/train/6e9ed6a4c.flac ...\n",
                        "Converting data/rfcx/train/6eb03e9ca.flac ...\n",
                        "Converting data/rfcx/train/6eba8c879.flac ...\n",
                        "Converting data/rfcx/train/6eccc3009.flac ...\n",
                        "Converting data/rfcx/train/6eddeebb1.flac ...\n",
                        "Converting data/rfcx/train/6eea4a72f.flac ...\n",
                        "Converting data/rfcx/train/6f036d0ff.flac ...\n",
                        "Converting data/rfcx/train/6f252ae6e.flac ...\n",
                        "Converting data/rfcx/train/6f423ed00.flac ...\n",
                        "Converting data/rfcx/train/6f7eec323.flac ...\n",
                        "Converting data/rfcx/train/6f9eadffb.flac ...\n",
                        "Converting data/rfcx/train/6fd0e4a7f.flac ...\n",
                        "Converting data/rfcx/train/6ff194238.flac ...\n",
                        "Converting data/rfcx/train/6ffa765d0.flac ...\n",
                        "Converting data/rfcx/train/70337c74e.flac ...\n",
                        "Converting data/rfcx/train/70346088a.flac ...\n",
                        "Converting data/rfcx/train/7048735fc.flac ...\n",
                        "Converting data/rfcx/train/706e6f1e8.flac ...\n",
                        "Converting data/rfcx/train/7071fd618.flac ...\n",
                        "Converting data/rfcx/train/7080d05d4.flac ...\n",
                        "Converting data/rfcx/train/708e4dd42.flac ...\n",
                        "Converting data/rfcx/train/709053963.flac ...\n",
                        "Converting data/rfcx/train/70942bd74.flac ...\n",
                        "Converting data/rfcx/train/70b5299b9.flac ...\n",
                        "Converting data/rfcx/train/70c289aa5.flac ...\n",
                        "Converting data/rfcx/train/70c599cff.flac ...\n",
                        "Converting data/rfcx/train/70e657b93.flac ...\n",
                        "Converting data/rfcx/train/70e7af8ab.flac ...\n",
                        "Converting data/rfcx/train/710177a21.flac ...\n",
                        "Converting data/rfcx/train/710537df8.flac ...\n",
                        "Converting data/rfcx/train/71151526c.flac ...\n",
                        "Converting data/rfcx/train/711630bd8.flac ...\n",
                        "Converting data/rfcx/train/712724292.flac ...\n",
                        "Converting data/rfcx/train/712a3f393.flac ...\n",
                        "Converting data/rfcx/train/7147c1869.flac ...\n",
                        "Converting data/rfcx/train/715e2e294.flac ...\n",
                        "Converting data/rfcx/train/716dccfed.flac ...\n",
                        "Converting data/rfcx/train/717780789.flac ...\n",
                        "Converting data/rfcx/train/718e842a7.flac ...\n",
                        "Converting data/rfcx/train/71917c271.flac ...\n",
                        "Converting data/rfcx/train/71937ba85.flac ...\n",
                        "Converting data/rfcx/train/71949f164.flac ...\n",
                        "Converting data/rfcx/train/71a271bcf.flac ...\n",
                        "Converting data/rfcx/train/71a99a435.flac ...\n",
                        "Converting data/rfcx/train/71b094126.flac ...\n",
                        "Converting data/rfcx/train/71c22a29b.flac ...\n",
                        "Converting data/rfcx/train/71cf9646b.flac ...\n",
                        "Converting data/rfcx/train/71db64300.flac ...\n",
                        "Converting data/rfcx/train/71e134a57.flac ...\n",
                        "Converting data/rfcx/train/71e3f0503.flac ...\n",
                        "Converting data/rfcx/train/71f0fd83e.flac ...\n",
                        "Converting data/rfcx/train/71f6e25da.flac ...\n",
                        "Converting data/rfcx/train/7225b9048.flac ...\n",
                        "Converting data/rfcx/train/7227068d3.flac ...\n",
                        "Converting data/rfcx/train/725c5b6f1.flac ...\n",
                        "Converting data/rfcx/train/7277aa5a8.flac ...\n",
                        "Converting data/rfcx/train/728459067.flac ...\n",
                        "Converting data/rfcx/train/7295291a7.flac ...\n",
                        "Converting data/rfcx/train/729ceac7b.flac ...\n",
                        "Converting data/rfcx/train/72a9f19b4.flac ...\n",
                        "Converting data/rfcx/train/72ac13758.flac ...\n",
                        "Converting data/rfcx/train/72ad27520.flac ...\n",
                        "Converting data/rfcx/train/72b70c104.flac ...\n",
                        "Converting data/rfcx/train/72ccf4de7.flac ...\n",
                        "Converting data/rfcx/train/72d2b57bc.flac ...\n",
                        "Converting data/rfcx/train/72dd3451d.flac ...\n",
                        "Converting data/rfcx/train/7304d00e9.flac ...\n",
                        "Converting data/rfcx/train/73059a7bd.flac ...\n",
                        "Converting data/rfcx/train/7310d5dae.flac ...\n",
                        "Converting data/rfcx/train/732cfd202.flac ...\n",
                        "Converting data/rfcx/train/7341161bd.flac ...\n",
                        "Converting data/rfcx/train/73441957d.flac ...\n",
                        "Converting data/rfcx/train/73454c45c.flac ...\n",
                        "Converting data/rfcx/train/734a8acc1.flac ...\n",
                        "Converting data/rfcx/train/736a8e293.flac ...\n",
                        "Converting data/rfcx/train/737d85472.flac ...\n",
                        "Converting data/rfcx/train/7385731fa.flac ...\n",
                        "Converting data/rfcx/train/738e4dcb5.flac ...\n",
                        "Converting data/rfcx/train/738f5fdb3.flac ...\n",
                        "Converting data/rfcx/train/739a959c9.flac ...\n",
                        "Converting data/rfcx/train/73abadb47.flac ...\n",
                        "Converting data/rfcx/train/73b9fcd25.flac ...\n",
                        "Converting data/rfcx/train/73c482b64.flac ...\n",
                        "Converting data/rfcx/train/73c4d8db8.flac ...\n",
                        "Converting data/rfcx/train/73c6702b4.flac ...\n",
                        "Converting data/rfcx/train/73d7f5d14.flac ...\n",
                        "Converting data/rfcx/train/73f2ff0fd.flac ...\n",
                        "Converting data/rfcx/train/7403b8dde.flac ...\n",
                        "Converting data/rfcx/train/740cae928.flac ...\n",
                        "Converting data/rfcx/train/7422a808c.flac ...\n",
                        "Converting data/rfcx/train/743253957.flac ...\n",
                        "Converting data/rfcx/train/7432bd74a.flac ...\n",
                        "Converting data/rfcx/train/7438283ad.flac ...\n",
                        "Converting data/rfcx/train/7442bd894.flac ...\n",
                        "Converting data/rfcx/train/74454053a.flac ...\n",
                        "Converting data/rfcx/train/7448edc55.flac ...\n",
                        "Converting data/rfcx/train/745171bf2.flac ...\n",
                        "Converting data/rfcx/train/745537ab3.flac ...\n",
                        "Converting data/rfcx/train/7476d961f.flac ...\n",
                        "Converting data/rfcx/train/7478fd629.flac ...\n",
                        "Converting data/rfcx/train/749447350.flac ...\n",
                        "Converting data/rfcx/train/74a117970.flac ...\n",
                        "Converting data/rfcx/train/74a28b236.flac ...\n",
                        "Converting data/rfcx/train/74ad0ed32.flac ...\n",
                        "Converting data/rfcx/train/74c1043c9.flac ...\n",
                        "Converting data/rfcx/train/74cae299c.flac ...\n",
                        "Converting data/rfcx/train/74eca68e7.flac ...\n",
                        "Converting data/rfcx/train/74f8b94f0.flac ...\n",
                        "Converting data/rfcx/train/74fbde29b.flac ...\n",
                        "Converting data/rfcx/train/7506a3077.flac ...\n",
                        "Converting data/rfcx/train/7509ed370.flac ...\n",
                        "Converting data/rfcx/train/750e35881.flac ...\n",
                        "Converting data/rfcx/train/751355a27.flac ...\n",
                        "Converting data/rfcx/train/751e3bab9.flac ...\n",
                        "Converting data/rfcx/train/751ecb98f.flac ...\n",
                        "Converting data/rfcx/train/753b50421.flac ...\n",
                        "Converting data/rfcx/train/754568dcb.flac ...\n",
                        "Converting data/rfcx/train/755d6c7eb.flac ...\n",
                        "Converting data/rfcx/train/756611b43.flac ...\n",
                        "Converting data/rfcx/train/757b78997.flac ...\n",
                        "Converting data/rfcx/train/7583b7c0c.flac ...\n",
                        "Converting data/rfcx/train/75878752c.flac ...\n",
                        "Converting data/rfcx/train/75a079f12.flac ...\n",
                        "Converting data/rfcx/train/75c169e51.flac ...\n",
                        "Converting data/rfcx/train/75c3ab824.flac ...\n",
                        "Converting data/rfcx/train/75c8ccce9.flac ...\n",
                        "Converting data/rfcx/train/75e05a406.flac ...\n",
                        "Converting data/rfcx/train/75fb6132b.flac ...\n",
                        "Converting data/rfcx/train/761189a00.flac ...\n",
                        "Converting data/rfcx/train/7613c89c2.flac ...\n",
                        "Converting data/rfcx/train/761526076.flac ...\n",
                        "Converting data/rfcx/train/76219d6dc.flac ...\n",
                        "Converting data/rfcx/train/7643b684b.flac ...\n",
                        "Converting data/rfcx/train/764a0b80c.flac ...\n",
                        "Converting data/rfcx/train/7675c01d1.flac ...\n",
                        "Converting data/rfcx/train/7675c516e.flac ...\n",
                        "Converting data/rfcx/train/768154f67.flac ...\n",
                        "Converting data/rfcx/train/7682cfc44.flac ...\n",
                        "Converting data/rfcx/train/7688f78e9.flac ...\n",
                        "Converting data/rfcx/train/768ec376a.flac ...\n",
                        "Converting data/rfcx/train/7693a6573.flac ...\n",
                        "Converting data/rfcx/train/769830f8a.flac ...\n",
                        "Converting data/rfcx/train/76b4b3f7f.flac ...\n",
                        "Converting data/rfcx/train/76bcc78f1.flac ...\n",
                        "Converting data/rfcx/train/76ca28f1f.flac ...\n",
                        "Converting data/rfcx/train/76dcd03d5.flac ...\n",
                        "Converting data/rfcx/train/76f7d2cb0.flac ...\n",
                        "Converting data/rfcx/train/77299bde7.flac ...\n",
                        "Converting data/rfcx/train/772bd1045.flac ...\n",
                        "Converting data/rfcx/train/77421c86d.flac ...\n",
                        "Converting data/rfcx/train/774912d66.flac ...\n",
                        "Converting data/rfcx/train/774d13e9c.flac ...\n",
                        "Converting data/rfcx/train/77514295c.flac ...\n",
                        "Converting data/rfcx/train/7764cbbfd.flac ...\n",
                        "Converting data/rfcx/train/7765e82d3.flac ...\n",
                        "Converting data/rfcx/train/7767bf3e1.flac ...\n",
                        "Converting data/rfcx/train/7768c96f2.flac ...\n",
                        "Converting data/rfcx/train/777797a0b.flac ...\n",
                        "Converting data/rfcx/train/777b118c8.flac ...\n",
                        "Converting data/rfcx/train/778ab401f.flac ...\n",
                        "Converting data/rfcx/train/779034780.flac ...\n",
                        "Converting data/rfcx/train/77a7a66fc.flac ...\n",
                        "Converting data/rfcx/train/77afc337c.flac ...\n",
                        "Converting data/rfcx/train/77b4e16e9.flac ...\n",
                        "Converting data/rfcx/train/77bfc555b.flac ...\n",
                        "Converting data/rfcx/train/77c1522f3.flac ...\n",
                        "Converting data/rfcx/train/77c2a2755.flac ...\n",
                        "Converting data/rfcx/train/77cde7112.flac ...\n",
                        "Converting data/rfcx/train/77cf1b7e3.flac ...\n",
                        "Converting data/rfcx/train/77e82339a.flac ...\n",
                        "Converting data/rfcx/train/77f2b9543.flac ...\n",
                        "Converting data/rfcx/train/78206c183.flac ...\n",
                        "Converting data/rfcx/train/7821ee6cf.flac ...\n",
                        "Converting data/rfcx/train/7824bd6ff.flac ...\n",
                        "Converting data/rfcx/train/782cdf994.flac ...\n",
                        "Converting data/rfcx/train/783029b7b.flac ...\n",
                        "Converting data/rfcx/train/7842a2fc4.flac ...\n",
                        "Converting data/rfcx/train/7849e0121.flac ...\n",
                        "Converting data/rfcx/train/784eb5d7f.flac ...\n",
                        "Converting data/rfcx/train/7859fda05.flac ...\n",
                        "Converting data/rfcx/train/7868d416a.flac ...\n",
                        "Converting data/rfcx/train/786e97e31.flac ...\n",
                        "Converting data/rfcx/train/7878d8306.flac ...\n",
                        "Converting data/rfcx/train/787c0db92.flac ...\n",
                        "Converting data/rfcx/train/787d688f7.flac ...\n",
                        "Converting data/rfcx/train/788b56f06.flac ...\n",
                        "Converting data/rfcx/train/7893b8f70.flac ...\n",
                        "Converting data/rfcx/train/78941c48b.flac ...\n",
                        "Converting data/rfcx/train/789c069bb.flac ...\n",
                        "Converting data/rfcx/train/789f28bde.flac ...\n",
                        "Converting data/rfcx/train/78a2c3199.flac ...\n",
                        "Converting data/rfcx/train/78af9003f.flac ...\n",
                        "Converting data/rfcx/train/78bec2ad7.flac ...\n",
                        "Converting data/rfcx/train/78cd98347.flac ...\n",
                        "Converting data/rfcx/train/78e1fd5cf.flac ...\n",
                        "Converting data/rfcx/train/78e9f0460.flac ...\n",
                        "Converting data/rfcx/train/78f515b6f.flac ...\n",
                        "Converting data/rfcx/train/79079cc0e.flac ...\n",
                        "Converting data/rfcx/train/7925510fe.flac ...\n",
                        "Converting data/rfcx/train/792d5e933.flac ...\n",
                        "Converting data/rfcx/train/7949f7407.flac ...\n",
                        "Converting data/rfcx/train/796ab9da1.flac ...\n",
                        "Converting data/rfcx/train/796b20389.flac ...\n",
                        "Converting data/rfcx/train/797641dc9.flac ...\n",
                        "Converting data/rfcx/train/79a1b92d6.flac ...\n",
                        "Converting data/rfcx/train/79b28cad5.flac ...\n",
                        "Converting data/rfcx/train/79eb65254.flac ...\n",
                        "Converting data/rfcx/train/79f38de91.flac ...\n",
                        "Converting data/rfcx/train/79f7b3873.flac ...\n",
                        "Converting data/rfcx/train/7a0847c03.flac ...\n",
                        "Converting data/rfcx/train/7a109ae58.flac ...\n",
                        "Converting data/rfcx/train/7a1cd3427.flac ...\n",
                        "Converting data/rfcx/train/7a1f0ab00.flac ...\n",
                        "Converting data/rfcx/train/7a2c2ab70.flac ...\n",
                        "Converting data/rfcx/train/7a2da0971.flac ...\n",
                        "Converting data/rfcx/train/7a396818c.flac ...\n",
                        "Converting data/rfcx/train/7a49b2465.flac ...\n",
                        "Converting data/rfcx/train/7a5789516.flac ...\n",
                        "Converting data/rfcx/train/7a578a3db.flac ...\n",
                        "Converting data/rfcx/train/7a592adee.flac ...\n",
                        "Converting data/rfcx/train/7a63b0ec3.flac ...\n",
                        "Converting data/rfcx/train/7a7523920.flac ...\n",
                        "Converting data/rfcx/train/7a8747d7b.flac ...\n",
                        "Converting data/rfcx/train/7a9440afc.flac ...\n",
                        "Converting data/rfcx/train/7a9d46229.flac ...\n",
                        "Converting data/rfcx/train/7aa9e515a.flac ...\n",
                        "Converting data/rfcx/train/7aada5583.flac ...\n",
                        "Converting data/rfcx/train/7ab084435.flac ...\n",
                        "Converting data/rfcx/train/7ab53e433.flac ...\n",
                        "Converting data/rfcx/train/7aca3c3e5.flac ...\n",
                        "Converting data/rfcx/train/7acab0071.flac ...\n",
                        "Converting data/rfcx/train/7acc4631e.flac ...\n",
                        "Converting data/rfcx/train/7ad35a807.flac ...\n",
                        "Converting data/rfcx/train/7ad715d6d.flac ...\n",
                        "Converting data/rfcx/train/7ada8c4da.flac ...\n",
                        "Converting data/rfcx/train/7ae89b681.flac ...\n",
                        "Converting data/rfcx/train/7aee07881.flac ...\n",
                        "Converting data/rfcx/train/7af9aec8b.flac ...\n",
                        "Converting data/rfcx/train/7affc8755.flac ...\n",
                        "Converting data/rfcx/train/7b1411e07.flac ...\n",
                        "Converting data/rfcx/train/7b27fdc34.flac ...\n",
                        "Converting data/rfcx/train/7b287d190.flac ...\n",
                        "Converting data/rfcx/train/7b405b8d7.flac ...\n",
                        "Converting data/rfcx/train/7b4ee85a5.flac ...\n",
                        "Converting data/rfcx/train/7b5349a8a.flac ...\n",
                        "Converting data/rfcx/train/7b79194b3.flac ...\n",
                        "Converting data/rfcx/train/7b86c3e28.flac ...\n",
                        "Converting data/rfcx/train/7b8d0433e.flac ...\n",
                        "Converting data/rfcx/train/7b96c0433.flac ...\n",
                        "Converting data/rfcx/train/7b975d9f0.flac ...\n",
                        "Converting data/rfcx/train/7bab1669f.flac ...\n",
                        "Converting data/rfcx/train/7bb2b96ce.flac ...\n",
                        "Converting data/rfcx/train/7bc933523.flac ...\n",
                        "Converting data/rfcx/train/7bd559106.flac ...\n",
                        "Converting data/rfcx/train/7be25a4fe.flac ...\n",
                        "Converting data/rfcx/train/7c004e2a0.flac ...\n",
                        "Converting data/rfcx/train/7c0d3f742.flac ...\n",
                        "Converting data/rfcx/train/7c0dcbff5.flac ...\n",
                        "Converting data/rfcx/train/7c190fe10.flac ...\n",
                        "Converting data/rfcx/train/7c2d10d0a.flac ...\n",
                        "Converting data/rfcx/train/7c2ddfd43.flac ...\n",
                        "Converting data/rfcx/train/7c51f19e7.flac ...\n",
                        "Converting data/rfcx/train/7c7c016f6.flac ...\n",
                        "Converting data/rfcx/train/7c858b1f2.flac ...\n",
                        "Converting data/rfcx/train/7c860a05c.flac ...\n",
                        "Converting data/rfcx/train/7c884a43e.flac ...\n",
                        "Converting data/rfcx/train/7c8f65aa1.flac ...\n",
                        "Converting data/rfcx/train/7caaeb706.flac ...\n",
                        "Converting data/rfcx/train/7cc0a3b6b.flac ...\n",
                        "Converting data/rfcx/train/7cc6d509a.flac ...\n",
                        "Converting data/rfcx/train/7cd8ce712.flac ...\n",
                        "Converting data/rfcx/train/7cfeee0a5.flac ...\n",
                        "Converting data/rfcx/train/7d039adf5.flac ...\n",
                        "Converting data/rfcx/train/7d23a48ec.flac ...\n",
                        "Converting data/rfcx/train/7d32b80f1.flac ...\n",
                        "Converting data/rfcx/train/7d71f5104.flac ...\n",
                        "Converting data/rfcx/train/7d77b4484.flac ...\n",
                        "Converting data/rfcx/train/7d8f64e05.flac ...\n",
                        "Converting data/rfcx/train/7d96e43c0.flac ...\n",
                        "Converting data/rfcx/train/7de7d4ab5.flac ...\n",
                        "Converting data/rfcx/train/7dea23e90.flac ...\n",
                        "Converting data/rfcx/train/7dec0f472.flac ...\n",
                        "Converting data/rfcx/train/7e0d06929.flac ...\n",
                        "Converting data/rfcx/train/7e17e43f9.flac ...\n",
                        "Converting data/rfcx/train/7e18385f0.flac ...\n",
                        "Converting data/rfcx/train/7e36ef3da.flac ...\n",
                        "Converting data/rfcx/train/7e370f1f3.flac ...\n",
                        "Converting data/rfcx/train/7e3a98216.flac ...\n",
                        "Converting data/rfcx/train/7e60a570a.flac ...\n",
                        "Converting data/rfcx/train/7e6cc1086.flac ...\n",
                        "Converting data/rfcx/train/7e72a5202.flac ...\n",
                        "Converting data/rfcx/train/7e9c8115c.flac ...\n",
                        "Converting data/rfcx/train/7ea9d320a.flac ...\n",
                        "Converting data/rfcx/train/7eb9af1f3.flac ...\n",
                        "Converting data/rfcx/train/7ed306e14.flac ...\n",
                        "Converting data/rfcx/train/7ed4d3ca1.flac ...\n",
                        "Converting data/rfcx/train/7ee83b7de.flac ...\n",
                        "Converting data/rfcx/train/7eebebc13.flac ...\n",
                        "Converting data/rfcx/train/7ef417a44.flac ...\n",
                        "Converting data/rfcx/train/7f0435927.flac ...\n",
                        "Converting data/rfcx/train/7f044bada.flac ...\n",
                        "Converting data/rfcx/train/7f07486d1.flac ...\n",
                        "Converting data/rfcx/train/7f082c82d.flac ...\n",
                        "Converting data/rfcx/train/7f2241fd4.flac ...\n",
                        "Converting data/rfcx/train/7f261cc87.flac ...\n",
                        "Converting data/rfcx/train/7f3c137fc.flac ...\n",
                        "Converting data/rfcx/train/7f463d5c6.flac ...\n",
                        "Converting data/rfcx/train/7f5f71e31.flac ...\n",
                        "Converting data/rfcx/train/7f6df469c.flac ...\n",
                        "Converting data/rfcx/train/7f737a9c4.flac ...\n",
                        "Converting data/rfcx/train/7f8fab554.flac ...\n",
                        "Converting data/rfcx/train/7f9246130.flac ...\n",
                        "Converting data/rfcx/train/7f9b94a29.flac ...\n",
                        "Converting data/rfcx/train/7fa24d225.flac ...\n",
                        "Converting data/rfcx/train/7fa3a5407.flac ...\n",
                        "Converting data/rfcx/train/7fb0d116a.flac ...\n",
                        "Converting data/rfcx/train/7fc8e9755.flac ...\n",
                        "Converting data/rfcx/train/7fd54f2d4.flac ...\n",
                        "Converting data/rfcx/train/7fdc37f91.flac ...\n",
                        "Converting data/rfcx/train/7fe6e83df.flac ...\n",
                        "Converting data/rfcx/train/800113ec0.flac ...\n",
                        "Converting data/rfcx/train/8002a1798.flac ...\n",
                        "Converting data/rfcx/train/800ac9e58.flac ...\n",
                        "Converting data/rfcx/train/800b7e9e6.flac ...\n",
                        "Converting data/rfcx/train/8010eae3f.flac ...\n",
                        "Converting data/rfcx/train/80183e4c7.flac ...\n",
                        "Converting data/rfcx/train/8028f97c2.flac ...\n",
                        "Converting data/rfcx/train/802907092.flac ...\n",
                        "Converting data/rfcx/train/8045a66c6.flac ...\n",
                        "Converting data/rfcx/train/8046e0aa5.flac ...\n",
                        "Converting data/rfcx/train/804cd2a00.flac ...\n",
                        "Converting data/rfcx/train/804e6edc4.flac ...\n",
                        "Converting data/rfcx/train/804fa03e1.flac ...\n",
                        "Converting data/rfcx/train/80590e499.flac ...\n",
                        "Converting data/rfcx/train/806a580d7.flac ...\n",
                        "Converting data/rfcx/train/806efa0f6.flac ...\n",
                        "Converting data/rfcx/train/8079bbc3f.flac ...\n",
                        "Converting data/rfcx/train/807efd6bb.flac ...\n",
                        "Converting data/rfcx/train/8080b2283.flac ...\n",
                        "Converting data/rfcx/train/80982264c.flac ...\n",
                        "Converting data/rfcx/train/809f887ad.flac ...\n",
                        "Converting data/rfcx/train/80bc4668a.flac ...\n",
                        "Converting data/rfcx/train/80bd25b33.flac ...\n",
                        "Converting data/rfcx/train/80c09eb56.flac ...\n",
                        "Converting data/rfcx/train/80d1644a4.flac ...\n",
                        "Converting data/rfcx/train/80f671eb1.flac ...\n",
                        "Converting data/rfcx/train/811727aa0.flac ...\n",
                        "Converting data/rfcx/train/811eb8938.flac ...\n",
                        "Converting data/rfcx/train/812725990.flac ...\n",
                        "Converting data/rfcx/train/8139f59a8.flac ...\n",
                        "Converting data/rfcx/train/81689418d.flac ...\n",
                        "Converting data/rfcx/train/818a1635a.flac ...\n",
                        "Converting data/rfcx/train/819afd877.flac ...\n",
                        "Converting data/rfcx/train/819dcc4ea.flac ...\n",
                        "Converting data/rfcx/train/81a29d572.flac ...\n",
                        "Converting data/rfcx/train/81afe8f2d.flac ...\n",
                        "Converting data/rfcx/train/81b493ca3.flac ...\n",
                        "Converting data/rfcx/train/81bcdeb06.flac ...\n",
                        "Converting data/rfcx/train/81bde3156.flac ...\n",
                        "Converting data/rfcx/train/81d7eefae.flac ...\n",
                        "Converting data/rfcx/train/820799e38.flac ...\n",
                        "Converting data/rfcx/train/8215b2a9c.flac ...\n",
                        "Converting data/rfcx/train/821ab7ea6.flac ...\n",
                        "Converting data/rfcx/train/822e204df.flac ...\n",
                        "Converting data/rfcx/train/824b76781.flac ...\n",
                        "Converting data/rfcx/train/825084273.flac ...\n",
                        "Converting data/rfcx/train/8250cac8d.flac ...\n",
                        "Converting data/rfcx/train/8253e1640.flac ...\n",
                        "Converting data/rfcx/train/826093ce7.flac ...\n",
                        "Converting data/rfcx/train/8266ff1ed.flac ...\n",
                        "Converting data/rfcx/train/82744ab44.flac ...\n",
                        "Converting data/rfcx/train/829464d1f.flac ...\n",
                        "Converting data/rfcx/train/82a25243a.flac ...\n",
                        "Converting data/rfcx/train/82a717b31.flac ...\n",
                        "Converting data/rfcx/train/82a813386.flac ...\n",
                        "Converting data/rfcx/train/82d59d24d.flac ...\n",
                        "Converting data/rfcx/train/82eac7d6c.flac ...\n",
                        "Converting data/rfcx/train/82ff46226.flac ...\n",
                        "Converting data/rfcx/train/83028db30.flac ...\n",
                        "Converting data/rfcx/train/830392799.flac ...\n",
                        "Converting data/rfcx/train/8303f19b8.flac ...\n",
                        "Converting data/rfcx/train/83095c051.flac ...\n",
                        "Converting data/rfcx/train/830b49878.flac ...\n",
                        "Converting data/rfcx/train/830f5b775.flac ...\n",
                        "Converting data/rfcx/train/834be2097.flac ...\n",
                        "Converting data/rfcx/train/83578874b.flac ...\n",
                        "Converting data/rfcx/train/837d77a0e.flac ...\n",
                        "Converting data/rfcx/train/838227e71.flac ...\n",
                        "Converting data/rfcx/train/83829e94c.flac ...\n",
                        "Converting data/rfcx/train/838da4dfc.flac ...\n",
                        "Converting data/rfcx/train/839eb7409.flac ...\n",
                        "Converting data/rfcx/train/83b99fbcb.flac ...\n",
                        "Converting data/rfcx/train/83c57a5ce.flac ...\n",
                        "Converting data/rfcx/train/83d37155a.flac ...\n",
                        "Converting data/rfcx/train/83d802b00.flac ...\n",
                        "Converting data/rfcx/train/83e7aeffd.flac ...\n",
                        "Converting data/rfcx/train/83ef06c68.flac ...\n",
                        "Converting data/rfcx/train/83fc504e9.flac ...\n",
                        "Converting data/rfcx/train/844946f74.flac ...\n",
                        "Converting data/rfcx/train/84550302d.flac ...\n",
                        "Converting data/rfcx/train/8460ff601.flac ...\n",
                        "Converting data/rfcx/train/8466d68ab.flac ...\n",
                        "Converting data/rfcx/train/8487fa506.flac ...\n",
                        "Converting data/rfcx/train/848df3de8.flac ...\n",
                        "Converting data/rfcx/train/849d09246.flac ...\n",
                        "Converting data/rfcx/train/84aed0cf9.flac ...\n",
                        "Converting data/rfcx/train/84b066e27.flac ...\n",
                        "Converting data/rfcx/train/84b4dee4f.flac ...\n",
                        "Converting data/rfcx/train/84c429590.flac ...\n",
                        "Converting data/rfcx/train/84d1b70be.flac ...\n",
                        "Converting data/rfcx/train/84d2746ce.flac ...\n",
                        "Converting data/rfcx/train/84efe24ea.flac ...\n",
                        "Converting data/rfcx/train/84fa3be7e.flac ...\n",
                        "Converting data/rfcx/train/84fd342f8.flac ...\n",
                        "Converting data/rfcx/train/8515bf0a4.flac ...\n",
                        "Converting data/rfcx/train/85193ac69.flac ...\n",
                        "Converting data/rfcx/train/851c98ea8.flac ...\n",
                        "Converting data/rfcx/train/8529da957.flac ...\n",
                        "Converting data/rfcx/train/8531f27ff.flac ...\n",
                        "Converting data/rfcx/train/853893fc2.flac ...\n",
                        "Converting data/rfcx/train/853ff55d3.flac ...\n",
                        "Converting data/rfcx/train/8546f696f.flac ...\n",
                        "Converting data/rfcx/train/8574d9e81.flac ...\n",
                        "Converting data/rfcx/train/858e00bb8.flac ...\n",
                        "Converting data/rfcx/train/8593f9606.flac ...\n",
                        "Converting data/rfcx/train/859ff8a6b.flac ...\n",
                        "Converting data/rfcx/train/85a812045.flac ...\n",
                        "Converting data/rfcx/train/85b769427.flac ...\n",
                        "Converting data/rfcx/train/85b8520bf.flac ...\n",
                        "Converting data/rfcx/train/85b891a48.flac ...\n",
                        "Converting data/rfcx/train/85fd75b28.flac ...\n",
                        "Converting data/rfcx/train/860ab9160.flac ...\n",
                        "Converting data/rfcx/train/8613cbe30.flac ...\n",
                        "Converting data/rfcx/train/8617b62b0.flac ...\n",
                        "Converting data/rfcx/train/86295be7a.flac ...\n",
                        "Converting data/rfcx/train/862c8bffa.flac ...\n",
                        "Converting data/rfcx/train/8651837cb.flac ...\n",
                        "Converting data/rfcx/train/865a1925f.flac ...\n",
                        "Converting data/rfcx/train/865f6fbfb.flac ...\n",
                        "Converting data/rfcx/train/866f256d7.flac ...\n",
                        "Converting data/rfcx/train/868db1d19.flac ...\n",
                        "Converting data/rfcx/train/869145e0b.flac ...\n",
                        "Converting data/rfcx/train/86b8099d1.flac ...\n",
                        "Converting data/rfcx/train/86c44dd51.flac ...\n",
                        "Converting data/rfcx/train/86c4cbd43.flac ...\n",
                        "Converting data/rfcx/train/86ce9a9b9.flac ...\n",
                        "Converting data/rfcx/train/86de74a7c.flac ...\n",
                        "Converting data/rfcx/train/86fd48bef.flac ...\n",
                        "Converting data/rfcx/train/87149f344.flac ...\n",
                        "Converting data/rfcx/train/871aff1b5.flac ...\n",
                        "Converting data/rfcx/train/872bc824a.flac ...\n",
                        "Converting data/rfcx/train/87308716b.flac ...\n",
                        "Converting data/rfcx/train/874247006.flac ...\n",
                        "Converting data/rfcx/train/8760446bf.flac ...\n",
                        "Converting data/rfcx/train/876a73e14.flac ...\n",
                        "Converting data/rfcx/train/879e3a47c.flac ...\n",
                        "Converting data/rfcx/train/87a34209d.flac ...\n",
                        "Converting data/rfcx/train/87a4497f7.flac ...\n",
                        "Converting data/rfcx/train/87b2981de.flac ...\n",
                        "Converting data/rfcx/train/87b64a134.flac ...\n",
                        "Converting data/rfcx/train/87b953b11.flac ...\n",
                        "Converting data/rfcx/train/87bf9c992.flac ...\n",
                        "Converting data/rfcx/train/87c655c7e.flac ...\n",
                        "Converting data/rfcx/train/87daaa880.flac ...\n",
                        "Converting data/rfcx/train/87db70dff.flac ...\n",
                        "Converting data/rfcx/train/87e518677.flac ...\n",
                        "Converting data/rfcx/train/880652c2a.flac ...\n",
                        "Converting data/rfcx/train/88186ba66.flac ...\n",
                        "Converting data/rfcx/train/883963e02.flac ...\n",
                        "Converting data/rfcx/train/883db48e7.flac ...\n",
                        "Converting data/rfcx/train/883e9f18a.flac ...\n",
                        "Converting data/rfcx/train/886af77dd.flac ...\n",
                        "Converting data/rfcx/train/887a57272.flac ...\n",
                        "Converting data/rfcx/train/88b2756d9.flac ...\n",
                        "Converting data/rfcx/train/88b5c9c1b.flac ...\n",
                        "Converting data/rfcx/train/88b91e68e.flac ...\n",
                        "Converting data/rfcx/train/88c331db3.flac ...\n",
                        "Converting data/rfcx/train/88c3d9a42.flac ...\n",
                        "Converting data/rfcx/train/88c662e98.flac ...\n",
                        "Converting data/rfcx/train/88c690603.flac ...\n",
                        "Converting data/rfcx/train/88cf5cfdc.flac ...\n",
                        "Converting data/rfcx/train/88e6d1799.flac ...\n",
                        "Converting data/rfcx/train/88f783ab9.flac ...\n",
                        "Converting data/rfcx/train/88f96c1d6.flac ...\n",
                        "Converting data/rfcx/train/88ff04253.flac ...\n",
                        "Converting data/rfcx/train/890abb1e3.flac ...\n",
                        "Converting data/rfcx/train/890c14284.flac ...\n",
                        "Converting data/rfcx/train/891822ace.flac ...\n",
                        "Converting data/rfcx/train/8921fa98d.flac ...\n",
                        "Converting data/rfcx/train/892b96dce.flac ...\n",
                        "Converting data/rfcx/train/8954c3a36.flac ...\n",
                        "Converting data/rfcx/train/89577bade.flac ...\n",
                        "Converting data/rfcx/train/895bc4526.flac ...\n",
                        "Converting data/rfcx/train/896080a53.flac ...\n",
                        "Converting data/rfcx/train/8983e42bf.flac ...\n",
                        "Converting data/rfcx/train/898800b21.flac ...\n",
                        "Converting data/rfcx/train/89898c3c9.flac ...\n",
                        "Converting data/rfcx/train/89a0cb4e3.flac ...\n",
                        "Converting data/rfcx/train/89a581634.flac ...\n",
                        "Converting data/rfcx/train/89a8436e2.flac ...\n",
                        "Converting data/rfcx/train/89c1d65c3.flac ...\n",
                        "Converting data/rfcx/train/89c42b347.flac ...\n",
                        "Converting data/rfcx/train/89ee9e88b.flac ...\n",
                        "Converting data/rfcx/train/89f78a001.flac ...\n",
                        "Converting data/rfcx/train/89f9de11b.flac ...\n",
                        "Converting data/rfcx/train/89fe494b6.flac ...\n",
                        "Converting data/rfcx/train/8a0ee2e2c.flac ...\n",
                        "Converting data/rfcx/train/8a0f69ffe.flac ...\n",
                        "Converting data/rfcx/train/8a3130f41.flac ...\n",
                        "Converting data/rfcx/train/8a36a56bd.flac ...\n",
                        "Converting data/rfcx/train/8a37d96db.flac ...\n",
                        "Converting data/rfcx/train/8a4fde83f.flac ...\n",
                        "Converting data/rfcx/train/8a59b5c31.flac ...\n",
                        "Converting data/rfcx/train/8a63ca713.flac ...\n",
                        "Converting data/rfcx/train/8a911af21.flac ...\n",
                        "Converting data/rfcx/train/8a99905ac.flac ...\n",
                        "Converting data/rfcx/train/8ad1a246f.flac ...\n",
                        "Converting data/rfcx/train/8ad61d101.flac ...\n",
                        "Converting data/rfcx/train/8aeef4748.flac ...\n",
                        "Converting data/rfcx/train/8af1d63e6.flac ...\n",
                        "Converting data/rfcx/train/8b044db51.flac ...\n",
                        "Converting data/rfcx/train/8b127a335.flac ...\n",
                        "Converting data/rfcx/train/8b237e9eb.flac ...\n",
                        "Converting data/rfcx/train/8b24f2f98.flac ...\n",
                        "Converting data/rfcx/train/8b27b9415.flac ...\n",
                        "Converting data/rfcx/train/8b2eac349.flac ...\n",
                        "Converting data/rfcx/train/8b653cf02.flac ...\n",
                        "Converting data/rfcx/train/8b66ba095.flac ...\n",
                        "Converting data/rfcx/train/8b68b817e.flac ...\n",
                        "Converting data/rfcx/train/8b713bb0c.flac ...\n",
                        "Converting data/rfcx/train/8b87b2f21.flac ...\n",
                        "Converting data/rfcx/train/8b99ccd88.flac ...\n",
                        "Converting data/rfcx/train/8bc0657db.flac ...\n",
                        "Converting data/rfcx/train/8bdb3be80.flac ...\n",
                        "Converting data/rfcx/train/8bf114c9c.flac ...\n",
                        "Converting data/rfcx/train/8bf90ebb9.flac ...\n",
                        "Converting data/rfcx/train/8c20115ce.flac ...\n",
                        "Converting data/rfcx/train/8c287e8e5.flac ...\n",
                        "Converting data/rfcx/train/8c2c746fa.flac ...\n",
                        "Converting data/rfcx/train/8c2da3e8f.flac ...\n",
                        "Converting data/rfcx/train/8c319f2d8.flac ...\n",
                        "Converting data/rfcx/train/8c44ed2cf.flac ...\n",
                        "Converting data/rfcx/train/8c4b42d8b.flac ...\n",
                        "Converting data/rfcx/train/8c53ee50b.flac ...\n",
                        "Converting data/rfcx/train/8c56ab3a0.flac ...\n",
                        "Converting data/rfcx/train/8c5e099f9.flac ...\n",
                        "Converting data/rfcx/train/8c5f9d5a1.flac ...\n",
                        "Converting data/rfcx/train/8c6293cc8.flac ...\n",
                        "Converting data/rfcx/train/8c7160557.flac ...\n",
                        "Converting data/rfcx/train/8c7648ac2.flac ...\n",
                        "Converting data/rfcx/train/8c81c0da2.flac ...\n",
                        "Converting data/rfcx/train/8c8234049.flac ...\n",
                        "Converting data/rfcx/train/8cac56cc8.flac ...\n",
                        "Converting data/rfcx/train/8cb1a08e6.flac ...\n",
                        "Converting data/rfcx/train/8cd40473f.flac ...\n",
                        "Converting data/rfcx/train/8cee03244.flac ...\n",
                        "Converting data/rfcx/train/8d1192f16.flac ...\n",
                        "Converting data/rfcx/train/8d1aa8b4f.flac ...\n",
                        "Converting data/rfcx/train/8d5cd37e3.flac ...\n",
                        "Converting data/rfcx/train/8d608570c.flac ...\n",
                        "Converting data/rfcx/train/8d94e0b77.flac ...\n",
                        "Converting data/rfcx/train/8daabd226.flac ...\n",
                        "Converting data/rfcx/train/8dbaef6b5.flac ...\n",
                        "Converting data/rfcx/train/8dc357382.flac ...\n",
                        "Converting data/rfcx/train/8dd58ef1a.flac ...\n",
                        "Converting data/rfcx/train/8dddf58e0.flac ...\n",
                        "Converting data/rfcx/train/8de8aa454.flac ...\n",
                        "Converting data/rfcx/train/8e0396c69.flac ...\n",
                        "Converting data/rfcx/train/8e0c297ad.flac ...\n",
                        "Converting data/rfcx/train/8e0e7cc78.flac ...\n",
                        "Converting data/rfcx/train/8e0f816f1.flac ...\n",
                        "Converting data/rfcx/train/8e2ff1226.flac ...\n",
                        "Converting data/rfcx/train/8e2ff1572.flac ...\n",
                        "Converting data/rfcx/train/8e3056686.flac ...\n",
                        "Converting data/rfcx/train/8e39c9049.flac ...\n",
                        "Converting data/rfcx/train/8e47634a5.flac ...\n",
                        "Converting data/rfcx/train/8e56d782f.flac ...\n",
                        "Converting data/rfcx/train/8e6e5659e.flac ...\n",
                        "Converting data/rfcx/train/8e95c5fbf.flac ...\n",
                        "Converting data/rfcx/train/8e9bf8405.flac ...\n",
                        "Converting data/rfcx/train/8eab581da.flac ...\n",
                        "Converting data/rfcx/train/8eac6d941.flac ...\n",
                        "Converting data/rfcx/train/8eb0e591c.flac ...\n",
                        "Converting data/rfcx/train/8eb1bc5e1.flac ...\n",
                        "Converting data/rfcx/train/8ebdbcf48.flac ...\n",
                        "Converting data/rfcx/train/8ec106891.flac ...\n",
                        "Converting data/rfcx/train/8ec858427.flac ...\n",
                        "Converting data/rfcx/train/8ec8b0275.flac ...\n",
                        "Converting data/rfcx/train/8ecac2fbd.flac ...\n",
                        "Converting data/rfcx/train/8ee219910.flac ...\n",
                        "Converting data/rfcx/train/8ef1d1114.flac ...\n",
                        "Converting data/rfcx/train/8efac5ba4.flac ...\n",
                        "Converting data/rfcx/train/8f0daaed9.flac ...\n",
                        "Converting data/rfcx/train/8f0f2528a.flac ...\n",
                        "Converting data/rfcx/train/8f1821a54.flac ...\n",
                        "Converting data/rfcx/train/8f1ae787c.flac ...\n",
                        "Converting data/rfcx/train/8f3d579c8.flac ...\n",
                        "Converting data/rfcx/train/8f44c74f9.flac ...\n",
                        "Converting data/rfcx/train/8f5087237.flac ...\n",
                        "Converting data/rfcx/train/8f6131f46.flac ...\n",
                        "Converting data/rfcx/train/8f821e1ef.flac ...\n",
                        "Converting data/rfcx/train/8f8e31e51.flac ...\n",
                        "Converting data/rfcx/train/8f8e4f3e2.flac ...\n",
                        "Converting data/rfcx/train/8f942c9f5.flac ...\n",
                        "Converting data/rfcx/train/8fa859d45.flac ...\n",
                        "Converting data/rfcx/train/8ff70700d.flac ...\n",
                        "Converting data/rfcx/train/8ffc662db.flac ...\n",
                        "Converting data/rfcx/train/8ffe19a69.flac ...\n",
                        "Converting data/rfcx/train/900131d8d.flac ...\n",
                        "Converting data/rfcx/train/9001d0dce.flac ...\n",
                        "Converting data/rfcx/train/90170bbf9.flac ...\n",
                        "Converting data/rfcx/train/90387f1bd.flac ...\n",
                        "Converting data/rfcx/train/904f2d2b3.flac ...\n",
                        "Converting data/rfcx/train/9069bb594.flac ...\n",
                        "Converting data/rfcx/train/906e59468.flac ...\n",
                        "Converting data/rfcx/train/906fc22b6.flac ...\n",
                        "Converting data/rfcx/train/9074b816c.flac ...\n",
                        "Converting data/rfcx/train/90771a4cc.flac ...\n",
                        "Converting data/rfcx/train/908290ae2.flac ...\n",
                        "Converting data/rfcx/train/90836bf07.flac ...\n",
                        "Converting data/rfcx/train/908c02d41.flac ...\n",
                        "Converting data/rfcx/train/909fd946a.flac ...\n",
                        "Converting data/rfcx/train/90a1eac6d.flac ...\n",
                        "Converting data/rfcx/train/90a2963d8.flac ...\n",
                        "Converting data/rfcx/train/90c341444.flac ...\n",
                        "Converting data/rfcx/train/90d37ea59.flac ...\n",
                        "Converting data/rfcx/train/90dae96a8.flac ...\n",
                        "Converting data/rfcx/train/90fcaa564.flac ...\n",
                        "Converting data/rfcx/train/910910c1d.flac ...\n",
                        "Converting data/rfcx/train/911648d28.flac ...\n",
                        "Converting data/rfcx/train/911df6a5e.flac ...\n",
                        "Converting data/rfcx/train/912b56587.flac ...\n",
                        "Converting data/rfcx/train/914837e59.flac ...\n",
                        "Converting data/rfcx/train/915443145.flac ...\n",
                        "Converting data/rfcx/train/91554a8fb.flac ...\n",
                        "Converting data/rfcx/train/915d54482.flac ...\n",
                        "Converting data/rfcx/train/91694c5aa.flac ...\n",
                        "Converting data/rfcx/train/916eb2a00.flac ...\n",
                        "Converting data/rfcx/train/9173942f2.flac ...\n",
                        "Converting data/rfcx/train/918ddce17.flac ...\n",
                        "Converting data/rfcx/train/91906fec1.flac ...\n",
                        "Converting data/rfcx/train/919beba35.flac ...\n",
                        "Converting data/rfcx/train/91a17ad0b.flac ...\n",
                        "Converting data/rfcx/train/91a2ba786.flac ...\n",
                        "Converting data/rfcx/train/91b5a54de.flac ...\n",
                        "Converting data/rfcx/train/91d968d22.flac ...\n",
                        "Converting data/rfcx/train/91daa8c7d.flac ...\n",
                        "Converting data/rfcx/train/91e11cabb.flac ...\n",
                        "Converting data/rfcx/train/91e712b97.flac ...\n",
                        "Converting data/rfcx/train/91efeccf7.flac ...\n",
                        "Converting data/rfcx/train/9206ccf18.flac ...\n",
                        "Converting data/rfcx/train/9209932a2.flac ...\n",
                        "Converting data/rfcx/train/9246a226c.flac ...\n",
                        "Converting data/rfcx/train/9251fdbdd.flac ...\n",
                        "Converting data/rfcx/train/92588122c.flac ...\n",
                        "Converting data/rfcx/train/925ff388c.flac ...\n",
                        "Converting data/rfcx/train/92610347a.flac ...\n",
                        "Converting data/rfcx/train/9287eef2a.flac ...\n",
                        "Converting data/rfcx/train/928ef4799.flac ...\n",
                        "Converting data/rfcx/train/92940cac2.flac ...\n",
                        "Converting data/rfcx/train/929d655d3.flac ...\n",
                        "Converting data/rfcx/train/92ae9bcc2.flac ...\n",
                        "Converting data/rfcx/train/92bad93c6.flac ...\n",
                        "Converting data/rfcx/train/92bebe093.flac ...\n",
                        "Converting data/rfcx/train/92d06e7bd.flac ...\n",
                        "Converting data/rfcx/train/92d7efc6f.flac ...\n",
                        "Converting data/rfcx/train/92e42e393.flac ...\n",
                        "Converting data/rfcx/train/92ef5ffae.flac ...\n",
                        "Converting data/rfcx/train/930cddd80.flac ...\n",
                        "Converting data/rfcx/train/930dba892.flac ...\n",
                        "Converting data/rfcx/train/930e51d28.flac ...\n",
                        "Converting data/rfcx/train/9310f718f.flac ...\n",
                        "Converting data/rfcx/train/9316428b4.flac ...\n",
                        "Converting data/rfcx/train/933fd3bf9.flac ...\n",
                        "Converting data/rfcx/train/93455848a.flac ...\n",
                        "Converting data/rfcx/train/935e4c9b0.flac ...\n",
                        "Converting data/rfcx/train/9367e95cc.flac ...\n",
                        "Converting data/rfcx/train/9369b4be6.flac ...\n",
                        "Converting data/rfcx/train/937782744.flac ...\n",
                        "Converting data/rfcx/train/93825d718.flac ...\n",
                        "Converting data/rfcx/train/9387aaa2a.flac ...\n",
                        "Converting data/rfcx/train/938d9433b.flac ...\n",
                        "Converting data/rfcx/train/939659635.flac ...\n",
                        "Converting data/rfcx/train/93af62b94.flac ...\n",
                        "Converting data/rfcx/train/93e10b125.flac ...\n",
                        "Converting data/rfcx/train/93eb4d412.flac ...\n",
                        "Converting data/rfcx/train/93ec8646c.flac ...\n",
                        "Converting data/rfcx/train/941748fe3.flac ...\n",
                        "Converting data/rfcx/train/9425c4b01.flac ...\n",
                        "Converting data/rfcx/train/942b41be5.flac ...\n",
                        "Converting data/rfcx/train/942ca05c0.flac ...\n",
                        "Converting data/rfcx/train/944a292b1.flac ...\n",
                        "Converting data/rfcx/train/944edda33.flac ...\n",
                        "Converting data/rfcx/train/945c8d7a8.flac ...\n",
                        "Converting data/rfcx/train/946390b26.flac ...\n",
                        "Converting data/rfcx/train/9467401d6.flac ...\n",
                        "Converting data/rfcx/train/94705a05a.flac ...\n",
                        "Converting data/rfcx/train/94727a701.flac ...\n",
                        "Converting data/rfcx/train/94862ea2a.flac ...\n",
                        "Converting data/rfcx/train/9496d86bf.flac ...\n",
                        "Converting data/rfcx/train/94b3a3821.flac ...\n",
                        "Converting data/rfcx/train/94b789ac1.flac ...\n",
                        "Converting data/rfcx/train/94d96ee35.flac ...\n",
                        "Converting data/rfcx/train/94dc4b563.flac ...\n",
                        "Converting data/rfcx/train/95009b8a9.flac ...\n",
                        "Converting data/rfcx/train/9502c6244.flac ...\n",
                        "Converting data/rfcx/train/950d678b8.flac ...\n",
                        "Converting data/rfcx/train/95143eefa.flac ...\n",
                        "Converting data/rfcx/train/9521e8f3e.flac ...\n",
                        "Converting data/rfcx/train/954262c8f.flac ...\n",
                        "Converting data/rfcx/train/9547bef0c.flac ...\n",
                        "Converting data/rfcx/train/9553e7f3c.flac ...\n",
                        "Converting data/rfcx/train/95584cdc7.flac ...\n",
                        "Converting data/rfcx/train/955cbc31c.flac ...\n",
                        "Converting data/rfcx/train/955e129d2.flac ...\n",
                        "Converting data/rfcx/train/95651bfaa.flac ...\n",
                        "Converting data/rfcx/train/9568317d4.flac ...\n",
                        "Converting data/rfcx/train/956aaf47c.flac ...\n",
                        "Converting data/rfcx/train/957141585.flac ...\n",
                        "Converting data/rfcx/train/9572bfa64.flac ...\n",
                        "Converting data/rfcx/train/958db1ebe.flac ...\n",
                        "Converting data/rfcx/train/95b0acae3.flac ...\n",
                        "Converting data/rfcx/train/95b72ea60.flac ...\n",
                        "Converting data/rfcx/train/95de545d6.flac ...\n",
                        "Converting data/rfcx/train/95e798b0d.flac ...\n",
                        "Converting data/rfcx/train/960572cd4.flac ...\n",
                        "Converting data/rfcx/train/96311bdb0.flac ...\n",
                        "Converting data/rfcx/train/964c94ff5.flac ...\n",
                        "Converting data/rfcx/train/966736b59.flac ...\n",
                        "Converting data/rfcx/train/96732714b.flac ...\n",
                        "Converting data/rfcx/train/9683e1e95.flac ...\n",
                        "Converting data/rfcx/train/968a2a4e7.flac ...\n",
                        "Converting data/rfcx/train/968d39186.flac ...\n",
                        "Converting data/rfcx/train/96c46c2cd.flac ...\n",
                        "Converting data/rfcx/train/96d0e4d61.flac ...\n",
                        "Converting data/rfcx/train/96dbfbbc8.flac ...\n",
                        "Converting data/rfcx/train/96e4d0c55.flac ...\n",
                        "Converting data/rfcx/train/96fc32e3d.flac ...\n",
                        "Converting data/rfcx/train/970a880ca.flac ...\n",
                        "Converting data/rfcx/train/972043240.flac ...\n",
                        "Converting data/rfcx/train/974697801.flac ...\n",
                        "Converting data/rfcx/train/974b325dd.flac ...\n",
                        "Converting data/rfcx/train/974d0139e.flac ...\n",
                        "Converting data/rfcx/train/974f875f6.flac ...\n",
                        "Converting data/rfcx/train/97614a6b0.flac ...\n",
                        "Converting data/rfcx/train/97630c03d.flac ...\n",
                        "Converting data/rfcx/train/9769745d4.flac ...\n",
                        "Converting data/rfcx/train/976e26167.flac ...\n",
                        "Converting data/rfcx/train/978dbfac4.flac ...\n",
                        "Converting data/rfcx/train/97a9ea37b.flac ...\n",
                        "Converting data/rfcx/train/97ac9031d.flac ...\n",
                        "Converting data/rfcx/train/97b077e07.flac ...\n",
                        "Converting data/rfcx/train/97c4f44eb.flac ...\n",
                        "Converting data/rfcx/train/97cb9651d.flac ...\n",
                        "Converting data/rfcx/train/97d489184.flac ...\n",
                        "Converting data/rfcx/train/97d97782d.flac ...\n",
                        "Converting data/rfcx/train/9814adf06.flac ...\n",
                        "Converting data/rfcx/train/9814c325c.flac ...\n",
                        "Converting data/rfcx/train/9817ad011.flac ...\n",
                        "Converting data/rfcx/train/9823b3628.flac ...\n",
                        "Converting data/rfcx/train/982ddca58.flac ...\n",
                        "Converting data/rfcx/train/983a13114.flac ...\n",
                        "Converting data/rfcx/train/984786617.flac ...\n",
                        "Converting data/rfcx/train/986328a0e.flac ...\n",
                        "Converting data/rfcx/train/986405edb.flac ...\n",
                        "Converting data/rfcx/train/9873b4f9f.flac ...\n",
                        "Converting data/rfcx/train/987833181.flac ...\n",
                        "Converting data/rfcx/train/98893ac30.flac ...\n",
                        "Converting data/rfcx/train/988b98899.flac ...\n",
                        "Converting data/rfcx/train/988e03248.flac ...\n",
                        "Converting data/rfcx/train/9896fe27c.flac ...\n",
                        "Converting data/rfcx/train/989b95591.flac ...\n",
                        "Converting data/rfcx/train/98bd045dc.flac ...\n",
                        "Converting data/rfcx/train/98cb8fb08.flac ...\n",
                        "Converting data/rfcx/train/98d039965.flac ...\n",
                        "Converting data/rfcx/train/98d2722f5.flac ...\n",
                        "Converting data/rfcx/train/98de33bc9.flac ...\n",
                        "Converting data/rfcx/train/98effe7e2.flac ...\n",
                        "Converting data/rfcx/train/990662a03.flac ...\n",
                        "Converting data/rfcx/train/9919deb2f.flac ...\n",
                        "Converting data/rfcx/train/991af6062.flac ...\n",
                        "Converting data/rfcx/train/994165911.flac ...\n",
                        "Converting data/rfcx/train/995e8c226.flac ...\n",
                        "Converting data/rfcx/train/996546525.flac ...\n",
                        "Converting data/rfcx/train/9986ce4bb.flac ...\n",
                        "Converting data/rfcx/train/998cdd635.flac ...\n",
                        "Converting data/rfcx/train/9996f3de8.flac ...\n",
                        "Converting data/rfcx/train/999bac2e2.flac ...\n",
                        "Converting data/rfcx/train/99a3e9c18.flac ...\n",
                        "Converting data/rfcx/train/99aa327b4.flac ...\n",
                        "Converting data/rfcx/train/99ad8ec2e.flac ...\n",
                        "Converting data/rfcx/train/99b8ad978.flac ...\n",
                        "Converting data/rfcx/train/99dac3985.flac ...\n",
                        "Converting data/rfcx/train/99ece8c7f.flac ...\n",
                        "Converting data/rfcx/train/99efe9a99.flac ...\n",
                        "Converting data/rfcx/train/99f72cf18.flac ...\n",
                        "Converting data/rfcx/train/9a18a1177.flac ...\n",
                        "Converting data/rfcx/train/9a33fd3e2.flac ...\n",
                        "Converting data/rfcx/train/9a390abd3.flac ...\n",
                        "Converting data/rfcx/train/9a4ecc73d.flac ...\n",
                        "Converting data/rfcx/train/9a635d305.flac ...\n",
                        "Converting data/rfcx/train/9a6535583.flac ...\n",
                        "Converting data/rfcx/train/9a76cab9c.flac ...\n",
                        "Converting data/rfcx/train/9a884492c.flac ...\n",
                        "Converting data/rfcx/train/9a92b763c.flac ...\n",
                        "Converting data/rfcx/train/9a9951303.flac ...\n",
                        "Converting data/rfcx/train/9a9b9afb8.flac ...\n",
                        "Converting data/rfcx/train/9ab74ddf4.flac ...\n",
                        "Converting data/rfcx/train/9abdbfc9f.flac ...\n",
                        "Converting data/rfcx/train/9ae5d1b78.flac ...\n",
                        "Converting data/rfcx/train/9af55c56f.flac ...\n",
                        "Converting data/rfcx/train/9afa17810.flac ...\n",
                        "Converting data/rfcx/train/9b3183033.flac ...\n",
                        "Converting data/rfcx/train/9b3959bde.flac ...\n",
                        "Converting data/rfcx/train/9b532eb80.flac ...\n",
                        "Converting data/rfcx/train/9b59cbadc.flac ...\n",
                        "Converting data/rfcx/train/9b5bdb9bb.flac ...\n",
                        "Converting data/rfcx/train/9b5c2d29c.flac ...\n",
                        "Converting data/rfcx/train/9b7670318.flac ...\n",
                        "Converting data/rfcx/train/9b7ef67f5.flac ...\n",
                        "Converting data/rfcx/train/9b92a698e.flac ...\n",
                        "Converting data/rfcx/train/9ba959eef.flac ...\n",
                        "Converting data/rfcx/train/9bafdd5cd.flac ...\n",
                        "Converting data/rfcx/train/9bb30c6fb.flac ...\n",
                        "Converting data/rfcx/train/9bb6e3e6b.flac ...\n",
                        "Converting data/rfcx/train/9bc6eaf35.flac ...\n",
                        "Converting data/rfcx/train/9bcb21e7e.flac ...\n",
                        "Converting data/rfcx/train/9bdc79a14.flac ...\n",
                        "Converting data/rfcx/train/9bdcec22b.flac ...\n",
                        "Converting data/rfcx/train/9be50470f.flac ...\n",
                        "Converting data/rfcx/train/9c00b4d82.flac ...\n",
                        "Converting data/rfcx/train/9c2286d0c.flac ...\n",
                        "Converting data/rfcx/train/9c2730373.flac ...\n",
                        "Converting data/rfcx/train/9c60d9373.flac ...\n",
                        "Converting data/rfcx/train/9c74d4795.flac ...\n",
                        "Converting data/rfcx/train/9c7d58768.flac ...\n",
                        "Converting data/rfcx/train/9c81b2ecb.flac ...\n",
                        "Converting data/rfcx/train/9c86d718d.flac ...\n",
                        "Converting data/rfcx/train/9c8947073.flac ...\n",
                        "Converting data/rfcx/train/9c9aa37f5.flac ...\n",
                        "Converting data/rfcx/train/9ca91d4bc.flac ...\n",
                        "Converting data/rfcx/train/9cb1f4a34.flac ...\n",
                        "Converting data/rfcx/train/9cb5f0d5f.flac ...\n",
                        "Converting data/rfcx/train/9cb6ae5e3.flac ...\n",
                        "Converting data/rfcx/train/9cbd154db.flac ...\n",
                        "Converting data/rfcx/train/9cccd9345.flac ...\n",
                        "Converting data/rfcx/train/9ce597fd0.flac ...\n",
                        "Converting data/rfcx/train/9d06c7111.flac ...\n",
                        "Converting data/rfcx/train/9d12591e4.flac ...\n",
                        "Converting data/rfcx/train/9d1eee84d.flac ...\n",
                        "Converting data/rfcx/train/9d21d02a7.flac ...\n",
                        "Converting data/rfcx/train/9d293be93.flac ...\n",
                        "Converting data/rfcx/train/9d2bf51ce.flac ...\n",
                        "Converting data/rfcx/train/9d56dc0b8.flac ...\n",
                        "Converting data/rfcx/train/9d6de44f0.flac ...\n",
                        "Converting data/rfcx/train/9d8babeda.flac ...\n",
                        "Converting data/rfcx/train/9dad9aacc.flac ...\n",
                        "Converting data/rfcx/train/9db0536ca.flac ...\n",
                        "Converting data/rfcx/train/9dd7f882f.flac ...\n",
                        "Converting data/rfcx/train/9ddd479ad.flac ...\n",
                        "Converting data/rfcx/train/9ddf51869.flac ...\n",
                        "Converting data/rfcx/train/9df5da644.flac ...\n",
                        "Converting data/rfcx/train/9e00e83c4.flac ...\n",
                        "Converting data/rfcx/train/9e0afb61d.flac ...\n",
                        "Converting data/rfcx/train/9e1901ca0.flac ...\n",
                        "Converting data/rfcx/train/9e1ed0b58.flac ...\n",
                        "Converting data/rfcx/train/9e213eef8.flac ...\n",
                        "Converting data/rfcx/train/9e242fe66.flac ...\n",
                        "Converting data/rfcx/train/9e441d90d.flac ...\n",
                        "Converting data/rfcx/train/9e516c875.flac ...\n",
                        "Converting data/rfcx/train/9e52cf6ad.flac ...\n",
                        "Converting data/rfcx/train/9e5d5b03e.flac ...\n",
                        "Converting data/rfcx/train/9e6d4f885.flac ...\n",
                        "Converting data/rfcx/train/9ea0bb335.flac ...\n",
                        "Converting data/rfcx/train/9ec0c64c0.flac ...\n",
                        "Converting data/rfcx/train/9ee2e0f55.flac ...\n",
                        "Converting data/rfcx/train/9efabbcda.flac ...\n",
                        "Converting data/rfcx/train/9efb6cab6.flac ...\n",
                        "Converting data/rfcx/train/9f02f3ef4.flac ...\n",
                        "Converting data/rfcx/train/9f10784cd.flac ...\n",
                        "Converting data/rfcx/train/9f38bff39.flac ...\n",
                        "Converting data/rfcx/train/9f45e0d76.flac ...\n",
                        "Converting data/rfcx/train/9f4eafbf4.flac ...\n",
                        "Converting data/rfcx/train/9f5b66388.flac ...\n",
                        "Converting data/rfcx/train/9f61ef9aa.flac ...\n",
                        "Converting data/rfcx/train/9f8ebbfc3.flac ...\n",
                        "Converting data/rfcx/train/9f8fcb625.flac ...\n",
                        "Converting data/rfcx/train/9fb1361eb.flac ...\n",
                        "Converting data/rfcx/train/9fbcd740a.flac ...\n",
                        "Converting data/rfcx/train/9fbd7e1f6.flac ...\n",
                        "Converting data/rfcx/train/9fcfdb991.flac ...\n",
                        "Converting data/rfcx/train/9fd2d3daa.flac ...\n",
                        "Converting data/rfcx/train/9fe6050f3.flac ...\n",
                        "Converting data/rfcx/train/a00373b12.flac ...\n",
                        "Converting data/rfcx/train/a00811313.flac ...\n",
                        "Converting data/rfcx/train/a02b33527.flac ...\n",
                        "Converting data/rfcx/train/a03b9e4d3.flac ...\n",
                        "Converting data/rfcx/train/a04180934.flac ...\n",
                        "Converting data/rfcx/train/a05862d01.flac ...\n",
                        "Converting data/rfcx/train/a06c2e9a0.flac ...\n",
                        "Converting data/rfcx/train/a07a6bdf1.flac ...\n",
                        "Converting data/rfcx/train/a07dc1fb4.flac ...\n",
                        "Converting data/rfcx/train/a08d1d2ba.flac ...\n",
                        "Converting data/rfcx/train/a0958c163.flac ...\n",
                        "Converting data/rfcx/train/a098a3c40.flac ...\n",
                        "Converting data/rfcx/train/a0af97b46.flac ...\n",
                        "Converting data/rfcx/train/a0c662123.flac ...\n",
                        "Converting data/rfcx/train/a0d0e3aa6.flac ...\n",
                        "Converting data/rfcx/train/a0df1bd4b.flac ...\n",
                        "Converting data/rfcx/train/a0f090181.flac ...\n",
                        "Converting data/rfcx/train/a0f589aee.flac ...\n",
                        "Converting data/rfcx/train/a1048dac6.flac ...\n",
                        "Converting data/rfcx/train/a10905a3c.flac ...\n",
                        "Converting data/rfcx/train/a10abca35.flac ...\n",
                        "Converting data/rfcx/train/a114f20bd.flac ...\n",
                        "Converting data/rfcx/train/a11b8f4b0.flac ...\n",
                        "Converting data/rfcx/train/a12182698.flac ...\n",
                        "Converting data/rfcx/train/a12d0c71c.flac ...\n",
                        "Converting data/rfcx/train/a13b3242d.flac ...\n",
                        "Converting data/rfcx/train/a14274554.flac ...\n",
                        "Converting data/rfcx/train/a1442d6f5.flac ...\n",
                        "Converting data/rfcx/train/a15eb2d82.flac ...\n",
                        "Converting data/rfcx/train/a166197d6.flac ...\n",
                        "Converting data/rfcx/train/a17a74b77.flac ...\n",
                        "Converting data/rfcx/train/a17b9af5d.flac ...\n",
                        "Converting data/rfcx/train/a1873fe1a.flac ...\n",
                        "Converting data/rfcx/train/a189dad1b.flac ...\n",
                        "Converting data/rfcx/train/a18e6e633.flac ...\n",
                        "Converting data/rfcx/train/a1b1a5e31.flac ...\n",
                        "Converting data/rfcx/train/a1d369cd8.flac ...\n",
                        "Converting data/rfcx/train/a1d96c821.flac ...\n",
                        "Converting data/rfcx/train/a1ef2a84f.flac ...\n",
                        "Converting data/rfcx/train/a1fb328a4.flac ...\n",
                        "Converting data/rfcx/train/a2045d15d.flac ...\n",
                        "Converting data/rfcx/train/a212bf2e0.flac ...\n",
                        "Converting data/rfcx/train/a2268c660.flac ...\n",
                        "Converting data/rfcx/train/a227d1315.flac ...\n",
                        "Converting data/rfcx/train/a22d09339.flac ...\n",
                        "Converting data/rfcx/train/a23201be2.flac ...\n",
                        "Converting data/rfcx/train/a23a6348c.flac ...\n",
                        "Converting data/rfcx/train/a2441a74b.flac ...\n",
                        "Converting data/rfcx/train/a24e3049e.flac ...\n",
                        "Converting data/rfcx/train/a277651b1.flac ...\n",
                        "Converting data/rfcx/train/a2a211fa8.flac ...\n",
                        "Converting data/rfcx/train/a2ae08a6e.flac ...\n",
                        "Converting data/rfcx/train/a2b073406.flac ...\n",
                        "Converting data/rfcx/train/a2c1ac660.flac ...\n",
                        "Converting data/rfcx/train/a2c7937b5.flac ...\n",
                        "Converting data/rfcx/train/a2cde7ad2.flac ...\n",
                        "Converting data/rfcx/train/a2ddf0e69.flac ...\n",
                        "Converting data/rfcx/train/a2e044be4.flac ...\n",
                        "Converting data/rfcx/train/a2e601a0d.flac ...\n",
                        "Converting data/rfcx/train/a2eb73066.flac ...\n",
                        "Converting data/rfcx/train/a300cc61e.flac ...\n",
                        "Converting data/rfcx/train/a30fc5a56.flac ...\n",
                        "Converting data/rfcx/train/a3194950c.flac ...\n",
                        "Converting data/rfcx/train/a3254adbc.flac ...\n",
                        "Converting data/rfcx/train/a339d1955.flac ...\n",
                        "Converting data/rfcx/train/a33e9849a.flac ...\n",
                        "Converting data/rfcx/train/a3403ba21.flac ...\n",
                        "Converting data/rfcx/train/a34edc26f.flac ...\n",
                        "Converting data/rfcx/train/a35732740.flac ...\n",
                        "Converting data/rfcx/train/a35762aa1.flac ...\n",
                        "Converting data/rfcx/train/a3773e6aa.flac ...\n",
                        "Converting data/rfcx/train/a37a0bba7.flac ...\n",
                        "Converting data/rfcx/train/a381132c5.flac ...\n",
                        "Converting data/rfcx/train/a38680501.flac ...\n",
                        "Converting data/rfcx/train/a389edea1.flac ...\n",
                        "Converting data/rfcx/train/a38cadf2c.flac ...\n",
                        "Converting data/rfcx/train/a3a065c09.flac ...\n",
                        "Converting data/rfcx/train/a3adcd88c.flac ...\n",
                        "Converting data/rfcx/train/a3c5b8e89.flac ...\n",
                        "Converting data/rfcx/train/a3d1e4f37.flac ...\n",
                        "Converting data/rfcx/train/a3e09746b.flac ...\n",
                        "Converting data/rfcx/train/a4035e64b.flac ...\n",
                        "Converting data/rfcx/train/a40d19a3d.flac ...\n",
                        "Converting data/rfcx/train/a42883450.flac ...\n",
                        "Converting data/rfcx/train/a44bd543b.flac ...\n",
                        "Converting data/rfcx/train/a460e6d27.flac ...\n",
                        "Converting data/rfcx/train/a461f82cd.flac ...\n",
                        "Converting data/rfcx/train/a4639b81a.flac ...\n",
                        "Converting data/rfcx/train/a482a8071.flac ...\n",
                        "Converting data/rfcx/train/a4937ffc0.flac ...\n",
                        "Converting data/rfcx/train/a4a1ced02.flac ...\n",
                        "Converting data/rfcx/train/a4b2f4298.flac ...\n",
                        "Converting data/rfcx/train/a4bb956fb.flac ...\n",
                        "Converting data/rfcx/train/a4d7aa954.flac ...\n",
                        "Converting data/rfcx/train/a4dc957b2.flac ...\n",
                        "Converting data/rfcx/train/a4eb8ba78.flac ...\n",
                        "Converting data/rfcx/train/a5034a8b3.flac ...\n",
                        "Converting data/rfcx/train/a51441a5e.flac ...\n",
                        "Converting data/rfcx/train/a51afbc02.flac ...\n",
                        "Converting data/rfcx/train/a5275331c.flac ...\n",
                        "Converting data/rfcx/train/a52ca6402.flac ...\n",
                        "Converting data/rfcx/train/a5384acd5.flac ...\n",
                        "Converting data/rfcx/train/a54894b33.flac ...\n",
                        "Converting data/rfcx/train/a549d5e1c.flac ...\n",
                        "Converting data/rfcx/train/a54e486e2.flac ...\n",
                        "Converting data/rfcx/train/a5536ad20.flac ...\n",
                        "Converting data/rfcx/train/a553c15f3.flac ...\n",
                        "Converting data/rfcx/train/a554c9c3e.flac ...\n",
                        "Converting data/rfcx/train/a56647679.flac ...\n",
                        "Converting data/rfcx/train/a57385894.flac ...\n",
                        "Converting data/rfcx/train/a5960d4d9.flac ...\n",
                        "Converting data/rfcx/train/a59d9cab2.flac ...\n",
                        "Converting data/rfcx/train/a5a5dc0d9.flac ...\n",
                        "Converting data/rfcx/train/a5a65e08b.flac ...\n",
                        "Converting data/rfcx/train/a5a731f5d.flac ...\n",
                        "Converting data/rfcx/train/a5b66a68d.flac ...\n",
                        "Converting data/rfcx/train/a5c04a321.flac ...\n",
                        "Converting data/rfcx/train/a5ceef07b.flac ...\n",
                        "Converting data/rfcx/train/a5eface9a.flac ...\n",
                        "Converting data/rfcx/train/a5f008080.flac ...\n",
                        "Converting data/rfcx/train/a5f567b8f.flac ...\n",
                        "Converting data/rfcx/train/a60c2b237.flac ...\n",
                        "Converting data/rfcx/train/a6266987d.flac ...\n",
                        "Converting data/rfcx/train/a6269636a.flac ...\n",
                        "Converting data/rfcx/train/a64b357d4.flac ...\n",
                        "Converting data/rfcx/train/a651925e5.flac ...\n",
                        "Converting data/rfcx/train/a6610076b.flac ...\n",
                        "Converting data/rfcx/train/a66546dfd.flac ...\n",
                        "Converting data/rfcx/train/a66d44311.flac ...\n",
                        "Converting data/rfcx/train/a6737db48.flac ...\n",
                        "Converting data/rfcx/train/a67778677.flac ...\n",
                        "Converting data/rfcx/train/a691e3d90.flac ...\n",
                        "Converting data/rfcx/train/a6b4dda07.flac ...\n",
                        "Converting data/rfcx/train/a6c887130.flac ...\n",
                        "Converting data/rfcx/train/a6dbd2fcc.flac ...\n",
                        "Converting data/rfcx/train/a6dc888fb.flac ...\n",
                        "Converting data/rfcx/train/a6fd03333.flac ...\n",
                        "Converting data/rfcx/train/a70001b34.flac ...\n",
                        "Converting data/rfcx/train/a70f08db0.flac ...\n",
                        "Converting data/rfcx/train/a71b252e5.flac ...\n",
                        "Converting data/rfcx/train/a727a0da2.flac ...\n",
                        "Converting data/rfcx/train/a733a6cb3.flac ...\n",
                        "Converting data/rfcx/train/a74558b7b.flac ...\n",
                        "Converting data/rfcx/train/a78821456.flac ...\n",
                        "Converting data/rfcx/train/a79847d38.flac ...\n",
                        "Converting data/rfcx/train/a7a4e533b.flac ...\n",
                        "Converting data/rfcx/train/a7b5b16f2.flac ...\n",
                        "Converting data/rfcx/train/a7b7f7e6f.flac ...\n",
                        "Converting data/rfcx/train/a7be7ac66.flac ...\n",
                        "Converting data/rfcx/train/a7d5f1883.flac ...\n",
                        "Converting data/rfcx/train/a7ff51ac4.flac ...\n",
                        "Converting data/rfcx/train/a82802bd2.flac ...\n",
                        "Converting data/rfcx/train/a82f931d1.flac ...\n",
                        "Converting data/rfcx/train/a835a366a.flac ...\n",
                        "Converting data/rfcx/train/a835a9aad.flac ...\n",
                        "Converting data/rfcx/train/a83600bbe.flac ...\n",
                        "Converting data/rfcx/train/a848bca7d.flac ...\n",
                        "Converting data/rfcx/train/a84c95451.flac ...\n",
                        "Converting data/rfcx/train/a851655de.flac ...\n",
                        "Converting data/rfcx/train/a8727e2ef.flac ...\n",
                        "Converting data/rfcx/train/a87cd26bc.flac ...\n",
                        "Converting data/rfcx/train/a8bcb8c15.flac ...\n",
                        "Converting data/rfcx/train/a8d4acfe5.flac ...\n",
                        "Converting data/rfcx/train/a8de2d5e9.flac ...\n",
                        "Converting data/rfcx/train/a8e1b2a25.flac ...\n",
                        "Converting data/rfcx/train/a8e6d4d75.flac ...\n",
                        "Converting data/rfcx/train/a904aee98.flac ...\n",
                        "Converting data/rfcx/train/a90c80393.flac ...\n",
                        "Converting data/rfcx/train/a90eee207.flac ...\n",
                        "Converting data/rfcx/train/a916190d9.flac ...\n",
                        "Converting data/rfcx/train/a916ebb05.flac ...\n",
                        "Converting data/rfcx/train/a92850ccd.flac ...\n",
                        "Converting data/rfcx/train/a9637eb5b.flac ...\n",
                        "Converting data/rfcx/train/a96968830.flac ...\n",
                        "Converting data/rfcx/train/a96c29af9.flac ...\n",
                        "Converting data/rfcx/train/a96c5fcd9.flac ...\n",
                        "Converting data/rfcx/train/a982778f5.flac ...\n",
                        "Converting data/rfcx/train/a9868c3d1.flac ...\n",
                        "Converting data/rfcx/train/a993402e2.flac ...\n",
                        "Converting data/rfcx/train/a9ce52e04.flac ...\n",
                        "Converting data/rfcx/train/a9ce71694.flac ...\n",
                        "Converting data/rfcx/train/a9d75ba27.flac ...\n",
                        "Converting data/rfcx/train/a9de4b143.flac ...\n",
                        "Converting data/rfcx/train/a9f8d69cd.flac ...\n",
                        "Converting data/rfcx/train/aa1ee13f5.flac ...\n",
                        "Converting data/rfcx/train/aa371fc7a.flac ...\n",
                        "Converting data/rfcx/train/aa4028cbb.flac ...\n",
                        "Converting data/rfcx/train/aa44853e7.flac ...\n",
                        "Converting data/rfcx/train/aa499f21b.flac ...\n",
                        "Converting data/rfcx/train/aa524a44b.flac ...\n",
                        "Converting data/rfcx/train/aa5512382.flac ...\n",
                        "Converting data/rfcx/train/aa5545be8.flac ...\n",
                        "Converting data/rfcx/train/aa7d3cfe0.flac ...\n",
                        "Converting data/rfcx/train/aac02469d.flac ...\n",
                        "Converting data/rfcx/train/aacdd6c41.flac ...\n",
                        "Converting data/rfcx/train/aacebff62.flac ...\n",
                        "Converting data/rfcx/train/aae654cb9.flac ...\n",
                        "Converting data/rfcx/train/aaf3ddf0d.flac ...\n",
                        "Converting data/rfcx/train/ab0c9999d.flac ...\n",
                        "Converting data/rfcx/train/ab10104ce.flac ...\n",
                        "Converting data/rfcx/train/ab2a99147.flac ...\n",
                        "Converting data/rfcx/train/ab35c77fc.flac ...\n",
                        "Converting data/rfcx/train/ab383c341.flac ...\n",
                        "Converting data/rfcx/train/ab4632c62.flac ...\n",
                        "Converting data/rfcx/train/ab4a91669.flac ...\n",
                        "Converting data/rfcx/train/ab5e71344.flac ...\n",
                        "Converting data/rfcx/train/ab6d5bf47.flac ...\n",
                        "Converting data/rfcx/train/ab7a93f3f.flac ...\n",
                        "Converting data/rfcx/train/ab900ff48.flac ...\n",
                        "Converting data/rfcx/train/abad2acc3.flac ...\n",
                        "Converting data/rfcx/train/abbef468c.flac ...\n",
                        "Converting data/rfcx/train/abc894192.flac ...\n",
                        "Converting data/rfcx/train/abd8cff8d.flac ...\n",
                        "Converting data/rfcx/train/abed3437e.flac ...\n",
                        "Converting data/rfcx/train/abf0f1580.flac ...\n",
                        "Converting data/rfcx/train/ac155150d.flac ...\n",
                        "Converting data/rfcx/train/ac1cd5257.flac ...\n",
                        "Converting data/rfcx/train/ac1f2633e.flac ...\n",
                        "Converting data/rfcx/train/ac1fcdf9d.flac ...\n",
                        "Converting data/rfcx/train/ac2d4eec8.flac ...\n",
                        "Converting data/rfcx/train/ac3da0b30.flac ...\n",
                        "Converting data/rfcx/train/ac7721796.flac ...\n",
                        "Converting data/rfcx/train/ac7d4a80e.flac ...\n",
                        "Converting data/rfcx/train/ac7ded692.flac ...\n",
                        "Converting data/rfcx/train/ac7f34e8f.flac ...\n",
                        "Converting data/rfcx/train/ac7fb1d87.flac ...\n",
                        "Converting data/rfcx/train/ac80595a7.flac ...\n",
                        "Converting data/rfcx/train/ac9945b92.flac ...\n",
                        "Converting data/rfcx/train/acaa59d2b.flac ...\n",
                        "Converting data/rfcx/train/acb80ff69.flac ...\n",
                        "Converting data/rfcx/train/acba504a7.flac ...\n",
                        "Converting data/rfcx/train/acc030d72.flac ...\n",
                        "Converting data/rfcx/train/acff61b19.flac ...\n",
                        "Converting data/rfcx/train/ad0a816b1.flac ...\n",
                        "Converting data/rfcx/train/ad13558b8.flac ...\n",
                        "Converting data/rfcx/train/ad1ce8993.flac ...\n",
                        "Converting data/rfcx/train/ad2e4cf3d.flac ...\n",
                        "Converting data/rfcx/train/ad39ad527.flac ...\n",
                        "Converting data/rfcx/train/ad3e23adc.flac ...\n",
                        "Converting data/rfcx/train/ad5ecca53.flac ...\n",
                        "Converting data/rfcx/train/ad60ba4a0.flac ...\n",
                        "Converting data/rfcx/train/ad77a550c.flac ...\n",
                        "Converting data/rfcx/train/adbe22d73.flac ...\n",
                        "Converting data/rfcx/train/adc115529.flac ...\n",
                        "Converting data/rfcx/train/addfd4f67.flac ...\n",
                        "Converting data/rfcx/train/adea8c962.flac ...\n",
                        "Converting data/rfcx/train/ae19625f5.flac ...\n",
                        "Converting data/rfcx/train/ae1cd87e7.flac ...\n",
                        "Converting data/rfcx/train/ae210f726.flac ...\n",
                        "Converting data/rfcx/train/ae485a26a.flac ...\n",
                        "Converting data/rfcx/train/ae4a3b1e2.flac ...\n",
                        "Converting data/rfcx/train/ae4ed2b70.flac ...\n",
                        "Converting data/rfcx/train/ae521f781.flac ...\n",
                        "Converting data/rfcx/train/ae592a54c.flac ...\n",
                        "Converting data/rfcx/train/ae6c05443.flac ...\n",
                        "Converting data/rfcx/train/ae81919a7.flac ...\n",
                        "Converting data/rfcx/train/ae8471db1.flac ...\n",
                        "Converting data/rfcx/train/ae8fd3a51.flac ...\n",
                        "Converting data/rfcx/train/aea0fe44d.flac ...\n",
                        "Converting data/rfcx/train/aeb0f61bf.flac ...\n",
                        "Converting data/rfcx/train/aebcc3b89.flac ...\n",
                        "Converting data/rfcx/train/aebf55c7c.flac ...\n",
                        "Converting data/rfcx/train/aecf3d8d2.flac ...\n",
                        "Converting data/rfcx/train/aed9dd7ee.flac ...\n",
                        "Converting data/rfcx/train/aeddc3968.flac ...\n",
                        "Converting data/rfcx/train/aedfcfe60.flac ...\n",
                        "Converting data/rfcx/train/aef347a03.flac ...\n",
                        "Converting data/rfcx/train/aefd0f061.flac ...\n",
                        "Converting data/rfcx/train/af0113159.flac ...\n",
                        "Converting data/rfcx/train/af0cf8016.flac ...\n",
                        "Converting data/rfcx/train/af11730ca.flac ...\n",
                        "Converting data/rfcx/train/af15de055.flac ...\n",
                        "Converting data/rfcx/train/af179df28.flac ...\n",
                        "Converting data/rfcx/train/af1d7ef13.flac ...\n",
                        "Converting data/rfcx/train/af22ae5ba.flac ...\n",
                        "Converting data/rfcx/train/af23806c4.flac ...\n",
                        "Converting data/rfcx/train/af2dfba87.flac ...\n",
                        "Converting data/rfcx/train/af36838f2.flac ...\n",
                        "Converting data/rfcx/train/af3bb07e8.flac ...\n",
                        "Converting data/rfcx/train/af5824793.flac ...\n",
                        "Converting data/rfcx/train/af5867d22.flac ...\n",
                        "Converting data/rfcx/train/af6a0d203.flac ...\n",
                        "Converting data/rfcx/train/af6b32ad4.flac ...\n",
                        "Converting data/rfcx/train/af85ecdce.flac ...\n",
                        "Converting data/rfcx/train/af8bad1fe.flac ...\n",
                        "Converting data/rfcx/train/af95c30e4.flac ...\n",
                        "Converting data/rfcx/train/af95f758b.flac ...\n",
                        "Converting data/rfcx/train/af99851ef.flac ...\n",
                        "Converting data/rfcx/train/afa49cbeb.flac ...\n",
                        "Converting data/rfcx/train/afaa8d38f.flac ...\n",
                        "Converting data/rfcx/train/afbf91496.flac ...\n",
                        "Converting data/rfcx/train/afcb87679.flac ...\n",
                        "Converting data/rfcx/train/afe268bdf.flac ...\n",
                        "Converting data/rfcx/train/b000e1964.flac ...\n",
                        "Converting data/rfcx/train/b017b7e75.flac ...\n",
                        "Converting data/rfcx/train/b01abd3b2.flac ...\n",
                        "Converting data/rfcx/train/b022cba86.flac ...\n",
                        "Converting data/rfcx/train/b056e5bc2.flac ...\n",
                        "Converting data/rfcx/train/b05cc40b8.flac ...\n",
                        "Converting data/rfcx/train/b064dc7ea.flac ...\n",
                        "Converting data/rfcx/train/b070bc5aa.flac ...\n",
                        "Converting data/rfcx/train/b08e4c879.flac ...\n",
                        "Converting data/rfcx/train/b0a4a3c82.flac ...\n",
                        "Converting data/rfcx/train/b0aabdd5e.flac ...\n",
                        "Converting data/rfcx/train/b0c1d0c40.flac ...\n",
                        "Converting data/rfcx/train/b0c8aa9f6.flac ...\n",
                        "Converting data/rfcx/train/b0fa0710b.flac ...\n",
                        "Converting data/rfcx/train/b108c88f8.flac ...\n",
                        "Converting data/rfcx/train/b10a50752.flac ...\n",
                        "Converting data/rfcx/train/b113aaf6c.flac ...\n",
                        "Converting data/rfcx/train/b115a5c40.flac ...\n",
                        "Converting data/rfcx/train/b12b0106b.flac ...\n",
                        "Converting data/rfcx/train/b12e80061.flac ...\n",
                        "Converting data/rfcx/train/b13d41ad1.flac ...\n",
                        "Converting data/rfcx/train/b1567318d.flac ...\n",
                        "Converting data/rfcx/train/b156b0132.flac ...\n",
                        "Converting data/rfcx/train/b164b0948.flac ...\n",
                        "Converting data/rfcx/train/b16ad4d20.flac ...\n",
                        "Converting data/rfcx/train/b1939840c.flac ...\n",
                        "Converting data/rfcx/train/b1ad82496.flac ...\n",
                        "Converting data/rfcx/train/b1c09c89b.flac ...\n",
                        "Converting data/rfcx/train/b1c57fd8f.flac ...\n",
                        "Converting data/rfcx/train/b1c7b039e.flac ...\n",
                        "Converting data/rfcx/train/b1c97f28a.flac ...\n",
                        "Converting data/rfcx/train/b1d18170a.flac ...\n",
                        "Converting data/rfcx/train/b1d7e6648.flac ...\n",
                        "Converting data/rfcx/train/b1ed9872c.flac ...\n",
                        "Converting data/rfcx/train/b1f873abc.flac ...\n",
                        "Converting data/rfcx/train/b209ec922.flac ...\n",
                        "Converting data/rfcx/train/b21610ead.flac ...\n",
                        "Converting data/rfcx/train/b2338ed38.flac ...\n",
                        "Converting data/rfcx/train/b24f28ef8.flac ...\n",
                        "Converting data/rfcx/train/b2506e4ba.flac ...\n",
                        "Converting data/rfcx/train/b27432d62.flac ...\n",
                        "Converting data/rfcx/train/b277b2c18.flac ...\n",
                        "Converting data/rfcx/train/b2884fc1f.flac ...\n",
                        "Converting data/rfcx/train/b297fe7ef.flac ...\n",
                        "Converting data/rfcx/train/b2a9be6b5.flac ...\n",
                        "Converting data/rfcx/train/b2c16d2d4.flac ...\n",
                        "Converting data/rfcx/train/b2db8eae9.flac ...\n",
                        "Converting data/rfcx/train/b2dddb23b.flac ...\n",
                        "Converting data/rfcx/train/b2ea74670.flac ...\n",
                        "Converting data/rfcx/train/b2f3a6df5.flac ...\n",
                        "Converting data/rfcx/train/b3061e1fa.flac ...\n",
                        "Converting data/rfcx/train/b366d2654.flac ...\n",
                        "Converting data/rfcx/train/b37fb00f0.flac ...\n",
                        "Converting data/rfcx/train/b38ab8c4d.flac ...\n",
                        "Converting data/rfcx/train/b38cfaff1.flac ...\n",
                        "Converting data/rfcx/train/b3b432bcc.flac ...\n",
                        "Converting data/rfcx/train/b3b4c9d06.flac ...\n",
                        "Converting data/rfcx/train/b3bfbff1f.flac ...\n",
                        "Converting data/rfcx/train/b3da3e09c.flac ...\n",
                        "Converting data/rfcx/train/b3f517843.flac ...\n",
                        "Converting data/rfcx/train/b40760aaa.flac ...\n",
                        "Converting data/rfcx/train/b4110d8aa.flac ...\n",
                        "Converting data/rfcx/train/b41ae319b.flac ...\n",
                        "Converting data/rfcx/train/b4223a934.flac ...\n",
                        "Converting data/rfcx/train/b42aa0f8b.flac ...\n",
                        "Converting data/rfcx/train/b441cf212.flac ...\n",
                        "Converting data/rfcx/train/b4525367e.flac ...\n",
                        "Converting data/rfcx/train/b45319264.flac ...\n",
                        "Converting data/rfcx/train/b45764a8c.flac ...\n",
                        "Converting data/rfcx/train/b45a2349a.flac ...\n",
                        "Converting data/rfcx/train/b46205f40.flac ...\n",
                        "Converting data/rfcx/train/b46a8530c.flac ...\n",
                        "Converting data/rfcx/train/b46ce77de.flac ...\n",
                        "Converting data/rfcx/train/b46fd30dd.flac ...\n",
                        "Converting data/rfcx/train/b47b3fd1b.flac ...\n",
                        "Converting data/rfcx/train/b4a3fb69c.flac ...\n",
                        "Converting data/rfcx/train/b4ba6a3fc.flac ...\n",
                        "Converting data/rfcx/train/b4cb733c9.flac ...\n",
                        "Converting data/rfcx/train/b4d29a07e.flac ...\n",
                        "Converting data/rfcx/train/b4d500b44.flac ...\n",
                        "Converting data/rfcx/train/b4da8a802.flac ...\n",
                        "Converting data/rfcx/train/b4df5aef8.flac ...\n",
                        "Converting data/rfcx/train/b4e23c482.flac ...\n",
                        "Converting data/rfcx/train/b4e87306c.flac ...\n",
                        "Converting data/rfcx/train/b4ef18a15.flac ...\n",
                        "Converting data/rfcx/train/b4f532da2.flac ...\n",
                        "Converting data/rfcx/train/b50cd60ee.flac ...\n",
                        "Converting data/rfcx/train/b511a4d0c.flac ...\n",
                        "Converting data/rfcx/train/b513b9696.flac ...\n",
                        "Converting data/rfcx/train/b52860dd1.flac ...\n",
                        "Converting data/rfcx/train/b544928c0.flac ...\n",
                        "Converting data/rfcx/train/b557f052b.flac ...\n",
                        "Converting data/rfcx/train/b55999b5b.flac ...\n",
                        "Converting data/rfcx/train/b55b3c9f5.flac ...\n",
                        "Converting data/rfcx/train/b55d2f7b4.flac ...\n",
                        "Converting data/rfcx/train/b59f01480.flac ...\n",
                        "Converting data/rfcx/train/b5a257e4d.flac ...\n",
                        "Converting data/rfcx/train/b5a27f61b.flac ...\n",
                        "Converting data/rfcx/train/b5ca4da51.flac ...\n",
                        "Converting data/rfcx/train/b5cfd95e2.flac ...\n",
                        "Converting data/rfcx/train/b5f8c85d4.flac ...\n",
                        "Converting data/rfcx/train/b61008633.flac ...\n",
                        "Converting data/rfcx/train/b62224578.flac ...\n",
                        "Converting data/rfcx/train/b62292f65.flac ...\n",
                        "Converting data/rfcx/train/b62aa3135.flac ...\n",
                        "Converting data/rfcx/train/b62b5a988.flac ...\n",
                        "Converting data/rfcx/train/b63239ec4.flac ...\n",
                        "Converting data/rfcx/train/b64238c47.flac ...\n",
                        "Converting data/rfcx/train/b64ad3bb0.flac ...\n",
                        "Converting data/rfcx/train/b65e327ee.flac ...\n",
                        "Converting data/rfcx/train/b661bd840.flac ...\n",
                        "Converting data/rfcx/train/b6671af88.flac ...\n",
                        "Converting data/rfcx/train/b66f3e6f0.flac ...\n",
                        "Converting data/rfcx/train/b677edb4a.flac ...\n",
                        "Converting data/rfcx/train/b67a36510.flac ...\n",
                        "Converting data/rfcx/train/b68e70116.flac ...\n",
                        "Converting data/rfcx/train/b693b8aa3.flac ...\n",
                        "Converting data/rfcx/train/b69ef4e9a.flac ...\n",
                        "Converting data/rfcx/train/b6a5fed59.flac ...\n",
                        "Converting data/rfcx/train/b6aa1c73f.flac ...\n",
                        "Converting data/rfcx/train/b6aabf399.flac ...\n",
                        "Converting data/rfcx/train/b6b2bb1cd.flac ...\n",
                        "Converting data/rfcx/train/b6ba7089b.flac ...\n",
                        "Converting data/rfcx/train/b6c544259.flac ...\n",
                        "Converting data/rfcx/train/b6d3167b9.flac ...\n",
                        "Converting data/rfcx/train/b6d725174.flac ...\n",
                        "Converting data/rfcx/train/b6ddaa9b4.flac ...\n",
                        "Converting data/rfcx/train/b6e0c5c42.flac ...\n",
                        "Converting data/rfcx/train/b6e113542.flac ...\n",
                        "Converting data/rfcx/train/b6f19d09b.flac ...\n",
                        "Converting data/rfcx/train/b702a4279.flac ...\n",
                        "Converting data/rfcx/train/b729567bb.flac ...\n",
                        "Converting data/rfcx/train/b72980251.flac ...\n",
                        "Converting data/rfcx/train/b730520cf.flac ...\n",
                        "Converting data/rfcx/train/b7485fa88.flac ...\n",
                        "Converting data/rfcx/train/b74c082b0.flac ...\n",
                        "Converting data/rfcx/train/b75db3636.flac ...\n",
                        "Converting data/rfcx/train/b7771db53.flac ...\n",
                        "Converting data/rfcx/train/b78b9006f.flac ...\n",
                        "Converting data/rfcx/train/b7905f8d7.flac ...\n",
                        "Converting data/rfcx/train/b79bbab79.flac ...\n",
                        "Converting data/rfcx/train/b7a71d152.flac ...\n",
                        "Converting data/rfcx/train/b7acb665d.flac ...\n",
                        "Converting data/rfcx/train/b7af37ae0.flac ...\n",
                        "Converting data/rfcx/train/b7c63f218.flac ...\n",
                        "Converting data/rfcx/train/b7e2ef23f.flac ...\n",
                        "Converting data/rfcx/train/b7ef875d3.flac ...\n",
                        "Converting data/rfcx/train/b7fcfb502.flac ...\n",
                        "Converting data/rfcx/train/b7fd6dca3.flac ...\n",
                        "Converting data/rfcx/train/b7fd9a52d.flac ...\n",
                        "Converting data/rfcx/train/b808df02d.flac ...\n",
                        "Converting data/rfcx/train/b80bfc8f2.flac ...\n",
                        "Converting data/rfcx/train/b81e16cc8.flac ...\n",
                        "Converting data/rfcx/train/b84649a88.flac ...\n",
                        "Converting data/rfcx/train/b87a8ca0b.flac ...\n",
                        "Converting data/rfcx/train/b8864c158.flac ...\n",
                        "Converting data/rfcx/train/b89284ab8.flac ...\n",
                        "Converting data/rfcx/train/b89bd05a1.flac ...\n",
                        "Converting data/rfcx/train/b8ae53543.flac ...\n",
                        "Converting data/rfcx/train/b8bc9dfaf.flac ...\n",
                        "Converting data/rfcx/train/b8cd9d470.flac ...\n",
                        "Converting data/rfcx/train/b8cdab936.flac ...\n",
                        "Converting data/rfcx/train/b8d1aef52.flac ...\n",
                        "Converting data/rfcx/train/b8d1e4865.flac ...\n",
                        "Converting data/rfcx/train/b8da2518e.flac ...\n",
                        "Converting data/rfcx/train/b8e1cc5ea.flac ...\n",
                        "Converting data/rfcx/train/b8fcf62b5.flac ...\n",
                        "Converting data/rfcx/train/b903019b9.flac ...\n",
                        "Converting data/rfcx/train/b90d004b4.flac ...\n",
                        "Converting data/rfcx/train/b90de8c61.flac ...\n",
                        "Converting data/rfcx/train/b9152632e.flac ...\n",
                        "Converting data/rfcx/train/b91fab604.flac ...\n",
                        "Converting data/rfcx/train/b93ba967a.flac ...\n",
                        "Converting data/rfcx/train/b943d61d9.flac ...\n",
                        "Converting data/rfcx/train/b94e40f71.flac ...\n",
                        "Converting data/rfcx/train/b94ee8f0a.flac ...\n",
                        "Converting data/rfcx/train/b95c42272.flac ...\n",
                        "Converting data/rfcx/train/b96574294.flac ...\n",
                        "Converting data/rfcx/train/b9710ea35.flac ...\n",
                        "Converting data/rfcx/train/b97d95a72.flac ...\n",
                        "Converting data/rfcx/train/b9833e460.flac ...\n",
                        "Converting data/rfcx/train/b9876beef.flac ...\n",
                        "Converting data/rfcx/train/b988da7d0.flac ...\n",
                        "Converting data/rfcx/train/b98d2c0f3.flac ...\n",
                        "Converting data/rfcx/train/b9a6e6ce4.flac ...\n",
                        "Converting data/rfcx/train/b9b0e3bd2.flac ...\n",
                        "Converting data/rfcx/train/b9b36a623.flac ...\n",
                        "Converting data/rfcx/train/b9b69df46.flac ...\n",
                        "Converting data/rfcx/train/b9bd1d4a4.flac ...\n",
                        "Converting data/rfcx/train/b9c0662fa.flac ...\n",
                        "Converting data/rfcx/train/b9c521332.flac ...\n",
                        "Converting data/rfcx/train/b9d78a899.flac ...\n",
                        "Converting data/rfcx/train/b9d96de60.flac ...\n",
                        "Converting data/rfcx/train/b9ed36b25.flac ...\n",
                        "Converting data/rfcx/train/b9f3581d5.flac ...\n",
                        "Converting data/rfcx/train/ba0195a17.flac ...\n",
                        "Converting data/rfcx/train/ba0ca29e5.flac ...\n",
                        "Converting data/rfcx/train/ba0e09f89.flac ...\n",
                        "Converting data/rfcx/train/ba0ff1b81.flac ...\n",
                        "Converting data/rfcx/train/ba1555144.flac ...\n",
                        "Converting data/rfcx/train/ba20ecd82.flac ...\n",
                        "Converting data/rfcx/train/ba3f81b56.flac ...\n",
                        "Converting data/rfcx/train/ba41088eb.flac ...\n",
                        "Converting data/rfcx/train/ba5441eef.flac ...\n",
                        "Converting data/rfcx/train/ba787d546.flac ...\n",
                        "Converting data/rfcx/train/ba80eac24.flac ...\n",
                        "Converting data/rfcx/train/bab4a8ff6.flac ...\n",
                        "Converting data/rfcx/train/bac502597.flac ...\n",
                        "Converting data/rfcx/train/bad1e2528.flac ...\n",
                        "Converting data/rfcx/train/bad6fdc31.flac ...\n",
                        "Converting data/rfcx/train/bae00ba98.flac ...\n",
                        "Converting data/rfcx/train/bae729612.flac ...\n",
                        "Converting data/rfcx/train/bae8eb497.flac ...\n",
                        "Converting data/rfcx/train/bb00d418c.flac ...\n",
                        "Converting data/rfcx/train/bb04141d6.flac ...\n",
                        "Converting data/rfcx/train/bb0dad7ad.flac ...\n",
                        "Converting data/rfcx/train/bb257e4af.flac ...\n",
                        "Converting data/rfcx/train/bb3a45210.flac ...\n",
                        "Converting data/rfcx/train/bb4fd3041.flac ...\n",
                        "Converting data/rfcx/train/bb546aa2f.flac ...\n",
                        "Converting data/rfcx/train/bb5c92a56.flac ...\n",
                        "Converting data/rfcx/train/bb71b28e8.flac ...\n",
                        "Converting data/rfcx/train/bb76ca250.flac ...\n",
                        "Converting data/rfcx/train/bb76d35a5.flac ...\n",
                        "Converting data/rfcx/train/bb82a4058.flac ...\n",
                        "Converting data/rfcx/train/bb854bd6e.flac ...\n",
                        "Converting data/rfcx/train/bbcb45cc0.flac ...\n",
                        "Converting data/rfcx/train/bbd6815be.flac ...\n",
                        "Converting data/rfcx/train/bbd784551.flac ...\n",
                        "Converting data/rfcx/train/bbd9ac366.flac ...\n",
                        "Converting data/rfcx/train/bc098988e.flac ...\n",
                        "Converting data/rfcx/train/bc0b86e9a.flac ...\n",
                        "Converting data/rfcx/train/bc12e59b4.flac ...\n",
                        "Converting data/rfcx/train/bc18e6dba.flac ...\n",
                        "Converting data/rfcx/train/bc2794acb.flac ...\n",
                        "Converting data/rfcx/train/bc32d8c84.flac ...\n",
                        "Converting data/rfcx/train/bc3f9bc70.flac ...\n",
                        "Converting data/rfcx/train/bc6136978.flac ...\n",
                        "Converting data/rfcx/train/bc9dd660e.flac ...\n",
                        "Converting data/rfcx/train/bcd686baf.flac ...\n",
                        "Converting data/rfcx/train/bd0373f72.flac ...\n",
                        "Converting data/rfcx/train/bd2ffd93e.flac ...\n",
                        "Converting data/rfcx/train/bd44d380a.flac ...\n",
                        "Converting data/rfcx/train/bd62d4fa2.flac ...\n",
                        "Converting data/rfcx/train/bd97b0335.flac ...\n",
                        "Converting data/rfcx/train/bda5fbf5a.flac ...\n",
                        "Converting data/rfcx/train/bda762977.flac ...\n",
                        "Converting data/rfcx/train/bdacd5cd2.flac ...\n",
                        "Converting data/rfcx/train/bdc8dd456.flac ...\n",
                        "Converting data/rfcx/train/bdd4aa62c.flac ...\n",
                        "Converting data/rfcx/train/bde7dd2a6.flac ...\n",
                        "Converting data/rfcx/train/bdec2b074.flac ...\n",
                        "Converting data/rfcx/train/be0356cf5.flac ...\n",
                        "Converting data/rfcx/train/be2a26a83.flac ...\n",
                        "Converting data/rfcx/train/be3474b24.flac ...\n",
                        "Converting data/rfcx/train/be39a8871.flac ...\n",
                        "Converting data/rfcx/train/be42f69fc.flac ...\n",
                        "Converting data/rfcx/train/be6a8ad0d.flac ...\n",
                        "Converting data/rfcx/train/be8b5dacf.flac ...\n",
                        "Converting data/rfcx/train/be93419c6.flac ...\n",
                        "Converting data/rfcx/train/be96c9133.flac ...\n",
                        "Converting data/rfcx/train/bea3bcffa.flac ...\n",
                        "Converting data/rfcx/train/bec6d5f64.flac ...\n",
                        "Converting data/rfcx/train/becb5a74d.flac ...\n",
                        "Converting data/rfcx/train/becc02ce8.flac ...\n",
                        "Converting data/rfcx/train/becef9f8f.flac ...\n",
                        "Converting data/rfcx/train/bedcc4c9b.flac ...\n",
                        "Converting data/rfcx/train/bef0a8e4c.flac ...\n",
                        "Converting data/rfcx/train/bf0eeacb5.flac ...\n",
                        "Converting data/rfcx/train/bf26252f1.flac ...\n",
                        "Converting data/rfcx/train/bf2c17c1e.flac ...\n",
                        "Converting data/rfcx/train/bf58cd236.flac ...\n",
                        "Converting data/rfcx/train/bf5d80f0e.flac ...\n",
                        "Converting data/rfcx/train/bf68ca2b0.flac ...\n",
                        "Converting data/rfcx/train/bf6aa9579.flac ...\n",
                        "Converting data/rfcx/train/bf6dcd37f.flac ...\n",
                        "Converting data/rfcx/train/bf964d1fa.flac ...\n",
                        "Converting data/rfcx/train/bf9f90405.flac ...\n",
                        "Converting data/rfcx/train/bfacbc575.flac ...\n",
                        "Converting data/rfcx/train/bfb5fd706.flac ...\n",
                        "Converting data/rfcx/train/bfc900065.flac ...\n",
                        "Converting data/rfcx/train/bfd6218e4.flac ...\n",
                        "Converting data/rfcx/train/bfe3e761b.flac ...\n",
                        "Converting data/rfcx/train/bfeb3a01a.flac ...\n",
                        "Converting data/rfcx/train/bffdcd085.flac ...\n",
                        "Converting data/rfcx/train/c02d5c50b.flac ...\n",
                        "Converting data/rfcx/train/c0357acab.flac ...\n",
                        "Converting data/rfcx/train/c044ced19.flac ...\n",
                        "Converting data/rfcx/train/c049031da.flac ...\n",
                        "Converting data/rfcx/train/c04d17337.flac ...\n",
                        "Converting data/rfcx/train/c06108d8a.flac ...\n",
                        "Converting data/rfcx/train/c069e6b7e.flac ...\n",
                        "Converting data/rfcx/train/c06ad68f4.flac ...\n",
                        "Converting data/rfcx/train/c06d6231c.flac ...\n",
                        "Converting data/rfcx/train/c0722e5fd.flac ...\n",
                        "Converting data/rfcx/train/c0786babe.flac ...\n",
                        "Converting data/rfcx/train/c07e51d93.flac ...\n",
                        "Converting data/rfcx/train/c0813a868.flac ...\n",
                        "Converting data/rfcx/train/c086c6f96.flac ...\n",
                        "Converting data/rfcx/train/c0a0e43f1.flac ...\n",
                        "Converting data/rfcx/train/c0abfe433.flac ...\n",
                        "Converting data/rfcx/train/c0b458565.flac ...\n",
                        "Converting data/rfcx/train/c10546a22.flac ...\n",
                        "Converting data/rfcx/train/c12ca0c0f.flac ...\n",
                        "Converting data/rfcx/train/c12e0a62b.flac ...\n",
                        "Converting data/rfcx/train/c131e9b07.flac ...\n",
                        "Converting data/rfcx/train/c138beefa.flac ...\n",
                        "Converting data/rfcx/train/c13f3ab95.flac ...\n",
                        "Converting data/rfcx/train/c146d2422.flac ...\n",
                        "Converting data/rfcx/train/c15840ebf.flac ...\n",
                        "Converting data/rfcx/train/c16a6dc02.flac ...\n",
                        "Converting data/rfcx/train/c16b7270b.flac ...\n",
                        "Converting data/rfcx/train/c182aef8c.flac ...\n",
                        "Converting data/rfcx/train/c1938757f.flac ...\n",
                        "Converting data/rfcx/train/c19392c1f.flac ...\n",
                        "Converting data/rfcx/train/c1a5ee1dd.flac ...\n",
                        "Converting data/rfcx/train/c1c4d9ac3.flac ...\n",
                        "Converting data/rfcx/train/c1c641c2c.flac ...\n",
                        "Converting data/rfcx/train/c1c7e3370.flac ...\n",
                        "Converting data/rfcx/train/c1e3072db.flac ...\n",
                        "Converting data/rfcx/train/c1f430fc6.flac ...\n",
                        "Converting data/rfcx/train/c20f6fab9.flac ...\n",
                        "Converting data/rfcx/train/c2143392b.flac ...\n",
                        "Converting data/rfcx/train/c21b3e6c8.flac ...\n",
                        "Converting data/rfcx/train/c21cff9ba.flac ...\n",
                        "Converting data/rfcx/train/c220f5fec.flac ...\n",
                        "Converting data/rfcx/train/c2321efa4.flac ...\n",
                        "Converting data/rfcx/train/c238df4c4.flac ...\n",
                        "Converting data/rfcx/train/c245b2295.flac ...\n",
                        "Converting data/rfcx/train/c26209c71.flac ...\n",
                        "Converting data/rfcx/train/c271bc1ea.flac ...\n",
                        "Converting data/rfcx/train/c2845802a.flac ...\n",
                        "Converting data/rfcx/train/c28ca28d5.flac ...\n",
                        "Converting data/rfcx/train/c2d7be130.flac ...\n",
                        "Converting data/rfcx/train/c2e665ce6.flac ...\n",
                        "Converting data/rfcx/train/c31381bae.flac ...\n",
                        "Converting data/rfcx/train/c31ddfdc5.flac ...\n",
                        "Converting data/rfcx/train/c33205e1a.flac ...\n",
                        "Converting data/rfcx/train/c333d480b.flac ...\n",
                        "Converting data/rfcx/train/c350857cd.flac ...\n",
                        "Converting data/rfcx/train/c350c0f9f.flac ...\n",
                        "Converting data/rfcx/train/c3662d871.flac ...\n",
                        "Converting data/rfcx/train/c36ea621f.flac ...\n",
                        "Converting data/rfcx/train/c37acb1eb.flac ...\n",
                        "Converting data/rfcx/train/c3843eb33.flac ...\n",
                        "Converting data/rfcx/train/c38932af9.flac ...\n",
                        "Converting data/rfcx/train/c389e319e.flac ...\n",
                        "Converting data/rfcx/train/c3998738f.flac ...\n",
                        "Converting data/rfcx/train/c39b2fcd3.flac ...\n",
                        "Converting data/rfcx/train/c39f46378.flac ...\n",
                        "Converting data/rfcx/train/c3a176af3.flac ...\n",
                        "Converting data/rfcx/train/c3c740138.flac ...\n",
                        "Converting data/rfcx/train/c3d852725.flac ...\n",
                        "Converting data/rfcx/train/c3d9bd168.flac ...\n",
                        "Converting data/rfcx/train/c3e07584d.flac ...\n",
                        "Converting data/rfcx/train/c3ec73867.flac ...\n",
                        "Converting data/rfcx/train/c3ed6269b.flac ...\n",
                        "Converting data/rfcx/train/c3f4242db.flac ...\n",
                        "Converting data/rfcx/train/c3fa045fa.flac ...\n",
                        "Converting data/rfcx/train/c3fb678a6.flac ...\n",
                        "Converting data/rfcx/train/c3ff0bb6e.flac ...\n",
                        "Converting data/rfcx/train/c42b0da33.flac ...\n",
                        "Converting data/rfcx/train/c42c6d95c.flac ...\n",
                        "Converting data/rfcx/train/c45f3d6e9.flac ...\n",
                        "Converting data/rfcx/train/c4670ef64.flac ...\n",
                        "Converting data/rfcx/train/c472052e6.flac ...\n",
                        "Converting data/rfcx/train/c47a78cc1.flac ...\n",
                        "Converting data/rfcx/train/c47ee8e2f.flac ...\n",
                        "Converting data/rfcx/train/c498afd5a.flac ...\n",
                        "Converting data/rfcx/train/c49c0621f.flac ...\n",
                        "Converting data/rfcx/train/c4a74dcf1.flac ...\n",
                        "Converting data/rfcx/train/c4b778e64.flac ...\n",
                        "Converting data/rfcx/train/c4ba0c054.flac ...\n",
                        "Converting data/rfcx/train/c4ec1e7de.flac ...\n",
                        "Converting data/rfcx/train/c4f5b99f1.flac ...\n",
                        "Converting data/rfcx/train/c5146ad42.flac ...\n",
                        "Converting data/rfcx/train/c52231d78.flac ...\n",
                        "Converting data/rfcx/train/c5290bfd1.flac ...\n",
                        "Converting data/rfcx/train/c53130947.flac ...\n",
                        "Converting data/rfcx/train/c5503ce7b.flac ...\n",
                        "Converting data/rfcx/train/c5536d457.flac ...\n",
                        "Converting data/rfcx/train/c55670da0.flac ...\n",
                        "Converting data/rfcx/train/c569b8181.flac ...\n",
                        "Converting data/rfcx/train/c56dc7731.flac ...\n",
                        "Converting data/rfcx/train/c57363daf.flac ...\n",
                        "Converting data/rfcx/train/c57452089.flac ...\n",
                        "Converting data/rfcx/train/c5758ce2f.flac ...\n",
                        "Converting data/rfcx/train/c5784f70a.flac ...\n",
                        "Converting data/rfcx/train/c584081e4.flac ...\n",
                        "Converting data/rfcx/train/c5a33d600.flac ...\n",
                        "Converting data/rfcx/train/c5ad0cea3.flac ...\n",
                        "Converting data/rfcx/train/c5b6c5b49.flac ...\n",
                        "Converting data/rfcx/train/c5b77ac32.flac ...\n",
                        "Converting data/rfcx/train/c5bb0d27f.flac ...\n",
                        "Converting data/rfcx/train/c5cfc1beb.flac ...\n",
                        "Converting data/rfcx/train/c5d282e1e.flac ...\n",
                        "Converting data/rfcx/train/c5d61be80.flac ...\n",
                        "Converting data/rfcx/train/c5d639116.flac ...\n",
                        "Converting data/rfcx/train/c5de5386a.flac ...\n",
                        "Converting data/rfcx/train/c5e170468.flac ...\n",
                        "Converting data/rfcx/train/c5e7a1e28.flac ...\n",
                        "Converting data/rfcx/train/c5e950bec.flac ...\n",
                        "Converting data/rfcx/train/c5fc1498e.flac ...\n",
                        "Converting data/rfcx/train/c6072a608.flac ...\n",
                        "Converting data/rfcx/train/c60b01048.flac ...\n",
                        "Converting data/rfcx/train/c614909e8.flac ...\n",
                        "Converting data/rfcx/train/c615ae1f0.flac ...\n",
                        "Converting data/rfcx/train/c634dd8de.flac ...\n",
                        "Converting data/rfcx/train/c6364025b.flac ...\n",
                        "Converting data/rfcx/train/c65147f81.flac ...\n",
                        "Converting data/rfcx/train/c66971053.flac ...\n",
                        "Converting data/rfcx/train/c6713b132.flac ...\n",
                        "Converting data/rfcx/train/c68fb36e7.flac ...\n",
                        "Converting data/rfcx/train/c69f0d176.flac ...\n",
                        "Converting data/rfcx/train/c6a2c0e7c.flac ...\n",
                        "Converting data/rfcx/train/c6c41bebb.flac ...\n",
                        "Converting data/rfcx/train/c6c9303f7.flac ...\n",
                        "Converting data/rfcx/train/c6e411c90.flac ...\n",
                        "Converting data/rfcx/train/c6e528151.flac ...\n",
                        "Converting data/rfcx/train/c6e75b535.flac ...\n",
                        "Converting data/rfcx/train/c6e9db009.flac ...\n",
                        "Converting data/rfcx/train/c71f2b7c0.flac ...\n",
                        "Converting data/rfcx/train/c72082616.flac ...\n",
                        "Converting data/rfcx/train/c72150f3c.flac ...\n",
                        "Converting data/rfcx/train/c721d69de.flac ...\n",
                        "Converting data/rfcx/train/c727fdb29.flac ...\n",
                        "Converting data/rfcx/train/c72cc7b33.flac ...\n",
                        "Converting data/rfcx/train/c732486df.flac ...\n",
                        "Converting data/rfcx/train/c74879cc9.flac ...\n",
                        "Converting data/rfcx/train/c750dbbd4.flac ...\n",
                        "Converting data/rfcx/train/c7560af24.flac ...\n",
                        "Converting data/rfcx/train/c75f2655f.flac ...\n",
                        "Converting data/rfcx/train/c7677947e.flac ...\n",
                        "Converting data/rfcx/train/c76953dd8.flac ...\n",
                        "Converting data/rfcx/train/c7918c0f8.flac ...\n",
                        "Converting data/rfcx/train/c79d32fd8.flac ...\n",
                        "Converting data/rfcx/train/c7a441061.flac ...\n",
                        "Converting data/rfcx/train/c7c41bf35.flac ...\n",
                        "Converting data/rfcx/train/c7cd7d075.flac ...\n",
                        "Converting data/rfcx/train/c7d2bef51.flac ...\n",
                        "Converting data/rfcx/train/c7d9e00be.flac ...\n",
                        "Converting data/rfcx/train/c7dc9f7f4.flac ...\n",
                        "Converting data/rfcx/train/c7eba6954.flac ...\n",
                        "Converting data/rfcx/train/c802acaf5.flac ...\n",
                        "Converting data/rfcx/train/c80ecb44a.flac ...\n",
                        "Converting data/rfcx/train/c81ca80f1.flac ...\n",
                        "Converting data/rfcx/train/c832dbf79.flac ...\n",
                        "Converting data/rfcx/train/c8365cd02.flac ...\n",
                        "Converting data/rfcx/train/c848a67ab.flac ...\n",
                        "Converting data/rfcx/train/c84943395.flac ...\n",
                        "Converting data/rfcx/train/c84df9ac5.flac ...\n",
                        "Converting data/rfcx/train/c856e9ac6.flac ...\n",
                        "Converting data/rfcx/train/c867bdc27.flac ...\n",
                        "Converting data/rfcx/train/c867ca400.flac ...\n",
                        "Converting data/rfcx/train/c874f072d.flac ...\n",
                        "Converting data/rfcx/train/c8863180d.flac ...\n",
                        "Converting data/rfcx/train/c892aa78d.flac ...\n",
                        "Converting data/rfcx/train/c8a178afd.flac ...\n",
                        "Converting data/rfcx/train/c8a9319a2.flac ...\n",
                        "Converting data/rfcx/train/c8ad2c2b7.flac ...\n",
                        "Converting data/rfcx/train/c8aec31ab.flac ...\n",
                        "Converting data/rfcx/train/c8ba71e1f.flac ...\n",
                        "Converting data/rfcx/train/c8be4e94d.flac ...\n",
                        "Converting data/rfcx/train/c8bed66bb.flac ...\n",
                        "Converting data/rfcx/train/c8c39d92c.flac ...\n",
                        "Converting data/rfcx/train/c8d7b60a3.flac ...\n",
                        "Converting data/rfcx/train/c8e0b8353.flac ...\n",
                        "Converting data/rfcx/train/c8e6297b6.flac ...\n",
                        "Converting data/rfcx/train/c8efa737d.flac ...\n",
                        "Converting data/rfcx/train/c91cae4aa.flac ...\n",
                        "Converting data/rfcx/train/c929e0def.flac ...\n",
                        "Converting data/rfcx/train/c937f3e97.flac ...\n",
                        "Converting data/rfcx/train/c96b0c428.flac ...\n",
                        "Converting data/rfcx/train/c97206938.flac ...\n",
                        "Converting data/rfcx/train/c9759e60a.flac ...\n",
                        "Converting data/rfcx/train/c978604cc.flac ...\n",
                        "Converting data/rfcx/train/c97c52236.flac ...\n",
                        "Converting data/rfcx/train/c9899ee73.flac ...\n",
                        "Converting data/rfcx/train/c99a2fe6e.flac ...\n",
                        "Converting data/rfcx/train/c9aaf0de3.flac ...\n",
                        "Converting data/rfcx/train/c9ad7c04f.flac ...\n",
                        "Converting data/rfcx/train/c9b20a779.flac ...\n",
                        "Converting data/rfcx/train/c9bd1f599.flac ...\n",
                        "Converting data/rfcx/train/c9c4994a0.flac ...\n",
                        "Converting data/rfcx/train/c9d617218.flac ...\n",
                        "Converting data/rfcx/train/c9dd4934b.flac ...\n",
                        "Converting data/rfcx/train/c9dd6c53b.flac ...\n",
                        "Converting data/rfcx/train/c9df2fecf.flac ...\n",
                        "Converting data/rfcx/train/c9fc89429.flac ...\n",
                        "Converting data/rfcx/train/ca06bba74.flac ...\n",
                        "Converting data/rfcx/train/ca0bf5f45.flac ...\n",
                        "Converting data/rfcx/train/ca27aadbb.flac ...\n",
                        "Converting data/rfcx/train/ca3ef87e7.flac ...\n",
                        "Converting data/rfcx/train/ca3f20e1d.flac ...\n",
                        "Converting data/rfcx/train/ca4a30955.flac ...\n",
                        "Converting data/rfcx/train/ca5018f35.flac ...\n",
                        "Converting data/rfcx/train/ca8192152.flac ...\n",
                        "Converting data/rfcx/train/ca8256b82.flac ...\n",
                        "Converting data/rfcx/train/ca99623ca.flac ...\n",
                        "Converting data/rfcx/train/cae7b4e19.flac ...\n",
                        "Converting data/rfcx/train/caf22c8de.flac ...\n",
                        "Converting data/rfcx/train/caf300f6f.flac ...\n",
                        "Converting data/rfcx/train/caf8b47ae.flac ...\n",
                        "Converting data/rfcx/train/cb10cd9d9.flac ...\n",
                        "Converting data/rfcx/train/cb1e88b0e.flac ...\n",
                        "Converting data/rfcx/train/cb3285a5b.flac ...\n",
                        "Converting data/rfcx/train/cb3e3b083.flac ...\n",
                        "Converting data/rfcx/train/cb44804ac.flac ...\n",
                        "Converting data/rfcx/train/cb4794238.flac ...\n",
                        "Converting data/rfcx/train/cb5ddad47.flac ...\n",
                        "Converting data/rfcx/train/cb61399d9.flac ...\n",
                        "Converting data/rfcx/train/cb6361d10.flac ...\n",
                        "Converting data/rfcx/train/cb7616597.flac ...\n",
                        "Converting data/rfcx/train/cb77e2e29.flac ...\n",
                        "Converting data/rfcx/train/cb9d233f8.flac ...\n",
                        "Converting data/rfcx/train/cbc07e2ec.flac ...\n",
                        "Converting data/rfcx/train/cbc0ccff3.flac ...\n",
                        "Converting data/rfcx/train/cbe74609a.flac ...\n",
                        "Converting data/rfcx/train/cc037b876.flac ...\n",
                        "Converting data/rfcx/train/cc05ecd08.flac ...\n",
                        "Converting data/rfcx/train/cc1ed49c0.flac ...\n",
                        "Converting data/rfcx/train/cc2c48fd7.flac ...\n",
                        "Converting data/rfcx/train/cc4f5d732.flac ...\n",
                        "Converting data/rfcx/train/cc5b94b6b.flac ...\n",
                        "Converting data/rfcx/train/cc7c17269.flac ...\n",
                        "Converting data/rfcx/train/cc8651463.flac ...\n",
                        "Converting data/rfcx/train/cc8d81b6a.flac ...\n",
                        "Converting data/rfcx/train/ccd017bff.flac ...\n",
                        "Converting data/rfcx/train/ccd0a0bff.flac ...\n",
                        "Converting data/rfcx/train/ccd3bc465.flac ...\n",
                        "Converting data/rfcx/train/ccda58237.flac ...\n",
                        "Converting data/rfcx/train/ccea5c978.flac ...\n",
                        "Converting data/rfcx/train/ccee900dd.flac ...\n",
                        "Converting data/rfcx/train/cd1d48eec.flac ...\n",
                        "Converting data/rfcx/train/cd30a70bc.flac ...\n",
                        "Converting data/rfcx/train/cd746c71e.flac ...\n",
                        "Converting data/rfcx/train/cd78d6c5d.flac ...\n",
                        "Converting data/rfcx/train/cd7d8a578.flac ...\n",
                        "Converting data/rfcx/train/cd96b0637.flac ...\n",
                        "Converting data/rfcx/train/cdb4a1e29.flac ...\n",
                        "Converting data/rfcx/train/cdbca5fb8.flac ...\n",
                        "Converting data/rfcx/train/cdc550207.flac ...\n",
                        "Converting data/rfcx/train/cddceb09a.flac ...\n",
                        "Converting data/rfcx/train/cde5fd6be.flac ...\n",
                        "Converting data/rfcx/train/cded42600.flac ...\n",
                        "Converting data/rfcx/train/ce04fc731.flac ...\n",
                        "Converting data/rfcx/train/ce05b264d.flac ...\n",
                        "Converting data/rfcx/train/ce0c22f8a.flac ...\n",
                        "Converting data/rfcx/train/ce1787eaa.flac ...\n",
                        "Converting data/rfcx/train/ce332f2fa.flac ...\n",
                        "Converting data/rfcx/train/ce4002d4e.flac ...\n",
                        "Converting data/rfcx/train/ce46ce19d.flac ...\n",
                        "Converting data/rfcx/train/ce4a422fa.flac ...\n",
                        "Converting data/rfcx/train/ce5b205f3.flac ...\n",
                        "Converting data/rfcx/train/ce66ba21f.flac ...\n",
                        "Converting data/rfcx/train/ce7273ce3.flac ...\n",
                        "Converting data/rfcx/train/ce7f36db6.flac ...\n",
                        "Converting data/rfcx/train/ce82507b3.flac ...\n",
                        "Converting data/rfcx/train/ce8270c7b.flac ...\n",
                        "Converting data/rfcx/train/ce8b469c4.flac ...\n",
                        "Converting data/rfcx/train/ce93e25b0.flac ...\n",
                        "Converting data/rfcx/train/ce9a9e410.flac ...\n",
                        "Converting data/rfcx/train/cea56c949.flac ...\n",
                        "Converting data/rfcx/train/cea5f9671.flac ...\n",
                        "Converting data/rfcx/train/cea8c1445.flac ...\n",
                        "Converting data/rfcx/train/ceaca16f9.flac ...\n",
                        "Converting data/rfcx/train/cecaa4b3d.flac ...\n",
                        "Converting data/rfcx/train/cee1c4a44.flac ...\n",
                        "Converting data/rfcx/train/cee9c110c.flac ...\n",
                        "Converting data/rfcx/train/cf1d720cb.flac ...\n",
                        "Converting data/rfcx/train/cf1eff29a.flac ...\n",
                        "Converting data/rfcx/train/cf245e6ef.flac ...\n",
                        "Converting data/rfcx/train/cf3aa9251.flac ...\n",
                        "Converting data/rfcx/train/cf3ec9168.flac ...\n",
                        "Converting data/rfcx/train/cf3f3b9be.flac ...\n",
                        "Converting data/rfcx/train/cf44264e5.flac ...\n",
                        "Converting data/rfcx/train/cf4dee5dc.flac ...\n",
                        "Converting data/rfcx/train/cf568dfc0.flac ...\n",
                        "Converting data/rfcx/train/cf5ba5b01.flac ...\n",
                        "Converting data/rfcx/train/cf61583da.flac ...\n",
                        "Converting data/rfcx/train/cf6bd44d9.flac ...\n",
                        "Converting data/rfcx/train/cf739c61d.flac ...\n",
                        "Converting data/rfcx/train/cf7af9895.flac ...\n",
                        "Converting data/rfcx/train/cf867adcc.flac ...\n",
                        "Converting data/rfcx/train/cf8fbc4f1.flac ...\n",
                        "Converting data/rfcx/train/cf9f7c5b6.flac ...\n",
                        "Converting data/rfcx/train/cfa0614e0.flac ...\n",
                        "Converting data/rfcx/train/cfa8d7813.flac ...\n",
                        "Converting data/rfcx/train/cfb259a92.flac ...\n",
                        "Converting data/rfcx/train/cfb8c78bd.flac ...\n",
                        "Converting data/rfcx/train/cfca0f35c.flac ...\n",
                        "Converting data/rfcx/train/cfdd68da2.flac ...\n",
                        "Converting data/rfcx/train/cffa8ebda.flac ...\n",
                        "Converting data/rfcx/train/d010a0b49.flac ...\n",
                        "Converting data/rfcx/train/d015ef3b5.flac ...\n",
                        "Converting data/rfcx/train/d02aa0448.flac ...\n",
                        "Converting data/rfcx/train/d03a7b4f8.flac ...\n",
                        "Converting data/rfcx/train/d08c769c1.flac ...\n",
                        "Converting data/rfcx/train/d09dc9dd5.flac ...\n",
                        "Converting data/rfcx/train/d0b136e7b.flac ...\n",
                        "Converting data/rfcx/train/d0c83b812.flac ...\n",
                        "Converting data/rfcx/train/d0d2d1026.flac ...\n",
                        "Converting data/rfcx/train/d0d340a8d.flac ...\n",
                        "Converting data/rfcx/train/d0ea4e8aa.flac ...\n",
                        "Converting data/rfcx/train/d1117128c.flac ...\n",
                        "Converting data/rfcx/train/d1132ffb5.flac ...\n",
                        "Converting data/rfcx/train/d1157a62e.flac ...\n",
                        "Converting data/rfcx/train/d12118a74.flac ...\n",
                        "Converting data/rfcx/train/d1229a222.flac ...\n",
                        "Converting data/rfcx/train/d12f96119.flac ...\n",
                        "Converting data/rfcx/train/d1328efcb.flac ...\n",
                        "Converting data/rfcx/train/d1477bf79.flac ...\n",
                        "Converting data/rfcx/train/d14c92027.flac ...\n",
                        "Converting data/rfcx/train/d15af7840.flac ...\n",
                        "Converting data/rfcx/train/d1607e9b2.flac ...\n",
                        "Converting data/rfcx/train/d169ed0b5.flac ...\n",
                        "Converting data/rfcx/train/d17bcb8cd.flac ...\n",
                        "Converting data/rfcx/train/d17c90054.flac ...\n",
                        "Converting data/rfcx/train/d17f67e21.flac ...\n",
                        "Converting data/rfcx/train/d18ff4890.flac ...\n",
                        "Converting data/rfcx/train/d1964276d.flac ...\n",
                        "Converting data/rfcx/train/d1d23c26d.flac ...\n",
                        "Converting data/rfcx/train/d1debe396.flac ...\n",
                        "Converting data/rfcx/train/d1e8e5094.flac ...\n",
                        "Converting data/rfcx/train/d1ee105cc.flac ...\n",
                        "Converting data/rfcx/train/d1ffec807.flac ...\n",
                        "Converting data/rfcx/train/d21aa62a1.flac ...\n",
                        "Converting data/rfcx/train/d22169f4e.flac ...\n",
                        "Converting data/rfcx/train/d226e1bc8.flac ...\n",
                        "Converting data/rfcx/train/d23b28cb3.flac ...\n",
                        "Converting data/rfcx/train/d24f6dbff.flac ...\n",
                        "Converting data/rfcx/train/d2521e761.flac ...\n",
                        "Converting data/rfcx/train/d284a6ee2.flac ...\n",
                        "Converting data/rfcx/train/d291fab38.flac ...\n",
                        "Converting data/rfcx/train/d29f0ca6d.flac ...\n",
                        "Converting data/rfcx/train/d2b1000c1.flac ...\n",
                        "Converting data/rfcx/train/d2b38e3a6.flac ...\n",
                        "Converting data/rfcx/train/d2bd64c72.flac ...\n",
                        "Converting data/rfcx/train/d2cb96229.flac ...\n",
                        "Converting data/rfcx/train/d2d60fc2a.flac ...\n",
                        "Converting data/rfcx/train/d3020850e.flac ...\n",
                        "Converting data/rfcx/train/d3162ae0c.flac ...\n",
                        "Converting data/rfcx/train/d3195bece.flac ...\n",
                        "Converting data/rfcx/train/d31fbc16a.flac ...\n",
                        "Converting data/rfcx/train/d32242280.flac ...\n",
                        "Converting data/rfcx/train/d3324f1c0.flac ...\n",
                        "Converting data/rfcx/train/d35473d24.flac ...\n",
                        "Converting data/rfcx/train/d354dce4b.flac ...\n",
                        "Converting data/rfcx/train/d35f99969.flac ...\n",
                        "Converting data/rfcx/train/d369de3f0.flac ...\n",
                        "Converting data/rfcx/train/d3713ed31.flac ...\n",
                        "Converting data/rfcx/train/d37d68bdb.flac ...\n",
                        "Converting data/rfcx/train/d396e24de.flac ...\n",
                        "Converting data/rfcx/train/d3a31bc8c.flac ...\n",
                        "Converting data/rfcx/train/d3abb14b7.flac ...\n",
                        "Converting data/rfcx/train/d3c576cb8.flac ...\n",
                        "Converting data/rfcx/train/d3ca12fcc.flac ...\n",
                        "Converting data/rfcx/train/d3d7ee7a9.flac ...\n",
                        "Converting data/rfcx/train/d403225be.flac ...\n",
                        "Converting data/rfcx/train/d40cb88ba.flac ...\n",
                        "Converting data/rfcx/train/d40e56a2b.flac ...\n",
                        "Converting data/rfcx/train/d41801626.flac ...\n",
                        "Converting data/rfcx/train/d4188befa.flac ...\n",
                        "Converting data/rfcx/train/d4553bd58.flac ...\n",
                        "Converting data/rfcx/train/d45ae0dc3.flac ...\n",
                        "Converting data/rfcx/train/d45def2ca.flac ...\n",
                        "Converting data/rfcx/train/d46b78bfb.flac ...\n",
                        "Converting data/rfcx/train/d49a29274.flac ...\n",
                        "Converting data/rfcx/train/d49a94504.flac ...\n",
                        "Converting data/rfcx/train/d49f05b8b.flac ...\n",
                        "Converting data/rfcx/train/d4a03bf19.flac ...\n",
                        "Converting data/rfcx/train/d4b2c6c14.flac ...\n",
                        "Converting data/rfcx/train/d4b76df0b.flac ...\n",
                        "Converting data/rfcx/train/d4bb34753.flac ...\n",
                        "Converting data/rfcx/train/d4d9f0f9b.flac ...\n",
                        "Converting data/rfcx/train/d4e5616b6.flac ...\n",
                        "Converting data/rfcx/train/d5163b4ef.flac ...\n",
                        "Converting data/rfcx/train/d52d1a44a.flac ...\n",
                        "Converting data/rfcx/train/d53f58786.flac ...\n",
                        "Converting data/rfcx/train/d54f04596.flac ...\n",
                        "Converting data/rfcx/train/d553ca9b2.flac ...\n",
                        "Converting data/rfcx/train/d55571ec0.flac ...\n",
                        "Converting data/rfcx/train/d564cf618.flac ...\n",
                        "Converting data/rfcx/train/d583a3fd4.flac ...\n",
                        "Converting data/rfcx/train/d58429096.flac ...\n",
                        "Converting data/rfcx/train/d58b25d04.flac ...\n",
                        "Converting data/rfcx/train/d591d60d4.flac ...\n",
                        "Converting data/rfcx/train/d5992de83.flac ...\n",
                        "Converting data/rfcx/train/d5997789c.flac ...\n",
                        "Converting data/rfcx/train/d59d099b3.flac ...\n",
                        "Converting data/rfcx/train/d5c4f55f4.flac ...\n",
                        "Converting data/rfcx/train/d5cd58b16.flac ...\n",
                        "Converting data/rfcx/train/d5e69cb54.flac ...\n",
                        "Converting data/rfcx/train/d5fa60cbb.flac ...\n",
                        "Converting data/rfcx/train/d60157507.flac ...\n",
                        "Converting data/rfcx/train/d61b95950.flac ...\n",
                        "Converting data/rfcx/train/d635637b7.flac ...\n",
                        "Converting data/rfcx/train/d63830a27.flac ...\n",
                        "Converting data/rfcx/train/d63d04076.flac ...\n",
                        "Converting data/rfcx/train/d63dc82ba.flac ...\n",
                        "Converting data/rfcx/train/d63f467b6.flac ...\n",
                        "Converting data/rfcx/train/d6401b56b.flac ...\n",
                        "Converting data/rfcx/train/d645e45a0.flac ...\n",
                        "Converting data/rfcx/train/d646691eb.flac ...\n",
                        "Converting data/rfcx/train/d6490e287.flac ...\n",
                        "Converting data/rfcx/train/d66a5f57b.flac ...\n",
                        "Converting data/rfcx/train/d6713bfd9.flac ...\n",
                        "Converting data/rfcx/train/d689cee57.flac ...\n",
                        "Converting data/rfcx/train/d69958c40.flac ...\n",
                        "Converting data/rfcx/train/d69d972b4.flac ...\n",
                        "Converting data/rfcx/train/d69e7fd29.flac ...\n",
                        "Converting data/rfcx/train/d69ff664e.flac ...\n",
                        "Converting data/rfcx/train/d6bf63337.flac ...\n",
                        "Converting data/rfcx/train/d6c136fc8.flac ...\n",
                        "Converting data/rfcx/train/d6c75de73.flac ...\n",
                        "Converting data/rfcx/train/d6ee30ad7.flac ...\n",
                        "Converting data/rfcx/train/d6f35422a.flac ...\n",
                        "Converting data/rfcx/train/d7068ae10.flac ...\n",
                        "Converting data/rfcx/train/d7124eeac.flac ...\n",
                        "Converting data/rfcx/train/d73ffbc1e.flac ...\n",
                        "Converting data/rfcx/train/d7608d53a.flac ...\n",
                        "Converting data/rfcx/train/d769a5521.flac ...\n",
                        "Converting data/rfcx/train/d76b50b20.flac ...\n",
                        "Converting data/rfcx/train/d76ce58fd.flac ...\n",
                        "Converting data/rfcx/train/d7730ecbc.flac ...\n",
                        "Converting data/rfcx/train/d79b3281e.flac ...\n",
                        "Converting data/rfcx/train/d7a5ebda4.flac ...\n",
                        "Converting data/rfcx/train/d7a655c45.flac ...\n",
                        "Converting data/rfcx/train/d7b2622e9.flac ...\n",
                        "Converting data/rfcx/train/d7b2dd9d5.flac ...\n",
                        "Converting data/rfcx/train/d7cb8e99f.flac ...\n",
                        "Converting data/rfcx/train/d7cf29809.flac ...\n",
                        "Converting data/rfcx/train/d7d49c913.flac ...\n",
                        "Converting data/rfcx/train/d7ea0d0da.flac ...\n",
                        "Converting data/rfcx/train/d7f328c2b.flac ...\n",
                        "Converting data/rfcx/train/d7f81427b.flac ...\n",
                        "Converting data/rfcx/train/d80fab44f.flac ...\n",
                        "Converting data/rfcx/train/d810b6166.flac ...\n",
                        "Converting data/rfcx/train/d817ed6ad.flac ...\n",
                        "Converting data/rfcx/train/d82a81c98.flac ...\n",
                        "Converting data/rfcx/train/d82d5792e.flac ...\n",
                        "Converting data/rfcx/train/d831158d1.flac ...\n",
                        "Converting data/rfcx/train/d86155abb.flac ...\n",
                        "Converting data/rfcx/train/d865efc41.flac ...\n",
                        "Converting data/rfcx/train/d8682919a.flac ...\n",
                        "Converting data/rfcx/train/d884cab24.flac ...\n",
                        "Converting data/rfcx/train/d8873c160.flac ...\n",
                        "Converting data/rfcx/train/d893bddaa.flac ...\n",
                        "Converting data/rfcx/train/d89c2cc01.flac ...\n",
                        "Converting data/rfcx/train/d8b362a0a.flac ...\n",
                        "Converting data/rfcx/train/d8b7f9ed6.flac ...\n",
                        "Converting data/rfcx/train/d8bdbb450.flac ...\n",
                        "Converting data/rfcx/train/d901bd050.flac ...\n",
                        "Converting data/rfcx/train/d90c063c5.flac ...\n",
                        "Converting data/rfcx/train/d91f25ca7.flac ...\n",
                        "Converting data/rfcx/train/d91f26b37.flac ...\n",
                        "Converting data/rfcx/train/d922d82e9.flac ...\n",
                        "Converting data/rfcx/train/d92f32f51.flac ...\n",
                        "Converting data/rfcx/train/d93110eac.flac ...\n",
                        "Converting data/rfcx/train/d93aaa1bc.flac ...\n",
                        "Converting data/rfcx/train/d93f9c999.flac ...\n",
                        "Converting data/rfcx/train/d94762e23.flac ...\n",
                        "Converting data/rfcx/train/d94f28013.flac ...\n",
                        "Converting data/rfcx/train/d9544d359.flac ...\n",
                        "Converting data/rfcx/train/d958ad60b.flac ...\n",
                        "Converting data/rfcx/train/d96068608.flac ...\n",
                        "Converting data/rfcx/train/d96242159.flac ...\n",
                        "Converting data/rfcx/train/d96921dca.flac ...\n",
                        "Converting data/rfcx/train/d96995001.flac ...\n",
                        "Converting data/rfcx/train/d99c7c5aa.flac ...\n",
                        "Converting data/rfcx/train/d9a1809c1.flac ...\n",
                        "Converting data/rfcx/train/d9a1b1ea9.flac ...\n",
                        "Converting data/rfcx/train/d9a2daabd.flac ...\n",
                        "Converting data/rfcx/train/d9bd6a0c5.flac ...\n",
                        "Converting data/rfcx/train/d9bfc9e6b.flac ...\n",
                        "Converting data/rfcx/train/d9e5eb948.flac ...\n",
                        "Converting data/rfcx/train/d9f9d51f6.flac ...\n",
                        "Converting data/rfcx/train/da0d07110.flac ...\n",
                        "Converting data/rfcx/train/da0e9125f.flac ...\n",
                        "Converting data/rfcx/train/da3066ce7.flac ...\n",
                        "Converting data/rfcx/train/da329b0a5.flac ...\n",
                        "Converting data/rfcx/train/da708c386.flac ...\n",
                        "Converting data/rfcx/train/da7157f68.flac ...\n",
                        "Converting data/rfcx/train/da81a07dd.flac ...\n",
                        "Converting data/rfcx/train/da956248e.flac ...\n",
                        "Converting data/rfcx/train/daa57db65.flac ...\n",
                        "Converting data/rfcx/train/dabd22b08.flac ...\n",
                        "Converting data/rfcx/train/dabddc8ab.flac ...\n",
                        "Converting data/rfcx/train/dac0c6cb8.flac ...\n",
                        "Converting data/rfcx/train/dac7a83a3.flac ...\n",
                        "Converting data/rfcx/train/daca67167.flac ...\n",
                        "Converting data/rfcx/train/dacda707f.flac ...\n",
                        "Converting data/rfcx/train/dad773a0d.flac ...\n",
                        "Converting data/rfcx/train/dae83b1ae.flac ...\n",
                        "Converting data/rfcx/train/daf4b529f.flac ...\n",
                        "Converting data/rfcx/train/dafa75170.flac ...\n",
                        "Converting data/rfcx/train/db13dd765.flac ...\n",
                        "Converting data/rfcx/train/db29755be.flac ...\n",
                        "Converting data/rfcx/train/db34c4a5d.flac ...\n",
                        "Converting data/rfcx/train/db3cdbf35.flac ...\n",
                        "Converting data/rfcx/train/db3e17f41.flac ...\n",
                        "Converting data/rfcx/train/db47f8920.flac ...\n",
                        "Converting data/rfcx/train/db57d9e3e.flac ...\n",
                        "Converting data/rfcx/train/db5a07c46.flac ...\n",
                        "Converting data/rfcx/train/db728cae8.flac ...\n",
                        "Converting data/rfcx/train/db7d1bf42.flac ...\n",
                        "Converting data/rfcx/train/db80b0e6f.flac ...\n",
                        "Converting data/rfcx/train/db86f881b.flac ...\n",
                        "Converting data/rfcx/train/db9673439.flac ...\n",
                        "Converting data/rfcx/train/db9fceaba.flac ...\n",
                        "Converting data/rfcx/train/dba19eb12.flac ...\n",
                        "Converting data/rfcx/train/dbb391d3f.flac ...\n",
                        "Converting data/rfcx/train/dbd243625.flac ...\n",
                        "Converting data/rfcx/train/dbdb0fd86.flac ...\n",
                        "Converting data/rfcx/train/dbe30eb6f.flac ...\n",
                        "Converting data/rfcx/train/dbe4d40b9.flac ...\n",
                        "Converting data/rfcx/train/dbfb5f469.flac ...\n",
                        "Converting data/rfcx/train/dbff7c138.flac ...\n",
                        "Converting data/rfcx/train/dc0075e9c.flac ...\n",
                        "Converting data/rfcx/train/dc0f0eb69.flac ...\n",
                        "Converting data/rfcx/train/dc1fcc4d0.flac ...\n",
                        "Converting data/rfcx/train/dc27c393a.flac ...\n",
                        "Converting data/rfcx/train/dc43b0039.flac ...\n",
                        "Converting data/rfcx/train/dc4a670cc.flac ...\n",
                        "Converting data/rfcx/train/dc66c10da.flac ...\n",
                        "Converting data/rfcx/train/dc6734a0e.flac ...\n",
                        "Converting data/rfcx/train/dc6815db8.flac ...\n",
                        "Converting data/rfcx/train/dc7546c6e.flac ...\n",
                        "Converting data/rfcx/train/dc7d6c563.flac ...\n",
                        "Converting data/rfcx/train/dc9c736d6.flac ...\n",
                        "Converting data/rfcx/train/dca097efb.flac ...\n",
                        "Converting data/rfcx/train/dca449f04.flac ...\n",
                        "Converting data/rfcx/train/dcb4321a5.flac ...\n",
                        "Converting data/rfcx/train/dcbd5f9b9.flac ...\n",
                        "Converting data/rfcx/train/dcc3ada2a.flac ...\n",
                        "Converting data/rfcx/train/dcc4d4531.flac ...\n",
                        "Converting data/rfcx/train/dcc840fd8.flac ...\n",
                        "Converting data/rfcx/train/dcc8c06cf.flac ...\n",
                        "Converting data/rfcx/train/dcd884ddb.flac ...\n",
                        "Converting data/rfcx/train/dcdd24a3b.flac ...\n",
                        "Converting data/rfcx/train/dce0408a7.flac ...\n",
                        "Converting data/rfcx/train/dce3e74af.flac ...\n",
                        "Converting data/rfcx/train/dcf09c26d.flac ...\n",
                        "Converting data/rfcx/train/dcf4ecca1.flac ...\n",
                        "Converting data/rfcx/train/dd08226bf.flac ...\n",
                        "Converting data/rfcx/train/dd0830c83.flac ...\n",
                        "Converting data/rfcx/train/dd1568d17.flac ...\n",
                        "Converting data/rfcx/train/dd35e08f1.flac ...\n",
                        "Converting data/rfcx/train/dd37a8e14.flac ...\n",
                        "Converting data/rfcx/train/dd38bef4b.flac ...\n",
                        "Converting data/rfcx/train/dd46cb626.flac ...\n",
                        "Converting data/rfcx/train/dd46cb7e9.flac ...\n",
                        "Converting data/rfcx/train/dd6bb399f.flac ...\n",
                        "Converting data/rfcx/train/dd7c5fa83.flac ...\n",
                        "Converting data/rfcx/train/dd81b8980.flac ...\n",
                        "Converting data/rfcx/train/dd9c51f59.flac ...\n",
                        "Converting data/rfcx/train/dd9f4942e.flac ...\n",
                        "Converting data/rfcx/train/dda5e1734.flac ...\n",
                        "Converting data/rfcx/train/ddd8acd65.flac ...\n",
                        "Converting data/rfcx/train/dde374007.flac ...\n",
                        "Converting data/rfcx/train/ddf23c4cd.flac ...\n",
                        "Converting data/rfcx/train/de01590a0.flac ...\n",
                        "Converting data/rfcx/train/de0c8a7f7.flac ...\n",
                        "Converting data/rfcx/train/de310df6b.flac ...\n",
                        "Converting data/rfcx/train/de3737c21.flac ...\n",
                        "Converting data/rfcx/train/de3e724d0.flac ...\n",
                        "Converting data/rfcx/train/de621d3a5.flac ...\n",
                        "Converting data/rfcx/train/de7922c14.flac ...\n",
                        "Converting data/rfcx/train/de80fb815.flac ...\n",
                        "Converting data/rfcx/train/de823d9aa.flac ...\n",
                        "Converting data/rfcx/train/de8af793e.flac ...\n",
                        "Converting data/rfcx/train/deb92f3ac.flac ...\n",
                        "Converting data/rfcx/train/deb9aaff4.flac ...\n",
                        "Converting data/rfcx/train/dee541308.flac ...\n",
                        "Converting data/rfcx/train/df2fa42b2.flac ...\n",
                        "Converting data/rfcx/train/df654163f.flac ...\n",
                        "Converting data/rfcx/train/df7f7fc08.flac ...\n",
                        "Converting data/rfcx/train/dfa6a4a64.flac ...\n",
                        "Converting data/rfcx/train/dfa80535f.flac ...\n",
                        "Converting data/rfcx/train/dfbf142c5.flac ...\n",
                        "Converting data/rfcx/train/dfe56eb58.flac ...\n",
                        "Converting data/rfcx/train/dfe828cba.flac ...\n",
                        "Converting data/rfcx/train/dfec9aff9.flac ...\n",
                        "Converting data/rfcx/train/dffd8ea5f.flac ...\n",
                        "Converting data/rfcx/train/e00019499.flac ...\n",
                        "Converting data/rfcx/train/e00453b19.flac ...\n",
                        "Converting data/rfcx/train/e005ce0f5.flac ...\n",
                        "Converting data/rfcx/train/e007788da.flac ...\n",
                        "Converting data/rfcx/train/e01740d66.flac ...\n",
                        "Converting data/rfcx/train/e0336f52b.flac ...\n",
                        "Converting data/rfcx/train/e03896110.flac ...\n",
                        "Converting data/rfcx/train/e03bd2ffd.flac ...\n",
                        "Converting data/rfcx/train/e04789694.flac ...\n",
                        "Converting data/rfcx/train/e04aa7139.flac ...\n",
                        "Converting data/rfcx/train/e09cb4ac8.flac ...\n",
                        "Converting data/rfcx/train/e0b8c5be2.flac ...\n",
                        "Converting data/rfcx/train/e0bbdcd8d.flac ...\n",
                        "Converting data/rfcx/train/e0d515f1b.flac ...\n",
                        "Converting data/rfcx/train/e0e8ceb33.flac ...\n",
                        "Converting data/rfcx/train/e0f49d4ec.flac ...\n",
                        "Converting data/rfcx/train/e10069dce.flac ...\n",
                        "Converting data/rfcx/train/e10908e68.flac ...\n",
                        "Converting data/rfcx/train/e10cdba7d.flac ...\n",
                        "Converting data/rfcx/train/e121e9a23.flac ...\n",
                        "Converting data/rfcx/train/e12764191.flac ...\n",
                        "Converting data/rfcx/train/e13ccd805.flac ...\n",
                        "Converting data/rfcx/train/e142121ff.flac ...\n",
                        "Converting data/rfcx/train/e143ced0e.flac ...\n",
                        "Converting data/rfcx/train/e14e526c4.flac ...\n",
                        "Converting data/rfcx/train/e1582bf8b.flac ...\n",
                        "Converting data/rfcx/train/e15924fe2.flac ...\n",
                        "Converting data/rfcx/train/e172e2270.flac ...\n",
                        "Converting data/rfcx/train/e180827b0.flac ...\n",
                        "Converting data/rfcx/train/e18373518.flac ...\n",
                        "Converting data/rfcx/train/e18411873.flac ...\n",
                        "Converting data/rfcx/train/e1948be9a.flac ...\n",
                        "Converting data/rfcx/train/e1a046050.flac ...\n",
                        "Converting data/rfcx/train/e1a7e8b2e.flac ...\n",
                        "Converting data/rfcx/train/e1b1e21ea.flac ...\n",
                        "Converting data/rfcx/train/e1b24c35f.flac ...\n",
                        "Converting data/rfcx/train/e1c5ad99b.flac ...\n",
                        "Converting data/rfcx/train/e1d5724fd.flac ...\n",
                        "Converting data/rfcx/train/e1ed501f9.flac ...\n",
                        "Converting data/rfcx/train/e1ef18eee.flac ...\n",
                        "Converting data/rfcx/train/e202b08b6.flac ...\n",
                        "Converting data/rfcx/train/e202eb532.flac ...\n",
                        "Converting data/rfcx/train/e20f763e1.flac ...\n",
                        "Converting data/rfcx/train/e21d56910.flac ...\n",
                        "Converting data/rfcx/train/e21dd1ed2.flac ...\n",
                        "Converting data/rfcx/train/e223dff63.flac ...\n",
                        "Converting data/rfcx/train/e22487d26.flac ...\n",
                        "Converting data/rfcx/train/e2349a15e.flac ...\n",
                        "Converting data/rfcx/train/e23e84994.flac ...\n",
                        "Converting data/rfcx/train/e241fa412.flac ...\n",
                        "Converting data/rfcx/train/e25933b0a.flac ...\n",
                        "Converting data/rfcx/train/e26b8e17b.flac ...\n",
                        "Converting data/rfcx/train/e27bcadb1.flac ...\n",
                        "Converting data/rfcx/train/e29b8f9f1.flac ...\n",
                        "Converting data/rfcx/train/e2a243530.flac ...\n",
                        "Converting data/rfcx/train/e2acaf619.flac ...\n",
                        "Converting data/rfcx/train/e2ce1658e.flac ...\n",
                        "Converting data/rfcx/train/e2cefd02b.flac ...\n",
                        "Converting data/rfcx/train/e2dad1e3c.flac ...\n",
                        "Converting data/rfcx/train/e2de15b96.flac ...\n",
                        "Converting data/rfcx/train/e306bcecd.flac ...\n",
                        "Converting data/rfcx/train/e31003b49.flac ...\n",
                        "Converting data/rfcx/train/e311ea99b.flac ...\n",
                        "Converting data/rfcx/train/e317ae8c7.flac ...\n",
                        "Converting data/rfcx/train/e31a54015.flac ...\n",
                        "Converting data/rfcx/train/e333236af.flac ...\n",
                        "Converting data/rfcx/train/e335ac8db.flac ...\n",
                        "Converting data/rfcx/train/e34ea9272.flac ...\n",
                        "Converting data/rfcx/train/e35d94cd5.flac ...\n",
                        "Converting data/rfcx/train/e3651f526.flac ...\n",
                        "Converting data/rfcx/train/e37f19f7c.flac ...\n",
                        "Converting data/rfcx/train/e383713d9.flac ...\n",
                        "Converting data/rfcx/train/e38e9f271.flac ...\n",
                        "Converting data/rfcx/train/e393a4c21.flac ...\n",
                        "Converting data/rfcx/train/e3a71c03b.flac ...\n",
                        "Converting data/rfcx/train/e3a916ae4.flac ...\n",
                        "Converting data/rfcx/train/e3ab7b645.flac ...\n",
                        "Converting data/rfcx/train/e3aece4d9.flac ...\n",
                        "Converting data/rfcx/train/e3b99eb44.flac ...\n",
                        "Converting data/rfcx/train/e3cb27123.flac ...\n",
                        "Converting data/rfcx/train/e3d8c24c6.flac ...\n",
                        "Converting data/rfcx/train/e3da230ab.flac ...\n",
                        "Converting data/rfcx/train/e3daeed31.flac ...\n",
                        "Converting data/rfcx/train/e3e737b11.flac ...\n",
                        "Converting data/rfcx/train/e3ffd00ba.flac ...\n",
                        "Converting data/rfcx/train/e40f5d738.flac ...\n",
                        "Converting data/rfcx/train/e413f51a5.flac ...\n",
                        "Converting data/rfcx/train/e42155880.flac ...\n",
                        "Converting data/rfcx/train/e42215aa0.flac ...\n",
                        "Converting data/rfcx/train/e42afc0bd.flac ...\n",
                        "Converting data/rfcx/train/e438acdff.flac ...\n",
                        "Converting data/rfcx/train/e4454e447.flac ...\n",
                        "Converting data/rfcx/train/e455dc974.flac ...\n",
                        "Converting data/rfcx/train/e4792e365.flac ...\n",
                        "Converting data/rfcx/train/e48bf871c.flac ...\n",
                        "Converting data/rfcx/train/e4b068a86.flac ...\n",
                        "Converting data/rfcx/train/e4b252139.flac ...\n",
                        "Converting data/rfcx/train/e4c1b54b5.flac ...\n",
                        "Converting data/rfcx/train/e4c7ada0f.flac ...\n",
                        "Converting data/rfcx/train/e4c95e299.flac ...\n",
                        "Converting data/rfcx/train/e4ca85906.flac ...\n",
                        "Converting data/rfcx/train/e4d206422.flac ...\n",
                        "Converting data/rfcx/train/e4d8a25be.flac ...\n",
                        "Converting data/rfcx/train/e4e8c501e.flac ...\n",
                        "Converting data/rfcx/train/e4eb39efa.flac ...\n",
                        "Converting data/rfcx/train/e5001ade8.flac ...\n",
                        "Converting data/rfcx/train/e521aead0.flac ...\n",
                        "Converting data/rfcx/train/e53033088.flac ...\n",
                        "Converting data/rfcx/train/e53e45454.flac ...\n",
                        "Converting data/rfcx/train/e54604c66.flac ...\n",
                        "Converting data/rfcx/train/e5622a367.flac ...\n",
                        "Converting data/rfcx/train/e5625ee50.flac ...\n",
                        "Converting data/rfcx/train/e568d45b5.flac ...\n",
                        "Converting data/rfcx/train/e569702d8.flac ...\n",
                        "Converting data/rfcx/train/e572a2c20.flac ...\n",
                        "Converting data/rfcx/train/e574b09d3.flac ...\n",
                        "Converting data/rfcx/train/e585e1acb.flac ...\n",
                        "Converting data/rfcx/train/e59588338.flac ...\n",
                        "Converting data/rfcx/train/e5b2291d4.flac ...\n",
                        "Converting data/rfcx/train/e5d1f4efc.flac ...\n",
                        "Converting data/rfcx/train/e5dc8bd3b.flac ...\n",
                        "Converting data/rfcx/train/e5e62e9ab.flac ...\n",
                        "Converting data/rfcx/train/e5e9b6e63.flac ...\n",
                        "Converting data/rfcx/train/e5ef194ad.flac ...\n",
                        "Converting data/rfcx/train/e5f45e5d4.flac ...\n",
                        "Converting data/rfcx/train/e5fb30fa4.flac ...\n",
                        "Converting data/rfcx/train/e5fef345c.flac ...\n",
                        "Converting data/rfcx/train/e61c654cc.flac ...\n",
                        "Converting data/rfcx/train/e61f696cf.flac ...\n",
                        "Converting data/rfcx/train/e629fec25.flac ...\n",
                        "Converting data/rfcx/train/e64c68f5b.flac ...\n",
                        "Converting data/rfcx/train/e65785ce5.flac ...\n",
                        "Converting data/rfcx/train/e65e42310.flac ...\n",
                        "Converting data/rfcx/train/e6622a3c9.flac ...\n",
                        "Converting data/rfcx/train/e666beee8.flac ...\n",
                        "Converting data/rfcx/train/e67d1e166.flac ...\n",
                        "Converting data/rfcx/train/e681c5a00.flac ...\n",
                        "Converting data/rfcx/train/e694ebc3b.flac ...\n",
                        "Converting data/rfcx/train/e6998cb3d.flac ...\n",
                        "Converting data/rfcx/train/e6a21f287.flac ...\n",
                        "Converting data/rfcx/train/e6a9fcf06.flac ...\n",
                        "Converting data/rfcx/train/e6af91bbf.flac ...\n",
                        "Converting data/rfcx/train/e6de52902.flac ...\n",
                        "Converting data/rfcx/train/e6df75b37.flac ...\n",
                        "Converting data/rfcx/train/e6e84fd7f.flac ...\n",
                        "Converting data/rfcx/train/e6ef7cc77.flac ...\n",
                        "Converting data/rfcx/train/e70c89140.flac ...\n",
                        "Converting data/rfcx/train/e71a00f8d.flac ...\n",
                        "Converting data/rfcx/train/e71d72805.flac ...\n",
                        "Converting data/rfcx/train/e72e2955e.flac ...\n",
                        "Converting data/rfcx/train/e734a1cde.flac ...\n",
                        "Converting data/rfcx/train/e744f47c3.flac ...\n",
                        "Converting data/rfcx/train/e755e15ec.flac ...\n",
                        "Converting data/rfcx/train/e77061ecf.flac ...\n",
                        "Converting data/rfcx/train/e7847849b.flac ...\n",
                        "Converting data/rfcx/train/e78631f1b.flac ...\n",
                        "Converting data/rfcx/train/e79f66fef.flac ...\n",
                        "Converting data/rfcx/train/e7a81dc55.flac ...\n",
                        "Converting data/rfcx/train/e7b60edb8.flac ...\n",
                        "Converting data/rfcx/train/e7bc335fa.flac ...\n",
                        "Converting data/rfcx/train/e7c0e18b2.flac ...\n",
                        "Converting data/rfcx/train/e7d63fa56.flac ...\n",
                        "Converting data/rfcx/train/e7de0a728.flac ...\n",
                        "Converting data/rfcx/train/e7dfc5c5f.flac ...\n",
                        "Converting data/rfcx/train/e7fd96437.flac ...\n",
                        "Converting data/rfcx/train/e80890ff7.flac ...\n",
                        "Converting data/rfcx/train/e81c4f94c.flac ...\n",
                        "Converting data/rfcx/train/e85d258d8.flac ...\n",
                        "Converting data/rfcx/train/e860b5f55.flac ...\n",
                        "Converting data/rfcx/train/e8799a715.flac ...\n",
                        "Converting data/rfcx/train/e887c4583.flac ...\n",
                        "Converting data/rfcx/train/e89563a18.flac ...\n",
                        "Converting data/rfcx/train/e896b61a8.flac ...\n",
                        "Converting data/rfcx/train/e8a6affc8.flac ...\n",
                        "Converting data/rfcx/train/e8b209030.flac ...\n",
                        "Converting data/rfcx/train/e8b85bca0.flac ...\n",
                        "Converting data/rfcx/train/e8becf4c2.flac ...\n",
                        "Converting data/rfcx/train/e8f7f120d.flac ...\n",
                        "Converting data/rfcx/train/e9255d07c.flac ...\n",
                        "Converting data/rfcx/train/e933515af.flac ...\n",
                        "Converting data/rfcx/train/e94297ecb.flac ...\n",
                        "Converting data/rfcx/train/e9451bb00.flac ...\n",
                        "Converting data/rfcx/train/e9622376a.flac ...\n",
                        "Converting data/rfcx/train/e9718c8a3.flac ...\n",
                        "Converting data/rfcx/train/e97de3f6d.flac ...\n",
                        "Converting data/rfcx/train/e989a024c.flac ...\n",
                        "Converting data/rfcx/train/e9926ec3e.flac ...\n",
                        "Converting data/rfcx/train/e99374851.flac ...\n",
                        "Converting data/rfcx/train/e9a873a03.flac ...\n",
                        "Converting data/rfcx/train/e9bab320a.flac ...\n",
                        "Converting data/rfcx/train/e9eb6d4dd.flac ...\n",
                        "Converting data/rfcx/train/e9ebe3979.flac ...\n",
                        "Converting data/rfcx/train/e9fa364b7.flac ...\n",
                        "Converting data/rfcx/train/ea03652c6.flac ...\n",
                        "Converting data/rfcx/train/ea133d03e.flac ...\n",
                        "Converting data/rfcx/train/ea26b19ee.flac ...\n",
                        "Converting data/rfcx/train/ea394632e.flac ...\n",
                        "Converting data/rfcx/train/ea4cfd7bb.flac ...\n",
                        "Converting data/rfcx/train/ea544e255.flac ...\n",
                        "Converting data/rfcx/train/ea54f137c.flac ...\n",
                        "Converting data/rfcx/train/ea5620da7.flac ...\n",
                        "Converting data/rfcx/train/ea5db20f4.flac ...\n",
                        "Converting data/rfcx/train/ea71a1a7d.flac ...\n",
                        "Converting data/rfcx/train/ea7aa9e69.flac ...\n",
                        "Converting data/rfcx/train/ea7b61120.flac ...\n",
                        "Converting data/rfcx/train/ea7da0899.flac ...\n",
                        "Converting data/rfcx/train/ea961733c.flac ...\n",
                        "Converting data/rfcx/train/ea9cca0b6.flac ...\n",
                        "Converting data/rfcx/train/eaaa6085c.flac ...\n",
                        "Converting data/rfcx/train/eaad51fc0.flac ...\n",
                        "Converting data/rfcx/train/eab360d90.flac ...\n",
                        "Converting data/rfcx/train/eac4c4220.flac ...\n",
                        "Converting data/rfcx/train/eacd010a3.flac ...\n",
                        "Converting data/rfcx/train/eadccba2d.flac ...\n",
                        "Converting data/rfcx/train/eae60f3c2.flac ...\n",
                        "Converting data/rfcx/train/eae772c6f.flac ...\n",
                        "Converting data/rfcx/train/eaec531d1.flac ...\n",
                        "Converting data/rfcx/train/eaf5cf482.flac ...\n",
                        "Converting data/rfcx/train/eaff98615.flac ...\n",
                        "Converting data/rfcx/train/eb0cd97da.flac ...\n",
                        "Converting data/rfcx/train/eb1663b0c.flac ...\n",
                        "Converting data/rfcx/train/eb3081e46.flac ...\n",
                        "Converting data/rfcx/train/eb3145e54.flac ...\n",
                        "Converting data/rfcx/train/eb50c4520.flac ...\n",
                        "Converting data/rfcx/train/eb54756a0.flac ...\n",
                        "Converting data/rfcx/train/eb62e367c.flac ...\n",
                        "Converting data/rfcx/train/eb685f870.flac ...\n",
                        "Converting data/rfcx/train/eb6e0f54a.flac ...\n",
                        "Converting data/rfcx/train/eb834b94f.flac ...\n",
                        "Converting data/rfcx/train/ebb21fb4d.flac ...\n",
                        "Converting data/rfcx/train/ebdd7c181.flac ...\n",
                        "Converting data/rfcx/train/ebeb631d2.flac ...\n",
                        "Converting data/rfcx/train/ebf117ba6.flac ...\n",
                        "Converting data/rfcx/train/ebf2db488.flac ...\n",
                        "Converting data/rfcx/train/ec02f75ce.flac ...\n",
                        "Converting data/rfcx/train/ec098238c.flac ...\n",
                        "Converting data/rfcx/train/ec0dad95d.flac ...\n",
                        "Converting data/rfcx/train/ec1255787.flac ...\n",
                        "Converting data/rfcx/train/ec163af80.flac ...\n",
                        "Converting data/rfcx/train/ec1c4a754.flac ...\n",
                        "Converting data/rfcx/train/ec24a4d07.flac ...\n",
                        "Converting data/rfcx/train/ec2feba84.flac ...\n",
                        "Converting data/rfcx/train/ec3a54dc6.flac ...\n",
                        "Converting data/rfcx/train/ec437e081.flac ...\n",
                        "Converting data/rfcx/train/ec56c2ee5.flac ...\n",
                        "Converting data/rfcx/train/ec5bfe219.flac ...\n",
                        "Converting data/rfcx/train/ec5e26845.flac ...\n",
                        "Converting data/rfcx/train/ec63de3ab.flac ...\n",
                        "Converting data/rfcx/train/ec776fd7b.flac ...\n",
                        "Converting data/rfcx/train/ec808f26f.flac ...\n",
                        "Converting data/rfcx/train/ec8c30dd9.flac ...\n",
                        "Converting data/rfcx/train/ec8cda160.flac ...\n",
                        "Converting data/rfcx/train/eca5caddc.flac ...\n",
                        "Converting data/rfcx/train/eca614521.flac ...\n",
                        "Converting data/rfcx/train/eca7db529.flac ...\n",
                        "Converting data/rfcx/train/ecb326f94.flac ...\n",
                        "Converting data/rfcx/train/ecca11208.flac ...\n",
                        "Converting data/rfcx/train/eccdd4ea8.flac ...\n",
                        "Converting data/rfcx/train/ecd47f7cc.flac ...\n",
                        "Converting data/rfcx/train/ecda926b6.flac ...\n",
                        "Converting data/rfcx/train/ecf502215.flac ...\n",
                        "Converting data/rfcx/train/ed10a157a.flac ...\n",
                        "Converting data/rfcx/train/ed2ae7025.flac ...\n",
                        "Converting data/rfcx/train/ed2ce7b96.flac ...\n",
                        "Converting data/rfcx/train/ed2f84e75.flac ...\n",
                        "Converting data/rfcx/train/ed36faac8.flac ...\n",
                        "Converting data/rfcx/train/ed38c48b8.flac ...\n",
                        "Converting data/rfcx/train/ed3c557ff.flac ...\n",
                        "Converting data/rfcx/train/ed5627ec7.flac ...\n",
                        "Converting data/rfcx/train/ed74416d3.flac ...\n",
                        "Converting data/rfcx/train/ed82ecb39.flac ...\n",
                        "Converting data/rfcx/train/ed8b65c55.flac ...\n",
                        "Converting data/rfcx/train/ed92f0516.flac ...\n",
                        "Converting data/rfcx/train/ed9376d01.flac ...\n",
                        "Converting data/rfcx/train/eda207f9f.flac ...\n",
                        "Converting data/rfcx/train/eda9452aa.flac ...\n",
                        "Converting data/rfcx/train/edc38715d.flac ...\n",
                        "Converting data/rfcx/train/edcb36c64.flac ...\n",
                        "Converting data/rfcx/train/edccfd690.flac ...\n",
                        "Converting data/rfcx/train/edcdb1df0.flac ...\n",
                        "Converting data/rfcx/train/edd3b27d6.flac ...\n",
                        "Converting data/rfcx/train/edd568403.flac ...\n",
                        "Converting data/rfcx/train/edf598655.flac ...\n",
                        "Converting data/rfcx/train/edf85ed18.flac ...\n",
                        "Converting data/rfcx/train/edf9fe22d.flac ...\n",
                        "Converting data/rfcx/train/ee3dc0bc6.flac ...\n",
                        "Converting data/rfcx/train/ee3eab224.flac ...\n",
                        "Converting data/rfcx/train/ee694343e.flac ...\n",
                        "Converting data/rfcx/train/ee80e2415.flac ...\n",
                        "Converting data/rfcx/train/ee8e42ab9.flac ...\n",
                        "Converting data/rfcx/train/ee922d946.flac ...\n",
                        "Converting data/rfcx/train/ee95a6aa4.flac ...\n",
                        "Converting data/rfcx/train/eeb9a3c4b.flac ...\n",
                        "Converting data/rfcx/train/eec8513cf.flac ...\n",
                        "Converting data/rfcx/train/eeca58840.flac ...\n",
                        "Converting data/rfcx/train/eee00469a.flac ...\n",
                        "Converting data/rfcx/train/eef94938d.flac ...\n",
                        "Converting data/rfcx/train/eefd05610.flac ...\n",
                        "Converting data/rfcx/train/ef069cab5.flac ...\n",
                        "Converting data/rfcx/train/ef07a65a3.flac ...\n",
                        "Converting data/rfcx/train/ef0aaa0b3.flac ...\n",
                        "Converting data/rfcx/train/ef0dffdab.flac ...\n",
                        "Converting data/rfcx/train/ef0faf6e4.flac ...\n",
                        "Converting data/rfcx/train/ef10f60bf.flac ...\n",
                        "Converting data/rfcx/train/ef1d98fff.flac ...\n",
                        "Converting data/rfcx/train/ef21b29bc.flac ...\n",
                        "Converting data/rfcx/train/ef3647390.flac ...\n",
                        "Converting data/rfcx/train/ef40c1067.flac ...\n",
                        "Converting data/rfcx/train/ef47304a3.flac ...\n",
                        "Converting data/rfcx/train/ef5494785.flac ...\n",
                        "Converting data/rfcx/train/ef6183d31.flac ...\n",
                        "Converting data/rfcx/train/ef6cfb9fa.flac ...\n",
                        "Converting data/rfcx/train/ef932de8e.flac ...\n",
                        "Converting data/rfcx/train/ef95a6efe.flac ...\n",
                        "Converting data/rfcx/train/ef9af2faf.flac ...\n",
                        "Converting data/rfcx/train/efb6a2e01.flac ...\n",
                        "Converting data/rfcx/train/efbfe6b39.flac ...\n",
                        "Converting data/rfcx/train/efcc3bd16.flac ...\n",
                        "Converting data/rfcx/train/efd9010ba.flac ...\n",
                        "Converting data/rfcx/train/efe937284.flac ...\n",
                        "Converting data/rfcx/train/f000113e5.flac ...\n",
                        "Converting data/rfcx/train/f003fb7c6.flac ...\n",
                        "Converting data/rfcx/train/f01a344c4.flac ...\n",
                        "Converting data/rfcx/train/f021c411a.flac ...\n",
                        "Converting data/rfcx/train/f0298d1fe.flac ...\n",
                        "Converting data/rfcx/train/f034ac58b.flac ...\n",
                        "Converting data/rfcx/train/f0356d3da.flac ...\n",
                        "Converting data/rfcx/train/f052aee74.flac ...\n",
                        "Converting data/rfcx/train/f056ec3e8.flac ...\n",
                        "Converting data/rfcx/train/f07768518.flac ...\n",
                        "Converting data/rfcx/train/f09f9e7ba.flac ...\n",
                        "Converting data/rfcx/train/f0ae3ff46.flac ...\n",
                        "Converting data/rfcx/train/f0d8ebc52.flac ...\n",
                        "Converting data/rfcx/train/f0e65ccad.flac ...\n",
                        "Converting data/rfcx/train/f0f4fcc74.flac ...\n",
                        "Converting data/rfcx/train/f109f8584.flac ...\n",
                        "Converting data/rfcx/train/f1273a1ca.flac ...\n",
                        "Converting data/rfcx/train/f12753fce.flac ...\n",
                        "Converting data/rfcx/train/f131c8078.flac ...\n",
                        "Converting data/rfcx/train/f152e26e3.flac ...\n",
                        "Converting data/rfcx/train/f15dd21b5.flac ...\n",
                        "Converting data/rfcx/train/f16860025.flac ...\n",
                        "Converting data/rfcx/train/f19c335eb.flac ...\n",
                        "Converting data/rfcx/train/f1a76479e.flac ...\n",
                        "Converting data/rfcx/train/f1aa1c855.flac ...\n",
                        "Converting data/rfcx/train/f1b7d8c75.flac ...\n",
                        "Converting data/rfcx/train/f1be0a6f7.flac ...\n",
                        "Converting data/rfcx/train/f1cc7d0a4.flac ...\n",
                        "Converting data/rfcx/train/f1ccee878.flac ...\n",
                        "Converting data/rfcx/train/f1de9d996.flac ...\n",
                        "Converting data/rfcx/train/f1e073656.flac ...\n",
                        "Converting data/rfcx/train/f1e9b206b.flac ...\n",
                        "Converting data/rfcx/train/f1ea78f27.flac ...\n",
                        "Converting data/rfcx/train/f1ecfb2df.flac ...\n",
                        "Converting data/rfcx/train/f1fc4f439.flac ...\n",
                        "Converting data/rfcx/train/f241314bb.flac ...\n",
                        "Converting data/rfcx/train/f2446546b.flac ...\n",
                        "Converting data/rfcx/train/f2493eda1.flac ...\n",
                        "Converting data/rfcx/train/f254ccc4e.flac ...\n",
                        "Converting data/rfcx/train/f25a5f303.flac ...\n",
                        "Converting data/rfcx/train/f278c5f5c.flac ...\n",
                        "Converting data/rfcx/train/f28530d94.flac ...\n",
                        "Converting data/rfcx/train/f2890653e.flac ...\n",
                        "Converting data/rfcx/train/f2be3bea8.flac ...\n",
                        "Converting data/rfcx/train/f2c07ab40.flac ...\n",
                        "Converting data/rfcx/train/f2c52223a.flac ...\n",
                        "Converting data/rfcx/train/f2d7b8ed8.flac ...\n",
                        "Converting data/rfcx/train/f2d7ff608.flac ...\n",
                        "Converting data/rfcx/train/f2d986715.flac ...\n",
                        "Converting data/rfcx/train/f2dbe3dc3.flac ...\n",
                        "Converting data/rfcx/train/f2dfb1141.flac ...\n",
                        "Converting data/rfcx/train/f313f236e.flac ...\n",
                        "Converting data/rfcx/train/f32a8c8f0.flac ...\n",
                        "Converting data/rfcx/train/f33a1793f.flac ...\n",
                        "Converting data/rfcx/train/f33f1761c.flac ...\n",
                        "Converting data/rfcx/train/f35bc1452.flac ...\n",
                        "Converting data/rfcx/train/f36d01ed2.flac ...\n",
                        "Converting data/rfcx/train/f38a15500.flac ...\n",
                        "Converting data/rfcx/train/f3a0a4c50.flac ...\n",
                        "Converting data/rfcx/train/f3a38df5f.flac ...\n",
                        "Converting data/rfcx/train/f3a76f283.flac ...\n",
                        "Converting data/rfcx/train/f3abe6053.flac ...\n",
                        "Converting data/rfcx/train/f3b79a9d6.flac ...\n",
                        "Converting data/rfcx/train/f3b84afb1.flac ...\n",
                        "Converting data/rfcx/train/f3bebfb56.flac ...\n",
                        "Converting data/rfcx/train/f3cb40395.flac ...\n",
                        "Converting data/rfcx/train/f3df14ff5.flac ...\n",
                        "Converting data/rfcx/train/f3ed4434b.flac ...\n",
                        "Converting data/rfcx/train/f3f146f8e.flac ...\n",
                        "Converting data/rfcx/train/f3f42968a.flac ...\n",
                        "Converting data/rfcx/train/f3f813801.flac ...\n",
                        "Converting data/rfcx/train/f3f82b897.flac ...\n",
                        "Converting data/rfcx/train/f3fa23916.flac ...\n",
                        "Converting data/rfcx/train/f470e45e5.flac ...\n",
                        "Converting data/rfcx/train/f4714d970.flac ...\n",
                        "Converting data/rfcx/train/f479ea4be.flac ...\n",
                        "Converting data/rfcx/train/f49040624.flac ...\n",
                        "Converting data/rfcx/train/f49a804e8.flac ...\n",
                        "Converting data/rfcx/train/f4a8d9893.flac ...\n",
                        "Converting data/rfcx/train/f4bd598f8.flac ...\n",
                        "Converting data/rfcx/train/f4c73df68.flac ...\n",
                        "Converting data/rfcx/train/f4c78a256.flac ...\n",
                        "Converting data/rfcx/train/f4d05c0de.flac ...\n",
                        "Converting data/rfcx/train/f4dd82c85.flac ...\n",
                        "Converting data/rfcx/train/f4ea15de9.flac ...\n",
                        "Converting data/rfcx/train/f4f758958.flac ...\n",
                        "Converting data/rfcx/train/f5052f12e.flac ...\n",
                        "Converting data/rfcx/train/f5087f6e9.flac ...\n",
                        "Converting data/rfcx/train/f51109a9b.flac ...\n",
                        "Converting data/rfcx/train/f51c0da28.flac ...\n",
                        "Converting data/rfcx/train/f5226c724.flac ...\n",
                        "Converting data/rfcx/train/f536a7f8f.flac ...\n",
                        "Converting data/rfcx/train/f537b2b72.flac ...\n",
                        "Converting data/rfcx/train/f5427b3c3.flac ...\n",
                        "Converting data/rfcx/train/f543f0d31.flac ...\n",
                        "Converting data/rfcx/train/f554e875b.flac ...\n",
                        "Converting data/rfcx/train/f55ce9e53.flac ...\n",
                        "Converting data/rfcx/train/f563c666c.flac ...\n",
                        "Converting data/rfcx/train/f5790385e.flac ...\n",
                        "Converting data/rfcx/train/f57ffd248.flac ...\n",
                        "Converting data/rfcx/train/f5889157c.flac ...\n",
                        "Converting data/rfcx/train/f58e7830a.flac ...\n",
                        "Converting data/rfcx/train/f59a76d40.flac ...\n",
                        "Converting data/rfcx/train/f5c3420f6.flac ...\n",
                        "Converting data/rfcx/train/f5da0eae7.flac ...\n",
                        "Converting data/rfcx/train/f5e6456f0.flac ...\n",
                        "Converting data/rfcx/train/f5f952b6b.flac ...\n",
                        "Converting data/rfcx/train/f6198f866.flac ...\n",
                        "Converting data/rfcx/train/f61b72beb.flac ...\n",
                        "Converting data/rfcx/train/f6202c64d.flac ...\n",
                        "Converting data/rfcx/train/f638038ca.flac ...\n",
                        "Converting data/rfcx/train/f63878d52.flac ...\n",
                        "Converting data/rfcx/train/f63c7ca2f.flac ...\n",
                        "Converting data/rfcx/train/f64cfa023.flac ...\n",
                        "Converting data/rfcx/train/f65cdcd99.flac ...\n",
                        "Converting data/rfcx/train/f66510877.flac ...\n",
                        "Converting data/rfcx/train/f66ddce4b.flac ...\n",
                        "Converting data/rfcx/train/f6789d4ac.flac ...\n",
                        "Converting data/rfcx/train/f67c63745.flac ...\n",
                        "Converting data/rfcx/train/f68c23276.flac ...\n",
                        "Converting data/rfcx/train/f69116f77.flac ...\n",
                        "Converting data/rfcx/train/f6b50aeb1.flac ...\n",
                        "Converting data/rfcx/train/f6cbc01c7.flac ...\n",
                        "Converting data/rfcx/train/f6e41b038.flac ...\n",
                        "Converting data/rfcx/train/f702f163c.flac ...\n",
                        "Converting data/rfcx/train/f737f18dc.flac ...\n",
                        "Converting data/rfcx/train/f73939fb9.flac ...\n",
                        "Converting data/rfcx/train/f73bc3666.flac ...\n",
                        "Converting data/rfcx/train/f7466aeeb.flac ...\n",
                        "Converting data/rfcx/train/f76471a24.flac ...\n",
                        "Converting data/rfcx/train/f7a7ae678.flac ...\n",
                        "Converting data/rfcx/train/f7abca965.flac ...\n",
                        "Converting data/rfcx/train/f7bb163d8.flac ...\n",
                        "Converting data/rfcx/train/f7c93a6a8.flac ...\n",
                        "Converting data/rfcx/train/f7cf8e342.flac ...\n",
                        "Converting data/rfcx/train/f7d3b0080.flac ...\n",
                        "Converting data/rfcx/train/f7d92975f.flac ...\n",
                        "Converting data/rfcx/train/f7edb8a8c.flac ...\n",
                        "Converting data/rfcx/train/f7f3548f4.flac ...\n",
                        "Converting data/rfcx/train/f806be4f5.flac ...\n",
                        "Converting data/rfcx/train/f807ee90e.flac ...\n",
                        "Converting data/rfcx/train/f827a8428.flac ...\n",
                        "Converting data/rfcx/train/f829230cd.flac ...\n",
                        "Converting data/rfcx/train/f84b8c8d3.flac ...\n",
                        "Converting data/rfcx/train/f84d77b83.flac ...\n",
                        "Converting data/rfcx/train/f851b0095.flac ...\n",
                        "Converting data/rfcx/train/f851b9605.flac ...\n",
                        "Converting data/rfcx/train/f86e7752e.flac ...\n",
                        "Converting data/rfcx/train/f879b8abf.flac ...\n",
                        "Converting data/rfcx/train/f87ef432d.flac ...\n",
                        "Converting data/rfcx/train/f885c0336.flac ...\n",
                        "Converting data/rfcx/train/f8c661973.flac ...\n",
                        "Converting data/rfcx/train/f8cb4f59b.flac ...\n",
                        "Converting data/rfcx/train/f8e231afe.flac ...\n",
                        "Converting data/rfcx/train/f90377f8f.flac ...\n",
                        "Converting data/rfcx/train/f91be322f.flac ...\n",
                        "Converting data/rfcx/train/f93111a02.flac ...\n",
                        "Converting data/rfcx/train/f934516a8.flac ...\n",
                        "Converting data/rfcx/train/f93a90649.flac ...\n",
                        "Converting data/rfcx/train/f955ef2d0.flac ...\n",
                        "Converting data/rfcx/train/f95b2ec2d.flac ...\n",
                        "Converting data/rfcx/train/f9758f56e.flac ...\n",
                        "Converting data/rfcx/train/f97ababc1.flac ...\n",
                        "Converting data/rfcx/train/f97caec7c.flac ...\n",
                        "Converting data/rfcx/train/f986b8a4d.flac ...\n",
                        "Converting data/rfcx/train/f9b59f987.flac ...\n",
                        "Converting data/rfcx/train/f9bab6d86.flac ...\n",
                        "Converting data/rfcx/train/f9dad91d4.flac ...\n",
                        "Converting data/rfcx/train/f9e3b11ad.flac ...\n",
                        "Converting data/rfcx/train/f9e724b46.flac ...\n",
                        "Converting data/rfcx/train/f9f2bfa12.flac ...\n",
                        "Converting data/rfcx/train/fa0be0407.flac ...\n",
                        "Converting data/rfcx/train/fa0eee1e4.flac ...\n",
                        "Converting data/rfcx/train/fa1776098.flac ...\n",
                        "Converting data/rfcx/train/fa17d8cb6.flac ...\n",
                        "Converting data/rfcx/train/fa1fb2e42.flac ...\n",
                        "Converting data/rfcx/train/fa27b0f5f.flac ...\n",
                        "Converting data/rfcx/train/fa33806dd.flac ...\n",
                        "Converting data/rfcx/train/fa37133a9.flac ...\n",
                        "Converting data/rfcx/train/fa4e32383.flac ...\n",
                        "Converting data/rfcx/train/fa5242384.flac ...\n",
                        "Converting data/rfcx/train/fa5c16880.flac ...\n",
                        "Converting data/rfcx/train/fa9353c0a.flac ...\n",
                        "Converting data/rfcx/train/fa9513274.flac ...\n",
                        "Converting data/rfcx/train/fab2cbfa6.flac ...\n",
                        "Converting data/rfcx/train/faca6a380.flac ...\n",
                        "Converting data/rfcx/train/face9266f.flac ...\n",
                        "Converting data/rfcx/train/fad9def77.flac ...\n",
                        "Converting data/rfcx/train/fae58971a.flac ...\n",
                        "Converting data/rfcx/train/fae8f99f6.flac ...\n",
                        "Converting data/rfcx/train/fb01fdcea.flac ...\n",
                        "Converting data/rfcx/train/fb02b0607.flac ...\n",
                        "Converting data/rfcx/train/fb0abd176.flac ...\n",
                        "Converting data/rfcx/train/fb3725395.flac ...\n",
                        "Converting data/rfcx/train/fb384cbcd.flac ...\n",
                        "Converting data/rfcx/train/fb455d471.flac ...\n",
                        "Converting data/rfcx/train/fb5371e7b.flac ...\n",
                        "Converting data/rfcx/train/fb71ca02d.flac ...\n",
                        "Converting data/rfcx/train/fb7ab38bf.flac ...\n",
                        "Converting data/rfcx/train/fb7b96ee9.flac ...\n",
                        "Converting data/rfcx/train/fb819ab0d.flac ...\n",
                        "Converting data/rfcx/train/fb9c97afd.flac ...\n",
                        "Converting data/rfcx/train/fba461eab.flac ...\n",
                        "Converting data/rfcx/train/fba69b00a.flac ...\n",
                        "Converting data/rfcx/train/fbab42376.flac ...\n",
                        "Converting data/rfcx/train/fbb31daeb.flac ...\n",
                        "Converting data/rfcx/train/fbbca0c89.flac ...\n",
                        "Converting data/rfcx/train/fbd5bbb6e.flac ...\n",
                        "Converting data/rfcx/train/fc238d19c.flac ...\n",
                        "Converting data/rfcx/train/fc302ff12.flac ...\n",
                        "Converting data/rfcx/train/fc326c372.flac ...\n",
                        "Converting data/rfcx/train/fc41274ec.flac ...\n",
                        "Converting data/rfcx/train/fc47cfba3.flac ...\n",
                        "Converting data/rfcx/train/fc504202e.flac ...\n",
                        "Converting data/rfcx/train/fc6609050.flac ...\n",
                        "Converting data/rfcx/train/fc6c3b488.flac ...\n",
                        "Converting data/rfcx/train/fc8cbe35e.flac ...\n",
                        "Converting data/rfcx/train/fca4f8957.flac ...\n",
                        "Converting data/rfcx/train/fce4dd8fa.flac ...\n",
                        "Converting data/rfcx/train/fcea8888b.flac ...\n",
                        "Converting data/rfcx/train/fceda95a6.flac ...\n",
                        "Converting data/rfcx/train/fd1970634.flac ...\n",
                        "Converting data/rfcx/train/fd3199510.flac ...\n",
                        "Converting data/rfcx/train/fd32fec9c.flac ...\n",
                        "Converting data/rfcx/train/fd3c6a0fd.flac ...\n",
                        "Converting data/rfcx/train/fd3f0d49b.flac ...\n",
                        "Converting data/rfcx/train/fd59168d0.flac ...\n",
                        "Converting data/rfcx/train/fd5fdc0e5.flac ...\n",
                        "Converting data/rfcx/train/fd6a520d8.flac ...\n",
                        "Converting data/rfcx/train/fd71b9c9d.flac ...\n",
                        "Converting data/rfcx/train/fd7cc65e1.flac ...\n",
                        "Converting data/rfcx/train/fd923f5d5.flac ...\n",
                        "Converting data/rfcx/train/fd9b5e60d.flac ...\n",
                        "Converting data/rfcx/train/fda3f9c8b.flac ...\n",
                        "Converting data/rfcx/train/fdc2731e0.flac ...\n",
                        "Converting data/rfcx/train/fdc43dd19.flac ...\n",
                        "Converting data/rfcx/train/fdd917cf3.flac ...\n",
                        "Converting data/rfcx/train/fdda158ed.flac ...\n",
                        "Converting data/rfcx/train/fe085ae3d.flac ...\n",
                        "Converting data/rfcx/train/fe08621d5.flac ...\n",
                        "Converting data/rfcx/train/fe11fb99b.flac ...\n",
                        "Converting data/rfcx/train/fe2551532.flac ...\n",
                        "Converting data/rfcx/train/fe2ac79e2.flac ...\n",
                        "Converting data/rfcx/train/fe3c4378e.flac ...\n",
                        "Converting data/rfcx/train/fe679dc72.flac ...\n",
                        "Converting data/rfcx/train/fe754ef0d.flac ...\n",
                        "Converting data/rfcx/train/fe7cd221a.flac ...\n",
                        "Converting data/rfcx/train/fe83b6421.flac ...\n",
                        "Converting data/rfcx/train/fe8ce67c3.flac ...\n",
                        "Converting data/rfcx/train/fe8d9ac40.flac ...\n",
                        "Converting data/rfcx/train/fe8f47d1e.flac ...\n",
                        "Converting data/rfcx/train/fea6b438a.flac ...\n",
                        "Converting data/rfcx/train/feb4d67f1.flac ...\n",
                        "Converting data/rfcx/train/fec53d619.flac ...\n",
                        "Converting data/rfcx/train/fec727570.flac ...\n",
                        "Converting data/rfcx/train/fed5d1b9c.flac ...\n",
                        "Converting data/rfcx/train/ff10ca044.flac ...\n",
                        "Converting data/rfcx/train/ff12e3126.flac ...\n",
                        "Converting data/rfcx/train/ff1fb7569.flac ...\n",
                        "Converting data/rfcx/train/ff21001e6.flac ...\n",
                        "Converting data/rfcx/train/ff22519ea.flac ...\n",
                        "Converting data/rfcx/train/ff255b11a.flac ...\n",
                        "Converting data/rfcx/train/ff2eb9ce5.flac ...\n",
                        "Converting data/rfcx/train/ff4b91c72.flac ...\n",
                        "Converting data/rfcx/train/ff543712f.flac ...\n",
                        "Converting data/rfcx/train/ff54c37c8.flac ...\n",
                        "Converting data/rfcx/train/ff56888a1.flac ...\n",
                        "Converting data/rfcx/train/ff5c2d55f.flac ...\n",
                        "Converting data/rfcx/train/ff61d0146.flac ...\n",
                        "Converting data/rfcx/train/ff672e3bb.flac ...\n",
                        "Converting data/rfcx/train/ff6aa0e63.flac ...\n",
                        "Converting data/rfcx/train/ff6acf404.flac ...\n",
                        "Converting data/rfcx/train/ff6ba53d5.flac ...\n",
                        "Converting data/rfcx/train/ff7f876bd.flac ...\n",
                        "Converting data/rfcx/train/ff8492f71.flac ...\n",
                        "Converting data/rfcx/train/ff858780b.flac ...\n",
                        "Converting data/rfcx/train/ffaaa4c77.flac ...\n",
                        "Converting data/rfcx/train/ffb8d8391.flac ...\n",
                        "Converting data/rfcx/train/ffb9a7b9a.flac ...\n",
                        "Converting data/rfcx/train/ffc51b999.flac ...\n",
                        "Converting data/rfcx/train/ffc6031f8.flac ...\n",
                        "Converting data/rfcx/train/ffd88cd84.flac ...\n",
                        "Converting data/rfcx/train/ffebe7313.flac ...\n",
                        "Converting data/rfcx/train/fff163132.flac ...\n",
                        "Converting data/rfcx/train/fffb79246.flac ...\n"
                    ]
                }
            ],
            "source": [
                "# Their script:\n",
                "import json\n",
                "import os\n",
                "import sys\n",
                "import torchaudio\n",
                "import pathlib\n",
                "from plumbum import local, FG\n",
                "import subprocess\n",
                "import pandas as pd\n",
                "from sklearn.model_selection import train_test_split\n",
                "\n",
                "def get_wav_length_in_secs(path):\n",
                "    info = torchaudio.info(path)\n",
                "    return info.num_frames / info.sample_rate\n",
                "\n",
                "dataset = {}\n",
                "\n",
                "#local['mkdir']['-p', 'data/rfcx/wav']()\n",
                "#local['kaggle']['competitions', 'download', '-p', 'data/rfcx', 'rfcx-species-audio-detection'] & FG\n",
                "#local['unzip']['data/rfcx/rfcx-species-audio-detection.zip', '-d', 'data/rfcx/'] & FG\n",
                "\n",
                "dest_dir = pathlib.Path('data/rfcx/wav')\n",
                "for src_file in sorted(pathlib.Path('data/rfcx/train').glob('*.flac')):\n",
                "    dest_file = dest_dir / (src_file.stem + '.wav')\n",
                "    if not os.path.exists(dest_file):\n",
                "        print(f\"Converting {src_file} ...\", file=sys.stderr)\n",
                "        subprocess.run(\n",
                "            ['sox', src_file, '-r 48000', '-R', dest_file]\n",
                "        )\n",
                "    dataset[src_file.stem] = {\n",
                "        'path': str(dest_file),\n",
                "        'length': get_wav_length_in_secs(dest_file),\n",
                "        'annotations': []}\n",
                "\n",
                "\n",
                "df = pd.read_csv('data/rfcx/train_tp.csv')\n",
                "for _, row in df.iterrows():\n",
                "    dataset[row['recording_id']]['annotations'].append(\n",
                "        {'st': row['t_min'], 'ed': row['t_max'], 'label': row['species_id']})\n",
                "\n",
                "# split to train:valid:test = 6:2:2\n",
                "dataset = list(dataset.values())\n",
                "df_train, df_valid_test = train_test_split(dataset, test_size=0.4, random_state=42, shuffle=True)\n",
                "df_valid, df_test = train_test_split(df_valid_test, test_size=0.5, random_state=42, shuffle=True)\n",
                "df_train_low, _ = train_test_split(df_train, test_size=0.66, random_state=42, shuffle=True)\n",
                "\n",
                "df_train.sort(key=lambda x: x['path'])\n",
                "df_train_low.sort(key=lambda x: x['path'])\n",
                "df_valid.sort(key=lambda x: x['path'])\n",
                "df_test.sort(key=lambda x: x['path'])\n",
                "\n",
                "with open('data/rfcx/train.jsonl', mode='w') as f:\n",
                "    for data in df_train:\n",
                "        print(json.dumps(data), file=f)\n",
                "\n",
                "with open('data/rfcx/train-low.jsonl', mode='w') as f:\n",
                "    for data in df_train_low:\n",
                "        print(json.dumps(data), file=f)\n",
                "\n",
                "with open('data/rfcx/valid.jsonl', mode='w') as f:\n",
                "    for data in df_valid:\n",
                "        print(json.dumps(data), file=f)\n",
                "\n",
                "with open('data/rfcx/test.jsonl', mode='w') as f:\n",
                "    for data in df_test:\n",
                "        print(json.dumps(data), file=f)"
            ]
        },
        {
            "cell_type": "markdown",
            "metadata": {},
            "source": [
                "#### 2. Convert to HF format"
            ]
        },
        {
            "cell_type": "code",
            "execution_count": 6,
            "metadata": {},
            "outputs": [
                {
                    "name": "stdout",
                    "output_type": "stream",
                    "text": [
                        "{'path': {'path': 'data/rfcx/wav/003b04435.wav', 'array': array([ 0.00210571,  0.00793457,  0.00518799, ..., -0.01141357,\n",
                        "       -0.0168457 , -0.02178955]), 'sample_rate': 48000}, 'length': 60.0, 'annotations': []}\n",
                        "{'path': {'path': 'data/rfcx/wav/00204008d.wav', 'array': array([0.00753784, 0.0071106 , 0.00616455, ..., 0.0050354 , 0.00152588,\n",
                        "       0.00112915]), 'sample_rate': 48000}, 'length': 60.0, 'annotations': []}\n",
                        "{'path': {'path': 'data/rfcx/wav/00834f88e.wav', 'array': array([-0.06729126, -0.06689453, -0.05938721, ..., -0.01675415,\n",
                        "       -0.01593018, -0.00247192]), 'sample_rate': 48000}, 'length': 60.0, 'annotations': []}\n",
                        "{'path': {'path': 'data/rfcx/wav/003b04435.wav', 'array': array([ 0.00210571,  0.00793457,  0.00518799, ..., -0.01141357,\n",
                        "       -0.0168457 , -0.02178955]), 'sample_rate': 48000}, 'length': 60.0, 'annotations': []}\n"
                    ]
                }
            ],
            "source": [
                "from datasets import Dataset, Audio\n",
                "import pandas as pd\n",
                "import jsonlines\n",
                "\n",
                "def load_dataset(split_name):\n",
                "    with jsonlines.open(f'data/rfcx/{split_name}.jsonl', 'r') as reader:\n",
                "        data = list(reader)\n",
                "    df = pd.DataFrame(data)\n",
                "    dataset = Dataset.from_pandas(df)\n",
                "    dataset = dataset.cast_column('path', Audio())\n",
                "    return dataset\n",
                "\n",
                "splits = ['train', 'train-low', 'valid', 'test']\n",
                "datasets = {split: load_dataset(split) for split in splits}\n",
                "datasets['train_low'] = datasets.pop('train-low') # Rename split from train-low to train_low as HF does not accept -\n",
                "for split, dataset in datasets.items():\n",
                "    print(dataset[0])\n",
                "\n"
            ]
        },
        {
            "cell_type": "markdown",
            "metadata": {},
            "source": [
                "#### 3. Upload the datasets to HF"
            ]
        },
        {
            "cell_type": "code",
            "execution_count": 7,
            "metadata": {},
            "outputs": [
                {
                    "data": {
                        "application/vnd.jupyter.widget-view+json": {
                            "model_id": "45e844492c5b468087246b7806450fba",
                            "version_major": 2,
                            "version_minor": 0
                        },
                        "text/plain": [
                            "Uploading the dataset shards:   0%|          | 0/33 [00:00<?, ?it/s]"
                        ]
                    },
                    "metadata": {},
                    "output_type": "display_data"
                },
                {
                    "data": {
                        "application/vnd.jupyter.widget-view+json": {
                            "model_id": "acd7e183273c4061bea1b363b176199b",
                            "version_major": 2,
                            "version_minor": 0
                        },
                        "text/plain": [
                            "Map:   0%|          | 0/86 [00:00<?, ? examples/s]"
                        ]
                    },
                    "metadata": {},
                    "output_type": "display_data"
                },
                {
                    "data": {
                        "application/vnd.jupyter.widget-view+json": {
                            "model_id": "6e780ac992234f5aa374a2c7b28a1c4a",
                            "version_major": 2,
                            "version_minor": 0
                        },
                        "text/plain": [
                            "Creating parquet from Arrow format:   0%|          | 0/1 [00:00<?, ?ba/s]"
                        ]
                    },
                    "metadata": {},
                    "output_type": "display_data"
                },
                {
                    "data": {
                        "application/vnd.jupyter.widget-view+json": {
                            "model_id": "7aba3bbcd3574f0fb4754091e4811e30",
                            "version_major": 2,
                            "version_minor": 0
                        },
                        "text/plain": [
                            "Map:   0%|          | 0/86 [00:00<?, ? examples/s]"
                        ]
                    },
                    "metadata": {},
                    "output_type": "display_data"
                },
                {
                    "data": {
                        "application/vnd.jupyter.widget-view+json": {
                            "model_id": "1c091f9cce654a77ba5b74b763874241",
                            "version_major": 2,
                            "version_minor": 0
                        },
                        "text/plain": [
                            "Creating parquet from Arrow format:   0%|          | 0/1 [00:00<?, ?ba/s]"
                        ]
                    },
                    "metadata": {},
                    "output_type": "display_data"
                },
                {
                    "data": {
                        "application/vnd.jupyter.widget-view+json": {
                            "model_id": "72e16b95e5ad4612bb603085f8a7ab2b",
                            "version_major": 2,
                            "version_minor": 0
                        },
                        "text/plain": [
                            "Map:   0%|          | 0/86 [00:00<?, ? examples/s]"
                        ]
                    },
                    "metadata": {},
                    "output_type": "display_data"
                },
                {
                    "data": {
                        "application/vnd.jupyter.widget-view+json": {
                            "model_id": "96d7a2a63265407081e26f37ebd74301",
                            "version_major": 2,
                            "version_minor": 0
                        },
                        "text/plain": [
                            "Creating parquet from Arrow format:   0%|          | 0/1 [00:00<?, ?ba/s]"
                        ]
                    },
                    "metadata": {},
                    "output_type": "display_data"
                },
                {
                    "data": {
                        "application/vnd.jupyter.widget-view+json": {
                            "model_id": "70a9f1459f3746c297b7bb7a6dd8bf09",
                            "version_major": 2,
                            "version_minor": 0
                        },
                        "text/plain": [
                            "Map:   0%|          | 0/86 [00:00<?, ? examples/s]"
                        ]
                    },
                    "metadata": {},
                    "output_type": "display_data"
                },
                {
                    "data": {
                        "application/vnd.jupyter.widget-view+json": {
                            "model_id": "857494cad9694405b2e29c0a74ccde93",
                            "version_major": 2,
                            "version_minor": 0
                        },
                        "text/plain": [
                            "Creating parquet from Arrow format:   0%|          | 0/1 [00:00<?, ?ba/s]"
                        ]
                    },
                    "metadata": {},
                    "output_type": "display_data"
                },
                {
                    "data": {
                        "application/vnd.jupyter.widget-view+json": {
                            "model_id": "1e06555d219d4ebf967f3aae275443f8",
                            "version_major": 2,
                            "version_minor": 0
                        },
                        "text/plain": [
                            "Map:   0%|          | 0/86 [00:00<?, ? examples/s]"
                        ]
                    },
                    "metadata": {},
                    "output_type": "display_data"
                },
                {
                    "data": {
                        "application/vnd.jupyter.widget-view+json": {
                            "model_id": "6c9cfeb064984a45b66bd92ad4060da6",
                            "version_major": 2,
                            "version_minor": 0
                        },
                        "text/plain": [
                            "Creating parquet from Arrow format:   0%|          | 0/1 [00:00<?, ?ba/s]"
                        ]
                    },
                    "metadata": {},
                    "output_type": "display_data"
                },
                {
                    "data": {
                        "application/vnd.jupyter.widget-view+json": {
                            "model_id": "26714ae59e7d4440b436b820e7d41076",
                            "version_major": 2,
                            "version_minor": 0
                        },
                        "text/plain": [
                            "Map:   0%|          | 0/86 [00:00<?, ? examples/s]"
                        ]
                    },
                    "metadata": {},
                    "output_type": "display_data"
                },
                {
                    "data": {
                        "application/vnd.jupyter.widget-view+json": {
                            "model_id": "12e8187e8f8c4a178e7e2d78e404fa9f",
                            "version_major": 2,
                            "version_minor": 0
                        },
                        "text/plain": [
                            "Creating parquet from Arrow format:   0%|          | 0/1 [00:00<?, ?ba/s]"
                        ]
                    },
                    "metadata": {},
                    "output_type": "display_data"
                },
                {
                    "data": {
                        "application/vnd.jupyter.widget-view+json": {
                            "model_id": "069940a6ce2748778bc6cec3a0bf92bf",
                            "version_major": 2,
                            "version_minor": 0
                        },
                        "text/plain": [
                            "Map:   0%|          | 0/86 [00:00<?, ? examples/s]"
                        ]
                    },
                    "metadata": {},
                    "output_type": "display_data"
                },
                {
                    "data": {
                        "application/vnd.jupyter.widget-view+json": {
                            "model_id": "98aaf06e4d3746aa8d6c86cadeb16475",
                            "version_major": 2,
                            "version_minor": 0
                        },
                        "text/plain": [
                            "Creating parquet from Arrow format:   0%|          | 0/1 [00:00<?, ?ba/s]"
                        ]
                    },
                    "metadata": {},
                    "output_type": "display_data"
                },
                {
                    "data": {
                        "application/vnd.jupyter.widget-view+json": {
                            "model_id": "aea26197470a4395be417c6eb4cfd707",
                            "version_major": 2,
                            "version_minor": 0
                        },
                        "text/plain": [
                            "Map:   0%|          | 0/86 [00:00<?, ? examples/s]"
                        ]
                    },
                    "metadata": {},
                    "output_type": "display_data"
                },
                {
                    "data": {
                        "application/vnd.jupyter.widget-view+json": {
                            "model_id": "cfab99dbe51f472d902fc58c496c98e3",
                            "version_major": 2,
                            "version_minor": 0
                        },
                        "text/plain": [
                            "Creating parquet from Arrow format:   0%|          | 0/1 [00:00<?, ?ba/s]"
                        ]
                    },
                    "metadata": {},
                    "output_type": "display_data"
                },
                {
                    "data": {
                        "application/vnd.jupyter.widget-view+json": {
                            "model_id": "0b01a2b633ea41f9989df95b088d926a",
                            "version_major": 2,
                            "version_minor": 0
                        },
                        "text/plain": [
                            "Map:   0%|          | 0/86 [00:00<?, ? examples/s]"
                        ]
                    },
                    "metadata": {},
                    "output_type": "display_data"
                },
                {
                    "data": {
                        "application/vnd.jupyter.widget-view+json": {
                            "model_id": "2f9f5e21afd04018928e4d0819483235",
                            "version_major": 2,
                            "version_minor": 0
                        },
                        "text/plain": [
                            "Creating parquet from Arrow format:   0%|          | 0/1 [00:00<?, ?ba/s]"
                        ]
                    },
                    "metadata": {},
                    "output_type": "display_data"
                },
                {
                    "data": {
                        "application/vnd.jupyter.widget-view+json": {
                            "model_id": "71123569d49d48ce9ee535f0cb7f2efd",
                            "version_major": 2,
                            "version_minor": 0
                        },
                        "text/plain": [
                            "Map:   0%|          | 0/86 [00:00<?, ? examples/s]"
                        ]
                    },
                    "metadata": {},
                    "output_type": "display_data"
                },
                {
                    "data": {
                        "application/vnd.jupyter.widget-view+json": {
                            "model_id": "58226be5bff84d8dbbec0ca8b63f9b0e",
                            "version_major": 2,
                            "version_minor": 0
                        },
                        "text/plain": [
                            "Creating parquet from Arrow format:   0%|          | 0/1 [00:00<?, ?ba/s]"
                        ]
                    },
                    "metadata": {},
                    "output_type": "display_data"
                },
                {
                    "data": {
                        "application/vnd.jupyter.widget-view+json": {
                            "model_id": "eb54c364a92d4b36ba341f0eb93c8a94",
                            "version_major": 2,
                            "version_minor": 0
                        },
                        "text/plain": [
                            "Map:   0%|          | 0/86 [00:00<?, ? examples/s]"
                        ]
                    },
                    "metadata": {},
                    "output_type": "display_data"
                },
                {
                    "data": {
                        "application/vnd.jupyter.widget-view+json": {
                            "model_id": "ed25d894f0804fe3ac6bcf18cd03dc4f",
                            "version_major": 2,
                            "version_minor": 0
                        },
                        "text/plain": [
                            "Creating parquet from Arrow format:   0%|          | 0/1 [00:00<?, ?ba/s]"
                        ]
                    },
                    "metadata": {},
                    "output_type": "display_data"
                },
                {
                    "data": {
                        "application/vnd.jupyter.widget-view+json": {
                            "model_id": "62f81c0f4f5340d3bbbc9f03ea0e1831",
                            "version_major": 2,
                            "version_minor": 0
                        },
                        "text/plain": [
                            "Map:   0%|          | 0/86 [00:00<?, ? examples/s]"
                        ]
                    },
                    "metadata": {},
                    "output_type": "display_data"
                },
                {
                    "data": {
                        "application/vnd.jupyter.widget-view+json": {
                            "model_id": "6b5f8f80fdd34b799ac50529362d790a",
                            "version_major": 2,
                            "version_minor": 0
                        },
                        "text/plain": [
                            "Creating parquet from Arrow format:   0%|          | 0/1 [00:00<?, ?ba/s]"
                        ]
                    },
                    "metadata": {},
                    "output_type": "display_data"
                },
                {
                    "data": {
                        "application/vnd.jupyter.widget-view+json": {
                            "model_id": "962e50bdd13a44cf8d1275196106ad7e",
                            "version_major": 2,
                            "version_minor": 0
                        },
                        "text/plain": [
                            "Map:   0%|          | 0/86 [00:00<?, ? examples/s]"
                        ]
                    },
                    "metadata": {},
                    "output_type": "display_data"
                },
                {
                    "data": {
                        "application/vnd.jupyter.widget-view+json": {
                            "model_id": "24fb7d48ec26477fb0091df669611249",
                            "version_major": 2,
                            "version_minor": 0
                        },
                        "text/plain": [
                            "Creating parquet from Arrow format:   0%|          | 0/1 [00:00<?, ?ba/s]"
                        ]
                    },
                    "metadata": {},
                    "output_type": "display_data"
                },
                {
                    "data": {
                        "application/vnd.jupyter.widget-view+json": {
                            "model_id": "7070f262c9a44de2919ccae5ac9cbd00",
                            "version_major": 2,
                            "version_minor": 0
                        },
                        "text/plain": [
                            "Map:   0%|          | 0/86 [00:00<?, ? examples/s]"
                        ]
                    },
                    "metadata": {},
                    "output_type": "display_data"
                },
                {
                    "data": {
                        "application/vnd.jupyter.widget-view+json": {
                            "model_id": "017f178f45ae48c68487b2f27c3068e0",
                            "version_major": 2,
                            "version_minor": 0
                        },
                        "text/plain": [
                            "Creating parquet from Arrow format:   0%|          | 0/1 [00:00<?, ?ba/s]"
                        ]
                    },
                    "metadata": {},
                    "output_type": "display_data"
                },
                {
                    "data": {
                        "application/vnd.jupyter.widget-view+json": {
                            "model_id": "0ab7890673944c3896344df8d45b3253",
                            "version_major": 2,
                            "version_minor": 0
                        },
                        "text/plain": [
                            "Map:   0%|          | 0/86 [00:00<?, ? examples/s]"
                        ]
                    },
                    "metadata": {},
                    "output_type": "display_data"
                },
                {
                    "data": {
                        "application/vnd.jupyter.widget-view+json": {
                            "model_id": "c22b8b1ffb86455ebee0e4b0c320cfb8",
                            "version_major": 2,
                            "version_minor": 0
                        },
                        "text/plain": [
                            "Creating parquet from Arrow format:   0%|          | 0/1 [00:00<?, ?ba/s]"
                        ]
                    },
                    "metadata": {},
                    "output_type": "display_data"
                },
                {
                    "data": {
                        "application/vnd.jupyter.widget-view+json": {
                            "model_id": "891b051968774550b43734bb159a7dfe",
                            "version_major": 2,
                            "version_minor": 0
                        },
                        "text/plain": [
                            "Map:   0%|          | 0/86 [00:00<?, ? examples/s]"
                        ]
                    },
                    "metadata": {},
                    "output_type": "display_data"
                },
                {
                    "data": {
                        "application/vnd.jupyter.widget-view+json": {
                            "model_id": "ccaca0ef471645d2b44d95b6a357cc07",
                            "version_major": 2,
                            "version_minor": 0
                        },
                        "text/plain": [
                            "Creating parquet from Arrow format:   0%|          | 0/1 [00:00<?, ?ba/s]"
                        ]
                    },
                    "metadata": {},
                    "output_type": "display_data"
                },
                {
                    "data": {
                        "application/vnd.jupyter.widget-view+json": {
                            "model_id": "7e8535df6385493fa46f00a8b98133c5",
                            "version_major": 2,
                            "version_minor": 0
                        },
                        "text/plain": [
                            "Map:   0%|          | 0/86 [00:00<?, ? examples/s]"
                        ]
                    },
                    "metadata": {},
                    "output_type": "display_data"
                },
                {
                    "data": {
                        "application/vnd.jupyter.widget-view+json": {
                            "model_id": "dcea53e1acc144b7ac8eef3982238131",
                            "version_major": 2,
                            "version_minor": 0
                        },
                        "text/plain": [
                            "Creating parquet from Arrow format:   0%|          | 0/1 [00:00<?, ?ba/s]"
                        ]
                    },
                    "metadata": {},
                    "output_type": "display_data"
                },
                {
                    "data": {
                        "application/vnd.jupyter.widget-view+json": {
                            "model_id": "e5340bf6a4554ca9b79a906be9eb9b7b",
                            "version_major": 2,
                            "version_minor": 0
                        },
                        "text/plain": [
                            "Map:   0%|          | 0/86 [00:00<?, ? examples/s]"
                        ]
                    },
                    "metadata": {},
                    "output_type": "display_data"
                },
                {
                    "data": {
                        "application/vnd.jupyter.widget-view+json": {
                            "model_id": "a9bb9e10e95549cfbb9221e833a96171",
                            "version_major": 2,
                            "version_minor": 0
                        },
                        "text/plain": [
                            "Creating parquet from Arrow format:   0%|          | 0/1 [00:00<?, ?ba/s]"
                        ]
                    },
                    "metadata": {},
                    "output_type": "display_data"
                },
                {
                    "data": {
                        "application/vnd.jupyter.widget-view+json": {
                            "model_id": "2f2abe409335482aa6b53ce3fcad5bf3",
                            "version_major": 2,
                            "version_minor": 0
                        },
                        "text/plain": [
                            "Map:   0%|          | 0/86 [00:00<?, ? examples/s]"
                        ]
                    },
                    "metadata": {},
                    "output_type": "display_data"
                },
                {
                    "data": {
                        "application/vnd.jupyter.widget-view+json": {
                            "model_id": "0c26d24bf43f443f894fd2e87607b3b2",
                            "version_major": 2,
                            "version_minor": 0
                        },
                        "text/plain": [
                            "Creating parquet from Arrow format:   0%|          | 0/1 [00:00<?, ?ba/s]"
                        ]
                    },
                    "metadata": {},
                    "output_type": "display_data"
                },
                {
                    "data": {
                        "application/vnd.jupyter.widget-view+json": {
                            "model_id": "8359cf532824445d80994f9f72bb9af3",
                            "version_major": 2,
                            "version_minor": 0
                        },
                        "text/plain": [
                            "Map:   0%|          | 0/86 [00:00<?, ? examples/s]"
                        ]
                    },
                    "metadata": {},
                    "output_type": "display_data"
                },
                {
                    "data": {
                        "application/vnd.jupyter.widget-view+json": {
                            "model_id": "4c1d928048dc490d8b07848b1e1a8869",
                            "version_major": 2,
                            "version_minor": 0
                        },
                        "text/plain": [
                            "Creating parquet from Arrow format:   0%|          | 0/1 [00:00<?, ?ba/s]"
                        ]
                    },
                    "metadata": {},
                    "output_type": "display_data"
                },
                {
                    "data": {
                        "application/vnd.jupyter.widget-view+json": {
                            "model_id": "72254f2bd823458baeb5ea288388170e",
                            "version_major": 2,
                            "version_minor": 0
                        },
                        "text/plain": [
                            "Map:   0%|          | 0/86 [00:00<?, ? examples/s]"
                        ]
                    },
                    "metadata": {},
                    "output_type": "display_data"
                },
                {
                    "data": {
                        "application/vnd.jupyter.widget-view+json": {
                            "model_id": "03eab924034846e7a2cb35a077948443",
                            "version_major": 2,
                            "version_minor": 0
                        },
                        "text/plain": [
                            "Creating parquet from Arrow format:   0%|          | 0/1 [00:00<?, ?ba/s]"
                        ]
                    },
                    "metadata": {},
                    "output_type": "display_data"
                },
                {
                    "data": {
                        "application/vnd.jupyter.widget-view+json": {
                            "model_id": "36bea8da916145f1af424a293ae05463",
                            "version_major": 2,
                            "version_minor": 0
                        },
                        "text/plain": [
                            "Map:   0%|          | 0/86 [00:00<?, ? examples/s]"
                        ]
                    },
                    "metadata": {},
                    "output_type": "display_data"
                },
                {
                    "data": {
                        "application/vnd.jupyter.widget-view+json": {
                            "model_id": "c40fda83f3a948e783a6fc12b5b15b24",
                            "version_major": 2,
                            "version_minor": 0
                        },
                        "text/plain": [
                            "Creating parquet from Arrow format:   0%|          | 0/1 [00:00<?, ?ba/s]"
                        ]
                    },
                    "metadata": {},
                    "output_type": "display_data"
                },
                {
                    "data": {
                        "application/vnd.jupyter.widget-view+json": {
                            "model_id": "028d72f8ca71452395549361c018eaa1",
                            "version_major": 2,
                            "version_minor": 0
                        },
                        "text/plain": [
                            "Map:   0%|          | 0/86 [00:00<?, ? examples/s]"
                        ]
                    },
                    "metadata": {},
                    "output_type": "display_data"
                },
                {
                    "data": {
                        "application/vnd.jupyter.widget-view+json": {
                            "model_id": "c1df305db48b4f8fa7ab635b79c27109",
                            "version_major": 2,
                            "version_minor": 0
                        },
                        "text/plain": [
                            "Creating parquet from Arrow format:   0%|          | 0/1 [00:00<?, ?ba/s]"
                        ]
                    },
                    "metadata": {},
                    "output_type": "display_data"
                },
                {
                    "data": {
                        "application/vnd.jupyter.widget-view+json": {
                            "model_id": "fe7a06adf8b34e0ab33c5ab403e43a01",
                            "version_major": 2,
                            "version_minor": 0
                        },
                        "text/plain": [
                            "Map:   0%|          | 0/86 [00:00<?, ? examples/s]"
                        ]
                    },
                    "metadata": {},
                    "output_type": "display_data"
                },
                {
                    "data": {
                        "application/vnd.jupyter.widget-view+json": {
                            "model_id": "4221fd1285334f31a01fbf536fff1aaa",
                            "version_major": 2,
                            "version_minor": 0
                        },
                        "text/plain": [
                            "Creating parquet from Arrow format:   0%|          | 0/1 [00:00<?, ?ba/s]"
                        ]
                    },
                    "metadata": {},
                    "output_type": "display_data"
                },
                {
                    "data": {
                        "application/vnd.jupyter.widget-view+json": {
                            "model_id": "75676c346edc495cac7106ee24bf56fc",
                            "version_major": 2,
                            "version_minor": 0
                        },
                        "text/plain": [
                            "Map:   0%|          | 0/86 [00:00<?, ? examples/s]"
                        ]
                    },
                    "metadata": {},
                    "output_type": "display_data"
                },
                {
                    "data": {
                        "application/vnd.jupyter.widget-view+json": {
                            "model_id": "0c007929f37b4eb182448f88311d8ca3",
                            "version_major": 2,
                            "version_minor": 0
                        },
                        "text/plain": [
                            "Creating parquet from Arrow format:   0%|          | 0/1 [00:00<?, ?ba/s]"
                        ]
                    },
                    "metadata": {},
                    "output_type": "display_data"
                },
                {
                    "data": {
                        "application/vnd.jupyter.widget-view+json": {
                            "model_id": "d6fa441132284d7c8f819158495a83a3",
                            "version_major": 2,
                            "version_minor": 0
                        },
                        "text/plain": [
                            "Map:   0%|          | 0/86 [00:00<?, ? examples/s]"
                        ]
                    },
                    "metadata": {},
                    "output_type": "display_data"
                },
                {
                    "data": {
                        "application/vnd.jupyter.widget-view+json": {
                            "model_id": "c70670a8a76946359c3481ae9954bbf0",
                            "version_major": 2,
                            "version_minor": 0
                        },
                        "text/plain": [
                            "Creating parquet from Arrow format:   0%|          | 0/1 [00:00<?, ?ba/s]"
                        ]
                    },
                    "metadata": {},
                    "output_type": "display_data"
                },
                {
                    "data": {
                        "application/vnd.jupyter.widget-view+json": {
                            "model_id": "d56fff42ad6e4c4f99b538c5054fa57d",
                            "version_major": 2,
                            "version_minor": 0
                        },
                        "text/plain": [
                            "Map:   0%|          | 0/86 [00:00<?, ? examples/s]"
                        ]
                    },
                    "metadata": {},
                    "output_type": "display_data"
                },
                {
                    "data": {
                        "application/vnd.jupyter.widget-view+json": {
                            "model_id": "38ac584693794e72b42d07948a4bb895",
                            "version_major": 2,
                            "version_minor": 0
                        },
                        "text/plain": [
                            "Creating parquet from Arrow format:   0%|          | 0/1 [00:00<?, ?ba/s]"
                        ]
                    },
                    "metadata": {},
                    "output_type": "display_data"
                },
                {
                    "data": {
                        "application/vnd.jupyter.widget-view+json": {
                            "model_id": "2773419b237347f9be2fe10e24686268",
                            "version_major": 2,
                            "version_minor": 0
                        },
                        "text/plain": [
                            "Map:   0%|          | 0/86 [00:00<?, ? examples/s]"
                        ]
                    },
                    "metadata": {},
                    "output_type": "display_data"
                },
                {
                    "data": {
                        "application/vnd.jupyter.widget-view+json": {
                            "model_id": "462e3a90468b41679b7c1477ba52ca9e",
                            "version_major": 2,
                            "version_minor": 0
                        },
                        "text/plain": [
                            "Creating parquet from Arrow format:   0%|          | 0/1 [00:00<?, ?ba/s]"
                        ]
                    },
                    "metadata": {},
                    "output_type": "display_data"
                },
                {
                    "data": {
                        "application/vnd.jupyter.widget-view+json": {
                            "model_id": "9f4b9645b0dd4ba09d23c1c60715f6eb",
                            "version_major": 2,
                            "version_minor": 0
                        },
                        "text/plain": [
                            "Map:   0%|          | 0/86 [00:00<?, ? examples/s]"
                        ]
                    },
                    "metadata": {},
                    "output_type": "display_data"
                },
                {
                    "data": {
                        "application/vnd.jupyter.widget-view+json": {
                            "model_id": "6dd9ab66588e4b95b8d991b58c730f70",
                            "version_major": 2,
                            "version_minor": 0
                        },
                        "text/plain": [
                            "Creating parquet from Arrow format:   0%|          | 0/1 [00:00<?, ?ba/s]"
                        ]
                    },
                    "metadata": {},
                    "output_type": "display_data"
                },
                {
                    "data": {
                        "application/vnd.jupyter.widget-view+json": {
                            "model_id": "2b28ff9313844273b42dc12c465bcf3e",
                            "version_major": 2,
                            "version_minor": 0
                        },
                        "text/plain": [
                            "Map:   0%|          | 0/86 [00:00<?, ? examples/s]"
                        ]
                    },
                    "metadata": {},
                    "output_type": "display_data"
                },
                {
                    "data": {
                        "application/vnd.jupyter.widget-view+json": {
                            "model_id": "424e7c2a2d154ac3a99fe901cfe4f621",
                            "version_major": 2,
                            "version_minor": 0
                        },
                        "text/plain": [
                            "Creating parquet from Arrow format:   0%|          | 0/1 [00:00<?, ?ba/s]"
                        ]
                    },
                    "metadata": {},
                    "output_type": "display_data"
                },
                {
                    "data": {
                        "application/vnd.jupyter.widget-view+json": {
                            "model_id": "c8ce3a312e8e47b1bc1162996ebb56ab",
                            "version_major": 2,
                            "version_minor": 0
                        },
                        "text/plain": [
                            "Map:   0%|          | 0/86 [00:00<?, ? examples/s]"
                        ]
                    },
                    "metadata": {},
                    "output_type": "display_data"
                },
                {
                    "data": {
                        "application/vnd.jupyter.widget-view+json": {
                            "model_id": "d21c00c38e1246879668a9846de09fd2",
                            "version_major": 2,
                            "version_minor": 0
                        },
                        "text/plain": [
                            "Creating parquet from Arrow format:   0%|          | 0/1 [00:00<?, ?ba/s]"
                        ]
                    },
                    "metadata": {},
                    "output_type": "display_data"
                },
                {
                    "data": {
                        "application/vnd.jupyter.widget-view+json": {
                            "model_id": "78d03543d286418e97d43b4bf8cc44bb",
                            "version_major": 2,
                            "version_minor": 0
                        },
                        "text/plain": [
                            "Map:   0%|          | 0/85 [00:00<?, ? examples/s]"
                        ]
                    },
                    "metadata": {},
                    "output_type": "display_data"
                },
                {
                    "data": {
                        "application/vnd.jupyter.widget-view+json": {
                            "model_id": "2b65d5cafd5e48d7be95098680a35199",
                            "version_major": 2,
                            "version_minor": 0
                        },
                        "text/plain": [
                            "Creating parquet from Arrow format:   0%|          | 0/1 [00:00<?, ?ba/s]"
                        ]
                    },
                    "metadata": {},
                    "output_type": "display_data"
                },
                {
                    "data": {
                        "application/vnd.jupyter.widget-view+json": {
                            "model_id": "94bf3ba8915f480bb7c379262f858975",
                            "version_major": 2,
                            "version_minor": 0
                        },
                        "text/plain": [
                            "Map:   0%|          | 0/85 [00:00<?, ? examples/s]"
                        ]
                    },
                    "metadata": {},
                    "output_type": "display_data"
                },
                {
                    "data": {
                        "application/vnd.jupyter.widget-view+json": {
                            "model_id": "01abe474845e4930b560fc0d869197be",
                            "version_major": 2,
                            "version_minor": 0
                        },
                        "text/plain": [
                            "Creating parquet from Arrow format:   0%|          | 0/1 [00:00<?, ?ba/s]"
                        ]
                    },
                    "metadata": {},
                    "output_type": "display_data"
                },
                {
                    "data": {
                        "application/vnd.jupyter.widget-view+json": {
                            "model_id": "d07fa1425b34473eb2b0ca100d5acb03",
                            "version_major": 2,
                            "version_minor": 0
                        },
                        "text/plain": [
                            "Uploading the dataset shards:   0%|          | 0/11 [00:00<?, ?it/s]"
                        ]
                    },
                    "metadata": {},
                    "output_type": "display_data"
                },
                {
                    "data": {
                        "application/vnd.jupyter.widget-view+json": {
                            "model_id": "037006a6927e4ad785294d53b4062c88",
                            "version_major": 2,
                            "version_minor": 0
                        },
                        "text/plain": [
                            "Map:   0%|          | 0/86 [00:00<?, ? examples/s]"
                        ]
                    },
                    "metadata": {},
                    "output_type": "display_data"
                },
                {
                    "data": {
                        "application/vnd.jupyter.widget-view+json": {
                            "model_id": "052942edb4994ddcb2d5a48f3c8761d0",
                            "version_major": 2,
                            "version_minor": 0
                        },
                        "text/plain": [
                            "Creating parquet from Arrow format:   0%|          | 0/1 [00:00<?, ?ba/s]"
                        ]
                    },
                    "metadata": {},
                    "output_type": "display_data"
                },
                {
                    "data": {
                        "application/vnd.jupyter.widget-view+json": {
                            "model_id": "c14ce40d80354b688cb3b1338dc1928c",
                            "version_major": 2,
                            "version_minor": 0
                        },
                        "text/plain": [
                            "Map:   0%|          | 0/86 [00:00<?, ? examples/s]"
                        ]
                    },
                    "metadata": {},
                    "output_type": "display_data"
                },
                {
                    "data": {
                        "application/vnd.jupyter.widget-view+json": {
                            "model_id": "edb35015bb5f437386eb3497977309ca",
                            "version_major": 2,
                            "version_minor": 0
                        },
                        "text/plain": [
                            "Creating parquet from Arrow format:   0%|          | 0/1 [00:00<?, ?ba/s]"
                        ]
                    },
                    "metadata": {},
                    "output_type": "display_data"
                },
                {
                    "data": {
                        "application/vnd.jupyter.widget-view+json": {
                            "model_id": "e02c279e01414e399de068c8a9d1d2b1",
                            "version_major": 2,
                            "version_minor": 0
                        },
                        "text/plain": [
                            "Map:   0%|          | 0/86 [00:00<?, ? examples/s]"
                        ]
                    },
                    "metadata": {},
                    "output_type": "display_data"
                },
                {
                    "data": {
                        "application/vnd.jupyter.widget-view+json": {
                            "model_id": "3efbdeeeda9e4dbf9894c5c9e7d01d79",
                            "version_major": 2,
                            "version_minor": 0
                        },
                        "text/plain": [
                            "Creating parquet from Arrow format:   0%|          | 0/1 [00:00<?, ?ba/s]"
                        ]
                    },
                    "metadata": {},
                    "output_type": "display_data"
                },
                {
                    "data": {
                        "application/vnd.jupyter.widget-view+json": {
                            "model_id": "6e8863a3b1c840fda910c0176fb4a2fb",
                            "version_major": 2,
                            "version_minor": 0
                        },
                        "text/plain": [
                            "Map:   0%|          | 0/86 [00:00<?, ? examples/s]"
                        ]
                    },
                    "metadata": {},
                    "output_type": "display_data"
                },
                {
                    "data": {
                        "application/vnd.jupyter.widget-view+json": {
                            "model_id": "273476f0949b40549e306d53d179aebd",
                            "version_major": 2,
                            "version_minor": 0
                        },
                        "text/plain": [
                            "Creating parquet from Arrow format:   0%|          | 0/1 [00:00<?, ?ba/s]"
                        ]
                    },
                    "metadata": {},
                    "output_type": "display_data"
                },
                {
                    "data": {
                        "application/vnd.jupyter.widget-view+json": {
                            "model_id": "d08e08ac59ab44a99225a84ffea10067",
                            "version_major": 2,
                            "version_minor": 0
                        },
                        "text/plain": [
                            "Map:   0%|          | 0/86 [00:00<?, ? examples/s]"
                        ]
                    },
                    "metadata": {},
                    "output_type": "display_data"
                },
                {
                    "data": {
                        "application/vnd.jupyter.widget-view+json": {
                            "model_id": "a1b537b36274451d8e71b8b1456ec24a",
                            "version_major": 2,
                            "version_minor": 0
                        },
                        "text/plain": [
                            "Creating parquet from Arrow format:   0%|          | 0/1 [00:00<?, ?ba/s]"
                        ]
                    },
                    "metadata": {},
                    "output_type": "display_data"
                },
                {
                    "data": {
                        "application/vnd.jupyter.widget-view+json": {
                            "model_id": "905ecb73b4d1435a8fd2144e4699df81",
                            "version_major": 2,
                            "version_minor": 0
                        },
                        "text/plain": [
                            "Map:   0%|          | 0/86 [00:00<?, ? examples/s]"
                        ]
                    },
                    "metadata": {},
                    "output_type": "display_data"
                },
                {
                    "data": {
                        "application/vnd.jupyter.widget-view+json": {
                            "model_id": "4e71904c914a45999952203bbdf1e958",
                            "version_major": 2,
                            "version_minor": 0
                        },
                        "text/plain": [
                            "Creating parquet from Arrow format:   0%|          | 0/1 [00:00<?, ?ba/s]"
                        ]
                    },
                    "metadata": {},
                    "output_type": "display_data"
                },
                {
                    "data": {
                        "application/vnd.jupyter.widget-view+json": {
                            "model_id": "ea807c2d8d20437e905e2b5fc3046cf8",
                            "version_major": 2,
                            "version_minor": 0
                        },
                        "text/plain": [
                            "Map:   0%|          | 0/86 [00:00<?, ? examples/s]"
                        ]
                    },
                    "metadata": {},
                    "output_type": "display_data"
                },
                {
                    "data": {
                        "application/vnd.jupyter.widget-view+json": {
                            "model_id": "b004e7a03b64481d9baf918911b0242e",
                            "version_major": 2,
                            "version_minor": 0
                        },
                        "text/plain": [
                            "Creating parquet from Arrow format:   0%|          | 0/1 [00:00<?, ?ba/s]"
                        ]
                    },
                    "metadata": {},
                    "output_type": "display_data"
                },
                {
                    "data": {
                        "application/vnd.jupyter.widget-view+json": {
                            "model_id": "ebabde1ba9b748eebecff0bb920e25e5",
                            "version_major": 2,
                            "version_minor": 0
                        },
                        "text/plain": [
                            "Map:   0%|          | 0/86 [00:00<?, ? examples/s]"
                        ]
                    },
                    "metadata": {},
                    "output_type": "display_data"
                },
                {
                    "data": {
                        "application/vnd.jupyter.widget-view+json": {
                            "model_id": "3135ae8eecfc49a5a36080db88647002",
                            "version_major": 2,
                            "version_minor": 0
                        },
                        "text/plain": [
                            "Creating parquet from Arrow format:   0%|          | 0/1 [00:00<?, ?ba/s]"
                        ]
                    },
                    "metadata": {},
                    "output_type": "display_data"
                },
                {
                    "data": {
                        "application/vnd.jupyter.widget-view+json": {
                            "model_id": "bb6e681626d94d7cbd63b232a2ca8917",
                            "version_major": 2,
                            "version_minor": 0
                        },
                        "text/plain": [
                            "Map:   0%|          | 0/86 [00:00<?, ? examples/s]"
                        ]
                    },
                    "metadata": {},
                    "output_type": "display_data"
                },
                {
                    "data": {
                        "application/vnd.jupyter.widget-view+json": {
                            "model_id": "63c743b4ac064aa4b793962b88adbc9a",
                            "version_major": 2,
                            "version_minor": 0
                        },
                        "text/plain": [
                            "Creating parquet from Arrow format:   0%|          | 0/1 [00:00<?, ?ba/s]"
                        ]
                    },
                    "metadata": {},
                    "output_type": "display_data"
                },
                {
                    "data": {
                        "application/vnd.jupyter.widget-view+json": {
                            "model_id": "f4fdbf3fd8804c7d9bde071ae45acd88",
                            "version_major": 2,
                            "version_minor": 0
                        },
                        "text/plain": [
                            "Map:   0%|          | 0/86 [00:00<?, ? examples/s]"
                        ]
                    },
                    "metadata": {},
                    "output_type": "display_data"
                },
                {
                    "data": {
                        "application/vnd.jupyter.widget-view+json": {
                            "model_id": "3c9233685d144a34bf26b49b54b2e9f8",
                            "version_major": 2,
                            "version_minor": 0
                        },
                        "text/plain": [
                            "Creating parquet from Arrow format:   0%|          | 0/1 [00:00<?, ?ba/s]"
                        ]
                    },
                    "metadata": {},
                    "output_type": "display_data"
                },
                {
                    "data": {
                        "application/vnd.jupyter.widget-view+json": {
                            "model_id": "e9051d7571d149209727065d9a9793fa",
                            "version_major": 2,
                            "version_minor": 0
                        },
                        "text/plain": [
                            "Map:   0%|          | 0/85 [00:00<?, ? examples/s]"
                        ]
                    },
                    "metadata": {},
                    "output_type": "display_data"
                },
                {
                    "data": {
                        "application/vnd.jupyter.widget-view+json": {
                            "model_id": "b70118749f1f4b0db635f1934fe5eed1",
                            "version_major": 2,
                            "version_minor": 0
                        },
                        "text/plain": [
                            "Creating parquet from Arrow format:   0%|          | 0/1 [00:00<?, ?ba/s]"
                        ]
                    },
                    "metadata": {},
                    "output_type": "display_data"
                },
                {
                    "data": {
                        "application/vnd.jupyter.widget-view+json": {
                            "model_id": "a89cdfa6fcfb470f8251f766f1aeee8e",
                            "version_major": 2,
                            "version_minor": 0
                        },
                        "text/plain": [
                            "README.md:   0%|          | 0.00/466 [00:00<?, ?B/s]"
                        ]
                    },
                    "metadata": {},
                    "output_type": "display_data"
                },
                {
                    "data": {
                        "application/vnd.jupyter.widget-view+json": {
                            "model_id": "b9470a56dfd3479690497bbe3a13c2ac",
                            "version_major": 2,
                            "version_minor": 0
                        },
                        "text/plain": [
                            "Uploading the dataset shards:   0%|          | 0/11 [00:00<?, ?it/s]"
                        ]
                    },
                    "metadata": {},
                    "output_type": "display_data"
                },
                {
                    "data": {
                        "application/vnd.jupyter.widget-view+json": {
                            "model_id": "25b56856fdc945a69b17b0caf3a68f9c",
                            "version_major": 2,
                            "version_minor": 0
                        },
                        "text/plain": [
                            "Map:   0%|          | 0/86 [00:00<?, ? examples/s]"
                        ]
                    },
                    "metadata": {},
                    "output_type": "display_data"
                },
                {
                    "data": {
                        "application/vnd.jupyter.widget-view+json": {
                            "model_id": "8d11cc2c6eea45ebbf3ddf0764e1d206",
                            "version_major": 2,
                            "version_minor": 0
                        },
                        "text/plain": [
                            "Creating parquet from Arrow format:   0%|          | 0/1 [00:00<?, ?ba/s]"
                        ]
                    },
                    "metadata": {},
                    "output_type": "display_data"
                },
                {
                    "data": {
                        "application/vnd.jupyter.widget-view+json": {
                            "model_id": "dab656b5967a4dfca05f5686b8ccefba",
                            "version_major": 2,
                            "version_minor": 0
                        },
                        "text/plain": [
                            "Map:   0%|          | 0/86 [00:00<?, ? examples/s]"
                        ]
                    },
                    "metadata": {},
                    "output_type": "display_data"
                },
                {
                    "data": {
                        "application/vnd.jupyter.widget-view+json": {
                            "model_id": "bd78e6176cab4aaca283312bab2cd170",
                            "version_major": 2,
                            "version_minor": 0
                        },
                        "text/plain": [
                            "Creating parquet from Arrow format:   0%|          | 0/1 [00:00<?, ?ba/s]"
                        ]
                    },
                    "metadata": {},
                    "output_type": "display_data"
                },
                {
                    "data": {
                        "application/vnd.jupyter.widget-view+json": {
                            "model_id": "57a589be4d8b4cb390500a8811bf14d8",
                            "version_major": 2,
                            "version_minor": 0
                        },
                        "text/plain": [
                            "Map:   0%|          | 0/86 [00:00<?, ? examples/s]"
                        ]
                    },
                    "metadata": {},
                    "output_type": "display_data"
                },
                {
                    "data": {
                        "application/vnd.jupyter.widget-view+json": {
                            "model_id": "0b1cce65e0c44b0eb444693d3a851d34",
                            "version_major": 2,
                            "version_minor": 0
                        },
                        "text/plain": [
                            "Creating parquet from Arrow format:   0%|          | 0/1 [00:00<?, ?ba/s]"
                        ]
                    },
                    "metadata": {},
                    "output_type": "display_data"
                },
                {
                    "data": {
                        "application/vnd.jupyter.widget-view+json": {
                            "model_id": "e9df91b6e09d45dd8413b730b0b6e938",
                            "version_major": 2,
                            "version_minor": 0
                        },
                        "text/plain": [
                            "Map:   0%|          | 0/86 [00:00<?, ? examples/s]"
                        ]
                    },
                    "metadata": {},
                    "output_type": "display_data"
                },
                {
                    "data": {
                        "application/vnd.jupyter.widget-view+json": {
                            "model_id": "afc8b026f1ff49a8ab330607a0206373",
                            "version_major": 2,
                            "version_minor": 0
                        },
                        "text/plain": [
                            "Creating parquet from Arrow format:   0%|          | 0/1 [00:00<?, ?ba/s]"
                        ]
                    },
                    "metadata": {},
                    "output_type": "display_data"
                },
                {
                    "data": {
                        "application/vnd.jupyter.widget-view+json": {
                            "model_id": "06747bbdef394a6ea2e5c65787bb782d",
                            "version_major": 2,
                            "version_minor": 0
                        },
                        "text/plain": [
                            "Map:   0%|          | 0/86 [00:00<?, ? examples/s]"
                        ]
                    },
                    "metadata": {},
                    "output_type": "display_data"
                },
                {
                    "data": {
                        "application/vnd.jupyter.widget-view+json": {
                            "model_id": "3a4f194ae356472cbfe3a494ad792cb7",
                            "version_major": 2,
                            "version_minor": 0
                        },
                        "text/plain": [
                            "Creating parquet from Arrow format:   0%|          | 0/1 [00:00<?, ?ba/s]"
                        ]
                    },
                    "metadata": {},
                    "output_type": "display_data"
                },
                {
                    "data": {
                        "application/vnd.jupyter.widget-view+json": {
                            "model_id": "e95ef918bddb4cb4b11ee1ee1f620393",
                            "version_major": 2,
                            "version_minor": 0
                        },
                        "text/plain": [
                            "Map:   0%|          | 0/86 [00:00<?, ? examples/s]"
                        ]
                    },
                    "metadata": {},
                    "output_type": "display_data"
                },
                {
                    "data": {
                        "application/vnd.jupyter.widget-view+json": {
                            "model_id": "0ce4b4f3e9f6481184715c8f7388b9bb",
                            "version_major": 2,
                            "version_minor": 0
                        },
                        "text/plain": [
                            "Creating parquet from Arrow format:   0%|          | 0/1 [00:00<?, ?ba/s]"
                        ]
                    },
                    "metadata": {},
                    "output_type": "display_data"
                },
                {
                    "data": {
                        "application/vnd.jupyter.widget-view+json": {
                            "model_id": "1fcf7e0fc74c484eaec0ee9c855477c2",
                            "version_major": 2,
                            "version_minor": 0
                        },
                        "text/plain": [
                            "Map:   0%|          | 0/86 [00:00<?, ? examples/s]"
                        ]
                    },
                    "metadata": {},
                    "output_type": "display_data"
                },
                {
                    "data": {
                        "application/vnd.jupyter.widget-view+json": {
                            "model_id": "abe1aef64fe146efa19c371d8fb1c683",
                            "version_major": 2,
                            "version_minor": 0
                        },
                        "text/plain": [
                            "Creating parquet from Arrow format:   0%|          | 0/1 [00:00<?, ?ba/s]"
                        ]
                    },
                    "metadata": {},
                    "output_type": "display_data"
                },
                {
                    "data": {
                        "application/vnd.jupyter.widget-view+json": {
                            "model_id": "20ddaecdb04548968c28fe83504c9c34",
                            "version_major": 2,
                            "version_minor": 0
                        },
                        "text/plain": [
                            "Map:   0%|          | 0/86 [00:00<?, ? examples/s]"
                        ]
                    },
                    "metadata": {},
                    "output_type": "display_data"
                },
                {
                    "data": {
                        "application/vnd.jupyter.widget-view+json": {
                            "model_id": "ada0a10e122e46bea7f4ce9804dfbdc7",
                            "version_major": 2,
                            "version_minor": 0
                        },
                        "text/plain": [
                            "Creating parquet from Arrow format:   0%|          | 0/1 [00:00<?, ?ba/s]"
                        ]
                    },
                    "metadata": {},
                    "output_type": "display_data"
                },
                {
                    "data": {
                        "application/vnd.jupyter.widget-view+json": {
                            "model_id": "e203b7642762472cbc72322556f0e6b4",
                            "version_major": 2,
                            "version_minor": 0
                        },
                        "text/plain": [
                            "Map:   0%|          | 0/86 [00:00<?, ? examples/s]"
                        ]
                    },
                    "metadata": {},
                    "output_type": "display_data"
                },
                {
                    "data": {
                        "application/vnd.jupyter.widget-view+json": {
                            "model_id": "474f6390b5ad4dd695eafb0ad76e30e7",
                            "version_major": 2,
                            "version_minor": 0
                        },
                        "text/plain": [
                            "Creating parquet from Arrow format:   0%|          | 0/1 [00:00<?, ?ba/s]"
                        ]
                    },
                    "metadata": {},
                    "output_type": "display_data"
                },
                {
                    "data": {
                        "application/vnd.jupyter.widget-view+json": {
                            "model_id": "659b3b22e2714c21b94cc66e7f77b518",
                            "version_major": 2,
                            "version_minor": 0
                        },
                        "text/plain": [
                            "Map:   0%|          | 0/86 [00:00<?, ? examples/s]"
                        ]
                    },
                    "metadata": {},
                    "output_type": "display_data"
                },
                {
                    "data": {
                        "application/vnd.jupyter.widget-view+json": {
                            "model_id": "4dcc53df2a99423ca8031473c9edb77e",
                            "version_major": 2,
                            "version_minor": 0
                        },
                        "text/plain": [
                            "Creating parquet from Arrow format:   0%|          | 0/1 [00:00<?, ?ba/s]"
                        ]
                    },
                    "metadata": {},
                    "output_type": "display_data"
                },
                {
                    "data": {
                        "application/vnd.jupyter.widget-view+json": {
                            "model_id": "d5b67ac425e74107b5942f1272b874c3",
                            "version_major": 2,
                            "version_minor": 0
                        },
                        "text/plain": [
                            "Map:   0%|          | 0/86 [00:00<?, ? examples/s]"
                        ]
                    },
                    "metadata": {},
                    "output_type": "display_data"
                },
                {
                    "data": {
                        "application/vnd.jupyter.widget-view+json": {
                            "model_id": "27f6b2576575447a8b3e3f867f3c588a",
                            "version_major": 2,
                            "version_minor": 0
                        },
                        "text/plain": [
                            "Creating parquet from Arrow format:   0%|          | 0/1 [00:00<?, ?ba/s]"
                        ]
                    },
                    "metadata": {},
                    "output_type": "display_data"
                },
                {
                    "data": {
                        "application/vnd.jupyter.widget-view+json": {
                            "model_id": "961bf89db1824fd29b8140868f676dc9",
                            "version_major": 2,
                            "version_minor": 0
                        },
                        "text/plain": [
                            "README.md:   0%|          | 0.00/572 [00:00<?, ?B/s]"
                        ]
                    },
                    "metadata": {},
                    "output_type": "display_data"
                },
                {
                    "data": {
                        "application/vnd.jupyter.widget-view+json": {
                            "model_id": "2ec8b6e1bc824c7da7e47878e5f39bb6",
                            "version_major": 2,
                            "version_minor": 0
                        },
                        "text/plain": [
                            "Uploading the dataset shards:   0%|          | 0/12 [00:00<?, ?it/s]"
                        ]
                    },
                    "metadata": {},
                    "output_type": "display_data"
                },
                {
                    "data": {
                        "application/vnd.jupyter.widget-view+json": {
                            "model_id": "565b7bf53a2d4ac6a51c729d6bcfea7d",
                            "version_major": 2,
                            "version_minor": 0
                        },
                        "text/plain": [
                            "Map:   0%|          | 0/81 [00:00<?, ? examples/s]"
                        ]
                    },
                    "metadata": {},
                    "output_type": "display_data"
                },
                {
                    "data": {
                        "application/vnd.jupyter.widget-view+json": {
                            "model_id": "c7bfff58c4ce47e0a87f7ae78bd9e672",
                            "version_major": 2,
                            "version_minor": 0
                        },
                        "text/plain": [
                            "Creating parquet from Arrow format:   0%|          | 0/1 [00:00<?, ?ba/s]"
                        ]
                    },
                    "metadata": {},
                    "output_type": "display_data"
                },
                {
                    "data": {
                        "application/vnd.jupyter.widget-view+json": {
                            "model_id": "f6fdb2a1ac684c4bb496afb67eea4392",
                            "version_major": 2,
                            "version_minor": 0
                        },
                        "text/plain": [
                            "Map:   0%|          | 0/81 [00:00<?, ? examples/s]"
                        ]
                    },
                    "metadata": {},
                    "output_type": "display_data"
                },
                {
                    "data": {
                        "application/vnd.jupyter.widget-view+json": {
                            "model_id": "c22d7b98b9104896986896c96494603e",
                            "version_major": 2,
                            "version_minor": 0
                        },
                        "text/plain": [
                            "Creating parquet from Arrow format:   0%|          | 0/1 [00:00<?, ?ba/s]"
                        ]
                    },
                    "metadata": {},
                    "output_type": "display_data"
                },
                {
                    "data": {
                        "application/vnd.jupyter.widget-view+json": {
                            "model_id": "46e54b557f2c438b9e865c4e0cd000b1",
                            "version_major": 2,
                            "version_minor": 0
                        },
                        "text/plain": [
                            "Map:   0%|          | 0/81 [00:00<?, ? examples/s]"
                        ]
                    },
                    "metadata": {},
                    "output_type": "display_data"
                },
                {
                    "data": {
                        "application/vnd.jupyter.widget-view+json": {
                            "model_id": "718f3615f650483f9394cbb3a79881bb",
                            "version_major": 2,
                            "version_minor": 0
                        },
                        "text/plain": [
                            "Creating parquet from Arrow format:   0%|          | 0/1 [00:00<?, ?ba/s]"
                        ]
                    },
                    "metadata": {},
                    "output_type": "display_data"
                },
                {
                    "data": {
                        "application/vnd.jupyter.widget-view+json": {
                            "model_id": "ae57d044c97f47b5bf62606d2c117a5a",
                            "version_major": 2,
                            "version_minor": 0
                        },
                        "text/plain": [
                            "Map:   0%|          | 0/81 [00:00<?, ? examples/s]"
                        ]
                    },
                    "metadata": {},
                    "output_type": "display_data"
                },
                {
                    "data": {
                        "application/vnd.jupyter.widget-view+json": {
                            "model_id": "e6e8901fcd8a48e0ae91782482c07a2e",
                            "version_major": 2,
                            "version_minor": 0
                        },
                        "text/plain": [
                            "Creating parquet from Arrow format:   0%|          | 0/1 [00:00<?, ?ba/s]"
                        ]
                    },
                    "metadata": {},
                    "output_type": "display_data"
                },
                {
                    "data": {
                        "application/vnd.jupyter.widget-view+json": {
                            "model_id": "f90e2275d0c94586a2c59a01e4991a81",
                            "version_major": 2,
                            "version_minor": 0
                        },
                        "text/plain": [
                            "Map:   0%|          | 0/80 [00:00<?, ? examples/s]"
                        ]
                    },
                    "metadata": {},
                    "output_type": "display_data"
                },
                {
                    "data": {
                        "application/vnd.jupyter.widget-view+json": {
                            "model_id": "09aa47568dbc4dae84001ecfb137944f",
                            "version_major": 2,
                            "version_minor": 0
                        },
                        "text/plain": [
                            "Creating parquet from Arrow format:   0%|          | 0/1 [00:00<?, ?ba/s]"
                        ]
                    },
                    "metadata": {},
                    "output_type": "display_data"
                },
                {
                    "data": {
                        "application/vnd.jupyter.widget-view+json": {
                            "model_id": "23f073990278498eabcf3f981ab5cb64",
                            "version_major": 2,
                            "version_minor": 0
                        },
                        "text/plain": [
                            "Map:   0%|          | 0/80 [00:00<?, ? examples/s]"
                        ]
                    },
                    "metadata": {},
                    "output_type": "display_data"
                },
                {
                    "data": {
                        "application/vnd.jupyter.widget-view+json": {
                            "model_id": "f3160fadbbfa4a15a0c0a109ad7bd0ba",
                            "version_major": 2,
                            "version_minor": 0
                        },
                        "text/plain": [
                            "Creating parquet from Arrow format:   0%|          | 0/1 [00:00<?, ?ba/s]"
                        ]
                    },
                    "metadata": {},
                    "output_type": "display_data"
                },
                {
                    "data": {
                        "application/vnd.jupyter.widget-view+json": {
                            "model_id": "3a8f819142fa4176a4ceff25344b511f",
                            "version_major": 2,
                            "version_minor": 0
                        },
                        "text/plain": [
                            "Map:   0%|          | 0/80 [00:00<?, ? examples/s]"
                        ]
                    },
                    "metadata": {},
                    "output_type": "display_data"
                },
                {
                    "data": {
                        "application/vnd.jupyter.widget-view+json": {
                            "model_id": "2d0c4812cf6f4e2c82ca449785efa90a",
                            "version_major": 2,
                            "version_minor": 0
                        },
                        "text/plain": [
                            "Creating parquet from Arrow format:   0%|          | 0/1 [00:00<?, ?ba/s]"
                        ]
                    },
                    "metadata": {},
                    "output_type": "display_data"
                },
                {
                    "data": {
                        "application/vnd.jupyter.widget-view+json": {
                            "model_id": "0254325d3dcb4c8d9101a60d6ba2d46f",
                            "version_major": 2,
                            "version_minor": 0
                        },
                        "text/plain": [
                            "Map:   0%|          | 0/80 [00:00<?, ? examples/s]"
                        ]
                    },
                    "metadata": {},
                    "output_type": "display_data"
                },
                {
                    "data": {
                        "application/vnd.jupyter.widget-view+json": {
                            "model_id": "8a8e2df876ec44c4b32f20c430768291",
                            "version_major": 2,
                            "version_minor": 0
                        },
                        "text/plain": [
                            "Creating parquet from Arrow format:   0%|          | 0/1 [00:00<?, ?ba/s]"
                        ]
                    },
                    "metadata": {},
                    "output_type": "display_data"
                },
                {
                    "data": {
                        "application/vnd.jupyter.widget-view+json": {
                            "model_id": "5c9058deb3454adfa9694fb2457d3bb7",
                            "version_major": 2,
                            "version_minor": 0
                        },
                        "text/plain": [
                            "Map:   0%|          | 0/80 [00:00<?, ? examples/s]"
                        ]
                    },
                    "metadata": {},
                    "output_type": "display_data"
                },
                {
                    "data": {
                        "application/vnd.jupyter.widget-view+json": {
                            "model_id": "e7b4f311d3dc4791a64066cde7ebc98b",
                            "version_major": 2,
                            "version_minor": 0
                        },
                        "text/plain": [
                            "Creating parquet from Arrow format:   0%|          | 0/1 [00:00<?, ?ba/s]"
                        ]
                    },
                    "metadata": {},
                    "output_type": "display_data"
                },
                {
                    "data": {
                        "application/vnd.jupyter.widget-view+json": {
                            "model_id": "4bad11547c184c178b2383fa54a793b8",
                            "version_major": 2,
                            "version_minor": 0
                        },
                        "text/plain": [
                            "Map:   0%|          | 0/80 [00:00<?, ? examples/s]"
                        ]
                    },
                    "metadata": {},
                    "output_type": "display_data"
                },
                {
                    "data": {
                        "application/vnd.jupyter.widget-view+json": {
                            "model_id": "6254aea13ba94ba4a83bf61236f8ebe9",
                            "version_major": 2,
                            "version_minor": 0
                        },
                        "text/plain": [
                            "Creating parquet from Arrow format:   0%|          | 0/1 [00:00<?, ?ba/s]"
                        ]
                    },
                    "metadata": {},
                    "output_type": "display_data"
                },
                {
                    "data": {
                        "application/vnd.jupyter.widget-view+json": {
                            "model_id": "b6d083e9a96549d3a577f7a154628297",
                            "version_major": 2,
                            "version_minor": 0
                        },
                        "text/plain": [
                            "Map:   0%|          | 0/80 [00:00<?, ? examples/s]"
                        ]
                    },
                    "metadata": {},
                    "output_type": "display_data"
                },
                {
                    "data": {
                        "application/vnd.jupyter.widget-view+json": {
                            "model_id": "5f69665b9dc64c33b940d0cea2407698",
                            "version_major": 2,
                            "version_minor": 0
                        },
                        "text/plain": [
                            "Creating parquet from Arrow format:   0%|          | 0/1 [00:00<?, ?ba/s]"
                        ]
                    },
                    "metadata": {},
                    "output_type": "display_data"
                },
                {
                    "data": {
                        "application/vnd.jupyter.widget-view+json": {
                            "model_id": "a51ae029a30844daabc1c3f5ffd4568c",
                            "version_major": 2,
                            "version_minor": 0
                        },
                        "text/plain": [
                            "Map:   0%|          | 0/80 [00:00<?, ? examples/s]"
                        ]
                    },
                    "metadata": {},
                    "output_type": "display_data"
                },
                {
                    "data": {
                        "application/vnd.jupyter.widget-view+json": {
                            "model_id": "ea9d19c230104952b07af39a13cdbbcb",
                            "version_major": 2,
                            "version_minor": 0
                        },
                        "text/plain": [
                            "Creating parquet from Arrow format:   0%|          | 0/1 [00:00<?, ?ba/s]"
                        ]
                    },
                    "metadata": {},
                    "output_type": "display_data"
                },
                {
                    "data": {
                        "application/vnd.jupyter.widget-view+json": {
                            "model_id": "f022c560bfee48a4883f65a9174d5663",
                            "version_major": 2,
                            "version_minor": 0
                        },
                        "text/plain": [
                            "README.md:   0%|          | 0.00/675 [00:00<?, ?B/s]"
                        ]
                    },
                    "metadata": {},
                    "output_type": "display_data"
                }
            ],
            "source": [
                "for split, dataset in datasets.items():\n",
                "    dataset.push_to_hub('DBD-research-group/beans_rfcx', split=split)"
            ]
        },
        {
            "cell_type": "markdown",
            "metadata": {},
            "source": [
                "---\n",
                "# Download the dataset from HF"
            ]
        },
        {
            "cell_type": "markdown",
            "metadata": {},
            "source": [
                "Download all splits from the hub. Even when specifying a specific split it still downloads everything! Use `streaming=True` and `cache_dir='...'` for shorter loading times."
            ]
        },
        {
            "cell_type": "code",
            "execution_count": 8,
            "metadata": {},
            "outputs": [
                {
                    "data": {
                        "application/vnd.jupyter.widget-view+json": {
                            "model_id": "0bf371e9227b426fbb5a08545768a80d",
                            "version_major": 2,
                            "version_minor": 0
                        },
                        "text/plain": [
                            "Downloading readme:   0%|          | 0.00/793 [00:00<?, ?B/s]"
                        ]
                    },
                    "metadata": {},
                    "output_type": "display_data"
                },
                {
                    "data": {
                        "application/vnd.jupyter.widget-view+json": {
                            "model_id": "4d8ec81f71164e3b992d497d1d2cd62d",
                            "version_major": 2,
                            "version_minor": 0
                        },
                        "text/plain": [
                            "Resolving data files:   0%|          | 0/33 [00:00<?, ?it/s]"
                        ]
                    },
                    "metadata": {},
                    "output_type": "display_data"
                },
                {
                    "ename": "KeyboardInterrupt",
                    "evalue": "",
                    "output_type": "error",
                    "traceback": [
                        "\u001b[0;31m---------------------------------------------------------------------------\u001b[0m",
                        "\u001b[0;31mKeyboardInterrupt\u001b[0m                         Traceback (most recent call last)",
                        "Cell \u001b[0;32mIn[8], line 4\u001b[0m\n\u001b[1;32m      1\u001b[0m \u001b[38;5;28;01mfrom\u001b[39;00m \u001b[38;5;21;01mdatasets\u001b[39;00m \u001b[38;5;28;01mimport\u001b[39;00m load_dataset, DatasetDict\n\u001b[1;32m      3\u001b[0m \u001b[38;5;66;03m#dataset = load_dataset(path='DBD-research-group/beans_rfcx', split='test')\u001b[39;00m\n\u001b[0;32m----> 4\u001b[0m dataset: DatasetDict \u001b[38;5;241m=\u001b[39m \u001b[43mload_dataset\u001b[49m\u001b[43m(\u001b[49m\u001b[43mname\u001b[49m\u001b[38;5;241;43m=\u001b[39;49m\u001b[38;5;124;43m'\u001b[39;49m\u001b[38;5;124;43mdefault\u001b[39;49m\u001b[38;5;124;43m'\u001b[39;49m\u001b[43m,\u001b[49m\u001b[43m \u001b[49m\u001b[43mpath\u001b[49m\u001b[38;5;241;43m=\u001b[39;49m\u001b[38;5;124;43m'\u001b[39;49m\u001b[38;5;124;43mDBD-research-group/beans_rfcx\u001b[39;49m\u001b[38;5;124;43m'\u001b[39;49m\u001b[43m)\u001b[49m\n",
                        "File \u001b[0;32m/workspace/.venv/lib/python3.10/site-packages/datasets/load.py:2556\u001b[0m, in \u001b[0;36mload_dataset\u001b[0;34m(path, name, data_dir, data_files, split, cache_dir, features, download_config, download_mode, verification_mode, ignore_verifications, keep_in_memory, save_infos, revision, token, use_auth_token, task, streaming, num_proc, storage_options, trust_remote_code, **config_kwargs)\u001b[0m\n\u001b[1;32m   2551\u001b[0m verification_mode \u001b[38;5;241m=\u001b[39m VerificationMode(\n\u001b[1;32m   2552\u001b[0m     (verification_mode \u001b[38;5;129;01mor\u001b[39;00m VerificationMode\u001b[38;5;241m.\u001b[39mBASIC_CHECKS) \u001b[38;5;28;01mif\u001b[39;00m \u001b[38;5;129;01mnot\u001b[39;00m save_infos \u001b[38;5;28;01melse\u001b[39;00m VerificationMode\u001b[38;5;241m.\u001b[39mALL_CHECKS\n\u001b[1;32m   2553\u001b[0m )\n\u001b[1;32m   2555\u001b[0m \u001b[38;5;66;03m# Create a dataset builder\u001b[39;00m\n\u001b[0;32m-> 2556\u001b[0m builder_instance \u001b[38;5;241m=\u001b[39m \u001b[43mload_dataset_builder\u001b[49m\u001b[43m(\u001b[49m\n\u001b[1;32m   2557\u001b[0m \u001b[43m    \u001b[49m\u001b[43mpath\u001b[49m\u001b[38;5;241;43m=\u001b[39;49m\u001b[43mpath\u001b[49m\u001b[43m,\u001b[49m\n\u001b[1;32m   2558\u001b[0m \u001b[43m    \u001b[49m\u001b[43mname\u001b[49m\u001b[38;5;241;43m=\u001b[39;49m\u001b[43mname\u001b[49m\u001b[43m,\u001b[49m\n\u001b[1;32m   2559\u001b[0m \u001b[43m    \u001b[49m\u001b[43mdata_dir\u001b[49m\u001b[38;5;241;43m=\u001b[39;49m\u001b[43mdata_dir\u001b[49m\u001b[43m,\u001b[49m\n\u001b[1;32m   2560\u001b[0m \u001b[43m    \u001b[49m\u001b[43mdata_files\u001b[49m\u001b[38;5;241;43m=\u001b[39;49m\u001b[43mdata_files\u001b[49m\u001b[43m,\u001b[49m\n\u001b[1;32m   2561\u001b[0m \u001b[43m    \u001b[49m\u001b[43mcache_dir\u001b[49m\u001b[38;5;241;43m=\u001b[39;49m\u001b[43mcache_dir\u001b[49m\u001b[43m,\u001b[49m\n\u001b[1;32m   2562\u001b[0m \u001b[43m    \u001b[49m\u001b[43mfeatures\u001b[49m\u001b[38;5;241;43m=\u001b[39;49m\u001b[43mfeatures\u001b[49m\u001b[43m,\u001b[49m\n\u001b[1;32m   2563\u001b[0m \u001b[43m    \u001b[49m\u001b[43mdownload_config\u001b[49m\u001b[38;5;241;43m=\u001b[39;49m\u001b[43mdownload_config\u001b[49m\u001b[43m,\u001b[49m\n\u001b[1;32m   2564\u001b[0m \u001b[43m    \u001b[49m\u001b[43mdownload_mode\u001b[49m\u001b[38;5;241;43m=\u001b[39;49m\u001b[43mdownload_mode\u001b[49m\u001b[43m,\u001b[49m\n\u001b[1;32m   2565\u001b[0m \u001b[43m    \u001b[49m\u001b[43mrevision\u001b[49m\u001b[38;5;241;43m=\u001b[39;49m\u001b[43mrevision\u001b[49m\u001b[43m,\u001b[49m\n\u001b[1;32m   2566\u001b[0m \u001b[43m    \u001b[49m\u001b[43mtoken\u001b[49m\u001b[38;5;241;43m=\u001b[39;49m\u001b[43mtoken\u001b[49m\u001b[43m,\u001b[49m\n\u001b[1;32m   2567\u001b[0m \u001b[43m    \u001b[49m\u001b[43mstorage_options\u001b[49m\u001b[38;5;241;43m=\u001b[39;49m\u001b[43mstorage_options\u001b[49m\u001b[43m,\u001b[49m\n\u001b[1;32m   2568\u001b[0m \u001b[43m    \u001b[49m\u001b[43mtrust_remote_code\u001b[49m\u001b[38;5;241;43m=\u001b[39;49m\u001b[43mtrust_remote_code\u001b[49m\u001b[43m,\u001b[49m\n\u001b[1;32m   2569\u001b[0m \u001b[43m    \u001b[49m\u001b[43m_require_default_config_name\u001b[49m\u001b[38;5;241;43m=\u001b[39;49m\u001b[43mname\u001b[49m\u001b[43m \u001b[49m\u001b[38;5;129;43;01mis\u001b[39;49;00m\u001b[43m \u001b[49m\u001b[38;5;28;43;01mNone\u001b[39;49;00m\u001b[43m,\u001b[49m\n\u001b[1;32m   2570\u001b[0m \u001b[43m    \u001b[49m\u001b[38;5;241;43m*\u001b[39;49m\u001b[38;5;241;43m*\u001b[39;49m\u001b[43mconfig_kwargs\u001b[49m\u001b[43m,\u001b[49m\n\u001b[1;32m   2571\u001b[0m \u001b[43m\u001b[49m\u001b[43m)\u001b[49m\n\u001b[1;32m   2573\u001b[0m \u001b[38;5;66;03m# Return iterable dataset in case of streaming\u001b[39;00m\n\u001b[1;32m   2574\u001b[0m \u001b[38;5;28;01mif\u001b[39;00m streaming:\n",
                        "File \u001b[0;32m/workspace/.venv/lib/python3.10/site-packages/datasets/load.py:2228\u001b[0m, in \u001b[0;36mload_dataset_builder\u001b[0;34m(path, name, data_dir, data_files, cache_dir, features, download_config, download_mode, revision, token, use_auth_token, storage_options, trust_remote_code, _require_default_config_name, **config_kwargs)\u001b[0m\n\u001b[1;32m   2226\u001b[0m     download_config \u001b[38;5;241m=\u001b[39m download_config\u001b[38;5;241m.\u001b[39mcopy() \u001b[38;5;28;01mif\u001b[39;00m download_config \u001b[38;5;28;01melse\u001b[39;00m DownloadConfig()\n\u001b[1;32m   2227\u001b[0m     download_config\u001b[38;5;241m.\u001b[39mstorage_options\u001b[38;5;241m.\u001b[39mupdate(storage_options)\n\u001b[0;32m-> 2228\u001b[0m dataset_module \u001b[38;5;241m=\u001b[39m \u001b[43mdataset_module_factory\u001b[49m\u001b[43m(\u001b[49m\n\u001b[1;32m   2229\u001b[0m \u001b[43m    \u001b[49m\u001b[43mpath\u001b[49m\u001b[43m,\u001b[49m\n\u001b[1;32m   2230\u001b[0m \u001b[43m    \u001b[49m\u001b[43mrevision\u001b[49m\u001b[38;5;241;43m=\u001b[39;49m\u001b[43mrevision\u001b[49m\u001b[43m,\u001b[49m\n\u001b[1;32m   2231\u001b[0m \u001b[43m    \u001b[49m\u001b[43mdownload_config\u001b[49m\u001b[38;5;241;43m=\u001b[39;49m\u001b[43mdownload_config\u001b[49m\u001b[43m,\u001b[49m\n\u001b[1;32m   2232\u001b[0m \u001b[43m    \u001b[49m\u001b[43mdownload_mode\u001b[49m\u001b[38;5;241;43m=\u001b[39;49m\u001b[43mdownload_mode\u001b[49m\u001b[43m,\u001b[49m\n\u001b[1;32m   2233\u001b[0m \u001b[43m    \u001b[49m\u001b[43mdata_dir\u001b[49m\u001b[38;5;241;43m=\u001b[39;49m\u001b[43mdata_dir\u001b[49m\u001b[43m,\u001b[49m\n\u001b[1;32m   2234\u001b[0m \u001b[43m    \u001b[49m\u001b[43mdata_files\u001b[49m\u001b[38;5;241;43m=\u001b[39;49m\u001b[43mdata_files\u001b[49m\u001b[43m,\u001b[49m\n\u001b[1;32m   2235\u001b[0m \u001b[43m    \u001b[49m\u001b[43mcache_dir\u001b[49m\u001b[38;5;241;43m=\u001b[39;49m\u001b[43mcache_dir\u001b[49m\u001b[43m,\u001b[49m\n\u001b[1;32m   2236\u001b[0m \u001b[43m    \u001b[49m\u001b[43mtrust_remote_code\u001b[49m\u001b[38;5;241;43m=\u001b[39;49m\u001b[43mtrust_remote_code\u001b[49m\u001b[43m,\u001b[49m\n\u001b[1;32m   2237\u001b[0m \u001b[43m    \u001b[49m\u001b[43m_require_default_config_name\u001b[49m\u001b[38;5;241;43m=\u001b[39;49m\u001b[43m_require_default_config_name\u001b[49m\u001b[43m,\u001b[49m\n\u001b[1;32m   2238\u001b[0m \u001b[43m    \u001b[49m\u001b[43m_require_custom_configs\u001b[49m\u001b[38;5;241;43m=\u001b[39;49m\u001b[38;5;28;43mbool\u001b[39;49m\u001b[43m(\u001b[49m\u001b[43mconfig_kwargs\u001b[49m\u001b[43m)\u001b[49m\u001b[43m,\u001b[49m\n\u001b[1;32m   2239\u001b[0m \u001b[43m\u001b[49m\u001b[43m)\u001b[49m\n\u001b[1;32m   2240\u001b[0m \u001b[38;5;66;03m# Get dataset builder class from the processing script\u001b[39;00m\n\u001b[1;32m   2241\u001b[0m builder_kwargs \u001b[38;5;241m=\u001b[39m dataset_module\u001b[38;5;241m.\u001b[39mbuilder_kwargs\n",
                        "File \u001b[0;32m/workspace/.venv/lib/python3.10/site-packages/datasets/load.py:1861\u001b[0m, in \u001b[0;36mdataset_module_factory\u001b[0;34m(path, revision, download_config, download_mode, dynamic_modules_path, data_dir, data_files, cache_dir, trust_remote_code, _require_default_config_name, _require_custom_configs, **download_kwargs)\u001b[0m\n\u001b[1;32m   1845\u001b[0m         \u001b[38;5;28;01mreturn\u001b[39;00m HubDatasetModuleFactoryWithScript(\n\u001b[1;32m   1846\u001b[0m             path,\n\u001b[1;32m   1847\u001b[0m             revision\u001b[38;5;241m=\u001b[39mrevision,\n\u001b[0;32m   (...)\u001b[0m\n\u001b[1;32m   1851\u001b[0m             trust_remote_code\u001b[38;5;241m=\u001b[39mtrust_remote_code,\n\u001b[1;32m   1852\u001b[0m         )\u001b[38;5;241m.\u001b[39mget_module()\n\u001b[1;32m   1853\u001b[0m     \u001b[38;5;28;01melse\u001b[39;00m:\n\u001b[1;32m   1854\u001b[0m         \u001b[38;5;28;01mreturn\u001b[39;00m \u001b[43mHubDatasetModuleFactoryWithoutScript\u001b[49m\u001b[43m(\u001b[49m\n\u001b[1;32m   1855\u001b[0m \u001b[43m            \u001b[49m\u001b[43mpath\u001b[49m\u001b[43m,\u001b[49m\n\u001b[1;32m   1856\u001b[0m \u001b[43m            \u001b[49m\u001b[43mrevision\u001b[49m\u001b[38;5;241;43m=\u001b[39;49m\u001b[43mrevision\u001b[49m\u001b[43m,\u001b[49m\n\u001b[1;32m   1857\u001b[0m \u001b[43m            \u001b[49m\u001b[43mdata_dir\u001b[49m\u001b[38;5;241;43m=\u001b[39;49m\u001b[43mdata_dir\u001b[49m\u001b[43m,\u001b[49m\n\u001b[1;32m   1858\u001b[0m \u001b[43m            \u001b[49m\u001b[43mdata_files\u001b[49m\u001b[38;5;241;43m=\u001b[39;49m\u001b[43mdata_files\u001b[49m\u001b[43m,\u001b[49m\n\u001b[1;32m   1859\u001b[0m \u001b[43m            \u001b[49m\u001b[43mdownload_config\u001b[49m\u001b[38;5;241;43m=\u001b[39;49m\u001b[43mdownload_config\u001b[49m\u001b[43m,\u001b[49m\n\u001b[1;32m   1860\u001b[0m \u001b[43m            \u001b[49m\u001b[43mdownload_mode\u001b[49m\u001b[38;5;241;43m=\u001b[39;49m\u001b[43mdownload_mode\u001b[49m\u001b[43m,\u001b[49m\n\u001b[0;32m-> 1861\u001b[0m \u001b[43m        \u001b[49m\u001b[43m)\u001b[49m\u001b[38;5;241;43m.\u001b[39;49m\u001b[43mget_module\u001b[49m\u001b[43m(\u001b[49m\u001b[43m)\u001b[49m\n\u001b[1;32m   1862\u001b[0m \u001b[38;5;28;01mexcept\u001b[39;00m \u001b[38;5;167;01mException\u001b[39;00m \u001b[38;5;28;01mas\u001b[39;00m e1:\n\u001b[1;32m   1863\u001b[0m     \u001b[38;5;66;03m# All the attempts failed, before raising the error we should check if the module is already cached\u001b[39;00m\n\u001b[1;32m   1864\u001b[0m     \u001b[38;5;28;01mtry\u001b[39;00m:\n",
                        "File \u001b[0;32m/workspace/.venv/lib/python3.10/site-packages/datasets/load.py:1239\u001b[0m, in \u001b[0;36mHubDatasetModuleFactoryWithoutScript.get_module\u001b[0;34m(self)\u001b[0m\n\u001b[1;32m   1237\u001b[0m \u001b[38;5;28;01melse\u001b[39;00m:\n\u001b[1;32m   1238\u001b[0m     patterns \u001b[38;5;241m=\u001b[39m get_data_patterns(base_path, download_config\u001b[38;5;241m=\u001b[39m\u001b[38;5;28mself\u001b[39m\u001b[38;5;241m.\u001b[39mdownload_config)\n\u001b[0;32m-> 1239\u001b[0m data_files \u001b[38;5;241m=\u001b[39m \u001b[43mDataFilesDict\u001b[49m\u001b[38;5;241;43m.\u001b[39;49m\u001b[43mfrom_patterns\u001b[49m\u001b[43m(\u001b[49m\n\u001b[1;32m   1240\u001b[0m \u001b[43m    \u001b[49m\u001b[43mpatterns\u001b[49m\u001b[43m,\u001b[49m\n\u001b[1;32m   1241\u001b[0m \u001b[43m    \u001b[49m\u001b[43mbase_path\u001b[49m\u001b[38;5;241;43m=\u001b[39;49m\u001b[43mbase_path\u001b[49m\u001b[43m,\u001b[49m\n\u001b[1;32m   1242\u001b[0m \u001b[43m    \u001b[49m\u001b[43mallowed_extensions\u001b[49m\u001b[38;5;241;43m=\u001b[39;49m\u001b[43mALL_ALLOWED_EXTENSIONS\u001b[49m\u001b[43m,\u001b[49m\n\u001b[1;32m   1243\u001b[0m \u001b[43m    \u001b[49m\u001b[43mdownload_config\u001b[49m\u001b[38;5;241;43m=\u001b[39;49m\u001b[38;5;28;43mself\u001b[39;49m\u001b[38;5;241;43m.\u001b[39;49m\u001b[43mdownload_config\u001b[49m\u001b[43m,\u001b[49m\n\u001b[1;32m   1244\u001b[0m \u001b[43m\u001b[49m\u001b[43m)\u001b[49m\n\u001b[1;32m   1245\u001b[0m module_name, default_builder_kwargs \u001b[38;5;241m=\u001b[39m infer_module_for_data_files(\n\u001b[1;32m   1246\u001b[0m     data_files\u001b[38;5;241m=\u001b[39mdata_files,\n\u001b[1;32m   1247\u001b[0m     path\u001b[38;5;241m=\u001b[39m\u001b[38;5;28mself\u001b[39m\u001b[38;5;241m.\u001b[39mname,\n\u001b[1;32m   1248\u001b[0m     download_config\u001b[38;5;241m=\u001b[39m\u001b[38;5;28mself\u001b[39m\u001b[38;5;241m.\u001b[39mdownload_config,\n\u001b[1;32m   1249\u001b[0m )\n\u001b[1;32m   1250\u001b[0m data_files \u001b[38;5;241m=\u001b[39m data_files\u001b[38;5;241m.\u001b[39mfilter_extensions(_MODULE_TO_EXTENSIONS[module_name])\n",
                        "File \u001b[0;32m/workspace/.venv/lib/python3.10/site-packages/datasets/data_files.py:700\u001b[0m, in \u001b[0;36mDataFilesDict.from_patterns\u001b[0;34m(cls, patterns, base_path, allowed_extensions, download_config)\u001b[0m\n\u001b[1;32m    697\u001b[0m out \u001b[38;5;241m=\u001b[39m \u001b[38;5;28mcls\u001b[39m()\n\u001b[1;32m    698\u001b[0m \u001b[38;5;28;01mfor\u001b[39;00m key, patterns_for_key \u001b[38;5;129;01min\u001b[39;00m patterns\u001b[38;5;241m.\u001b[39mitems():\n\u001b[1;32m    699\u001b[0m     out[key] \u001b[38;5;241m=\u001b[39m (\n\u001b[0;32m--> 700\u001b[0m         \u001b[43mDataFilesList\u001b[49m\u001b[38;5;241;43m.\u001b[39;49m\u001b[43mfrom_patterns\u001b[49m\u001b[43m(\u001b[49m\n\u001b[1;32m    701\u001b[0m \u001b[43m            \u001b[49m\u001b[43mpatterns_for_key\u001b[49m\u001b[43m,\u001b[49m\n\u001b[1;32m    702\u001b[0m \u001b[43m            \u001b[49m\u001b[43mbase_path\u001b[49m\u001b[38;5;241;43m=\u001b[39;49m\u001b[43mbase_path\u001b[49m\u001b[43m,\u001b[49m\n\u001b[1;32m    703\u001b[0m \u001b[43m            \u001b[49m\u001b[43mallowed_extensions\u001b[49m\u001b[38;5;241;43m=\u001b[39;49m\u001b[43mallowed_extensions\u001b[49m\u001b[43m,\u001b[49m\n\u001b[1;32m    704\u001b[0m \u001b[43m            \u001b[49m\u001b[43mdownload_config\u001b[49m\u001b[38;5;241;43m=\u001b[39;49m\u001b[43mdownload_config\u001b[49m\u001b[43m,\u001b[49m\n\u001b[1;32m    705\u001b[0m \u001b[43m        \u001b[49m\u001b[43m)\u001b[49m\n\u001b[1;32m    706\u001b[0m         \u001b[38;5;28;01mif\u001b[39;00m \u001b[38;5;129;01mnot\u001b[39;00m \u001b[38;5;28misinstance\u001b[39m(patterns_for_key, DataFilesList)\n\u001b[1;32m    707\u001b[0m         \u001b[38;5;28;01melse\u001b[39;00m patterns_for_key\n\u001b[1;32m    708\u001b[0m     )\n\u001b[1;32m    709\u001b[0m \u001b[38;5;28;01mreturn\u001b[39;00m out\n",
                        "File \u001b[0;32m/workspace/.venv/lib/python3.10/site-packages/datasets/data_files.py:615\u001b[0m, in \u001b[0;36mDataFilesList.from_patterns\u001b[0;34m(cls, patterns, base_path, allowed_extensions, download_config)\u001b[0m\n\u001b[1;32m    613\u001b[0m         \u001b[38;5;28;01mif\u001b[39;00m \u001b[38;5;129;01mnot\u001b[39;00m has_magic(pattern):\n\u001b[1;32m    614\u001b[0m             \u001b[38;5;28;01mraise\u001b[39;00m\n\u001b[0;32m--> 615\u001b[0m origin_metadata \u001b[38;5;241m=\u001b[39m \u001b[43m_get_origin_metadata\u001b[49m\u001b[43m(\u001b[49m\u001b[43mdata_files\u001b[49m\u001b[43m,\u001b[49m\u001b[43m \u001b[49m\u001b[43mdownload_config\u001b[49m\u001b[38;5;241;43m=\u001b[39;49m\u001b[43mdownload_config\u001b[49m\u001b[43m)\u001b[49m\n\u001b[1;32m    616\u001b[0m \u001b[38;5;28;01mreturn\u001b[39;00m \u001b[38;5;28mcls\u001b[39m(data_files, origin_metadata)\n",
                        "File \u001b[0;32m/workspace/.venv/lib/python3.10/site-packages/datasets/data_files.py:529\u001b[0m, in \u001b[0;36m_get_origin_metadata\u001b[0;34m(data_files, max_workers, download_config)\u001b[0m\n\u001b[1;32m    524\u001b[0m \u001b[38;5;28;01mdef\u001b[39;00m \u001b[38;5;21m_get_origin_metadata\u001b[39m(\n\u001b[1;32m    525\u001b[0m     data_files: List[\u001b[38;5;28mstr\u001b[39m],\n\u001b[1;32m    526\u001b[0m     max_workers\u001b[38;5;241m=\u001b[39m\u001b[38;5;241m64\u001b[39m,\n\u001b[1;32m    527\u001b[0m     download_config: Optional[DownloadConfig] \u001b[38;5;241m=\u001b[39m \u001b[38;5;28;01mNone\u001b[39;00m,\n\u001b[1;32m    528\u001b[0m ) \u001b[38;5;241m-\u001b[39m\u001b[38;5;241m>\u001b[39m Tuple[\u001b[38;5;28mstr\u001b[39m]:\n\u001b[0;32m--> 529\u001b[0m     \u001b[38;5;28;01mreturn\u001b[39;00m \u001b[43mthread_map\u001b[49m\u001b[43m(\u001b[49m\n\u001b[1;32m    530\u001b[0m \u001b[43m        \u001b[49m\u001b[43mpartial\u001b[49m\u001b[43m(\u001b[49m\u001b[43m_get_single_origin_metadata\u001b[49m\u001b[43m,\u001b[49m\u001b[43m \u001b[49m\u001b[43mdownload_config\u001b[49m\u001b[38;5;241;43m=\u001b[39;49m\u001b[43mdownload_config\u001b[49m\u001b[43m)\u001b[49m\u001b[43m,\u001b[49m\n\u001b[1;32m    531\u001b[0m \u001b[43m        \u001b[49m\u001b[43mdata_files\u001b[49m\u001b[43m,\u001b[49m\n\u001b[1;32m    532\u001b[0m \u001b[43m        \u001b[49m\u001b[43mmax_workers\u001b[49m\u001b[38;5;241;43m=\u001b[39;49m\u001b[43mmax_workers\u001b[49m\u001b[43m,\u001b[49m\n\u001b[1;32m    533\u001b[0m \u001b[43m        \u001b[49m\u001b[43mtqdm_class\u001b[49m\u001b[38;5;241;43m=\u001b[39;49m\u001b[43mhf_tqdm\u001b[49m\u001b[43m,\u001b[49m\n\u001b[1;32m    534\u001b[0m \u001b[43m        \u001b[49m\u001b[43mdesc\u001b[49m\u001b[38;5;241;43m=\u001b[39;49m\u001b[38;5;124;43m\"\u001b[39;49m\u001b[38;5;124;43mResolving data files\u001b[39;49m\u001b[38;5;124;43m\"\u001b[39;49m\u001b[43m,\u001b[49m\n\u001b[1;32m    535\u001b[0m \u001b[43m        \u001b[49m\u001b[38;5;66;43;03m# set `disable=None` rather than `disable=False` by default to disable progress bar when no TTY attached\u001b[39;49;00m\n\u001b[1;32m    536\u001b[0m \u001b[43m        \u001b[49m\u001b[43mdisable\u001b[49m\u001b[38;5;241;43m=\u001b[39;49m\u001b[38;5;28;43mlen\u001b[39;49m\u001b[43m(\u001b[49m\u001b[43mdata_files\u001b[49m\u001b[43m)\u001b[49m\u001b[43m \u001b[49m\u001b[38;5;241;43m<\u001b[39;49m\u001b[38;5;241;43m=\u001b[39;49m\u001b[43m \u001b[49m\u001b[38;5;241;43m16\u001b[39;49m\u001b[43m \u001b[49m\u001b[38;5;129;43;01mor\u001b[39;49;00m\u001b[43m \u001b[49m\u001b[38;5;28;43;01mNone\u001b[39;49;00m\u001b[43m,\u001b[49m\n\u001b[1;32m    537\u001b[0m \u001b[43m    \u001b[49m\u001b[43m)\u001b[49m\n",
                        "File \u001b[0;32m/workspace/.venv/lib/python3.10/site-packages/tqdm/contrib/concurrent.py:69\u001b[0m, in \u001b[0;36mthread_map\u001b[0;34m(fn, *iterables, **tqdm_kwargs)\u001b[0m\n\u001b[1;32m     55\u001b[0m \u001b[38;5;250m\u001b[39m\u001b[38;5;124;03m\"\"\"\u001b[39;00m\n\u001b[1;32m     56\u001b[0m \u001b[38;5;124;03mEquivalent of `list(map(fn, *iterables))`\u001b[39;00m\n\u001b[1;32m     57\u001b[0m \u001b[38;5;124;03mdriven by `concurrent.futures.ThreadPoolExecutor`.\u001b[39;00m\n\u001b[0;32m   (...)\u001b[0m\n\u001b[1;32m     66\u001b[0m \u001b[38;5;124;03m    [default: max(32, cpu_count() + 4)].\u001b[39;00m\n\u001b[1;32m     67\u001b[0m \u001b[38;5;124;03m\"\"\"\u001b[39;00m\n\u001b[1;32m     68\u001b[0m \u001b[38;5;28;01mfrom\u001b[39;00m \u001b[38;5;21;01mconcurrent\u001b[39;00m\u001b[38;5;21;01m.\u001b[39;00m\u001b[38;5;21;01mfutures\u001b[39;00m \u001b[38;5;28;01mimport\u001b[39;00m ThreadPoolExecutor\n\u001b[0;32m---> 69\u001b[0m \u001b[38;5;28;01mreturn\u001b[39;00m \u001b[43m_executor_map\u001b[49m\u001b[43m(\u001b[49m\u001b[43mThreadPoolExecutor\u001b[49m\u001b[43m,\u001b[49m\u001b[43m \u001b[49m\u001b[43mfn\u001b[49m\u001b[43m,\u001b[49m\u001b[43m \u001b[49m\u001b[38;5;241;43m*\u001b[39;49m\u001b[43miterables\u001b[49m\u001b[43m,\u001b[49m\u001b[43m \u001b[49m\u001b[38;5;241;43m*\u001b[39;49m\u001b[38;5;241;43m*\u001b[39;49m\u001b[43mtqdm_kwargs\u001b[49m\u001b[43m)\u001b[49m\n",
                        "File \u001b[0;32m/workspace/.venv/lib/python3.10/site-packages/tqdm/contrib/concurrent.py:51\u001b[0m, in \u001b[0;36m_executor_map\u001b[0;34m(PoolExecutor, fn, *iterables, **tqdm_kwargs)\u001b[0m\n\u001b[1;32m     47\u001b[0m \u001b[38;5;28;01mwith\u001b[39;00m ensure_lock(tqdm_class, lock_name\u001b[38;5;241m=\u001b[39mlock_name) \u001b[38;5;28;01mas\u001b[39;00m lk:\n\u001b[1;32m     48\u001b[0m     \u001b[38;5;66;03m# share lock in case workers are already using `tqdm`\u001b[39;00m\n\u001b[1;32m     49\u001b[0m     \u001b[38;5;28;01mwith\u001b[39;00m PoolExecutor(max_workers\u001b[38;5;241m=\u001b[39mmax_workers, initializer\u001b[38;5;241m=\u001b[39mtqdm_class\u001b[38;5;241m.\u001b[39mset_lock,\n\u001b[1;32m     50\u001b[0m                       initargs\u001b[38;5;241m=\u001b[39m(lk,)) \u001b[38;5;28;01mas\u001b[39;00m ex:\n\u001b[0;32m---> 51\u001b[0m         \u001b[38;5;28;01mreturn\u001b[39;00m \u001b[38;5;28;43mlist\u001b[39;49m\u001b[43m(\u001b[49m\u001b[43mtqdm_class\u001b[49m\u001b[43m(\u001b[49m\u001b[43mex\u001b[49m\u001b[38;5;241;43m.\u001b[39;49m\u001b[43mmap\u001b[49m\u001b[43m(\u001b[49m\u001b[43mfn\u001b[49m\u001b[43m,\u001b[49m\u001b[43m \u001b[49m\u001b[38;5;241;43m*\u001b[39;49m\u001b[43miterables\u001b[49m\u001b[43m,\u001b[49m\u001b[43m \u001b[49m\u001b[43mchunksize\u001b[49m\u001b[38;5;241;43m=\u001b[39;49m\u001b[43mchunksize\u001b[49m\u001b[43m)\u001b[49m\u001b[43m,\u001b[49m\u001b[43m \u001b[49m\u001b[38;5;241;43m*\u001b[39;49m\u001b[38;5;241;43m*\u001b[39;49m\u001b[43mkwargs\u001b[49m\u001b[43m)\u001b[49m\u001b[43m)\u001b[49m\n",
                        "File \u001b[0;32m/workspace/.venv/lib/python3.10/site-packages/tqdm/notebook.py:250\u001b[0m, in \u001b[0;36mtqdm_notebook.__iter__\u001b[0;34m(self)\u001b[0m\n\u001b[1;32m    248\u001b[0m \u001b[38;5;28;01mtry\u001b[39;00m:\n\u001b[1;32m    249\u001b[0m     it \u001b[38;5;241m=\u001b[39m \u001b[38;5;28msuper\u001b[39m(tqdm_notebook, \u001b[38;5;28mself\u001b[39m)\u001b[38;5;241m.\u001b[39m\u001b[38;5;21m__iter__\u001b[39m()\n\u001b[0;32m--> 250\u001b[0m     \u001b[38;5;28;01mfor\u001b[39;00m obj \u001b[38;5;129;01min\u001b[39;00m it:\n\u001b[1;32m    251\u001b[0m         \u001b[38;5;66;03m# return super(tqdm...) will not catch exception\u001b[39;00m\n\u001b[1;32m    252\u001b[0m         \u001b[38;5;28;01myield\u001b[39;00m obj\n\u001b[1;32m    253\u001b[0m \u001b[38;5;66;03m# NB: except ... [ as ...] breaks IPython async KeyboardInterrupt\u001b[39;00m\n",
                        "File \u001b[0;32m/workspace/.venv/lib/python3.10/site-packages/tqdm/std.py:1181\u001b[0m, in \u001b[0;36mtqdm.__iter__\u001b[0;34m(self)\u001b[0m\n\u001b[1;32m   1178\u001b[0m time \u001b[38;5;241m=\u001b[39m \u001b[38;5;28mself\u001b[39m\u001b[38;5;241m.\u001b[39m_time\n\u001b[1;32m   1180\u001b[0m \u001b[38;5;28;01mtry\u001b[39;00m:\n\u001b[0;32m-> 1181\u001b[0m     \u001b[38;5;28;01mfor\u001b[39;00m obj \u001b[38;5;129;01min\u001b[39;00m iterable:\n\u001b[1;32m   1182\u001b[0m         \u001b[38;5;28;01myield\u001b[39;00m obj\n\u001b[1;32m   1183\u001b[0m         \u001b[38;5;66;03m# Update and possibly print the progressbar.\u001b[39;00m\n\u001b[1;32m   1184\u001b[0m         \u001b[38;5;66;03m# Note: does not call self.update(1) for speed optimisation.\u001b[39;00m\n",
                        "File \u001b[0;32m/usr/lib/python3.10/concurrent/futures/_base.py:621\u001b[0m, in \u001b[0;36mExecutor.map.<locals>.result_iterator\u001b[0;34m()\u001b[0m\n\u001b[1;32m    618\u001b[0m \u001b[38;5;28;01mwhile\u001b[39;00m fs:\n\u001b[1;32m    619\u001b[0m     \u001b[38;5;66;03m# Careful not to keep a reference to the popped future\u001b[39;00m\n\u001b[1;32m    620\u001b[0m     \u001b[38;5;28;01mif\u001b[39;00m timeout \u001b[38;5;129;01mis\u001b[39;00m \u001b[38;5;28;01mNone\u001b[39;00m:\n\u001b[0;32m--> 621\u001b[0m         \u001b[38;5;28;01myield\u001b[39;00m \u001b[43m_result_or_cancel\u001b[49m\u001b[43m(\u001b[49m\u001b[43mfs\u001b[49m\u001b[38;5;241;43m.\u001b[39;49m\u001b[43mpop\u001b[49m\u001b[43m(\u001b[49m\u001b[43m)\u001b[49m\u001b[43m)\u001b[49m\n\u001b[1;32m    622\u001b[0m     \u001b[38;5;28;01melse\u001b[39;00m:\n\u001b[1;32m    623\u001b[0m         \u001b[38;5;28;01myield\u001b[39;00m _result_or_cancel(fs\u001b[38;5;241m.\u001b[39mpop(), end_time \u001b[38;5;241m-\u001b[39m time\u001b[38;5;241m.\u001b[39mmonotonic())\n",
                        "File \u001b[0;32m/usr/lib/python3.10/concurrent/futures/_base.py:319\u001b[0m, in \u001b[0;36m_result_or_cancel\u001b[0;34m(***failed resolving arguments***)\u001b[0m\n\u001b[1;32m    317\u001b[0m \u001b[38;5;28;01mtry\u001b[39;00m:\n\u001b[1;32m    318\u001b[0m     \u001b[38;5;28;01mtry\u001b[39;00m:\n\u001b[0;32m--> 319\u001b[0m         \u001b[38;5;28;01mreturn\u001b[39;00m \u001b[43mfut\u001b[49m\u001b[38;5;241;43m.\u001b[39;49m\u001b[43mresult\u001b[49m\u001b[43m(\u001b[49m\u001b[43mtimeout\u001b[49m\u001b[43m)\u001b[49m\n\u001b[1;32m    320\u001b[0m     \u001b[38;5;28;01mfinally\u001b[39;00m:\n\u001b[1;32m    321\u001b[0m         fut\u001b[38;5;241m.\u001b[39mcancel()\n",
                        "File \u001b[0;32m/usr/lib/python3.10/concurrent/futures/_base.py:453\u001b[0m, in \u001b[0;36mFuture.result\u001b[0;34m(self, timeout)\u001b[0m\n\u001b[1;32m    450\u001b[0m \u001b[38;5;28;01melif\u001b[39;00m \u001b[38;5;28mself\u001b[39m\u001b[38;5;241m.\u001b[39m_state \u001b[38;5;241m==\u001b[39m FINISHED:\n\u001b[1;32m    451\u001b[0m     \u001b[38;5;28;01mreturn\u001b[39;00m \u001b[38;5;28mself\u001b[39m\u001b[38;5;241m.\u001b[39m__get_result()\n\u001b[0;32m--> 453\u001b[0m \u001b[38;5;28;43mself\u001b[39;49m\u001b[38;5;241;43m.\u001b[39;49m\u001b[43m_condition\u001b[49m\u001b[38;5;241;43m.\u001b[39;49m\u001b[43mwait\u001b[49m\u001b[43m(\u001b[49m\u001b[43mtimeout\u001b[49m\u001b[43m)\u001b[49m\n\u001b[1;32m    455\u001b[0m \u001b[38;5;28;01mif\u001b[39;00m \u001b[38;5;28mself\u001b[39m\u001b[38;5;241m.\u001b[39m_state \u001b[38;5;129;01min\u001b[39;00m [CANCELLED, CANCELLED_AND_NOTIFIED]:\n\u001b[1;32m    456\u001b[0m     \u001b[38;5;28;01mraise\u001b[39;00m CancelledError()\n",
                        "File \u001b[0;32m/usr/lib/python3.10/threading.py:320\u001b[0m, in \u001b[0;36mCondition.wait\u001b[0;34m(self, timeout)\u001b[0m\n\u001b[1;32m    318\u001b[0m \u001b[38;5;28;01mtry\u001b[39;00m:    \u001b[38;5;66;03m# restore state no matter what (e.g., KeyboardInterrupt)\u001b[39;00m\n\u001b[1;32m    319\u001b[0m     \u001b[38;5;28;01mif\u001b[39;00m timeout \u001b[38;5;129;01mis\u001b[39;00m \u001b[38;5;28;01mNone\u001b[39;00m:\n\u001b[0;32m--> 320\u001b[0m         \u001b[43mwaiter\u001b[49m\u001b[38;5;241;43m.\u001b[39;49m\u001b[43macquire\u001b[49m\u001b[43m(\u001b[49m\u001b[43m)\u001b[49m\n\u001b[1;32m    321\u001b[0m         gotit \u001b[38;5;241m=\u001b[39m \u001b[38;5;28;01mTrue\u001b[39;00m\n\u001b[1;32m    322\u001b[0m     \u001b[38;5;28;01melse\u001b[39;00m:\n",
                        "\u001b[0;31mKeyboardInterrupt\u001b[0m: "
                    ]
                }
            ],
            "source": [
                "from datasets import load_dataset, DatasetDict\n",
                "\n",
                "#dataset = load_dataset(path='DBD-research-group/beans_rfcx', split='test')\n",
                "dataset: DatasetDict = load_dataset(name='default', path='DBD-research-group/beans_rfcx')"
            ]
        },
        {
            "cell_type": "markdown",
            "metadata": {},
            "source": [
                "Now you can interact with the dataset. "
            ]
        },
        {
            "cell_type": "code",
            "execution_count": 8,
            "metadata": {},
            "outputs": [
                {
                    "name": "stdout",
                    "output_type": "stream",
                    "text": [
                        "Number of samples: 702\n"
                    ]
                },
                {
                    "data": {
                        "text/plain": [
                            "{'path': {'path': '2015-09-04_08-04-59_unit03.000.wav',\n",
                            "  'array': array([-0.00088501, -0.01126099, -0.00408936, ..., -0.00488281,\n",
                            "         -0.00430298,  0.00384521]),\n",
                            "  'sample_rate': 16000},\n",
                            " 'length': 60.0,\n",
                            " 'annotations': [{'ed': 30.857, 'label': 'OVEN', 'st': 30.707},\n",
                            "  {'ed': 45.624, 'label': 'SWTH', 'st': 45.474},\n",
                            "  {'ed': 59.246, 'label': 'OVEN', 'st': 59.096}]}"
                        ]
                    },
                    "execution_count": 8,
                    "metadata": {},
                    "output_type": "execute_result"
                }
            ],
            "source": [
                "# print number of samples and number of distinct classes\n",
                "print(f\"Number of samples: {len(dataset['train'])}\")\n",
                "dataset['train'][0]\n",
                "# path -> Array contains the Audio data"
            ]
        }
    ],
    "metadata": {
        "kernelspec": {
            "display_name": "Python 3",
            "language": "python",
            "name": "python3"
        },
        "language_info": {
            "codemirror_mode": {
                "name": "ipython",
                "version": 3
            },
            "file_extension": ".py",
            "mimetype": "text/x-python",
            "name": "python",
            "nbconvert_exporter": "python",
            "pygments_lexer": "ipython3",
            "version": "3.10.12"
        }
    },
    "nbformat": 4,
    "nbformat_minor": 2
}