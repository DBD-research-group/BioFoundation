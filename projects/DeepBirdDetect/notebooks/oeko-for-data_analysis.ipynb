{
 "cells": [
  {
   "cell_type": "markdown",
   "metadata": {},
   "source": [
    "# How to Analyze\n",
    "Use the `analyze_unlabled_data_dir` and `analyze_labled_data_dir` methods to analyze the corresponding data.\n",
    "\n",
    "Beforehand: Adjust `LABLED_DATA_PATH` and `UNLABLED_DATA_PATH` as well as `LOG_PATH`."
   ]
  },
  {
   "cell_type": "code",
   "execution_count": 2,
   "metadata": {},
   "outputs": [],
   "source": [
    "import pandas as pd\n",
    "import os\n",
    "import wave\n",
    "from pydub import AudioSegment\n",
    "import datetime"
   ]
  },
  {
   "cell_type": "code",
   "execution_count": 3,
   "metadata": {},
   "outputs": [],
   "source": [
    "def get_wav_duration(file_path: str) -> float:\n",
    "    with wave.open(file_path, \"rb\") as wav_file:\n",
    "        num_frames = wav_file.getnframes()\n",
    "        frame_rate = wav_file.getframerate()\n",
    "\n",
    "        duration = num_frames / float(frame_rate)\n",
    "\n",
    "    return duration\n",
    "\n",
    "\n",
    "def get_flac_duration(file_path: str) -> float:\n",
    "    audio = AudioSegment.from_file(file_path, format=\"flac\")\n",
    "    duration = len(audio) / 1000.0\n",
    "    return duration"
   ]
  },
  {
   "cell_type": "code",
   "execution_count": 4,
   "metadata": {},
   "outputs": [],
   "source": [
    "AUDIO_FORMATS = [\"wav\", \"flac\"]\n",
    "AUDIO_FORMATS_ANALYZER = {\"wav\": get_wav_duration, \"flac\": get_flac_duration}\n",
    "CSV_FORMATS = [\"txt\"]\n",
    "LOG_PATH = \"/home/rschwinger/oekofor-log\"  # ! YOU HAVE TO CREATE THIS DIR ON YOUR OWN\n",
    "LABLED_DATA_PATH = \"/data/deepbirdraw/Labels_DeepBirdDetect\"\n",
    "UNLABLED_DATA_PATH = \"/data/deepbirdraw/Aufnahmen\"\n",
    "DELIMITER = \"\\t\"\n",
    "LOG_FREQUENCY = 5000  # log every X files in case the program terminates"
   ]
  },
  {
   "cell_type": "code",
   "execution_count": 5,
   "metadata": {},
   "outputs": [],
   "source": [
    "call_types = {}\n",
    "recording_duration = {}\n",
    "recording_num = {}\n",
    "common_names = []"
   ]
  },
  {
   "cell_type": "code",
   "execution_count": 7,
   "metadata": {},
   "outputs": [],
   "source": [
    "def get_file_names_in_dir(dir: str) -> list[str]:\n",
    "    all_files = []\n",
    "\n",
    "    for root, dirs, files in os.walk(dir):\n",
    "        for file in files:\n",
    "            file_path = os.path.join(root, file)\n",
    "            all_files.append(file_path)\n",
    "\n",
    "    return all_files"
   ]
  },
  {
   "cell_type": "code",
   "execution_count": 8,
   "metadata": {},
   "outputs": [
    {
     "ename": "TypeError",
     "evalue": "'type' object is not subscriptable",
     "output_type": "error",
     "traceback": [
      "\u001b[0;31m---------------------------------------------------------------------------\u001b[0m",
      "\u001b[0;31mTypeError\u001b[0m                                 Traceback (most recent call last)",
      "Input \u001b[0;32mIn [8]\u001b[0m, in \u001b[0;36m<cell line: 1>\u001b[0;34m()\u001b[0m\n\u001b[0;32m----> 1\u001b[0m \u001b[38;5;28;01mdef\u001b[39;00m \u001b[38;5;21mreduce_files_names_to_relevant_files\u001b[39m(files: \u001b[38;5;28;43mlist\u001b[39;49m\u001b[43m[\u001b[49m\u001b[38;5;28;43mstr\u001b[39;49m\u001b[43m]\u001b[49m) \u001b[38;5;241m-\u001b[39m\u001b[38;5;241m>\u001b[39m \u001b[38;5;28mlist\u001b[39m[\u001b[38;5;28mstr\u001b[39m]:\n\u001b[1;32m      2\u001b[0m     \u001b[38;5;28;01mreturn\u001b[39;00m [f \u001b[38;5;28;01mfor\u001b[39;00m f \u001b[38;5;129;01min\u001b[39;00m files \u001b[38;5;28;01mif\u001b[39;00m f\u001b[38;5;241m.\u001b[39msplit(\u001b[38;5;124m'\u001b[39m\u001b[38;5;124m.\u001b[39m\u001b[38;5;124m'\u001b[39m)[\u001b[38;5;241m-\u001b[39m\u001b[38;5;241m1\u001b[39m] \u001b[38;5;129;01min\u001b[39;00m CSV_FORMATS]\n",
      "\u001b[0;31mTypeError\u001b[0m: 'type' object is not subscriptable"
     ]
    }
   ],
   "source": [
    "def reduce_files_names_to_relevant_files(files: list[str]) -> list[str]:\n",
    "    return [f for f in files if f.split(\".\")[-1] in CSV_FORMATS]"
   ]
  },
  {
   "cell_type": "code",
   "execution_count": 115,
   "metadata": {},
   "outputs": [],
   "source": [
    "def read_csv_file(file: str) -> pd.DataFrame:\n",
    "    return pd.read_csv(file, delimiter=DELIMITER)"
   ]
  },
  {
   "cell_type": "code",
   "execution_count": 116,
   "metadata": {},
   "outputs": [],
   "source": [
    "def get_audio_file_duration(file_path: str) -> float:\n",
    "    file_name, file_extension = os.path.splitext(file_path)\n",
    "\n",
    "    for audio_format in AUDIO_FORMATS:\n",
    "        if os.path.isfile(file_name + \".\" + audio_format):\n",
    "            # TODO Something broken here\n",
    "            print(file_name + \".\" + audio_format)\n",
    "            return AUDIO_FORMATS_ANALYZER[audio_format](file_name + \".\" + audio_format)\n",
    "    print(f\"Did not find file format: {file_path}\")\n",
    "    return 0"
   ]
  },
  {
   "cell_type": "code",
   "execution_count": 117,
   "metadata": {},
   "outputs": [],
   "source": [
    "def extract_relevant_information(file: str) -> None:\n",
    "    file_extension = file.split(\".\")[-1]\n",
    "\n",
    "    if not file_extension in CSV_FORMATS:\n",
    "        raise ValueError(f\"Unknown file extension for csv: {file_extension}\")\n",
    "\n",
    "    df = read_csv_file(file)\n",
    "\n",
    "    common_name = df.at[0, \"common_name\"]\n",
    "    call_type = df.at[0, \"call_type\"]\n",
    "    duration = get_audio_file_duration(file)\n",
    "\n",
    "    # add to call_types\n",
    "    if not call_type in call_types:\n",
    "        call_types[common_name] = [call_type]\n",
    "    else:\n",
    "        if not call_type in call_types[common_name]:\n",
    "            call_types[common_name].append(call_type)\n",
    "\n",
    "    # add to recording_duration\n",
    "    if not common_name in recording_duration:\n",
    "        recording_duration[common_name] = duration\n",
    "    else:\n",
    "        recording_duration[common_name] += duration\n",
    "\n",
    "    # add to recording_duration\n",
    "    if not common_name in recording_num:\n",
    "        recording_num[common_name] = 1\n",
    "    else:\n",
    "        recording_num[common_name] += 1\n",
    "\n",
    "    # add to common_names\n",
    "    if not common_name in common_names:\n",
    "        common_names.append(common_name)"
   ]
  },
  {
   "cell_type": "code",
   "execution_count": 118,
   "metadata": {},
   "outputs": [],
   "source": [
    "def log_common_names() -> None:\n",
    "    with open(os.path.join(LOG_PATH, \"common_names.log\"), \"w\") as f:\n",
    "        for common_name in common_names:\n",
    "            f.write(common_name + \"\\n\")"
   ]
  },
  {
   "cell_type": "code",
   "execution_count": 119,
   "metadata": {},
   "outputs": [],
   "source": [
    "def write_log(files_processed: int, relevant_files: int, total_files: int) -> None:\n",
    "    file_name = f\"{LOG_PATH}/labled_log_{str(datetime.datetime.now())}.txt\"\n",
    "\n",
    "    with open(file_name, \"w\") as file:\n",
    "        if relevant_files == 0:\n",
    "            procentage = 0\n",
    "        else:\n",
    "            procentage = files_processed / relevant_files\n",
    "        file.write(\n",
    "            f\"Log with progress {files_processed} / {relevant_files} ({round(procentage, 2)}%) \\n\"\n",
    "        )\n",
    "        file.write(\"Meta Information\\n:\")\n",
    "        file.write(f\"Total Files: {total_files}\\n\")\n",
    "        file.write(f\"Relevant Files: {relevant_files}\\n\")\n",
    "        file.write(f\"Files Processed: {files_processed}\\n\")\n",
    "        file.write(f\"LOG_PATH: {LOG_PATH}\\n\")\n",
    "        file.write(f\"LABLED_DATA_PATH: {LABLED_DATA_PATH}\\n\")\n",
    "        file.write(f\"UNLABLED_DATA_PATH: {UNLABLED_DATA_PATH}\\n\")\n",
    "        file.write(f\"DELIMITER: {DELIMITER}\\n\")\n",
    "        file.write(f\"LOG_FREQUENCY: {LOG_FREQUENCY}\\n\")\n",
    "        file.write(\"\\n\")\n",
    "\n",
    "        file.write(\"General Dataset Information:\\n\")\n",
    "        file.write(f\"Total number of classes: {len(common_names)}\\n\")\n",
    "        file.write(f\"Total number of recordings: {sum(recording_num.values())}\\n\")\n",
    "        file.write(\n",
    "            f\"Total duration of recordings: {sum(recording_duration.values())}\\n\"\n",
    "        )\n",
    "        file.write(\"\\n\")\n",
    "\n",
    "        for common_name in common_names:\n",
    "            file.write(f\"Common Name: {common_name}\\n\")\n",
    "            file.write(f\"Number of recordings: {recording_num[common_name]}\\n\")\n",
    "            file.write(\n",
    "                f\"Total duration of recordings: {recording_duration[common_name]}\\n\"\n",
    "            )\n",
    "            file.write(f\"Call Types: {call_types[common_name]}\\n\")\n",
    "            file.write(\"\\n\")"
   ]
  },
  {
   "cell_type": "code",
   "execution_count": 120,
   "metadata": {},
   "outputs": [],
   "source": [
    "def write_unlabled_log(duration, files):\n",
    "    with open(f\"{LOG_PATH}/unlabled_log_{str(datetime.datetime.now())}.txt\", \"w\") as f:\n",
    "        f.write(f\"Total duration of recordings: {duration}\\n\")\n",
    "        f.write(f\"Total number of recordings: {len(files)}\\n\")"
   ]
  },
  {
   "cell_type": "code",
   "execution_count": 121,
   "metadata": {},
   "outputs": [],
   "source": [
    "from tqdm import tqdm"
   ]
  },
  {
   "cell_type": "code",
   "execution_count": 122,
   "metadata": {},
   "outputs": [],
   "source": [
    "def analyze_labled_data_dir() -> None:\n",
    "    files = get_file_names_in_dir(LABLED_DATA_PATH)\n",
    "    relevant_files = reduce_files_names_to_relevant_files(files)\n",
    "\n",
    "    for i, file in tqdm(enumerate(relevant_files)):\n",
    "        extract_relevant_information(file)\n",
    "\n",
    "        if i % LOG_FREQUENCY == 0 and not i == 0:\n",
    "            write_log(i, len(relevant_files), len(files))\n",
    "\n",
    "    write_log(len(relevant_files), len(relevant_files), len(files))\n",
    "    log_common_names()\n",
    "    print(\"Finished analyzing labled data\")"
   ]
  },
  {
   "cell_type": "code",
   "execution_count": 123,
   "metadata": {},
   "outputs": [],
   "source": [
    "def analyze_unlabled_data_dir() -> None:\n",
    "    files = get_file_names_in_dir(UNLABLED_DATA_PATH)\n",
    "    duration = 0\n",
    "    # get duration of all audio files\n",
    "    for i, file in tqdm(enumerate(files)):\n",
    "        if file.split(\".\")[-1] in AUDIO_FORMATS:\n",
    "            duration += get_audio_file_duration(file)\n",
    "        else:\n",
    "            print(f\"File {file} is not a valid audio file\")\n",
    "\n",
    "        if i % LOG_FREQUENCY == 0 and not i == 0:\n",
    "            write_unlabled_log(duration, files)\n",
    "\n",
    "    write_unlabled_log(duration, files)\n",
    "\n",
    "    print(\"finished analyzing unlabled data\")"
   ]
  },
  {
   "cell_type": "code",
   "execution_count": 124,
   "metadata": {},
   "outputs": [
    {
     "name": "stderr",
     "output_type": "stream",
     "text": [
      "0it [00:00, ?it/s]"
     ]
    },
    {
     "name": "stdout",
     "output_type": "stream",
     "text": [
      "/data/deepbirdraw/Labels_DeepBirdDetect/Common Quail_s (Gesang)_1_0.88_Ralph Martin_SN11_2022-06-20T011034+0000_s161.1.flac\n"
     ]
    },
    {
     "name": "stderr",
     "output_type": "stream",
     "text": [
      "\n"
     ]
    },
    {
     "ename": "CouldntDecodeError",
     "evalue": "Decoding failed. ffmpeg returned error code: 1\n\nOutput from ffmpeg/avlib:\n\nffmpeg version 4.4.2-0ubuntu0.22.04.1 Copyright (c) 2000-2021 the FFmpeg developers\n  built with gcc 11 (Ubuntu 11.2.0-19ubuntu1)\n  configuration: --prefix=/usr --extra-version=0ubuntu0.22.04.1 --toolchain=hardened --libdir=/usr/lib/x86_64-linux-gnu --incdir=/usr/include/x86_64-linux-gnu --arch=amd64 --enable-gpl --disable-stripping --enable-gnutls --enable-ladspa --enable-libaom --enable-libass --enable-libbluray --enable-libbs2b --enable-libcaca --enable-libcdio --enable-libcodec2 --enable-libdav1d --enable-libflite --enable-libfontconfig --enable-libfreetype --enable-libfribidi --enable-libgme --enable-libgsm --enable-libjack --enable-libmp3lame --enable-libmysofa --enable-libopenjpeg --enable-libopenmpt --enable-libopus --enable-libpulse --enable-librabbitmq --enable-librubberband --enable-libshine --enable-libsnappy --enable-libsoxr --enable-libspeex --enable-libsrt --enable-libssh --enable-libtheora --enable-libtwolame --enable-libvidstab --enable-libvorbis --enable-libvpx --enable-libwebp --enable-libx265 --enable-libxml2 --enable-libxvid --enable-libzimg --enable-libzmq --enable-libzvbi --enable-lv2 --enable-omx --enable-openal --enable-opencl --enable-opengl --enable-sdl2 --enable-pocketsphinx --enable-librsvg --enable-libmfx --enable-libdc1394 --enable-libdrm --enable-libiec61883 --enable-chromaprint --enable-frei0r --enable-libx264 --enable-shared\n  libavutil      56. 70.100 / 56. 70.100\n  libavcodec     58.134.100 / 58.134.100\n  libavformat    58. 76.100 / 58. 76.100\n  libavdevice    58. 13.100 / 58. 13.100\n  libavfilter     7.110.100 /  7.110.100\n  libswscale      5.  9.100 /  5.  9.100\n  libswresample   3.  9.100 /  3.  9.100\n  libpostproc    55.  9.100 / 55.  9.100\n[flac @ 0x5611b96086c0] Could not find codec parameters for stream 0 (Audio: flac, 0 channels): unspecified sample format\nConsider increasing the value for the 'analyzeduration' (0) and 'probesize' (5000000) options\nInput #0, flac, from '/data/deepbirdraw/Labels_DeepBirdDetect/Common Quail_s (Gesang)_1_0.88_Ralph Martin_SN11_2022-06-20T011034+0000_s161.1.flac':\n  Duration: N/A, bitrate: N/A\n  Stream #0:0: Audio: flac, 0 channels\nOutput #0, wav, to 'pipe:':\nOutput file #0 does not contain any stream\n",
     "output_type": "error",
     "traceback": [
      "\u001b[0;31m---------------------------------------------------------------------------\u001b[0m",
      "\u001b[0;31mCouldntDecodeError\u001b[0m                        Traceback (most recent call last)",
      "Cell \u001b[0;32mIn[124], line 1\u001b[0m\n\u001b[0;32m----> 1\u001b[0m \u001b[43manalyze_labled_data_dir\u001b[49m\u001b[43m(\u001b[49m\u001b[43m)\u001b[49m\n",
      "Cell \u001b[0;32mIn[122], line 6\u001b[0m, in \u001b[0;36manalyze_labled_data_dir\u001b[0;34m()\u001b[0m\n\u001b[1;32m      3\u001b[0m relevant_files \u001b[38;5;241m=\u001b[39m reduce_files_names_to_relevant_files(files)\n\u001b[1;32m      5\u001b[0m \u001b[38;5;28;01mfor\u001b[39;00m i, file \u001b[38;5;129;01min\u001b[39;00m tqdm(\u001b[38;5;28menumerate\u001b[39m(relevant_files)):\n\u001b[0;32m----> 6\u001b[0m     \u001b[43mextract_relevant_information\u001b[49m\u001b[43m(\u001b[49m\u001b[43mfile\u001b[49m\u001b[43m)\u001b[49m\n\u001b[1;32m      8\u001b[0m     \u001b[38;5;28;01mif\u001b[39;00m i \u001b[38;5;241m%\u001b[39m LOG_FREQUENCY \u001b[38;5;241m==\u001b[39m \u001b[38;5;241m0\u001b[39m \u001b[38;5;129;01mand\u001b[39;00m \u001b[38;5;129;01mnot\u001b[39;00m i \u001b[38;5;241m==\u001b[39m \u001b[38;5;241m0\u001b[39m:\n\u001b[1;32m      9\u001b[0m         write_log(i, \u001b[38;5;28mlen\u001b[39m(relevant_files), \u001b[38;5;28mlen\u001b[39m(files))\n",
      "Cell \u001b[0;32mIn[117], line 11\u001b[0m, in \u001b[0;36mextract_relevant_information\u001b[0;34m(file)\u001b[0m\n\u001b[1;32m      9\u001b[0m common_name \u001b[38;5;241m=\u001b[39m df\u001b[38;5;241m.\u001b[39mat[\u001b[38;5;241m0\u001b[39m, \u001b[38;5;124m\"\u001b[39m\u001b[38;5;124mcommon_name\u001b[39m\u001b[38;5;124m\"\u001b[39m]\n\u001b[1;32m     10\u001b[0m call_type \u001b[38;5;241m=\u001b[39m df\u001b[38;5;241m.\u001b[39mat[\u001b[38;5;241m0\u001b[39m, \u001b[38;5;124m\"\u001b[39m\u001b[38;5;124mcall_type\u001b[39m\u001b[38;5;124m\"\u001b[39m]\n\u001b[0;32m---> 11\u001b[0m duration \u001b[38;5;241m=\u001b[39m \u001b[43mget_audio_file_duration\u001b[49m\u001b[43m(\u001b[49m\u001b[43mfile\u001b[49m\u001b[43m)\u001b[49m\n\u001b[1;32m     13\u001b[0m \u001b[38;5;66;03m# add to call_types\u001b[39;00m\n\u001b[1;32m     14\u001b[0m \u001b[38;5;28;01mif\u001b[39;00m \u001b[38;5;129;01mnot\u001b[39;00m call_type \u001b[38;5;129;01min\u001b[39;00m call_types:\n",
      "Cell \u001b[0;32mIn[116], line 7\u001b[0m, in \u001b[0;36mget_audio_file_duration\u001b[0;34m(file_path)\u001b[0m\n\u001b[1;32m      5\u001b[0m     \u001b[38;5;28;01mif\u001b[39;00m os\u001b[38;5;241m.\u001b[39mpath\u001b[38;5;241m.\u001b[39misfile(file_name \u001b[38;5;241m+\u001b[39m \u001b[38;5;124m'\u001b[39m\u001b[38;5;124m.\u001b[39m\u001b[38;5;124m'\u001b[39m \u001b[38;5;241m+\u001b[39m audio_format):\n\u001b[1;32m      6\u001b[0m         \u001b[38;5;28mprint\u001b[39m(file_name \u001b[38;5;241m+\u001b[39m \u001b[38;5;124m'\u001b[39m\u001b[38;5;124m.\u001b[39m\u001b[38;5;124m'\u001b[39m \u001b[38;5;241m+\u001b[39m audio_format)\n\u001b[0;32m----> 7\u001b[0m         \u001b[38;5;28;01mreturn\u001b[39;00m \u001b[43mAUDIO_FORMATS_ANALYZER\u001b[49m\u001b[43m[\u001b[49m\u001b[43maudio_format\u001b[49m\u001b[43m]\u001b[49m\u001b[43m(\u001b[49m\u001b[43mfile_name\u001b[49m\u001b[43m \u001b[49m\u001b[38;5;241;43m+\u001b[39;49m\u001b[43m \u001b[49m\u001b[38;5;124;43m'\u001b[39;49m\u001b[38;5;124;43m.\u001b[39;49m\u001b[38;5;124;43m'\u001b[39;49m\u001b[43m \u001b[49m\u001b[38;5;241;43m+\u001b[39;49m\u001b[43m \u001b[49m\u001b[43maudio_format\u001b[49m\u001b[43m)\u001b[49m\n\u001b[1;32m      8\u001b[0m \u001b[38;5;28mprint\u001b[39m(\u001b[38;5;124mf\u001b[39m\u001b[38;5;124m\"\u001b[39m\u001b[38;5;124mDid not find file format: \u001b[39m\u001b[38;5;132;01m{\u001b[39;00mfile_path\u001b[38;5;132;01m}\u001b[39;00m\u001b[38;5;124m\"\u001b[39m)\n\u001b[1;32m      9\u001b[0m \u001b[38;5;28;01mreturn\u001b[39;00m \u001b[38;5;241m0\u001b[39m\n",
      "Cell \u001b[0;32mIn[110], line 11\u001b[0m, in \u001b[0;36mget_flac_duration\u001b[0;34m(file_path)\u001b[0m\n\u001b[1;32m     10\u001b[0m \u001b[38;5;28;01mdef\u001b[39;00m \u001b[38;5;21mget_flac_duration\u001b[39m(file_path: \u001b[38;5;28mstr\u001b[39m) \u001b[38;5;241m-\u001b[39m\u001b[38;5;241m>\u001b[39m \u001b[38;5;28mfloat\u001b[39m:\n\u001b[0;32m---> 11\u001b[0m     audio \u001b[38;5;241m=\u001b[39m \u001b[43mAudioSegment\u001b[49m\u001b[38;5;241;43m.\u001b[39;49m\u001b[43mfrom_file\u001b[49m\u001b[43m(\u001b[49m\u001b[43mfile_path\u001b[49m\u001b[43m,\u001b[49m\u001b[43m \u001b[49m\u001b[38;5;28;43mformat\u001b[39;49m\u001b[38;5;241;43m=\u001b[39;49m\u001b[38;5;124;43m\"\u001b[39;49m\u001b[38;5;124;43mflac\u001b[39;49m\u001b[38;5;124;43m\"\u001b[39;49m\u001b[43m)\u001b[49m\n\u001b[1;32m     12\u001b[0m     duration \u001b[38;5;241m=\u001b[39m \u001b[38;5;28mlen\u001b[39m(audio) \u001b[38;5;241m/\u001b[39m \u001b[38;5;241m1000.0\u001b[39m\n\u001b[1;32m     13\u001b[0m     \u001b[38;5;28;01mreturn\u001b[39;00m duration\n",
      "File \u001b[0;32m~/.local/lib/python3.10/site-packages/pydub/audio_segment.py:773\u001b[0m, in \u001b[0;36mAudioSegment.from_file\u001b[0;34m(cls, file, format, codec, parameters, start_second, duration, **kwargs)\u001b[0m\n\u001b[1;32m    771\u001b[0m     \u001b[38;5;28;01mif\u001b[39;00m close_file:\n\u001b[1;32m    772\u001b[0m         file\u001b[38;5;241m.\u001b[39mclose()\n\u001b[0;32m--> 773\u001b[0m     \u001b[38;5;28;01mraise\u001b[39;00m CouldntDecodeError(\n\u001b[1;32m    774\u001b[0m         \u001b[38;5;124m\"\u001b[39m\u001b[38;5;124mDecoding failed. ffmpeg returned error code: \u001b[39m\u001b[38;5;132;01m{0}\u001b[39;00m\u001b[38;5;130;01m\\n\u001b[39;00m\u001b[38;5;130;01m\\n\u001b[39;00m\u001b[38;5;124mOutput from ffmpeg/avlib:\u001b[39m\u001b[38;5;130;01m\\n\u001b[39;00m\u001b[38;5;130;01m\\n\u001b[39;00m\u001b[38;5;132;01m{1}\u001b[39;00m\u001b[38;5;124m\"\u001b[39m\u001b[38;5;241m.\u001b[39mformat(\n\u001b[1;32m    775\u001b[0m             p\u001b[38;5;241m.\u001b[39mreturncode, p_err\u001b[38;5;241m.\u001b[39mdecode(errors\u001b[38;5;241m=\u001b[39m\u001b[38;5;124m'\u001b[39m\u001b[38;5;124mignore\u001b[39m\u001b[38;5;124m'\u001b[39m) ))\n\u001b[1;32m    777\u001b[0m p_out \u001b[38;5;241m=\u001b[39m \u001b[38;5;28mbytearray\u001b[39m(p_out)\n\u001b[1;32m    778\u001b[0m fix_wav_headers(p_out)\n",
      "\u001b[0;31mCouldntDecodeError\u001b[0m: Decoding failed. ffmpeg returned error code: 1\n\nOutput from ffmpeg/avlib:\n\nffmpeg version 4.4.2-0ubuntu0.22.04.1 Copyright (c) 2000-2021 the FFmpeg developers\n  built with gcc 11 (Ubuntu 11.2.0-19ubuntu1)\n  configuration: --prefix=/usr --extra-version=0ubuntu0.22.04.1 --toolchain=hardened --libdir=/usr/lib/x86_64-linux-gnu --incdir=/usr/include/x86_64-linux-gnu --arch=amd64 --enable-gpl --disable-stripping --enable-gnutls --enable-ladspa --enable-libaom --enable-libass --enable-libbluray --enable-libbs2b --enable-libcaca --enable-libcdio --enable-libcodec2 --enable-libdav1d --enable-libflite --enable-libfontconfig --enable-libfreetype --enable-libfribidi --enable-libgme --enable-libgsm --enable-libjack --enable-libmp3lame --enable-libmysofa --enable-libopenjpeg --enable-libopenmpt --enable-libopus --enable-libpulse --enable-librabbitmq --enable-librubberband --enable-libshine --enable-libsnappy --enable-libsoxr --enable-libspeex --enable-libsrt --enable-libssh --enable-libtheora --enable-libtwolame --enable-libvidstab --enable-libvorbis --enable-libvpx --enable-libwebp --enable-libx265 --enable-libxml2 --enable-libxvid --enable-libzimg --enable-libzmq --enable-libzvbi --enable-lv2 --enable-omx --enable-openal --enable-opencl --enable-opengl --enable-sdl2 --enable-pocketsphinx --enable-librsvg --enable-libmfx --enable-libdc1394 --enable-libdrm --enable-libiec61883 --enable-chromaprint --enable-frei0r --enable-libx264 --enable-shared\n  libavutil      56. 70.100 / 56. 70.100\n  libavcodec     58.134.100 / 58.134.100\n  libavformat    58. 76.100 / 58. 76.100\n  libavdevice    58. 13.100 / 58. 13.100\n  libavfilter     7.110.100 /  7.110.100\n  libswscale      5.  9.100 /  5.  9.100\n  libswresample   3.  9.100 /  3.  9.100\n  libpostproc    55.  9.100 / 55.  9.100\n[flac @ 0x5611b96086c0] Could not find codec parameters for stream 0 (Audio: flac, 0 channels): unspecified sample format\nConsider increasing the value for the 'analyzeduration' (0) and 'probesize' (5000000) options\nInput #0, flac, from '/data/deepbirdraw/Labels_DeepBirdDetect/Common Quail_s (Gesang)_1_0.88_Ralph Martin_SN11_2022-06-20T011034+0000_s161.1.flac':\n  Duration: N/A, bitrate: N/A\n  Stream #0:0: Audio: flac, 0 channels\nOutput #0, wav, to 'pipe:':\nOutput file #0 does not contain any stream\n"
     ]
    }
   ],
   "source": [
    "analyze_labled_data_dir()"
   ]
  },
  {
   "cell_type": "code",
   "execution_count": null,
   "metadata": {},
   "outputs": [],
   "source": [
    "analyze_unlabled_data_dir()"
   ]
  }
 ],
 "metadata": {
  "kernelspec": {
   "display_name": "Python 3",
   "language": "python",
   "name": "python3"
  },
  "language_info": {
   "codemirror_mode": {
    "name": "ipython",
    "version": 3
   },
   "file_extension": ".py",
   "mimetype": "text/x-python",
   "name": "python",
   "nbconvert_exporter": "python",
   "pygments_lexer": "ipython3",
   "version": "3.8.13"
  }
 },
 "nbformat": 4,
 "nbformat_minor": 2
}
