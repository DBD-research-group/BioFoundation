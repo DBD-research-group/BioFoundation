{
 "cells": [
  {
   "cell_type": "code",
   "execution_count": 21,
   "id": "bd4bf4b9",
   "metadata": {},
   "outputs": [],
   "source": [
    "import json\n",
    "import pandas as pd\n",
    "import os\n",
    "from datasets import Dataset, DatasetDict"
   ]
  },
  {
   "cell_type": "markdown",
   "id": "576a8386",
   "metadata": {},
   "source": [
    "### Create proper metadata files in csv format"
   ]
  },
  {
   "cell_type": "code",
   "execution_count": null,
   "id": "e85530d1",
   "metadata": {},
   "outputs": [],
   "source": [
    "def append_entry(entries, category, audio_dir_name, is_missing):\n",
    "    \"\"\"Append an entry to the list of entries.\"\"\"\n",
    "    entry = {\n",
    "        'audio_dir_name': audio_dir_name,\n",
    "        'category_id': category['id'],\n",
    "        'category_name': category['name'],\n",
    "        'common_name': category['common_name'],\n",
    "        'supercategory': category['supercategory'],\n",
    "        'kingdom': category['kingdom'],\n",
    "        'phylum': category['phylum'],\n",
    "        'class': category['class'],\n",
    "        'order': category['order'],\n",
    "        'family': category['family'],\n",
    "        'genus': category['genus'],\n",
    "        'specific_epithet': category['specific_epithet'],\n",
    "        'evaluation': category['evaluation'],\n",
    "    }\n",
    "    if is_missing:\n",
    "        entry['file_path'] = None  # No file path for missing entries\n",
    "    else:\n",
    "        entry['file_path'] = os.path.join(audio_dir_name, category['file_name'])  # Add file path for valid entries\n",
    "    entries.append(entry)\n",
    "\n",
    "def convert_json_to_csv(folder: str):\n",
    "    \"\"\"\n",
    "    Convert JSON metadata to CSV format.\n",
    "    The JSON file should contain information about audio files and their categories.\n",
    "    \"\"\"\n",
    "    path_to_dir = '/workspace/data_inatsounds'  # Update this path to your audio files directory\n",
    "    path_to_json = os.path.join(path_to_dir, f'{folder}.json')\n",
    "    path_to_audio_files = os.path.join(path_to_dir, folder)\n",
    "\n",
    "    print(f\"Converting JSON file {path_to_json} to CSV...\")\n",
    "\n",
    "    try:\n",
    "        with open(path_to_json, 'r') as file:\n",
    "            data = json.load(file)\n",
    "    except FileNotFoundError:\n",
    "        print(f\"File {path_to_json} not found.\")\n",
    "        return\n",
    "\n",
    "    rows = []\n",
    "    missing_entries = []\n",
    "\n",
    "    for category in data['categories']:\n",
    "        audio_dir_name = category['audio_dir_name']\n",
    "        \n",
    "        audio_files_path = os.path.join(path_to_audio_files, audio_dir_name)\n",
    "        \n",
    "        if os.path.exists(audio_files_path):\n",
    "            audio_files = [f for f in os.listdir(audio_files_path) if f.endswith('.wav')]\n",
    "            \n",
    "            if audio_files:\n",
    "                for audio_file in audio_files:\n",
    "                    category['file_name'] = audio_file\n",
    "                    append_entry(rows, category, audio_dir_name, is_missing=False)\n",
    "            else: \n",
    "                append_entry(missing_entries, category, audio_dir_name, is_missing=True)\n",
    "        else: \n",
    "            append_entry(missing_entries, category, audio_dir_name, is_missing=True)\n",
    "\n",
    "    valid_df = pd.DataFrame(rows)\n",
    "    missing_df = pd.DataFrame(missing_entries)\n",
    "\n",
    "    valid_df.to_csv(f'{folder}.csv', index=False)\n",
    "    missing_df.to_csv(f'missing_{folder}.csv', index=False)\n",
    "\n",
    "    total_missing = len(missing_entries)\n",
    "    total_valid = len(rows)\n",
    "\n",
    "    with open(f'{folder}_log.txt', 'w') as log_file:\n",
    "        log_file.write(f\"Total valid entries: {total_valid}\\n\")\n",
    "        log_file.write(f\"Total missing entries: {total_missing}\\n\")\n",
    "\n",
    "    print(\"Metadata has been converted to metadata.csv\")\n",
    "    print(\"Missing entries have been logged in missing_metadata.csv\")\n",
    "    print(\"General information about missing entries has been logged in missing_log.txt\")\n"
   ]
  },
  {
   "cell_type": "code",
   "execution_count": 19,
   "id": "0d6fb722",
   "metadata": {},
   "outputs": [
    {
     "name": "stdout",
     "output_type": "stream",
     "text": [
      "Converting JSON file /workspace/data_inatsounds/train.json to CSV...\n",
      "Metadata has been converted to metadata.csv\n",
      "Missing entries have been logged in missing_metadata.csv\n",
      "General information about missing entries has been logged in missing_log.txt\n",
      "Converting JSON file /workspace/data_inatsounds/test.json to CSV...\n",
      "Metadata has been converted to metadata.csv\n",
      "Missing entries have been logged in missing_metadata.csv\n",
      "General information about missing entries has been logged in missing_log.txt\n",
      "Converting JSON file /workspace/data_inatsounds/val.json to CSV...\n",
      "Metadata has been converted to metadata.csv\n",
      "Missing entries have been logged in missing_metadata.csv\n",
      "General information about missing entries has been logged in missing_log.txt\n"
     ]
    }
   ],
   "source": [
    "for folder in ['train', 'test', 'val']:\n",
    "    convert_json_to_csv(folder)"
   ]
  },
  {
   "cell_type": "markdown",
   "id": "9ef810ec",
   "metadata": {},
   "source": [
    "### Create dataset"
   ]
  },
  {
   "cell_type": "code",
   "execution_count": 23,
   "id": "20360ebb",
   "metadata": {},
   "outputs": [],
   "source": [
    "def load_audio_dataset(csv_file: str, audio_dir: str):\n",
    "    # Load the metadata from the CSV file\n",
    "    data = pd.read_csv(csv_file)\n",
    "\n",
    "    # Create a new column for the full audio file path\n",
    "    data['file_path'] = data['file_path'].apply(lambda x: os.path.join(audio_dir, x))\n",
    "\n",
    "    # Create a Hugging Face dataset\n",
    "    dataset = Dataset.from_pandas(data)\n",
    "\n",
    "    return dataset"
   ]
  },
  {
   "cell_type": "code",
   "execution_count": 24,
   "id": "99c54252",
   "metadata": {},
   "outputs": [],
   "source": [
    "train_dataset = load_audio_dataset('train.csv', 'train')\n",
    "val_dataset = load_audio_dataset('val.csv', 'val')\n",
    "test_dataset = load_audio_dataset('test.csv', 'test')"
   ]
  },
  {
   "cell_type": "code",
   "execution_count": 25,
   "id": "2b7f1385",
   "metadata": {},
   "outputs": [],
   "source": [
    "dataset_dict = DatasetDict({\n",
    "        'train': train_dataset,\n",
    "        'validation': val_dataset,\n",
    "        'test': test_dataset\n",
    "    })"
   ]
  },
  {
   "cell_type": "code",
   "execution_count": 27,
   "id": "4d1244e0",
   "metadata": {},
   "outputs": [
    {
     "data": {
      "application/vnd.jupyter.widget-view+json": {
       "model_id": "8af9b7fd796649b597674daf17f6ff64",
       "version_major": 2,
       "version_minor": 0
      },
      "text/plain": [
       "Saving the dataset (0/1 shards):   0%|          | 0/137012 [00:00<?, ? examples/s]"
      ]
     },
     "metadata": {},
     "output_type": "display_data"
    },
    {
     "data": {
      "application/vnd.jupyter.widget-view+json": {
       "model_id": "81e7c6d24e26470da1ace2428d528a0d",
       "version_major": 2,
       "version_minor": 0
      },
      "text/plain": [
       "Saving the dataset (0/1 shards):   0%|          | 0/45698 [00:00<?, ? examples/s]"
      ]
     },
     "metadata": {},
     "output_type": "display_data"
    },
    {
     "data": {
      "application/vnd.jupyter.widget-view+json": {
       "model_id": "b93740b7ee07427bae1a7a07cedca641",
       "version_major": 2,
       "version_minor": 0
      },
      "text/plain": [
       "Saving the dataset (0/1 shards):   0%|          | 0/49527 [00:00<?, ? examples/s]"
      ]
     },
     "metadata": {},
     "output_type": "display_data"
    }
   ],
   "source": [
    "dataset_dict.save_to_disk('/workspace')"
   ]
  },
  {
   "cell_type": "code",
   "execution_count": null,
   "id": "26f88790",
   "metadata": {},
   "outputs": [],
   "source": []
  }
 ],
 "metadata": {
  "kernelspec": {
   "display_name": "birdset-xS3fZVNL-py3.10",
   "language": "python",
   "name": "python3"
  },
  "language_info": {
   "codemirror_mode": {
    "name": "ipython",
    "version": 3
   },
   "file_extension": ".py",
   "mimetype": "text/x-python",
   "name": "python",
   "nbconvert_exporter": "python",
   "pygments_lexer": "ipython3",
   "version": "3.10.12"
  }
 },
 "nbformat": 4,
 "nbformat_minor": 5
}
