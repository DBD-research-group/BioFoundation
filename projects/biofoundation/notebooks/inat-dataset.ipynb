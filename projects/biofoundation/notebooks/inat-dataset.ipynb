{
 "cells": [
  {
   "cell_type": "code",
   "execution_count": 5,
   "id": "bd4bf4b9",
   "metadata": {},
   "outputs": [],
   "source": [
    "import json\n",
    "import pandas as pd\n",
    "import os"
   ]
  },
  {
   "cell_type": "code",
   "execution_count": 17,
   "id": "e85530d1",
   "metadata": {},
   "outputs": [],
   "source": [
    "import json\n",
    "import pandas as pd\n",
    "import os\n",
    "\n",
    "def append_entry(entries, category, audio_dir_name, is_missing):\n",
    "    \"\"\"Append an entry to the list of entries.\"\"\"\n",
    "    entry = {\n",
    "        'audio_dir_name': audio_dir_name,\n",
    "        'category_id': category['id'],\n",
    "        'category_name': category['name'],\n",
    "        'common_name': category['common_name'],\n",
    "        'supercategory': category['supercategory'],\n",
    "        'kingdom': category['kingdom'],\n",
    "        'phylum': category['phylum'],\n",
    "        'class': category['class'],\n",
    "        'order': category['order'],\n",
    "        'family': category['family'],\n",
    "        'genus': category['genus'],\n",
    "        'specific_epithet': category['specific_epithet'],\n",
    "        'evaluation': category['evaluation'],\n",
    "    }\n",
    "    if is_missing:\n",
    "        entry['file_path'] = None  # No file path for missing entries\n",
    "    else:\n",
    "        entry['file_path'] = os.path.join(audio_dir_name, category['file_name'])  # Add file path for valid entries\n",
    "    entries.append(entry)\n",
    "\n",
    "def convert_json_to_csv(folder: str):\n",
    "    \"\"\"\n",
    "    Convert JSON metadata to CSV format.\n",
    "    The JSON file should contain information about audio files and their categories.\n",
    "    \"\"\"\n",
    "    path_to_dir = '/workspace/data_inatsounds'  # Update this path to your audio files directory\n",
    "    path_to_json = os.path.join(path_to_dir, f'{folder}.json')\n",
    "    path_to_audio_files = os.path.join(path_to_dir, folder)\n",
    "\n",
    "    print(f\"Converting JSON file {path_to_json} to CSV...\")\n",
    "\n",
    "    try:\n",
    "        with open(path_to_json, 'r') as file:\n",
    "            data = json.load(file)\n",
    "    except FileNotFoundError:\n",
    "        print(f\"File {path_to_json} not found.\")\n",
    "        return\n",
    "\n",
    "    rows = []\n",
    "    missing_entries = []\n",
    "\n",
    "    for category in data['categories']:\n",
    "        audio_dir_name = category['audio_dir_name']\n",
    "        \n",
    "        audio_files_path = os.path.join(path_to_audio_files, audio_dir_name)\n",
    "        \n",
    "        # Check if the directory exists\n",
    "        if os.path.exists(audio_files_path):\n",
    "            audio_files = [f for f in os.listdir(audio_files_path) if f.endswith('.wav')]\n",
    "            \n",
    "            if audio_files:  # If there are audio files\n",
    "                for audio_file in audio_files:\n",
    "                    category['file_name'] = audio_file  # Add the file name to the category\n",
    "                    append_entry(rows, category, audio_dir_name, is_missing=False)\n",
    "            else:  # If no audio files are found\n",
    "                append_entry(missing_entries, category, audio_dir_name, is_missing=True)\n",
    "        else:  # If the directory does not exist\n",
    "            append_entry(missing_entries, category, audio_dir_name, is_missing=True)\n",
    "\n",
    "    # Create DataFrames\n",
    "    valid_df = pd.DataFrame(rows)\n",
    "    missing_df = pd.DataFrame(missing_entries)\n",
    "\n",
    "    # Save to CSV\n",
    "    valid_df.to_csv(f'{folder}.csv', index=False)\n",
    "    missing_df.to_csv(f'missing_{folder}.csv', index=False)\n",
    "\n",
    "    # Log general information about missing entries\n",
    "    total_missing = len(missing_entries)\n",
    "    total_valid = len(rows)\n",
    "\n",
    "    with open(f'{folder}_log.txt', 'w') as log_file:\n",
    "        log_file.write(f\"Total valid entries: {total_valid}\\n\")\n",
    "        log_file.write(f\"Total missing entries: {total_missing}\\n\")\n",
    "\n",
    "    print(\"Metadata has been converted to metadata.csv\")\n",
    "    print(\"Missing entries have been logged in missing_metadata.csv\")\n",
    "    print(\"General information about missing entries has been logged in missing_log.txt\")\n"
   ]
  },
  {
   "cell_type": "code",
   "execution_count": null,
   "id": "0d6fb722",
   "metadata": {},
   "outputs": [
    {
     "name": "stdout",
     "output_type": "stream",
     "text": [
      "Converting JSON file /workspace/data_inatsounds/train.json to CSV...\n",
      "Metadata has been converted to metadata.csv\n",
      "Missing entries have been logged in missing_metadata.csv\n",
      "General information about missing entries has been logged in missing_log.txt\n",
      "Converting JSON file /workspace/data_inatsounds/test.json to CSV...\n",
      "Metadata has been converted to metadata.csv\n",
      "Missing entries have been logged in missing_metadata.csv\n",
      "General information about missing entries has been logged in missing_log.txt\n",
      "Converting JSON file /workspace/data_inatsounds/validation.json to CSV...\n",
      "File /workspace/data_inatsounds/validation.json not found.\n"
     ]
    }
   ],
   "source": [
    "for folder in ['train', 'test', 'val']:\n",
    "    convert_json_to_csv(folder)"
   ]
  },
  {
   "cell_type": "code",
   "execution_count": null,
   "id": "20360ebb",
   "metadata": {},
   "outputs": [],
   "source": []
  }
 ],
 "metadata": {
  "kernelspec": {
   "display_name": "birdset-xS3fZVNL-py3.10",
   "language": "python",
   "name": "python3"
  },
  "language_info": {
   "codemirror_mode": {
    "name": "ipython",
    "version": 3
   },
   "file_extension": ".py",
   "mimetype": "text/x-python",
   "name": "python",
   "nbconvert_exporter": "python",
   "pygments_lexer": "ipython3",
   "version": "3.10.12"
  }
 },
 "nbformat": 4,
 "nbformat_minor": 5
}
