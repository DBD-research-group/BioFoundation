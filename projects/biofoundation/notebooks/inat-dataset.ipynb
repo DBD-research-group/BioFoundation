{
 "cells": [
  {
   "cell_type": "code",
   "execution_count": 5,
   "id": "bd4bf4b9",
   "metadata": {},
   "outputs": [],
   "source": [
    "import json\n",
    "import pandas as pd\n",
    "import os"
   ]
  },
  {
   "cell_type": "code",
   "execution_count": 9,
   "id": "e85530d1",
   "metadata": {},
   "outputs": [],
   "source": [
    "\n",
    "def convert_json_to_csv(folder: str):\n",
    "    \"\"\"\n",
    "    Convert JSON metadata to CSV format.\n",
    "    The JSON file should contain information about audio files and their categories.\n",
    "    \"\"\"\n",
    "    path_to_dir = '/workspace/data_inatsounds'  # Update this path to your audio files directory\n",
    "    path_to_json = path_to_dir + '/' + folder + '.json'\n",
    "    path_to_audio_files = path_to_dir + '/' + folder\n",
    "\n",
    "    print(f\"Converting JSON file {path_to_json} to CSV...\")\n",
    "\n",
    "    try:\n",
    "        with open(path_to_json, 'r') as file:\n",
    "            data = json.load(file)\n",
    "    except FileNotFoundError:\n",
    "        print(f\"File {path_to_json} not found.\")\n",
    "        return\n",
    "\n",
    "    rows = []\n",
    "    for category in data['categories']:\n",
    "        audio_dir_name = category['audio_dir_name']\n",
    "        \n",
    "        audio_files_path = os.path.join(path_to_audio_files, audio_dir_name)\n",
    "        audio_files = [f for f in os.listdir(audio_files_path) if f.endswith('.wav')]\n",
    "\n",
    "        for audio_file in audio_files:\n",
    "            rows.append({\n",
    "                'file_path': os.path.join(audio_dir_name, audio_file),\n",
    "                'category_id': category['id'],\n",
    "                'category_name': category['name'],\n",
    "                'common_name': category['common_name'],\n",
    "                'supercategory': category['supercategory'],\n",
    "                'kingdom': category['kingdom'],\n",
    "                'phylum': category['phylum'],\n",
    "                'class': category['class'],\n",
    "                'order': category['order'],\n",
    "                'family': category['family'],\n",
    "                'genus': category['genus'],\n",
    "                'specific_epithet': category['specific_epithet'],\n",
    "                'evaluation': category['evaluation'],\n",
    "                'year': data['info']['year'],\n",
    "                'version': data['info']['version'],\n",
    "                'description': data['info']['description'],\n",
    "                'contributor': data['info']['contributor'],\n",
    "                'url': data['info']['url'],\n",
    "                'date_created': data['info']['date_created']\n",
    "            })\n",
    "\n",
    "    df = pd.DataFrame(rows)\n",
    "\n",
    "    df.to_csv('metadata.csv', index=False)\n",
    "    print(\"Metadata has been converted to metadata.csv\")    \n"
   ]
  },
  {
   "cell_type": "code",
   "execution_count": 10,
   "id": "0d6fb722",
   "metadata": {},
   "outputs": [
    {
     "name": "stdout",
     "output_type": "stream",
     "text": [
      "Converting JSON file /workspace/data_inatsounds/val.json to CSV...\n"
     ]
    },
    {
     "ename": "FileNotFoundError",
     "evalue": "[Errno 2] No such file or directory: '/workspace/data_inatsounds/val/00000_Animalia_Arthropoda_Insecta_Blattodea_Hodotermitidae_Hodotermes_mossambicus'",
     "output_type": "error",
     "traceback": [
      "\u001b[0;31m---------------------------------------------------------------------------\u001b[0m",
      "\u001b[0;31mFileNotFoundError\u001b[0m                         Traceback (most recent call last)",
      "Cell \u001b[0;32mIn[10], line 1\u001b[0m\n\u001b[0;32m----> 1\u001b[0m \u001b[43mconvert_json_to_csv\u001b[49m\u001b[43m(\u001b[49m\u001b[38;5;124;43m'\u001b[39;49m\u001b[38;5;124;43mval\u001b[39;49m\u001b[38;5;124;43m'\u001b[39;49m\u001b[43m)\u001b[49m\n",
      "Cell \u001b[0;32mIn[9], line 24\u001b[0m, in \u001b[0;36mconvert_json_to_csv\u001b[0;34m(folder)\u001b[0m\n\u001b[1;32m     21\u001b[0m audio_dir_name \u001b[38;5;241m=\u001b[39m category[\u001b[38;5;124m'\u001b[39m\u001b[38;5;124maudio_dir_name\u001b[39m\u001b[38;5;124m'\u001b[39m]\n\u001b[1;32m     23\u001b[0m audio_files_path \u001b[38;5;241m=\u001b[39m os\u001b[38;5;241m.\u001b[39mpath\u001b[38;5;241m.\u001b[39mjoin(path_to_audio_files, audio_dir_name)\n\u001b[0;32m---> 24\u001b[0m audio_files \u001b[38;5;241m=\u001b[39m [f \u001b[38;5;28;01mfor\u001b[39;00m f \u001b[38;5;129;01min\u001b[39;00m \u001b[43mos\u001b[49m\u001b[38;5;241;43m.\u001b[39;49m\u001b[43mlistdir\u001b[49m\u001b[43m(\u001b[49m\u001b[43maudio_files_path\u001b[49m\u001b[43m)\u001b[49m \u001b[38;5;28;01mif\u001b[39;00m f\u001b[38;5;241m.\u001b[39mendswith(\u001b[38;5;124m'\u001b[39m\u001b[38;5;124m.wav\u001b[39m\u001b[38;5;124m'\u001b[39m)]\n\u001b[1;32m     26\u001b[0m \u001b[38;5;28;01mfor\u001b[39;00m audio_file \u001b[38;5;129;01min\u001b[39;00m audio_files:\n\u001b[1;32m     27\u001b[0m     rows\u001b[38;5;241m.\u001b[39mappend({\n\u001b[1;32m     28\u001b[0m         \u001b[38;5;124m'\u001b[39m\u001b[38;5;124mfile_path\u001b[39m\u001b[38;5;124m'\u001b[39m: os\u001b[38;5;241m.\u001b[39mpath\u001b[38;5;241m.\u001b[39mjoin(audio_dir_name, audio_file),\n\u001b[1;32m     29\u001b[0m         \u001b[38;5;124m'\u001b[39m\u001b[38;5;124mcategory_id\u001b[39m\u001b[38;5;124m'\u001b[39m: category[\u001b[38;5;124m'\u001b[39m\u001b[38;5;124mid\u001b[39m\u001b[38;5;124m'\u001b[39m],\n\u001b[0;32m   (...)\u001b[0m\n\u001b[1;32m     46\u001b[0m         \u001b[38;5;124m'\u001b[39m\u001b[38;5;124mdate_created\u001b[39m\u001b[38;5;124m'\u001b[39m: data[\u001b[38;5;124m'\u001b[39m\u001b[38;5;124minfo\u001b[39m\u001b[38;5;124m'\u001b[39m][\u001b[38;5;124m'\u001b[39m\u001b[38;5;124mdate_created\u001b[39m\u001b[38;5;124m'\u001b[39m]\n\u001b[1;32m     47\u001b[0m     })\n",
      "\u001b[0;31mFileNotFoundError\u001b[0m: [Errno 2] No such file or directory: '/workspace/data_inatsounds/val/00000_Animalia_Arthropoda_Insecta_Blattodea_Hodotermitidae_Hodotermes_mossambicus'"
     ]
    }
   ],
   "source": [
    "convert_json_to_csv('val')"
   ]
  },
  {
   "cell_type": "code",
   "execution_count": null,
   "id": "20360ebb",
   "metadata": {},
   "outputs": [],
   "source": []
  }
 ],
 "metadata": {
  "kernelspec": {
   "display_name": "birdset-xS3fZVNL-py3.10",
   "language": "python",
   "name": "python3"
  },
  "language_info": {
   "codemirror_mode": {
    "name": "ipython",
    "version": 3
   },
   "file_extension": ".py",
   "mimetype": "text/x-python",
   "name": "python",
   "nbconvert_exporter": "python",
   "pygments_lexer": "ipython3",
   "version": "3.10.12"
  }
 },
 "nbformat": 4,
 "nbformat_minor": 5
}
