{
    "cells": [
        {
            "cell_type": "markdown",
            "metadata": {},
            "source": [
                "### Params"
            ]
        },
        {
            "cell_type": "code",
            "execution_count": 1,
            "metadata": {},
            "outputs": [],
            "source": [
                "sample_rate = 16000\n",
                "length = 15\n",
                "embedding_size= 768"
            ]
        },
        {
            "cell_type": "markdown",
            "metadata": {},
            "source": [
                "### Load dataset"
            ]
        },
        {
            "cell_type": "code",
            "execution_count": 2,
            "metadata": {},
            "outputs": [
                {
                    "data": {
                        "application/vnd.jupyter.widget-view+json": {
                            "model_id": "707ea23058bb4710bb19314070413b40",
                            "version_major": 2,
                            "version_minor": 0
                        },
                        "text/plain": [
                            "Map:   0%|          | 0/1017 [00:00<?, ? examples/s]"
                        ]
                    },
                    "metadata": {},
                    "output_type": "display_data"
                },
                {
                    "data": {
                        "application/vnd.jupyter.widget-view+json": {
                            "model_id": "243874d432ea42f08324483cb17c6213",
                            "version_major": 2,
                            "version_minor": 0
                        },
                        "text/plain": [
                            "Map:   0%|          | 0/339 [00:00<?, ? examples/s]"
                        ]
                    },
                    "metadata": {},
                    "output_type": "display_data"
                },
                {
                    "data": {
                        "application/vnd.jupyter.widget-view+json": {
                            "model_id": "569de10077bd437f9748d124ec8bad4f",
                            "version_major": 2,
                            "version_minor": 0
                        },
                        "text/plain": [
                            "Map:   0%|          | 0/339 [00:00<?, ? examples/s]"
                        ]
                    },
                    "metadata": {},
                    "output_type": "display_data"
                },
                {
                    "data": {
                        "application/vnd.jupyter.widget-view+json": {
                            "model_id": "b30c4ecba6024d628d32f9dbe2b565f2",
                            "version_major": 2,
                            "version_minor": 0
                        },
                        "text/plain": [
                            "Map:   0%|          | 0/203 [00:00<?, ? examples/s]"
                        ]
                    },
                    "metadata": {},
                    "output_type": "display_data"
                },
                {
                    "data": {
                        "text/plain": [
                            "{'audio': {'path': '83006002.wav',\n",
                            "  'array': array([0.01681028, 0.0108546 , 0.01608891, ..., 0.00757095, 0.00183893,\n",
                            "         0.00651151]),\n",
                            "  'sample_rate': 16000},\n",
                            " 'labels': 4}"
                        ]
                    },
                    "execution_count": 2,
                    "metadata": {},
                    "output_type": "execute_result"
                }
            ],
            "source": [
                "from birdset.datamodule.beans_datamodule import BEANSDataModule\n",
                "from birdset.datamodule.base_datamodule import DatasetConfig\n",
                "\n",
                "datasetconfig = DatasetConfig(dataset_name='beans_watkins', hf_path='DBD-research-group/beans_watkins', hf_name='default',sample_rate=sample_rate)\n",
                "\n",
                "datamodule = BEANSDataModule(dataset=datasetconfig)\n",
                "dataset = datamodule._load_data()\n",
                "#datamodule = datamodule.prepare_data() \n",
                "dataset['train'][0]"
            ]
        },
        {
            "cell_type": "markdown",
            "metadata": {},
            "source": [
                "### Cut to length"
            ]
        },
        {
            "cell_type": "code",
            "execution_count": 3,
            "metadata": {},
            "outputs": [],
            "source": [
                "import torch\n",
                "from torch.utils.data import Dataset, DataLoader\n",
                "import torch.nn.functional as F\n",
                "\n",
                "class FixedLengthDataset(Dataset):\n",
                "    def __init__(self, dataset, sample_rate=sample_rate, length=length ):\n",
                "        \"\"\"\n",
                "        dataset: The original dataset (list of tuples: (data, label))\n",
                "        sample_rate: The desired sampling rate (e.g., 16 kHz)\n",
                "        target_length: The desired length in terms of samples (e.g., 16000 for 1 second of audio at 16 kHz)\n",
                "        \"\"\"\n",
                "        self.dataset = dataset\n",
                "        self.sample_rate = sample_rate\n",
                "        self.target_length = length * sample_rate\n",
                "\n",
                "    def __len__(self):\n",
                "        return len(self.dataset)\n",
                "\n",
                "    def __getitem__(self, idx):\n",
                "        data = self.dataset[idx]['audio']['array']\n",
                "        label = self.dataset[idx]['labels']\n",
                "        data = torch.from_numpy(data).float()\n",
                "        # Trim the data if it's too long\n",
                "        if data.shape[0] > self.target_length:\n",
                "            data = data[:self.target_length]\n",
                "\n",
                "        # Pad the data if it's too short\n",
                "        if data.shape[0] < self.target_length:\n",
                "            padding = self.target_length - data.shape[0]\n",
                "            data = F.pad(data, (0, padding))\n",
                "\n",
                "        return data, label\n",
                "    \n",
                "train_dataset = FixedLengthDataset(dataset['train'])  \n",
                "valid_dataset = FixedLengthDataset(dataset['valid'])\n",
                "test_dataset = FixedLengthDataset(dataset['test'])\n",
                "\n",
                "datasets = {'train': train_dataset, 'valid': valid_dataset, 'test': test_dataset}  "
            ]
        },
        {
            "cell_type": "code",
            "execution_count": 4,
            "metadata": {},
            "outputs": [
                {
                    "name": "stderr",
                    "output_type": "stream",
                    "text": [
                        "Some weights of HubertForSequenceClassification were not initialized from the model checkpoint at facebook/hubert-base-ls960 and are newly initialized: ['classifier.bias', 'classifier.weight', 'projector.bias', 'projector.weight']\n",
                        "You should probably TRAIN this model on a down-stream task to be able to use it for predictions and inference.\n"
                    ]
                }
            ],
            "source": [
                "from birdset.datamodule.embedding_datamodule import EmbeddingModuleConfig\n",
                "from birdset.modules.models.hubert import HubertSequenceClassifier\n",
                "from birdset.configs.module_configs import NetworkConfig\n",
                "\n",
                "embedding_module= NetworkConfig(model_type=\"waveform\",sample_rate=sample_rate,normalize_spectrogram= False,\n",
                "normalize_waveform= False,model=HubertSequenceClassifier(checkpoint= \"facebook/hubert-base-ls960\",num_classes=31))"
            ]
        },
        {
            "cell_type": "code",
            "execution_count": 3,
            "metadata": {},
            "outputs": [
                {
                    "ename": "NameError",
                    "evalue": "name 'embedding_datamodule' is not defined",
                    "output_type": "error",
                    "traceback": [
                        "\u001b[0;31m---------------------------------------------------------------------------\u001b[0m",
                        "\u001b[0;31mNameError\u001b[0m                                 Traceback (most recent call last)",
                        "Cell \u001b[0;32mIn[3], line 3\u001b[0m\n\u001b[1;32m      1\u001b[0m \u001b[38;5;28;01mfrom\u001b[39;00m \u001b[38;5;21;01mbirdset\u001b[39;00m\u001b[38;5;21;01m.\u001b[39;00m\u001b[38;5;21;01mmodules\u001b[39;00m\u001b[38;5;21;01m.\u001b[39;00m\u001b[38;5;21;01mmodels\u001b[39;00m\u001b[38;5;21;01m.\u001b[39;00m\u001b[38;5;21;01mlinear_classifier\u001b[39;00m \u001b[38;5;28;01mimport\u001b[39;00m LinearClassifier\n\u001b[0;32m----> 3\u001b[0m classifier \u001b[38;5;241m=\u001b[39m LinearClassifier(num_classes\u001b[38;5;241m=\u001b[39m\u001b[38;5;241m31\u001b[39m, in_features\u001b[38;5;241m=\u001b[39m\u001b[38;5;241m768\u001b[39m)\u001b[38;5;241m.\u001b[39mto(\u001b[43membedding_datamodule\u001b[49m\u001b[38;5;241m.\u001b[39mdevice)\n\u001b[1;32m      4\u001b[0m network_config \u001b[38;5;241m=\u001b[39m NetworkConfig(model_type\u001b[38;5;241m=\u001b[39m\u001b[38;5;124m\"\u001b[39m\u001b[38;5;124mwaveform\u001b[39m\u001b[38;5;124m\"\u001b[39m,sample_rate\u001b[38;5;241m=\u001b[39m\u001b[38;5;241m16000\u001b[39m,normalize_spectrogram\u001b[38;5;241m=\u001b[39m \u001b[38;5;28;01mFalse\u001b[39;00m,normalize_waveform\u001b[38;5;241m=\u001b[39m \u001b[38;5;28;01mFalse\u001b[39;00m,model\u001b[38;5;241m=\u001b[39mclassifier)\n\u001b[1;32m      6\u001b[0m \u001b[38;5;28;01mimport\u001b[39;00m \u001b[38;5;21;01mtorch\u001b[39;00m\u001b[38;5;21;01m.\u001b[39;00m\u001b[38;5;21;01mnn\u001b[39;00m\u001b[38;5;21;01m.\u001b[39;00m\u001b[38;5;21;01mfunctional\u001b[39;00m \u001b[38;5;28;01mas\u001b[39;00m \u001b[38;5;21;01mF\u001b[39;00m\n",
                        "\u001b[0;31mNameError\u001b[0m: name 'embedding_datamodule' is not defined"
                    ]
                }
            ],
            "source": [
                "from birdset.modules.models.linear_classifier import LinearClassifier\n",
                "\n",
                "classifier = LinearClassifier(num_classes=31, in_features=embedding_size).to(embedding_datamodule.device)\n",
                "network_config = NetworkConfig(model_type=\"waveform\",sample_rate=sample_rate,normalize_spectrogram= False,normalize_waveform= False,model=classifier)\n",
                "\n",
                "import torch.nn.functional as F\n",
                "\n",
                "output = F.softmax(classifier.forward(embedding), dim=1)\n",
                "output"
            ]
        },
        {
            "cell_type": "markdown",
            "metadata": {},
            "source": [
                "### Training loop"
            ]
        },
        {
            "cell_type": "code",
            "execution_count": 7,
            "metadata": {},
            "outputs": [],
            "source": [
                "import torch\n",
                "import torch.nn as nn\n",
                "import torch.optim as optim\n",
                "import pytorch_lightning as pl\n",
                "from torchmetrics.classification import Accuracy\n",
                "from torch.utils.data import DataLoader, random_split, TensorDataset\n",
                "\n",
                "class MyClassifier(pl.LightningModule):\n",
                "    def __init__(self, embedding_model, datasets,num_classes=31, embedding_size=embedding_size,freeze_epochs=15, fine_tune_lr=1e-2,batch_size=32):\n",
                "        super(MyClassifier, self).__init__()\n",
                "        self.embedding_model = embedding_model  # Embedding model\n",
                "        self.classifier = nn.Linear(embedding_size, num_classes)  # Final classification layer\n",
                "        self.loss_fn = nn.CrossEntropyLoss()\n",
                "\n",
                "        self.freeze_epochs = freeze_epochs  # Number of epochs before unfreezing\n",
                "        self.fine_tune_lr = fine_tune_lr  # Learning rate for fine-tuning\n",
                "        self.test_acc = Accuracy(task=\"multiclass\",num_classes=num_classes)\n",
                "        self.val_acc = Accuracy(task=\"multiclass\",num_classes=num_classes)\n",
                "        print(embedding_size)\n",
                "        self.datasets = datasets\n",
                "        self.batch_size = batch_size\n",
                "        # Freeze the embedding model initially\n",
                "        self.unfreeze_embedding_model()\n",
                "\n",
                "    def forward(self, x):\n",
                "        # Forward pass through the embedding model and the classifier\n",
                "        #with torch.no_grad():  # No need to compute gradients for frozen embedding model\n",
                "        features = self.embedding_model.get_embeddings(x)[0]\n",
                "        output = self.classifier(features)\n",
                "        \n",
                "        return output\n",
                "\n",
                "    def model_step(self, batch, batch_idx):\n",
                "        x, y = batch\n",
                "        y_hat = self.forward(x)\n",
                "        loss = self.loss_fn(y_hat, y)\n",
                "        preds = torch.softmax(y_hat,dim=1)\n",
                "        return loss, preds, y\n",
                "\n",
                "    def training_step(self, batch, batch_idx):\n",
                "        train_loss, preds, targets = self.model_step(batch, batch_idx)\n",
                "        self.log('train_loss', train_loss, on_step=False, on_epoch=True)\n",
                "        return {\"loss\": train_loss}\n",
                "\n",
                "    def validation_step(self, batch, batch_idx):\n",
                "        val_loss, preds, targets = self.model_step(batch, batch_idx)     \n",
                "        acc = self.val_acc(preds, targets)\n",
                "        self.log('val_loss', val_loss, on_step=False, on_epoch=True, prog_bar=True)\n",
                "        self.log('val_acc', acc, on_step=False, on_epoch=True, prog_bar=True)\n",
                "        return {\"loss\": val_loss, \"preds\": preds, \"targets\": targets}\n",
                "\n",
                "    def test_step(self, batch, batch_idx):\n",
                "        test_loss, preds, targets = self.model_step(batch, batch_idx)\n",
                "        acc = self.test_acc(preds, targets)\n",
                "        self.log('test_loss', test_loss, on_step=False, on_epoch=True, prog_bar=True)\n",
                "        self.log('test_acc', acc, on_step=False, on_epoch=True, prog_bar=True)\n",
                "        return {\"loss\": test_loss, \"preds\": preds, \"targets\": targets}\n",
                "\n",
                "    def configure_optimizers(self):\n",
                "        # Optimizer with learning rate scheduler\n",
                "        self.optimizer = optim.AdamW(list(self.embedding_model.parameters()) + list(self.classifier.parameters()), lr=1e-4)\n",
                "\n",
                "        # Learning rate schedule: we reduce the learning rate after freeze_epochs\n",
                "        #scheduler = optim.lr_scheduler.LambdaLR(\n",
                "            #optimizer, \n",
                "            #lr_lambda=lambda epoch: 1.0 if epoch < self.freeze_epochs else self.fine_tune_lr\n",
                "        #)\n",
                "        return [self.optimizer]#, [scheduler]\n",
                "\n",
                "    def on_train_epoch_end(self):\n",
                "        for param_group in self.optimizers().param_groups:\n",
                "            print(param_group['lr'])\n",
                "        # Unfreeze embedding model after freeze_epochs\n",
                "        if self.current_epoch == self.freeze_epochs:\n",
                "            print(f\"Unfreezing embedding model at epoch {self.current_epoch}\")\n",
                "            #self.unfreeze_embedding_model()\n",
                "            # Set fine-tune learning rate for all layers\n",
                "            for param_group in self.optimizers().param_groups:\n",
                "                param_group['lr'] = self.fine_tune_lr\n",
                "\n",
                "\n",
                "    def train_dataloader(self):\n",
                "        return DataLoader(self.datasets['train'], batch_size=self.batch_size, shuffle=True)\n",
                "\n",
                "    def val_dataloader(self):\n",
                "        return DataLoader(self.datasets['valid'], batch_size=self.batch_size)\n",
                "\n",
                "    def test_dataloader(self):\n",
                "        return DataLoader(self.datasets['test'], batch_size=self.batch_size)\n",
                "\n",
                "\n",
                "    def freeze_embedding_model(self):\n",
                "        \"\"\"Freeze the embedding model's parameters\"\"\"\n",
                "        for param in self.embedding_model.parameters():\n",
                "            param.requires_grad = False\n",
                "\n",
                "    def unfreeze_embedding_model(self):\n",
                "        \"\"\"Unfreeze the embedding model's parameters\"\"\"\n",
                "        for param in self.embedding_model.parameters():\n",
                "            param.requires_grad = True\n"
            ]
        },
        {
            "cell_type": "code",
            "execution_count": 8,
            "metadata": {},
            "outputs": [
                {
                    "name": "stderr",
                    "output_type": "stream",
                    "text": [
                        "GPU available: True (cuda), used: True\n",
                        "TPU available: False, using: 0 TPU cores\n",
                        "HPU available: False, using: 0 HPUs\n",
                        "LOCAL_RANK: 0 - CUDA_VISIBLE_DEVICES: [0,1,2,3]\n",
                        "\n",
                        "  | Name            | Type                     | Params | Mode \n",
                        "---------------------------------------------------------------------\n",
                        "0 | embedding_model | HubertSequenceClassifier | 94.6 M | train\n",
                        "1 | classifier      | Linear                   | 23.8 K | train\n",
                        "2 | loss_fn         | CrossEntropyLoss         | 0      | train\n",
                        "3 | test_acc        | MulticlassAccuracy       | 0      | train\n",
                        "4 | val_acc         | MulticlassAccuracy       | 0      | train\n",
                        "---------------------------------------------------------------------\n",
                        "94.6 M    Trainable params\n",
                        "0         Non-trainable params\n",
                        "94.6 M    Total params\n",
                        "378.402   Total estimated model params size (MB)\n"
                    ]
                },
                {
                    "name": "stdout",
                    "output_type": "stream",
                    "text": [
                        "768\n"
                    ]
                },
                {
                    "data": {
                        "application/vnd.jupyter.widget-view+json": {
                            "model_id": "4d7ca3e68e6947bf94e53477e7432688",
                            "version_major": 2,
                            "version_minor": 0
                        },
                        "text/plain": [
                            "Sanity Checking: |          | 0/? [00:00<?, ?it/s]"
                        ]
                    },
                    "metadata": {},
                    "output_type": "display_data"
                },
                {
                    "data": {
                        "application/vnd.jupyter.widget-view+json": {
                            "model_id": "5e0f142c97e144b0868e3149ef450779",
                            "version_major": 2,
                            "version_minor": 0
                        },
                        "text/plain": [
                            "Training: |          | 0/? [00:00<?, ?it/s]"
                        ]
                    },
                    "metadata": {},
                    "output_type": "display_data"
                },
                {
                    "data": {
                        "application/vnd.jupyter.widget-view+json": {
                            "model_id": "6f7d0d6f8659400fb9a8aec5fe48106a",
                            "version_major": 2,
                            "version_minor": 0
                        },
                        "text/plain": [
                            "Validation: |          | 0/? [00:00<?, ?it/s]"
                        ]
                    },
                    "metadata": {},
                    "output_type": "display_data"
                },
                {
                    "name": "stdout",
                    "output_type": "stream",
                    "text": [
                        "0.0001\n"
                    ]
                },
                {
                    "data": {
                        "application/vnd.jupyter.widget-view+json": {
                            "model_id": "c6f4259639974632a5cb22dccb802cb6",
                            "version_major": 2,
                            "version_minor": 0
                        },
                        "text/plain": [
                            "Validation: |          | 0/? [00:00<?, ?it/s]"
                        ]
                    },
                    "metadata": {},
                    "output_type": "display_data"
                },
                {
                    "name": "stdout",
                    "output_type": "stream",
                    "text": [
                        "0.0001\n"
                    ]
                },
                {
                    "data": {
                        "application/vnd.jupyter.widget-view+json": {
                            "model_id": "37d47cee47274323988715281a9a8765",
                            "version_major": 2,
                            "version_minor": 0
                        },
                        "text/plain": [
                            "Validation: |          | 0/? [00:00<?, ?it/s]"
                        ]
                    },
                    "metadata": {},
                    "output_type": "display_data"
                },
                {
                    "name": "stdout",
                    "output_type": "stream",
                    "text": [
                        "0.0001\n"
                    ]
                },
                {
                    "data": {
                        "application/vnd.jupyter.widget-view+json": {
                            "model_id": "3781b984758944e0904e0706486c699f",
                            "version_major": 2,
                            "version_minor": 0
                        },
                        "text/plain": [
                            "Validation: |          | 0/? [00:00<?, ?it/s]"
                        ]
                    },
                    "metadata": {},
                    "output_type": "display_data"
                },
                {
                    "name": "stdout",
                    "output_type": "stream",
                    "text": [
                        "0.0001\n"
                    ]
                },
                {
                    "data": {
                        "application/vnd.jupyter.widget-view+json": {
                            "model_id": "8896541cb98c464a90f5c61563427188",
                            "version_major": 2,
                            "version_minor": 0
                        },
                        "text/plain": [
                            "Validation: |          | 0/? [00:00<?, ?it/s]"
                        ]
                    },
                    "metadata": {},
                    "output_type": "display_data"
                },
                {
                    "name": "stdout",
                    "output_type": "stream",
                    "text": [
                        "0.0001\n"
                    ]
                },
                {
                    "data": {
                        "application/vnd.jupyter.widget-view+json": {
                            "model_id": "c2bbc05b850e40059ae5d9f911edcca0",
                            "version_major": 2,
                            "version_minor": 0
                        },
                        "text/plain": [
                            "Validation: |          | 0/? [00:00<?, ?it/s]"
                        ]
                    },
                    "metadata": {},
                    "output_type": "display_data"
                },
                {
                    "name": "stdout",
                    "output_type": "stream",
                    "text": [
                        "0.0001\n",
                        "Unfreezing embedding model at epoch 5\n"
                    ]
                },
                {
                    "data": {
                        "application/vnd.jupyter.widget-view+json": {
                            "model_id": "8b1312a0079540748243f9358814bc7f",
                            "version_major": 2,
                            "version_minor": 0
                        },
                        "text/plain": [
                            "Validation: |          | 0/? [00:00<?, ?it/s]"
                        ]
                    },
                    "metadata": {},
                    "output_type": "display_data"
                },
                {
                    "name": "stdout",
                    "output_type": "stream",
                    "text": [
                        "0.0001\n"
                    ]
                },
                {
                    "data": {
                        "application/vnd.jupyter.widget-view+json": {
                            "model_id": "e1afeef671414e058ce2e44fa6ab3a74",
                            "version_major": 2,
                            "version_minor": 0
                        },
                        "text/plain": [
                            "Validation: |          | 0/? [00:00<?, ?it/s]"
                        ]
                    },
                    "metadata": {},
                    "output_type": "display_data"
                },
                {
                    "name": "stdout",
                    "output_type": "stream",
                    "text": [
                        "0.0001\n"
                    ]
                },
                {
                    "data": {
                        "application/vnd.jupyter.widget-view+json": {
                            "model_id": "4be72e44d87e4d60a51a6f6d68dddc2b",
                            "version_major": 2,
                            "version_minor": 0
                        },
                        "text/plain": [
                            "Validation: |          | 0/? [00:00<?, ?it/s]"
                        ]
                    },
                    "metadata": {},
                    "output_type": "display_data"
                },
                {
                    "name": "stdout",
                    "output_type": "stream",
                    "text": [
                        "0.0001\n"
                    ]
                },
                {
                    "data": {
                        "application/vnd.jupyter.widget-view+json": {
                            "model_id": "4ba5948d9e9046089bb977808a7b696a",
                            "version_major": 2,
                            "version_minor": 0
                        },
                        "text/plain": [
                            "Validation: |          | 0/? [00:00<?, ?it/s]"
                        ]
                    },
                    "metadata": {},
                    "output_type": "display_data"
                },
                {
                    "name": "stdout",
                    "output_type": "stream",
                    "text": [
                        "0.0001\n"
                    ]
                },
                {
                    "name": "stderr",
                    "output_type": "stream",
                    "text": [
                        "`Trainer.fit` stopped: `max_epochs=10` reached.\n"
                    ]
                }
            ],
            "source": [
                "hybrid = MyClassifier(embedding_model=embedding_module.model, datasets=datasets, freeze_epochs=5, fine_tune_lr=1e-4)\n",
                "\n",
                "trainer = pl.Trainer(max_epochs=10, accelerator=\"gpu\", devices=1)\n",
                "trainer.fit(hybrid)"
            ]
        }
    ],
    "metadata": {
        "kernelspec": {
            "display_name": "birdset-xS3fZVNL-py3.10",
            "language": "python",
            "name": "python3"
        },
        "language_info": {
            "codemirror_mode": {
                "name": "ipython",
                "version": 3
            },
            "file_extension": ".py",
            "mimetype": "text/x-python",
            "name": "python",
            "nbconvert_exporter": "python",
            "pygments_lexer": "ipython3",
            "version": "3.10.12"
        }
    },
    "nbformat": 4,
    "nbformat_minor": 2
}