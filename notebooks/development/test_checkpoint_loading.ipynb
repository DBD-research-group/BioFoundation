{
 "cells": [
  {
   "cell_type": "markdown",
   "metadata": {},
   "source": [
    "# Notebook to investigate checkpoint loading bug\n",
    "\n",
    "Try to train model and than check if the same result can be obtained by loading the model from checkpoint."
   ]
  },
  {
   "cell_type": "code",
   "execution_count": 37,
   "metadata": {},
   "outputs": [],
   "source": [
    "from birdset.datamodule.esc50_datamodule import ESC50DataModule\n",
    "from birdset.configs.datamodule_configs import DatasetConfig\n",
    "from birdset.datamodule.components.transforms import BirdSetTransformsWrapper\n",
    "\n",
    "dataset_config = DatasetConfig(\n",
    "    task=\"multiclass\",\n",
    ")\n",
    "transforms = BirdSetTransformsWrapper(\n",
    "    task=dataset_config.task,\n",
    ")\n",
    "datamodule = ESC50DataModule(dataset=dataset_config)"
   ]
  },
  {
   "cell_type": "code",
   "execution_count": 38,
   "metadata": {},
   "outputs": [
    {
     "name": "stderr",
     "output_type": "stream",
     "text": [
      "Repo card metadata block was not found. Setting CardData to empty.\n"
     ]
    }
   ],
   "source": [
    "datamodule.prepare_data()"
   ]
  },
  {
   "cell_type": "code",
   "execution_count": 39,
   "metadata": {},
   "outputs": [],
   "source": [
    "datamodule.setup(\"fit\")"
   ]
  },
  {
   "cell_type": "code",
   "execution_count": 40,
   "metadata": {},
   "outputs": [
    {
     "name": "stdout",
     "output_type": "stream",
     "text": [
      "transform task multilabel\n",
      "torch.Size([32, 1, 128, 1024])\n",
      "torch.Size([32])\n"
     ]
    },
    {
     "name": "stdout",
     "output_type": "stream",
     "text": [
      "transform task multilabel\n",
      "transform task multilabel\n"
     ]
    }
   ],
   "source": [
    "train_loader = datamodule.train_dataloader()\n",
    "# get the first batch\n",
    "batch = next(iter(train_loader))\n",
    "# get shape of the batch\n",
    "print(batch[\"input_values\"].shape)\n",
    "print(batch[\"labels\"].shape)"
   ]
  },
  {
   "cell_type": "code",
   "execution_count": 21,
   "metadata": {},
   "outputs": [
    {
     "data": {
      "text/plain": [
       "tensor([28,  9, 38, 21, 47, 22, 32, 43, 34, 43, 47, 29, 33, 37, 36, 41,  7, 45,\n",
       "        47, 42,  7, 41, 32, 33, 41, 27, 38, 39, 10,  5, 18, 20])"
      ]
     },
     "execution_count": 21,
     "metadata": {},
     "output_type": "execute_result"
    }
   ],
   "source": [
    "batch[\"labels\"]"
   ]
  },
  {
   "cell_type": "code",
   "execution_count": 33,
   "metadata": {},
   "outputs": [
    {
     "data": {
      "text/plain": [
       "BaseModule(\n",
       "  (loss): CrossEntropyLoss()\n",
       "  (model): EfficientNetClassifier(\n",
       "    (model): EfficientNetForImageClassification(\n",
       "      (efficientnet): EfficientNetModel(\n",
       "        (embeddings): EfficientNetEmbeddings(\n",
       "          (padding): ZeroPad2d((0, 1, 0, 1))\n",
       "          (convolution): Conv2d(1, 32, kernel_size=(3, 3), stride=(2, 2), padding=valid, bias=False)\n",
       "          (batchnorm): BatchNorm2d(32, eps=0.001, momentum=0.99, affine=True, track_running_stats=True)\n",
       "          (activation): SiLU()\n",
       "        )\n",
       "        (encoder): EfficientNetEncoder(\n",
       "          (blocks): ModuleList(\n",
       "            (0): EfficientNetBlock(\n",
       "              (depthwise_conv): EfficientNetDepthwiseLayer(\n",
       "                (depthwise_conv_pad): ZeroPad2d((0, 1, 0, 1))\n",
       "                (depthwise_conv): EfficientNetDepthwiseConv2d(32, 32, kernel_size=(3, 3), stride=(1, 1), padding=same, groups=32, bias=False)\n",
       "                (depthwise_norm): BatchNorm2d(32, eps=0.001, momentum=0.99, affine=True, track_running_stats=True)\n",
       "                (depthwise_act): SiLU()\n",
       "              )\n",
       "              (squeeze_excite): EfficientNetSqueezeExciteLayer(\n",
       "                (squeeze): AdaptiveAvgPool2d(output_size=1)\n",
       "                (reduce): Conv2d(32, 8, kernel_size=(1, 1), stride=(1, 1), padding=same)\n",
       "                (expand): Conv2d(8, 32, kernel_size=(1, 1), stride=(1, 1), padding=same)\n",
       "                (act_reduce): SiLU()\n",
       "                (act_expand): Sigmoid()\n",
       "              )\n",
       "              (projection): EfficientNetFinalBlockLayer(\n",
       "                (project_conv): Conv2d(32, 16, kernel_size=(1, 1), stride=(1, 1), padding=same, bias=False)\n",
       "                (project_bn): BatchNorm2d(16, eps=0.001, momentum=0.99, affine=True, track_running_stats=True)\n",
       "                (dropout): Dropout(p=0.0, inplace=False)\n",
       "              )\n",
       "            )\n",
       "            (1): EfficientNetBlock(\n",
       "              (depthwise_conv): EfficientNetDepthwiseLayer(\n",
       "                (depthwise_conv_pad): ZeroPad2d((0, 1, 0, 1))\n",
       "                (depthwise_conv): EfficientNetDepthwiseConv2d(16, 16, kernel_size=(3, 3), stride=(1, 1), padding=same, groups=16, bias=False)\n",
       "                (depthwise_norm): BatchNorm2d(16, eps=0.001, momentum=0.99, affine=True, track_running_stats=True)\n",
       "                (depthwise_act): SiLU()\n",
       "              )\n",
       "              (squeeze_excite): EfficientNetSqueezeExciteLayer(\n",
       "                (squeeze): AdaptiveAvgPool2d(output_size=1)\n",
       "                (reduce): Conv2d(16, 4, kernel_size=(1, 1), stride=(1, 1), padding=same)\n",
       "                (expand): Conv2d(4, 16, kernel_size=(1, 1), stride=(1, 1), padding=same)\n",
       "                (act_reduce): SiLU()\n",
       "                (act_expand): Sigmoid()\n",
       "              )\n",
       "              (projection): EfficientNetFinalBlockLayer(\n",
       "                (project_conv): Conv2d(16, 16, kernel_size=(1, 1), stride=(1, 1), padding=same, bias=False)\n",
       "                (project_bn): BatchNorm2d(16, eps=0.001, momentum=0.99, affine=True, track_running_stats=True)\n",
       "                (dropout): Dropout(p=0.008695652173913044, inplace=False)\n",
       "              )\n",
       "            )\n",
       "            (2): EfficientNetBlock(\n",
       "              (expansion): EfficientNetExpansionLayer(\n",
       "                (expand_conv): Conv2d(16, 96, kernel_size=(1, 1), stride=(1, 1), padding=same, bias=False)\n",
       "                (expand_bn): BatchNorm2d(96, eps=0.001, momentum=0.1, affine=True, track_running_stats=True)\n",
       "                (expand_act): SiLU()\n",
       "              )\n",
       "              (depthwise_conv): EfficientNetDepthwiseLayer(\n",
       "                (depthwise_conv_pad): ZeroPad2d((0, 1, 0, 1))\n",
       "                (depthwise_conv): EfficientNetDepthwiseConv2d(96, 96, kernel_size=(3, 3), stride=(2, 2), padding=valid, groups=96, bias=False)\n",
       "                (depthwise_norm): BatchNorm2d(96, eps=0.001, momentum=0.99, affine=True, track_running_stats=True)\n",
       "                (depthwise_act): SiLU()\n",
       "              )\n",
       "              (squeeze_excite): EfficientNetSqueezeExciteLayer(\n",
       "                (squeeze): AdaptiveAvgPool2d(output_size=1)\n",
       "                (reduce): Conv2d(96, 4, kernel_size=(1, 1), stride=(1, 1), padding=same)\n",
       "                (expand): Conv2d(4, 96, kernel_size=(1, 1), stride=(1, 1), padding=same)\n",
       "                (act_reduce): SiLU()\n",
       "                (act_expand): Sigmoid()\n",
       "              )\n",
       "              (projection): EfficientNetFinalBlockLayer(\n",
       "                (project_conv): Conv2d(96, 24, kernel_size=(1, 1), stride=(1, 1), padding=same, bias=False)\n",
       "                (project_bn): BatchNorm2d(24, eps=0.001, momentum=0.99, affine=True, track_running_stats=True)\n",
       "                (dropout): Dropout(p=0.017391304347826087, inplace=False)\n",
       "              )\n",
       "            )\n",
       "            (3): EfficientNetBlock(\n",
       "              (expansion): EfficientNetExpansionLayer(\n",
       "                (expand_conv): Conv2d(24, 144, kernel_size=(1, 1), stride=(1, 1), padding=same, bias=False)\n",
       "                (expand_bn): BatchNorm2d(144, eps=0.001, momentum=0.1, affine=True, track_running_stats=True)\n",
       "                (expand_act): SiLU()\n",
       "              )\n",
       "              (depthwise_conv): EfficientNetDepthwiseLayer(\n",
       "                (depthwise_conv_pad): ZeroPad2d((0, 1, 0, 1))\n",
       "                (depthwise_conv): EfficientNetDepthwiseConv2d(144, 144, kernel_size=(3, 3), stride=(1, 1), padding=same, groups=144, bias=False)\n",
       "                (depthwise_norm): BatchNorm2d(144, eps=0.001, momentum=0.99, affine=True, track_running_stats=True)\n",
       "                (depthwise_act): SiLU()\n",
       "              )\n",
       "              (squeeze_excite): EfficientNetSqueezeExciteLayer(\n",
       "                (squeeze): AdaptiveAvgPool2d(output_size=1)\n",
       "                (reduce): Conv2d(144, 6, kernel_size=(1, 1), stride=(1, 1), padding=same)\n",
       "                (expand): Conv2d(6, 144, kernel_size=(1, 1), stride=(1, 1), padding=same)\n",
       "                (act_reduce): SiLU()\n",
       "                (act_expand): Sigmoid()\n",
       "              )\n",
       "              (projection): EfficientNetFinalBlockLayer(\n",
       "                (project_conv): Conv2d(144, 24, kernel_size=(1, 1), stride=(1, 1), padding=same, bias=False)\n",
       "                (project_bn): BatchNorm2d(24, eps=0.001, momentum=0.99, affine=True, track_running_stats=True)\n",
       "                (dropout): Dropout(p=0.026086956521739136, inplace=False)\n",
       "              )\n",
       "            )\n",
       "            (4): EfficientNetBlock(\n",
       "              (expansion): EfficientNetExpansionLayer(\n",
       "                (expand_conv): Conv2d(24, 144, kernel_size=(1, 1), stride=(1, 1), padding=same, bias=False)\n",
       "                (expand_bn): BatchNorm2d(144, eps=0.001, momentum=0.1, affine=True, track_running_stats=True)\n",
       "                (expand_act): SiLU()\n",
       "              )\n",
       "              (depthwise_conv): EfficientNetDepthwiseLayer(\n",
       "                (depthwise_conv_pad): ZeroPad2d((0, 1, 0, 1))\n",
       "                (depthwise_conv): EfficientNetDepthwiseConv2d(144, 144, kernel_size=(3, 3), stride=(1, 1), padding=same, groups=144, bias=False)\n",
       "                (depthwise_norm): BatchNorm2d(144, eps=0.001, momentum=0.99, affine=True, track_running_stats=True)\n",
       "                (depthwise_act): SiLU()\n",
       "              )\n",
       "              (squeeze_excite): EfficientNetSqueezeExciteLayer(\n",
       "                (squeeze): AdaptiveAvgPool2d(output_size=1)\n",
       "                (reduce): Conv2d(144, 6, kernel_size=(1, 1), stride=(1, 1), padding=same)\n",
       "                (expand): Conv2d(6, 144, kernel_size=(1, 1), stride=(1, 1), padding=same)\n",
       "                (act_reduce): SiLU()\n",
       "                (act_expand): Sigmoid()\n",
       "              )\n",
       "              (projection): EfficientNetFinalBlockLayer(\n",
       "                (project_conv): Conv2d(144, 24, kernel_size=(1, 1), stride=(1, 1), padding=same, bias=False)\n",
       "                (project_bn): BatchNorm2d(24, eps=0.001, momentum=0.99, affine=True, track_running_stats=True)\n",
       "                (dropout): Dropout(p=0.034782608695652174, inplace=False)\n",
       "              )\n",
       "            )\n",
       "            (5): EfficientNetBlock(\n",
       "              (expansion): EfficientNetExpansionLayer(\n",
       "                (expand_conv): Conv2d(24, 144, kernel_size=(1, 1), stride=(1, 1), padding=same, bias=False)\n",
       "                (expand_bn): BatchNorm2d(144, eps=0.001, momentum=0.1, affine=True, track_running_stats=True)\n",
       "                (expand_act): SiLU()\n",
       "              )\n",
       "              (depthwise_conv): EfficientNetDepthwiseLayer(\n",
       "                (depthwise_conv_pad): ZeroPad2d((1, 2, 1, 2))\n",
       "                (depthwise_conv): EfficientNetDepthwiseConv2d(144, 144, kernel_size=(5, 5), stride=(2, 2), padding=valid, groups=144, bias=False)\n",
       "                (depthwise_norm): BatchNorm2d(144, eps=0.001, momentum=0.99, affine=True, track_running_stats=True)\n",
       "                (depthwise_act): SiLU()\n",
       "              )\n",
       "              (squeeze_excite): EfficientNetSqueezeExciteLayer(\n",
       "                (squeeze): AdaptiveAvgPool2d(output_size=1)\n",
       "                (reduce): Conv2d(144, 6, kernel_size=(1, 1), stride=(1, 1), padding=same)\n",
       "                (expand): Conv2d(6, 144, kernel_size=(1, 1), stride=(1, 1), padding=same)\n",
       "                (act_reduce): SiLU()\n",
       "                (act_expand): Sigmoid()\n",
       "              )\n",
       "              (projection): EfficientNetFinalBlockLayer(\n",
       "                (project_conv): Conv2d(144, 40, kernel_size=(1, 1), stride=(1, 1), padding=same, bias=False)\n",
       "                (project_bn): BatchNorm2d(40, eps=0.001, momentum=0.99, affine=True, track_running_stats=True)\n",
       "                (dropout): Dropout(p=0.043478260869565216, inplace=False)\n",
       "              )\n",
       "            )\n",
       "            (6): EfficientNetBlock(\n",
       "              (expansion): EfficientNetExpansionLayer(\n",
       "                (expand_conv): Conv2d(40, 240, kernel_size=(1, 1), stride=(1, 1), padding=same, bias=False)\n",
       "                (expand_bn): BatchNorm2d(240, eps=0.001, momentum=0.1, affine=True, track_running_stats=True)\n",
       "                (expand_act): SiLU()\n",
       "              )\n",
       "              (depthwise_conv): EfficientNetDepthwiseLayer(\n",
       "                (depthwise_conv_pad): ZeroPad2d((1, 2, 1, 2))\n",
       "                (depthwise_conv): EfficientNetDepthwiseConv2d(240, 240, kernel_size=(5, 5), stride=(1, 1), padding=same, groups=240, bias=False)\n",
       "                (depthwise_norm): BatchNorm2d(240, eps=0.001, momentum=0.99, affine=True, track_running_stats=True)\n",
       "                (depthwise_act): SiLU()\n",
       "              )\n",
       "              (squeeze_excite): EfficientNetSqueezeExciteLayer(\n",
       "                (squeeze): AdaptiveAvgPool2d(output_size=1)\n",
       "                (reduce): Conv2d(240, 10, kernel_size=(1, 1), stride=(1, 1), padding=same)\n",
       "                (expand): Conv2d(10, 240, kernel_size=(1, 1), stride=(1, 1), padding=same)\n",
       "                (act_reduce): SiLU()\n",
       "                (act_expand): Sigmoid()\n",
       "              )\n",
       "              (projection): EfficientNetFinalBlockLayer(\n",
       "                (project_conv): Conv2d(240, 40, kernel_size=(1, 1), stride=(1, 1), padding=same, bias=False)\n",
       "                (project_bn): BatchNorm2d(40, eps=0.001, momentum=0.99, affine=True, track_running_stats=True)\n",
       "                (dropout): Dropout(p=0.05217391304347827, inplace=False)\n",
       "              )\n",
       "            )\n",
       "            (7): EfficientNetBlock(\n",
       "              (expansion): EfficientNetExpansionLayer(\n",
       "                (expand_conv): Conv2d(40, 240, kernel_size=(1, 1), stride=(1, 1), padding=same, bias=False)\n",
       "                (expand_bn): BatchNorm2d(240, eps=0.001, momentum=0.1, affine=True, track_running_stats=True)\n",
       "                (expand_act): SiLU()\n",
       "              )\n",
       "              (depthwise_conv): EfficientNetDepthwiseLayer(\n",
       "                (depthwise_conv_pad): ZeroPad2d((1, 2, 1, 2))\n",
       "                (depthwise_conv): EfficientNetDepthwiseConv2d(240, 240, kernel_size=(5, 5), stride=(1, 1), padding=same, groups=240, bias=False)\n",
       "                (depthwise_norm): BatchNorm2d(240, eps=0.001, momentum=0.99, affine=True, track_running_stats=True)\n",
       "                (depthwise_act): SiLU()\n",
       "              )\n",
       "              (squeeze_excite): EfficientNetSqueezeExciteLayer(\n",
       "                (squeeze): AdaptiveAvgPool2d(output_size=1)\n",
       "                (reduce): Conv2d(240, 10, kernel_size=(1, 1), stride=(1, 1), padding=same)\n",
       "                (expand): Conv2d(10, 240, kernel_size=(1, 1), stride=(1, 1), padding=same)\n",
       "                (act_reduce): SiLU()\n",
       "                (act_expand): Sigmoid()\n",
       "              )\n",
       "              (projection): EfficientNetFinalBlockLayer(\n",
       "                (project_conv): Conv2d(240, 40, kernel_size=(1, 1), stride=(1, 1), padding=same, bias=False)\n",
       "                (project_bn): BatchNorm2d(40, eps=0.001, momentum=0.99, affine=True, track_running_stats=True)\n",
       "                (dropout): Dropout(p=0.06086956521739131, inplace=False)\n",
       "              )\n",
       "            )\n",
       "            (8): EfficientNetBlock(\n",
       "              (expansion): EfficientNetExpansionLayer(\n",
       "                (expand_conv): Conv2d(40, 240, kernel_size=(1, 1), stride=(1, 1), padding=same, bias=False)\n",
       "                (expand_bn): BatchNorm2d(240, eps=0.001, momentum=0.1, affine=True, track_running_stats=True)\n",
       "                (expand_act): SiLU()\n",
       "              )\n",
       "              (depthwise_conv): EfficientNetDepthwiseLayer(\n",
       "                (depthwise_conv_pad): ZeroPad2d((0, 1, 0, 1))\n",
       "                (depthwise_conv): EfficientNetDepthwiseConv2d(240, 240, kernel_size=(3, 3), stride=(2, 2), padding=valid, groups=240, bias=False)\n",
       "                (depthwise_norm): BatchNorm2d(240, eps=0.001, momentum=0.99, affine=True, track_running_stats=True)\n",
       "                (depthwise_act): SiLU()\n",
       "              )\n",
       "              (squeeze_excite): EfficientNetSqueezeExciteLayer(\n",
       "                (squeeze): AdaptiveAvgPool2d(output_size=1)\n",
       "                (reduce): Conv2d(240, 10, kernel_size=(1, 1), stride=(1, 1), padding=same)\n",
       "                (expand): Conv2d(10, 240, kernel_size=(1, 1), stride=(1, 1), padding=same)\n",
       "                (act_reduce): SiLU()\n",
       "                (act_expand): Sigmoid()\n",
       "              )\n",
       "              (projection): EfficientNetFinalBlockLayer(\n",
       "                (project_conv): Conv2d(240, 80, kernel_size=(1, 1), stride=(1, 1), padding=same, bias=False)\n",
       "                (project_bn): BatchNorm2d(80, eps=0.001, momentum=0.99, affine=True, track_running_stats=True)\n",
       "                (dropout): Dropout(p=0.06956521739130435, inplace=False)\n",
       "              )\n",
       "            )\n",
       "            (9): EfficientNetBlock(\n",
       "              (expansion): EfficientNetExpansionLayer(\n",
       "                (expand_conv): Conv2d(80, 480, kernel_size=(1, 1), stride=(1, 1), padding=same, bias=False)\n",
       "                (expand_bn): BatchNorm2d(480, eps=0.001, momentum=0.1, affine=True, track_running_stats=True)\n",
       "                (expand_act): SiLU()\n",
       "              )\n",
       "              (depthwise_conv): EfficientNetDepthwiseLayer(\n",
       "                (depthwise_conv_pad): ZeroPad2d((0, 1, 0, 1))\n",
       "                (depthwise_conv): EfficientNetDepthwiseConv2d(480, 480, kernel_size=(3, 3), stride=(1, 1), padding=same, groups=480, bias=False)\n",
       "                (depthwise_norm): BatchNorm2d(480, eps=0.001, momentum=0.99, affine=True, track_running_stats=True)\n",
       "                (depthwise_act): SiLU()\n",
       "              )\n",
       "              (squeeze_excite): EfficientNetSqueezeExciteLayer(\n",
       "                (squeeze): AdaptiveAvgPool2d(output_size=1)\n",
       "                (reduce): Conv2d(480, 20, kernel_size=(1, 1), stride=(1, 1), padding=same)\n",
       "                (expand): Conv2d(20, 480, kernel_size=(1, 1), stride=(1, 1), padding=same)\n",
       "                (act_reduce): SiLU()\n",
       "                (act_expand): Sigmoid()\n",
       "              )\n",
       "              (projection): EfficientNetFinalBlockLayer(\n",
       "                (project_conv): Conv2d(480, 80, kernel_size=(1, 1), stride=(1, 1), padding=same, bias=False)\n",
       "                (project_bn): BatchNorm2d(80, eps=0.001, momentum=0.99, affine=True, track_running_stats=True)\n",
       "                (dropout): Dropout(p=0.0782608695652174, inplace=False)\n",
       "              )\n",
       "            )\n",
       "            (10): EfficientNetBlock(\n",
       "              (expansion): EfficientNetExpansionLayer(\n",
       "                (expand_conv): Conv2d(80, 480, kernel_size=(1, 1), stride=(1, 1), padding=same, bias=False)\n",
       "                (expand_bn): BatchNorm2d(480, eps=0.001, momentum=0.1, affine=True, track_running_stats=True)\n",
       "                (expand_act): SiLU()\n",
       "              )\n",
       "              (depthwise_conv): EfficientNetDepthwiseLayer(\n",
       "                (depthwise_conv_pad): ZeroPad2d((0, 1, 0, 1))\n",
       "                (depthwise_conv): EfficientNetDepthwiseConv2d(480, 480, kernel_size=(3, 3), stride=(1, 1), padding=same, groups=480, bias=False)\n",
       "                (depthwise_norm): BatchNorm2d(480, eps=0.001, momentum=0.99, affine=True, track_running_stats=True)\n",
       "                (depthwise_act): SiLU()\n",
       "              )\n",
       "              (squeeze_excite): EfficientNetSqueezeExciteLayer(\n",
       "                (squeeze): AdaptiveAvgPool2d(output_size=1)\n",
       "                (reduce): Conv2d(480, 20, kernel_size=(1, 1), stride=(1, 1), padding=same)\n",
       "                (expand): Conv2d(20, 480, kernel_size=(1, 1), stride=(1, 1), padding=same)\n",
       "                (act_reduce): SiLU()\n",
       "                (act_expand): Sigmoid()\n",
       "              )\n",
       "              (projection): EfficientNetFinalBlockLayer(\n",
       "                (project_conv): Conv2d(480, 80, kernel_size=(1, 1), stride=(1, 1), padding=same, bias=False)\n",
       "                (project_bn): BatchNorm2d(80, eps=0.001, momentum=0.99, affine=True, track_running_stats=True)\n",
       "                (dropout): Dropout(p=0.08695652173913043, inplace=False)\n",
       "              )\n",
       "            )\n",
       "            (11): EfficientNetBlock(\n",
       "              (expansion): EfficientNetExpansionLayer(\n",
       "                (expand_conv): Conv2d(80, 480, kernel_size=(1, 1), stride=(1, 1), padding=same, bias=False)\n",
       "                (expand_bn): BatchNorm2d(480, eps=0.001, momentum=0.1, affine=True, track_running_stats=True)\n",
       "                (expand_act): SiLU()\n",
       "              )\n",
       "              (depthwise_conv): EfficientNetDepthwiseLayer(\n",
       "                (depthwise_conv_pad): ZeroPad2d((0, 1, 0, 1))\n",
       "                (depthwise_conv): EfficientNetDepthwiseConv2d(480, 480, kernel_size=(3, 3), stride=(1, 1), padding=same, groups=480, bias=False)\n",
       "                (depthwise_norm): BatchNorm2d(480, eps=0.001, momentum=0.99, affine=True, track_running_stats=True)\n",
       "                (depthwise_act): SiLU()\n",
       "              )\n",
       "              (squeeze_excite): EfficientNetSqueezeExciteLayer(\n",
       "                (squeeze): AdaptiveAvgPool2d(output_size=1)\n",
       "                (reduce): Conv2d(480, 20, kernel_size=(1, 1), stride=(1, 1), padding=same)\n",
       "                (expand): Conv2d(20, 480, kernel_size=(1, 1), stride=(1, 1), padding=same)\n",
       "                (act_reduce): SiLU()\n",
       "                (act_expand): Sigmoid()\n",
       "              )\n",
       "              (projection): EfficientNetFinalBlockLayer(\n",
       "                (project_conv): Conv2d(480, 80, kernel_size=(1, 1), stride=(1, 1), padding=same, bias=False)\n",
       "                (project_bn): BatchNorm2d(80, eps=0.001, momentum=0.99, affine=True, track_running_stats=True)\n",
       "                (dropout): Dropout(p=0.09565217391304348, inplace=False)\n",
       "              )\n",
       "            )\n",
       "            (12): EfficientNetBlock(\n",
       "              (expansion): EfficientNetExpansionLayer(\n",
       "                (expand_conv): Conv2d(80, 480, kernel_size=(1, 1), stride=(1, 1), padding=same, bias=False)\n",
       "                (expand_bn): BatchNorm2d(480, eps=0.001, momentum=0.1, affine=True, track_running_stats=True)\n",
       "                (expand_act): SiLU()\n",
       "              )\n",
       "              (depthwise_conv): EfficientNetDepthwiseLayer(\n",
       "                (depthwise_conv_pad): ZeroPad2d((1, 2, 1, 2))\n",
       "                (depthwise_conv): EfficientNetDepthwiseConv2d(480, 480, kernel_size=(5, 5), stride=(1, 1), padding=same, groups=480, bias=False)\n",
       "                (depthwise_norm): BatchNorm2d(480, eps=0.001, momentum=0.99, affine=True, track_running_stats=True)\n",
       "                (depthwise_act): SiLU()\n",
       "              )\n",
       "              (squeeze_excite): EfficientNetSqueezeExciteLayer(\n",
       "                (squeeze): AdaptiveAvgPool2d(output_size=1)\n",
       "                (reduce): Conv2d(480, 20, kernel_size=(1, 1), stride=(1, 1), padding=same)\n",
       "                (expand): Conv2d(20, 480, kernel_size=(1, 1), stride=(1, 1), padding=same)\n",
       "                (act_reduce): SiLU()\n",
       "                (act_expand): Sigmoid()\n",
       "              )\n",
       "              (projection): EfficientNetFinalBlockLayer(\n",
       "                (project_conv): Conv2d(480, 112, kernel_size=(1, 1), stride=(1, 1), padding=same, bias=False)\n",
       "                (project_bn): BatchNorm2d(112, eps=0.001, momentum=0.99, affine=True, track_running_stats=True)\n",
       "                (dropout): Dropout(p=0.10434782608695654, inplace=False)\n",
       "              )\n",
       "            )\n",
       "            (13): EfficientNetBlock(\n",
       "              (expansion): EfficientNetExpansionLayer(\n",
       "                (expand_conv): Conv2d(112, 672, kernel_size=(1, 1), stride=(1, 1), padding=same, bias=False)\n",
       "                (expand_bn): BatchNorm2d(672, eps=0.001, momentum=0.1, affine=True, track_running_stats=True)\n",
       "                (expand_act): SiLU()\n",
       "              )\n",
       "              (depthwise_conv): EfficientNetDepthwiseLayer(\n",
       "                (depthwise_conv_pad): ZeroPad2d((1, 2, 1, 2))\n",
       "                (depthwise_conv): EfficientNetDepthwiseConv2d(672, 672, kernel_size=(5, 5), stride=(1, 1), padding=same, groups=672, bias=False)\n",
       "                (depthwise_norm): BatchNorm2d(672, eps=0.001, momentum=0.99, affine=True, track_running_stats=True)\n",
       "                (depthwise_act): SiLU()\n",
       "              )\n",
       "              (squeeze_excite): EfficientNetSqueezeExciteLayer(\n",
       "                (squeeze): AdaptiveAvgPool2d(output_size=1)\n",
       "                (reduce): Conv2d(672, 28, kernel_size=(1, 1), stride=(1, 1), padding=same)\n",
       "                (expand): Conv2d(28, 672, kernel_size=(1, 1), stride=(1, 1), padding=same)\n",
       "                (act_reduce): SiLU()\n",
       "                (act_expand): Sigmoid()\n",
       "              )\n",
       "              (projection): EfficientNetFinalBlockLayer(\n",
       "                (project_conv): Conv2d(672, 112, kernel_size=(1, 1), stride=(1, 1), padding=same, bias=False)\n",
       "                (project_bn): BatchNorm2d(112, eps=0.001, momentum=0.99, affine=True, track_running_stats=True)\n",
       "                (dropout): Dropout(p=0.11304347826086956, inplace=False)\n",
       "              )\n",
       "            )\n",
       "            (14): EfficientNetBlock(\n",
       "              (expansion): EfficientNetExpansionLayer(\n",
       "                (expand_conv): Conv2d(112, 672, kernel_size=(1, 1), stride=(1, 1), padding=same, bias=False)\n",
       "                (expand_bn): BatchNorm2d(672, eps=0.001, momentum=0.1, affine=True, track_running_stats=True)\n",
       "                (expand_act): SiLU()\n",
       "              )\n",
       "              (depthwise_conv): EfficientNetDepthwiseLayer(\n",
       "                (depthwise_conv_pad): ZeroPad2d((1, 2, 1, 2))\n",
       "                (depthwise_conv): EfficientNetDepthwiseConv2d(672, 672, kernel_size=(5, 5), stride=(1, 1), padding=same, groups=672, bias=False)\n",
       "                (depthwise_norm): BatchNorm2d(672, eps=0.001, momentum=0.99, affine=True, track_running_stats=True)\n",
       "                (depthwise_act): SiLU()\n",
       "              )\n",
       "              (squeeze_excite): EfficientNetSqueezeExciteLayer(\n",
       "                (squeeze): AdaptiveAvgPool2d(output_size=1)\n",
       "                (reduce): Conv2d(672, 28, kernel_size=(1, 1), stride=(1, 1), padding=same)\n",
       "                (expand): Conv2d(28, 672, kernel_size=(1, 1), stride=(1, 1), padding=same)\n",
       "                (act_reduce): SiLU()\n",
       "                (act_expand): Sigmoid()\n",
       "              )\n",
       "              (projection): EfficientNetFinalBlockLayer(\n",
       "                (project_conv): Conv2d(672, 112, kernel_size=(1, 1), stride=(1, 1), padding=same, bias=False)\n",
       "                (project_bn): BatchNorm2d(112, eps=0.001, momentum=0.99, affine=True, track_running_stats=True)\n",
       "                (dropout): Dropout(p=0.12173913043478261, inplace=False)\n",
       "              )\n",
       "            )\n",
       "            (15): EfficientNetBlock(\n",
       "              (expansion): EfficientNetExpansionLayer(\n",
       "                (expand_conv): Conv2d(112, 672, kernel_size=(1, 1), stride=(1, 1), padding=same, bias=False)\n",
       "                (expand_bn): BatchNorm2d(672, eps=0.001, momentum=0.1, affine=True, track_running_stats=True)\n",
       "                (expand_act): SiLU()\n",
       "              )\n",
       "              (depthwise_conv): EfficientNetDepthwiseLayer(\n",
       "                (depthwise_conv_pad): ZeroPad2d((1, 2, 1, 2))\n",
       "                (depthwise_conv): EfficientNetDepthwiseConv2d(672, 672, kernel_size=(5, 5), stride=(1, 1), padding=same, groups=672, bias=False)\n",
       "                (depthwise_norm): BatchNorm2d(672, eps=0.001, momentum=0.99, affine=True, track_running_stats=True)\n",
       "                (depthwise_act): SiLU()\n",
       "              )\n",
       "              (squeeze_excite): EfficientNetSqueezeExciteLayer(\n",
       "                (squeeze): AdaptiveAvgPool2d(output_size=1)\n",
       "                (reduce): Conv2d(672, 28, kernel_size=(1, 1), stride=(1, 1), padding=same)\n",
       "                (expand): Conv2d(28, 672, kernel_size=(1, 1), stride=(1, 1), padding=same)\n",
       "                (act_reduce): SiLU()\n",
       "                (act_expand): Sigmoid()\n",
       "              )\n",
       "              (projection): EfficientNetFinalBlockLayer(\n",
       "                (project_conv): Conv2d(672, 112, kernel_size=(1, 1), stride=(1, 1), padding=same, bias=False)\n",
       "                (project_bn): BatchNorm2d(112, eps=0.001, momentum=0.99, affine=True, track_running_stats=True)\n",
       "                (dropout): Dropout(p=0.13043478260869565, inplace=False)\n",
       "              )\n",
       "            )\n",
       "            (16): EfficientNetBlock(\n",
       "              (expansion): EfficientNetExpansionLayer(\n",
       "                (expand_conv): Conv2d(112, 672, kernel_size=(1, 1), stride=(1, 1), padding=same, bias=False)\n",
       "                (expand_bn): BatchNorm2d(672, eps=0.001, momentum=0.1, affine=True, track_running_stats=True)\n",
       "                (expand_act): SiLU()\n",
       "              )\n",
       "              (depthwise_conv): EfficientNetDepthwiseLayer(\n",
       "                (depthwise_conv_pad): ZeroPad2d((2, 2, 2, 2))\n",
       "                (depthwise_conv): EfficientNetDepthwiseConv2d(672, 672, kernel_size=(5, 5), stride=(2, 2), padding=valid, groups=672, bias=False)\n",
       "                (depthwise_norm): BatchNorm2d(672, eps=0.001, momentum=0.99, affine=True, track_running_stats=True)\n",
       "                (depthwise_act): SiLU()\n",
       "              )\n",
       "              (squeeze_excite): EfficientNetSqueezeExciteLayer(\n",
       "                (squeeze): AdaptiveAvgPool2d(output_size=1)\n",
       "                (reduce): Conv2d(672, 28, kernel_size=(1, 1), stride=(1, 1), padding=same)\n",
       "                (expand): Conv2d(28, 672, kernel_size=(1, 1), stride=(1, 1), padding=same)\n",
       "                (act_reduce): SiLU()\n",
       "                (act_expand): Sigmoid()\n",
       "              )\n",
       "              (projection): EfficientNetFinalBlockLayer(\n",
       "                (project_conv): Conv2d(672, 192, kernel_size=(1, 1), stride=(1, 1), padding=same, bias=False)\n",
       "                (project_bn): BatchNorm2d(192, eps=0.001, momentum=0.99, affine=True, track_running_stats=True)\n",
       "                (dropout): Dropout(p=0.1391304347826087, inplace=False)\n",
       "              )\n",
       "            )\n",
       "            (17): EfficientNetBlock(\n",
       "              (expansion): EfficientNetExpansionLayer(\n",
       "                (expand_conv): Conv2d(192, 1152, kernel_size=(1, 1), stride=(1, 1), padding=same, bias=False)\n",
       "                (expand_bn): BatchNorm2d(1152, eps=0.001, momentum=0.1, affine=True, track_running_stats=True)\n",
       "                (expand_act): SiLU()\n",
       "              )\n",
       "              (depthwise_conv): EfficientNetDepthwiseLayer(\n",
       "                (depthwise_conv_pad): ZeroPad2d((1, 2, 1, 2))\n",
       "                (depthwise_conv): EfficientNetDepthwiseConv2d(1152, 1152, kernel_size=(5, 5), stride=(1, 1), padding=same, groups=1152, bias=False)\n",
       "                (depthwise_norm): BatchNorm2d(1152, eps=0.001, momentum=0.99, affine=True, track_running_stats=True)\n",
       "                (depthwise_act): SiLU()\n",
       "              )\n",
       "              (squeeze_excite): EfficientNetSqueezeExciteLayer(\n",
       "                (squeeze): AdaptiveAvgPool2d(output_size=1)\n",
       "                (reduce): Conv2d(1152, 48, kernel_size=(1, 1), stride=(1, 1), padding=same)\n",
       "                (expand): Conv2d(48, 1152, kernel_size=(1, 1), stride=(1, 1), padding=same)\n",
       "                (act_reduce): SiLU()\n",
       "                (act_expand): Sigmoid()\n",
       "              )\n",
       "              (projection): EfficientNetFinalBlockLayer(\n",
       "                (project_conv): Conv2d(1152, 192, kernel_size=(1, 1), stride=(1, 1), padding=same, bias=False)\n",
       "                (project_bn): BatchNorm2d(192, eps=0.001, momentum=0.99, affine=True, track_running_stats=True)\n",
       "                (dropout): Dropout(p=0.14782608695652175, inplace=False)\n",
       "              )\n",
       "            )\n",
       "            (18): EfficientNetBlock(\n",
       "              (expansion): EfficientNetExpansionLayer(\n",
       "                (expand_conv): Conv2d(192, 1152, kernel_size=(1, 1), stride=(1, 1), padding=same, bias=False)\n",
       "                (expand_bn): BatchNorm2d(1152, eps=0.001, momentum=0.1, affine=True, track_running_stats=True)\n",
       "                (expand_act): SiLU()\n",
       "              )\n",
       "              (depthwise_conv): EfficientNetDepthwiseLayer(\n",
       "                (depthwise_conv_pad): ZeroPad2d((1, 2, 1, 2))\n",
       "                (depthwise_conv): EfficientNetDepthwiseConv2d(1152, 1152, kernel_size=(5, 5), stride=(1, 1), padding=same, groups=1152, bias=False)\n",
       "                (depthwise_norm): BatchNorm2d(1152, eps=0.001, momentum=0.99, affine=True, track_running_stats=True)\n",
       "                (depthwise_act): SiLU()\n",
       "              )\n",
       "              (squeeze_excite): EfficientNetSqueezeExciteLayer(\n",
       "                (squeeze): AdaptiveAvgPool2d(output_size=1)\n",
       "                (reduce): Conv2d(1152, 48, kernel_size=(1, 1), stride=(1, 1), padding=same)\n",
       "                (expand): Conv2d(48, 1152, kernel_size=(1, 1), stride=(1, 1), padding=same)\n",
       "                (act_reduce): SiLU()\n",
       "                (act_expand): Sigmoid()\n",
       "              )\n",
       "              (projection): EfficientNetFinalBlockLayer(\n",
       "                (project_conv): Conv2d(1152, 192, kernel_size=(1, 1), stride=(1, 1), padding=same, bias=False)\n",
       "                (project_bn): BatchNorm2d(192, eps=0.001, momentum=0.99, affine=True, track_running_stats=True)\n",
       "                (dropout): Dropout(p=0.1565217391304348, inplace=False)\n",
       "              )\n",
       "            )\n",
       "            (19): EfficientNetBlock(\n",
       "              (expansion): EfficientNetExpansionLayer(\n",
       "                (expand_conv): Conv2d(192, 1152, kernel_size=(1, 1), stride=(1, 1), padding=same, bias=False)\n",
       "                (expand_bn): BatchNorm2d(1152, eps=0.001, momentum=0.1, affine=True, track_running_stats=True)\n",
       "                (expand_act): SiLU()\n",
       "              )\n",
       "              (depthwise_conv): EfficientNetDepthwiseLayer(\n",
       "                (depthwise_conv_pad): ZeroPad2d((1, 2, 1, 2))\n",
       "                (depthwise_conv): EfficientNetDepthwiseConv2d(1152, 1152, kernel_size=(5, 5), stride=(1, 1), padding=same, groups=1152, bias=False)\n",
       "                (depthwise_norm): BatchNorm2d(1152, eps=0.001, momentum=0.99, affine=True, track_running_stats=True)\n",
       "                (depthwise_act): SiLU()\n",
       "              )\n",
       "              (squeeze_excite): EfficientNetSqueezeExciteLayer(\n",
       "                (squeeze): AdaptiveAvgPool2d(output_size=1)\n",
       "                (reduce): Conv2d(1152, 48, kernel_size=(1, 1), stride=(1, 1), padding=same)\n",
       "                (expand): Conv2d(48, 1152, kernel_size=(1, 1), stride=(1, 1), padding=same)\n",
       "                (act_reduce): SiLU()\n",
       "                (act_expand): Sigmoid()\n",
       "              )\n",
       "              (projection): EfficientNetFinalBlockLayer(\n",
       "                (project_conv): Conv2d(1152, 192, kernel_size=(1, 1), stride=(1, 1), padding=same, bias=False)\n",
       "                (project_bn): BatchNorm2d(192, eps=0.001, momentum=0.99, affine=True, track_running_stats=True)\n",
       "                (dropout): Dropout(p=0.16521739130434784, inplace=False)\n",
       "              )\n",
       "            )\n",
       "            (20): EfficientNetBlock(\n",
       "              (expansion): EfficientNetExpansionLayer(\n",
       "                (expand_conv): Conv2d(192, 1152, kernel_size=(1, 1), stride=(1, 1), padding=same, bias=False)\n",
       "                (expand_bn): BatchNorm2d(1152, eps=0.001, momentum=0.1, affine=True, track_running_stats=True)\n",
       "                (expand_act): SiLU()\n",
       "              )\n",
       "              (depthwise_conv): EfficientNetDepthwiseLayer(\n",
       "                (depthwise_conv_pad): ZeroPad2d((1, 2, 1, 2))\n",
       "                (depthwise_conv): EfficientNetDepthwiseConv2d(1152, 1152, kernel_size=(5, 5), stride=(1, 1), padding=same, groups=1152, bias=False)\n",
       "                (depthwise_norm): BatchNorm2d(1152, eps=0.001, momentum=0.99, affine=True, track_running_stats=True)\n",
       "                (depthwise_act): SiLU()\n",
       "              )\n",
       "              (squeeze_excite): EfficientNetSqueezeExciteLayer(\n",
       "                (squeeze): AdaptiveAvgPool2d(output_size=1)\n",
       "                (reduce): Conv2d(1152, 48, kernel_size=(1, 1), stride=(1, 1), padding=same)\n",
       "                (expand): Conv2d(48, 1152, kernel_size=(1, 1), stride=(1, 1), padding=same)\n",
       "                (act_reduce): SiLU()\n",
       "                (act_expand): Sigmoid()\n",
       "              )\n",
       "              (projection): EfficientNetFinalBlockLayer(\n",
       "                (project_conv): Conv2d(1152, 192, kernel_size=(1, 1), stride=(1, 1), padding=same, bias=False)\n",
       "                (project_bn): BatchNorm2d(192, eps=0.001, momentum=0.99, affine=True, track_running_stats=True)\n",
       "                (dropout): Dropout(p=0.17391304347826086, inplace=False)\n",
       "              )\n",
       "            )\n",
       "            (21): EfficientNetBlock(\n",
       "              (expansion): EfficientNetExpansionLayer(\n",
       "                (expand_conv): Conv2d(192, 1152, kernel_size=(1, 1), stride=(1, 1), padding=same, bias=False)\n",
       "                (expand_bn): BatchNorm2d(1152, eps=0.001, momentum=0.1, affine=True, track_running_stats=True)\n",
       "                (expand_act): SiLU()\n",
       "              )\n",
       "              (depthwise_conv): EfficientNetDepthwiseLayer(\n",
       "                (depthwise_conv_pad): ZeroPad2d((0, 1, 0, 1))\n",
       "                (depthwise_conv): EfficientNetDepthwiseConv2d(1152, 1152, kernel_size=(3, 3), stride=(1, 1), padding=same, groups=1152, bias=False)\n",
       "                (depthwise_norm): BatchNorm2d(1152, eps=0.001, momentum=0.99, affine=True, track_running_stats=True)\n",
       "                (depthwise_act): SiLU()\n",
       "              )\n",
       "              (squeeze_excite): EfficientNetSqueezeExciteLayer(\n",
       "                (squeeze): AdaptiveAvgPool2d(output_size=1)\n",
       "                (reduce): Conv2d(1152, 48, kernel_size=(1, 1), stride=(1, 1), padding=same)\n",
       "                (expand): Conv2d(48, 1152, kernel_size=(1, 1), stride=(1, 1), padding=same)\n",
       "                (act_reduce): SiLU()\n",
       "                (act_expand): Sigmoid()\n",
       "              )\n",
       "              (projection): EfficientNetFinalBlockLayer(\n",
       "                (project_conv): Conv2d(1152, 320, kernel_size=(1, 1), stride=(1, 1), padding=same, bias=False)\n",
       "                (project_bn): BatchNorm2d(320, eps=0.001, momentum=0.99, affine=True, track_running_stats=True)\n",
       "                (dropout): Dropout(p=0.1826086956521739, inplace=False)\n",
       "              )\n",
       "            )\n",
       "            (22): EfficientNetBlock(\n",
       "              (expansion): EfficientNetExpansionLayer(\n",
       "                (expand_conv): Conv2d(320, 1920, kernel_size=(1, 1), stride=(1, 1), padding=same, bias=False)\n",
       "                (expand_bn): BatchNorm2d(1920, eps=0.001, momentum=0.1, affine=True, track_running_stats=True)\n",
       "                (expand_act): SiLU()\n",
       "              )\n",
       "              (depthwise_conv): EfficientNetDepthwiseLayer(\n",
       "                (depthwise_conv_pad): ZeroPad2d((0, 1, 0, 1))\n",
       "                (depthwise_conv): EfficientNetDepthwiseConv2d(1920, 1920, kernel_size=(3, 3), stride=(1, 1), padding=same, groups=1920, bias=False)\n",
       "                (depthwise_norm): BatchNorm2d(1920, eps=0.001, momentum=0.99, affine=True, track_running_stats=True)\n",
       "                (depthwise_act): SiLU()\n",
       "              )\n",
       "              (squeeze_excite): EfficientNetSqueezeExciteLayer(\n",
       "                (squeeze): AdaptiveAvgPool2d(output_size=1)\n",
       "                (reduce): Conv2d(1920, 80, kernel_size=(1, 1), stride=(1, 1), padding=same)\n",
       "                (expand): Conv2d(80, 1920, kernel_size=(1, 1), stride=(1, 1), padding=same)\n",
       "                (act_reduce): SiLU()\n",
       "                (act_expand): Sigmoid()\n",
       "              )\n",
       "              (projection): EfficientNetFinalBlockLayer(\n",
       "                (project_conv): Conv2d(1920, 320, kernel_size=(1, 1), stride=(1, 1), padding=same, bias=False)\n",
       "                (project_bn): BatchNorm2d(320, eps=0.001, momentum=0.99, affine=True, track_running_stats=True)\n",
       "                (dropout): Dropout(p=0.19130434782608696, inplace=False)\n",
       "              )\n",
       "            )\n",
       "          )\n",
       "          (top_conv): Conv2d(320, 1280, kernel_size=(1, 1), stride=(1, 1), padding=same, bias=False)\n",
       "          (top_bn): BatchNorm2d(1280, eps=0.001, momentum=0.99, affine=True, track_running_stats=True)\n",
       "          (top_activation): SiLU()\n",
       "        )\n",
       "        (pooler): AvgPool2d(kernel_size=1280, stride=1280, padding=0)\n",
       "      )\n",
       "      (dropout): Dropout(p=0.2, inplace=False)\n",
       "      (classifier): Linear(in_features=1280, out_features=50, bias=True)\n",
       "    )\n",
       "  )\n",
       "  (train_metric): MulticlassAccuracy()\n",
       "  (valid_metric): MulticlassAccuracy()\n",
       "  (test_metric): MulticlassAccuracy()\n",
       "  (valid_metric_best): MaxMetric()\n",
       "  (valid_add_metrics): MetricCollection(\n",
       "    (F1): MulticlassF1Score(),\n",
       "    prefix=val/\n",
       "  )\n",
       "  (test_add_metrics): MetricCollection(\n",
       "    (F1): MulticlassF1Score(),\n",
       "    prefix=test/\n",
       "  )\n",
       "  (test_complete_metrics): MetricCollection(\n",
       "    (acc): MulticlassAccuracy(),\n",
       "    prefix=test/\n",
       "  )\n",
       ")"
      ]
     },
     "execution_count": 33,
     "metadata": {},
     "output_type": "execute_result"
    }
   ],
   "source": [
    "from functools import partial\n",
    "from birdset.modules.base_module import BaseModule\n",
    "from birdset.configs import NetworkConfig, MulticlassMetricsConfig\n",
    "from birdset.modules.models.efficientnet import EfficientNetClassifier\n",
    "from torch.optim import AdamW\n",
    "\n",
    "model = BaseModule(\n",
    "    network=NetworkConfig(\n",
    "        model=EfficientNetClassifier(\n",
    "            num_classes=datamodule.num_classes,\n",
    "        ),\n",
    "    ),\n",
    "    metrics=MulticlassMetricsConfig(num_labels=50),\n",
    "    num_epochs=5,\n",
    "    len_trainset=datamodule.len_trainset,\n",
    "    optimizer=partial(AdamW, lr=5e-4, weight_decay=5e-4),\n",
    ")\n",
    "model"
   ]
  },
  {
   "cell_type": "code",
   "execution_count": 23,
   "metadata": {},
   "outputs": [
    {
     "data": {
      "text/plain": [
       "tensor(3.8957, grad_fn=<NllLossBackward0>)"
      ]
     },
     "execution_count": 23,
     "metadata": {},
     "output_type": "execute_result"
    }
   ],
   "source": [
    "logits = model.forward(batch[\"input_values\"])\n",
    "loss = model.loss(logits, batch[\"labels\"])\n",
    "loss"
   ]
  },
  {
   "cell_type": "code",
   "execution_count": 24,
   "metadata": {},
   "outputs": [
    {
     "data": {
      "text/plain": [
       "tensor([[0.0192, 0.0206, 0.0209,  ..., 0.0206, 0.0207, 0.0212],\n",
       "        [0.0178, 0.0193, 0.0194,  ..., 0.0202, 0.0199, 0.0204],\n",
       "        [0.0188, 0.0192, 0.0201,  ..., 0.0198, 0.0199, 0.0207],\n",
       "        ...,\n",
       "        [0.0192, 0.0190, 0.0322,  ..., 0.0138, 0.0279, 0.0262],\n",
       "        [0.0199, 0.0192, 0.0193,  ..., 0.0206, 0.0195, 0.0204],\n",
       "        [0.0159, 0.0256, 0.0290,  ..., 0.0199, 0.0279, 0.0254]],\n",
       "       grad_fn=<SoftmaxBackward0>)"
      ]
     },
     "execution_count": 24,
     "metadata": {},
     "output_type": "execute_result"
    }
   ],
   "source": [
    "preds = model.output_activation(logits)\n",
    "preds"
   ]
  },
  {
   "cell_type": "code",
   "execution_count": 25,
   "metadata": {},
   "outputs": [
    {
     "data": {
      "text/plain": [
       "tensor([32, 44, 22, 32, 28, 19, 44, 43, 19, 37, 37, 22, 36, 39, 39, 41, 37, 22,\n",
       "        32, 39, 44, 13, 26, 19, 32, 43, 22, 44, 22, 39, 22, 21])"
      ]
     },
     "execution_count": 25,
     "metadata": {},
     "output_type": "execute_result"
    }
   ],
   "source": [
    "max_preds = preds.argmax(dim=1)\n",
    "max_preds"
   ]
  },
  {
   "cell_type": "code",
   "execution_count": 26,
   "metadata": {},
   "outputs": [
    {
     "data": {
      "text/plain": [
       "tensor(0.0625)"
      ]
     },
     "execution_count": 26,
     "metadata": {},
     "output_type": "execute_result"
    }
   ],
   "source": [
    "model.valid_metric(preds, batch[\"labels\"])"
   ]
  },
  {
   "cell_type": "code",
   "execution_count": 27,
   "metadata": {},
   "outputs": [
    {
     "name": "stderr",
     "output_type": "stream",
     "text": [
      "GPU available: True (cuda), used: True\n",
      "TPU available: False, using: 0 TPU cores\n",
      "HPU available: False, using: 0 HPUs\n"
     ]
    },
    {
     "name": "stderr",
     "output_type": "stream",
     "text": [
      "LOCAL_RANK: 0 - CUDA_VISIBLE_DEVICES: [0,1,2,3]\n",
      "\n",
      "  | Name                  | Type                   | Params | Mode \n",
      "-------------------------------------------------------------------------\n",
      "0 | loss                  | CrossEntropyLoss       | 0      | train\n",
      "1 | model                 | EfficientNetClassifier | 6.6 M  | train\n",
      "2 | train_metric          | MulticlassAccuracy     | 0      | train\n",
      "3 | valid_metric          | MulticlassAccuracy     | 0      | train\n",
      "4 | test_metric           | MulticlassAccuracy     | 0      | train\n",
      "5 | valid_metric_best     | MaxMetric              | 0      | train\n",
      "6 | valid_add_metrics     | MetricCollection       | 0      | train\n",
      "7 | test_add_metrics      | MetricCollection       | 0      | train\n",
      "8 | test_complete_metrics | MetricCollection       | 0      | train\n",
      "-------------------------------------------------------------------------\n",
      "6.6 M     Trainable params\n",
      "0         Non-trainable params\n",
      "6.6 M     Total params\n",
      "26.307    Total estimated model params size (MB)\n"
     ]
    },
    {
     "data": {
      "application/vnd.jupyter.widget-view+json": {
       "model_id": "9758f722678d450bbb61b721fb859d9d",
       "version_major": 2,
       "version_minor": 0
      },
      "text/plain": [
       "Sanity Checking: |          | 0/? [00:00<?, ?it/s]"
      ]
     },
     "metadata": {},
     "output_type": "display_data"
    },
    {
     "data": {
      "application/vnd.jupyter.widget-view+json": {
       "model_id": "3f68ac5ba1b044419dc66bfe6d38dadf",
       "version_major": 2,
       "version_minor": 0
      },
      "text/plain": [
       "Training: |          | 0/? [00:00<?, ?it/s]"
      ]
     },
     "metadata": {},
     "output_type": "display_data"
    },
    {
     "data": {
      "application/vnd.jupyter.widget-view+json": {
       "model_id": "3448079fe64d4824abe73ad350d5586c",
       "version_major": 2,
       "version_minor": 0
      },
      "text/plain": [
       "Validation: |          | 0/? [00:00<?, ?it/s]"
      ]
     },
     "metadata": {},
     "output_type": "display_data"
    },
    {
     "data": {
      "application/vnd.jupyter.widget-view+json": {
       "model_id": "ebf58df4066945bf80413eb01084d109",
       "version_major": 2,
       "version_minor": 0
      },
      "text/plain": [
       "Validation: |          | 0/? [00:00<?, ?it/s]"
      ]
     },
     "metadata": {},
     "output_type": "display_data"
    },
    {
     "data": {
      "application/vnd.jupyter.widget-view+json": {
       "model_id": "470bcc83dcbf439581f84645824bd25b",
       "version_major": 2,
       "version_minor": 0
      },
      "text/plain": [
       "Validation: |          | 0/? [00:00<?, ?it/s]"
      ]
     },
     "metadata": {},
     "output_type": "display_data"
    },
    {
     "data": {
      "application/vnd.jupyter.widget-view+json": {
       "model_id": "c9f49d05e758497e85e1747b782b2d4b",
       "version_major": 2,
       "version_minor": 0
      },
      "text/plain": [
       "Validation: |          | 0/? [00:00<?, ?it/s]"
      ]
     },
     "metadata": {},
     "output_type": "display_data"
    },
    {
     "data": {
      "application/vnd.jupyter.widget-view+json": {
       "model_id": "4c24377bc60549ce865ec41c1eca437a",
       "version_major": 2,
       "version_minor": 0
      },
      "text/plain": [
       "Validation: |          | 0/? [00:00<?, ?it/s]"
      ]
     },
     "metadata": {},
     "output_type": "display_data"
    },
    {
     "name": "stderr",
     "output_type": "stream",
     "text": [
      "`Trainer.fit` stopped: `max_epochs=5` reached.\n"
     ]
    }
   ],
   "source": [
    "from lightning import Trainer\n",
    "\n",
    "trainer = Trainer(max_epochs=5, accelerator=\"gpu\", devices=1)\n",
    "trainer.fit(model, datamodule)"
   ]
  },
  {
   "cell_type": "code",
   "execution_count": 28,
   "metadata": {},
   "outputs": [
    {
     "name": "stderr",
     "output_type": "stream",
     "text": [
      "LOCAL_RANK: 0 - CUDA_VISIBLE_DEVICES: [0,1,2,3]\n"
     ]
    },
    {
     "data": {
      "application/vnd.jupyter.widget-view+json": {
       "model_id": "62532540fd444e73acfc21a0ec4c9ceb",
       "version_major": 2,
       "version_minor": 0
      },
      "text/plain": [
       "Testing: |          | 0/? [00:00<?, ?it/s]"
      ]
     },
     "metadata": {},
     "output_type": "display_data"
    },
    {
     "data": {
      "text/html": [
       "<pre style=\"white-space:pre;overflow-x:auto;line-height:normal;font-family:Menlo,'DejaVu Sans Mono',consolas,'Courier New',monospace\">┏━━━━━━━━━━━━━━━━━━━━━━━━━━━┳━━━━━━━━━━━━━━━━━━━━━━━━━━━┓\n",
       "┃<span style=\"font-weight: bold\">        Test metric        </span>┃<span style=\"font-weight: bold\">       DataLoader 0        </span>┃\n",
       "┡━━━━━━━━━━━━━━━━━━━━━━━━━━━╇━━━━━━━━━━━━━━━━━━━━━━━━━━━┩\n",
       "│<span style=\"color: #008080; text-decoration-color: #008080\">   test/CrossEntropyLoss   </span>│<span style=\"color: #800080; text-decoration-color: #800080\">     2.503328561782837     </span>│\n",
       "│<span style=\"color: #008080; text-decoration-color: #008080\">          test/F1          </span>│<span style=\"color: #800080; text-decoration-color: #800080\">    0.2775000035762787     </span>│\n",
       "│<span style=\"color: #008080; text-decoration-color: #008080\">  test/MulticlassAccuracy  </span>│<span style=\"color: #800080; text-decoration-color: #800080\">    0.2775000035762787     </span>│\n",
       "└───────────────────────────┴───────────────────────────┘\n",
       "</pre>\n"
      ],
      "text/plain": [
       "┏━━━━━━━━━━━━━━━━━━━━━━━━━━━┳━━━━━━━━━━━━━━━━━━━━━━━━━━━┓\n",
       "┃\u001b[1m \u001b[0m\u001b[1m       Test metric       \u001b[0m\u001b[1m \u001b[0m┃\u001b[1m \u001b[0m\u001b[1m      DataLoader 0       \u001b[0m\u001b[1m \u001b[0m┃\n",
       "┡━━━━━━━━━━━━━━━━━━━━━━━━━━━╇━━━━━━━━━━━━━━━━━━━━━━━━━━━┩\n",
       "│\u001b[36m \u001b[0m\u001b[36m  test/CrossEntropyLoss  \u001b[0m\u001b[36m \u001b[0m│\u001b[35m \u001b[0m\u001b[35m    2.503328561782837    \u001b[0m\u001b[35m \u001b[0m│\n",
       "│\u001b[36m \u001b[0m\u001b[36m         test/F1         \u001b[0m\u001b[36m \u001b[0m│\u001b[35m \u001b[0m\u001b[35m   0.2775000035762787    \u001b[0m\u001b[35m \u001b[0m│\n",
       "│\u001b[36m \u001b[0m\u001b[36m test/MulticlassAccuracy \u001b[0m\u001b[36m \u001b[0m│\u001b[35m \u001b[0m\u001b[35m   0.2775000035762787    \u001b[0m\u001b[35m \u001b[0m│\n",
       "└───────────────────────────┴───────────────────────────┘\n"
      ]
     },
     "metadata": {},
     "output_type": "display_data"
    },
    {
     "data": {
      "text/plain": [
       "[{'test/CrossEntropyLoss': 2.503328561782837,\n",
       "  'test/MulticlassAccuracy': 0.2775000035762787,\n",
       "  'test/F1': 0.2775000035762787}]"
      ]
     },
     "execution_count": 28,
     "metadata": {},
     "output_type": "execute_result"
    }
   ],
   "source": [
    "trainer.test(model, datamodule)"
   ]
  },
  {
   "cell_type": "code",
   "execution_count": 31,
   "metadata": {},
   "outputs": [],
   "source": [
    "model = BaseModule.load_from_checkpoint(\n",
    "    \"/workspace/notebooks/development/lightning_logs/version_13/checkpoints/epoch=4-step=200.ckpt\"\n",
    ")"
   ]
  },
  {
   "cell_type": "code",
   "execution_count": 32,
   "metadata": {},
   "outputs": [
    {
     "name": "stderr",
     "output_type": "stream",
     "text": [
      "LOCAL_RANK: 0 - CUDA_VISIBLE_DEVICES: [0,1,2,3]\n"
     ]
    },
    {
     "data": {
      "application/vnd.jupyter.widget-view+json": {
       "model_id": "261bab8df40b41bf93c3d41db9c88e71",
       "version_major": 2,
       "version_minor": 0
      },
      "text/plain": [
       "Testing: |          | 0/? [00:00<?, ?it/s]"
      ]
     },
     "metadata": {},
     "output_type": "display_data"
    },
    {
     "data": {
      "text/html": [
       "<pre style=\"white-space:pre;overflow-x:auto;line-height:normal;font-family:Menlo,'DejaVu Sans Mono',consolas,'Courier New',monospace\">┏━━━━━━━━━━━━━━━━━━━━━━━━━━━┳━━━━━━━━━━━━━━━━━━━━━━━━━━━┓\n",
       "┃<span style=\"font-weight: bold\">        Test metric        </span>┃<span style=\"font-weight: bold\">       DataLoader 0        </span>┃\n",
       "┡━━━━━━━━━━━━━━━━━━━━━━━━━━━╇━━━━━━━━━━━━━━━━━━━━━━━━━━━┩\n",
       "│<span style=\"color: #008080; text-decoration-color: #008080\">   test/CrossEntropyLoss   </span>│<span style=\"color: #800080; text-decoration-color: #800080\">     2.503328561782837     </span>│\n",
       "│<span style=\"color: #008080; text-decoration-color: #008080\">          test/F1          </span>│<span style=\"color: #800080; text-decoration-color: #800080\">    0.2775000035762787     </span>│\n",
       "│<span style=\"color: #008080; text-decoration-color: #008080\">  test/MulticlassAccuracy  </span>│<span style=\"color: #800080; text-decoration-color: #800080\">    0.2775000035762787     </span>│\n",
       "└───────────────────────────┴───────────────────────────┘\n",
       "</pre>\n"
      ],
      "text/plain": [
       "┏━━━━━━━━━━━━━━━━━━━━━━━━━━━┳━━━━━━━━━━━━━━━━━━━━━━━━━━━┓\n",
       "┃\u001b[1m \u001b[0m\u001b[1m       Test metric       \u001b[0m\u001b[1m \u001b[0m┃\u001b[1m \u001b[0m\u001b[1m      DataLoader 0       \u001b[0m\u001b[1m \u001b[0m┃\n",
       "┡━━━━━━━━━━━━━━━━━━━━━━━━━━━╇━━━━━━━━━━━━━━━━━━━━━━━━━━━┩\n",
       "│\u001b[36m \u001b[0m\u001b[36m  test/CrossEntropyLoss  \u001b[0m\u001b[36m \u001b[0m│\u001b[35m \u001b[0m\u001b[35m    2.503328561782837    \u001b[0m\u001b[35m \u001b[0m│\n",
       "│\u001b[36m \u001b[0m\u001b[36m         test/F1         \u001b[0m\u001b[36m \u001b[0m│\u001b[35m \u001b[0m\u001b[35m   0.2775000035762787    \u001b[0m\u001b[35m \u001b[0m│\n",
       "│\u001b[36m \u001b[0m\u001b[36m test/MulticlassAccuracy \u001b[0m\u001b[36m \u001b[0m│\u001b[35m \u001b[0m\u001b[35m   0.2775000035762787    \u001b[0m\u001b[35m \u001b[0m│\n",
       "└───────────────────────────┴───────────────────────────┘\n"
      ]
     },
     "metadata": {},
     "output_type": "display_data"
    },
    {
     "data": {
      "text/plain": [
       "[{'test/CrossEntropyLoss': 2.503328561782837,\n",
       "  'test/MulticlassAccuracy': 0.2775000035762787,\n",
       "  'test/F1': 0.2775000035762787}]"
      ]
     },
     "execution_count": 32,
     "metadata": {},
     "output_type": "execute_result"
    }
   ],
   "source": [
    "trainer.test(model, datamodule)"
   ]
  },
  {
   "cell_type": "code",
   "execution_count": 35,
   "metadata": {},
   "outputs": [
    {
     "name": "stderr",
     "output_type": "stream",
     "text": [
      "GPU available: True (cuda), used: True\n",
      "TPU available: False, using: 0 TPU cores\n",
      "HPU available: False, using: 0 HPUs\n"
     ]
    },
    {
     "name": "stderr",
     "output_type": "stream",
     "text": [
      "Restoring states from the checkpoint path at /workspace/notebooks/development/lightning_logs/version_13/checkpoints/epoch=4-step=200.ckpt\n",
      "LOCAL_RANK: 0 - CUDA_VISIBLE_DEVICES: [0,1,2,3]\n",
      "Loaded model weights from the checkpoint at /workspace/notebooks/development/lightning_logs/version_13/checkpoints/epoch=4-step=200.ckpt\n"
     ]
    },
    {
     "data": {
      "application/vnd.jupyter.widget-view+json": {
       "model_id": "ae50c907cb78490d81d903792702e2ed",
       "version_major": 2,
       "version_minor": 0
      },
      "text/plain": [
       "Testing: |          | 0/? [00:00<?, ?it/s]"
      ]
     },
     "metadata": {},
     "output_type": "display_data"
    },
    {
     "data": {
      "text/html": [
       "<pre style=\"white-space:pre;overflow-x:auto;line-height:normal;font-family:Menlo,'DejaVu Sans Mono',consolas,'Courier New',monospace\">┏━━━━━━━━━━━━━━━━━━━━━━━━━━━┳━━━━━━━━━━━━━━━━━━━━━━━━━━━┓\n",
       "┃<span style=\"font-weight: bold\">        Test metric        </span>┃<span style=\"font-weight: bold\">       DataLoader 0        </span>┃\n",
       "┡━━━━━━━━━━━━━━━━━━━━━━━━━━━╇━━━━━━━━━━━━━━━━━━━━━━━━━━━┩\n",
       "│<span style=\"color: #008080; text-decoration-color: #008080\">   test/CrossEntropyLoss   </span>│<span style=\"color: #800080; text-decoration-color: #800080\">     2.503328561782837     </span>│\n",
       "│<span style=\"color: #008080; text-decoration-color: #008080\">          test/F1          </span>│<span style=\"color: #800080; text-decoration-color: #800080\">    0.2775000035762787     </span>│\n",
       "│<span style=\"color: #008080; text-decoration-color: #008080\">  test/MulticlassAccuracy  </span>│<span style=\"color: #800080; text-decoration-color: #800080\">    0.2775000035762787     </span>│\n",
       "└───────────────────────────┴───────────────────────────┘\n",
       "</pre>\n"
      ],
      "text/plain": [
       "┏━━━━━━━━━━━━━━━━━━━━━━━━━━━┳━━━━━━━━━━━━━━━━━━━━━━━━━━━┓\n",
       "┃\u001b[1m \u001b[0m\u001b[1m       Test metric       \u001b[0m\u001b[1m \u001b[0m┃\u001b[1m \u001b[0m\u001b[1m      DataLoader 0       \u001b[0m\u001b[1m \u001b[0m┃\n",
       "┡━━━━━━━━━━━━━━━━━━━━━━━━━━━╇━━━━━━━━━━━━━━━━━━━━━━━━━━━┩\n",
       "│\u001b[36m \u001b[0m\u001b[36m  test/CrossEntropyLoss  \u001b[0m\u001b[36m \u001b[0m│\u001b[35m \u001b[0m\u001b[35m    2.503328561782837    \u001b[0m\u001b[35m \u001b[0m│\n",
       "│\u001b[36m \u001b[0m\u001b[36m         test/F1         \u001b[0m\u001b[36m \u001b[0m│\u001b[35m \u001b[0m\u001b[35m   0.2775000035762787    \u001b[0m\u001b[35m \u001b[0m│\n",
       "│\u001b[36m \u001b[0m\u001b[36m test/MulticlassAccuracy \u001b[0m\u001b[36m \u001b[0m│\u001b[35m \u001b[0m\u001b[35m   0.2775000035762787    \u001b[0m\u001b[35m \u001b[0m│\n",
       "└───────────────────────────┴───────────────────────────┘\n"
      ]
     },
     "metadata": {},
     "output_type": "display_data"
    },
    {
     "data": {
      "text/plain": [
       "[{'test/CrossEntropyLoss': 2.503328561782837,\n",
       "  'test/MulticlassAccuracy': 0.2775000035762787,\n",
       "  'test/F1': 0.2775000035762787}]"
      ]
     },
     "execution_count": 35,
     "metadata": {},
     "output_type": "execute_result"
    }
   ],
   "source": [
    "trainer = Trainer(max_epochs=5, accelerator=\"gpu\", devices=1)\n",
    "trainer.test(\n",
    "    model,\n",
    "    datamodule,\n",
    "    ckpt_path=\"/workspace/notebooks/development/lightning_logs/version_13/checkpoints/epoch=4-step=200.ckpt\",\n",
    ")"
   ]
  }
 ],
 "metadata": {
  "kernelspec": {
   "display_name": "birdset-xS3fZVNL-py3.10",
   "language": "python",
   "name": "python3"
  },
  "language_info": {
   "codemirror_mode": {
    "name": "ipython",
    "version": 3
   },
   "file_extension": ".py",
   "mimetype": "text/x-python",
   "name": "python",
   "nbconvert_exporter": "python",
   "pygments_lexer": "ipython3",
   "version": "3.10.12"
  }
 },
 "nbformat": 4,
 "nbformat_minor": 2
}
