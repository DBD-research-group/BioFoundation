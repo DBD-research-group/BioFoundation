{
 "cells": [
  {
   "cell_type": "code",
   "execution_count": 7,
   "metadata": {},
   "outputs": [],
   "source": [
    "from birdset.datamodule.birdset_datamodule import BirdSetDataModule\n",
    "from birdset.configs.datamodule_configs import DatasetConfig\n",
    "from birdset.datamodule.components.transforms import BirdSetTransformsWrapper\n",
    "dataset_config = DatasetConfig(\n",
    "        data_dir=\"data_birdset/HSN\",\n",
    "        dataset_name=\"HSN\",\n",
    "        hf_path=\"DBD-research-group/BirdSet\",\n",
    "        hf_name=\"HSN\",\n",
    "        n_workers=3,\n",
    "        val_split=0.2,\n",
    "        task=\"multilabel\",\n",
    "        classlimit=500,\n",
    "        eventlimit=5,\n",
    "        sampling_rate=32000,\n",
    "        )\n",
    "\n",
    "transforms = BirdSetTransformsWrapper(\n",
    "    task=dataset_config.task,\n",
    ")\n",
    "datamodule = BirdSetDataModule(dataset=dataset_config)\n"
   ]
  },
  {
   "cell_type": "code",
   "execution_count": 8,
   "metadata": {},
   "outputs": [
    {
     "name": "stderr",
     "output_type": "stream",
     "text": [
      "/home/vscode/.cache/pypoetry/virtualenvs/birdset-xS3fZVNL-py3.10/lib/python3.10/site-packages/datasets/load.py:1461: FutureWarning: The repository for DBD-research-group/BirdSet contains custom code which must be executed to correctly load the dataset. You can inspect the repository content at https://hf.co/datasets/DBD-research-group/BirdSet\n",
      "You can avoid this message in future by passing the argument `trust_remote_code=True`.\n",
      "Passing `trust_remote_code=True` will be mandatory to load this dataset from the next major release of `datasets`.\n",
      "  warnings.warn(\n"
     ]
    },
    {
     "data": {
      "application/vnd.jupyter.widget-view+json": {
       "model_id": "1752043858974f59a73164157adf0f19",
       "version_major": 2,
       "version_minor": 0
      },
      "text/plain": [
       "Downloading data:   0%|          | 0.00/481M [00:00<?, ?B/s]"
      ]
     },
     "metadata": {},
     "output_type": "display_data"
    },
    {
     "data": {
      "application/vnd.jupyter.widget-view+json": {
       "model_id": "e5f0a64960f14b5eaadb06de6c5fe37c",
       "version_major": 2,
       "version_minor": 0
      },
      "text/plain": [
       "Downloading data:   0%|          | 0.00/1.21M [00:00<?, ?B/s]"
      ]
     },
     "metadata": {},
     "output_type": "display_data"
    },
    {
     "data": {
      "application/vnd.jupyter.widget-view+json": {
       "model_id": "a0ca4cc36b9c4fba9526298ff277f3ba",
       "version_major": 2,
       "version_minor": 0
      },
      "text/plain": [
       "Downloading data:   0%|          | 0.00/198k [00:00<?, ?B/s]"
      ]
     },
     "metadata": {},
     "output_type": "display_data"
    },
    {
     "data": {
      "application/vnd.jupyter.widget-view+json": {
       "model_id": "74d7b79fdbe848879719e04862ad1ce3",
       "version_major": 2,
       "version_minor": 0
      },
      "text/plain": [
       "Downloading data:   0%|          | 0.00/206k [00:00<?, ?B/s]"
      ]
     },
     "metadata": {},
     "output_type": "display_data"
    },
    {
     "data": {
      "application/vnd.jupyter.widget-view+json": {
       "model_id": "29c48f9c938e47f18826ddd9931974f1",
       "version_major": 2,
       "version_minor": 0
      },
      "text/plain": [
       "Extracting train split:   0%|          | 0/7 [00:00<?, ?it/s]"
      ]
     },
     "metadata": {},
     "output_type": "display_data"
    },
    {
     "data": {
      "application/vnd.jupyter.widget-view+json": {
       "model_id": "81d8e8ac129d452dafa12ccaccf58ce6",
       "version_major": 2,
       "version_minor": 0
      },
      "text/plain": [
       "Extracting test split:   0%|          | 0/3 [00:00<?, ?it/s]"
      ]
     },
     "metadata": {},
     "output_type": "display_data"
    },
    {
     "data": {
      "application/vnd.jupyter.widget-view+json": {
       "model_id": "c59b427955e04920ace1a69eb30d5001",
       "version_major": 2,
       "version_minor": 0
      },
      "text/plain": [
       "Extracting test_5s split:   0%|          | 0/1 [00:00<?, ?it/s]"
      ]
     },
     "metadata": {},
     "output_type": "display_data"
    },
    {
     "data": {
      "application/vnd.jupyter.widget-view+json": {
       "model_id": "e496bf00ddfb4498abb8a50e76674a1a",
       "version_major": 2,
       "version_minor": 0
      },
      "text/plain": [
       "Generating train split: 0 examples [00:00, ? examples/s]"
      ]
     },
     "metadata": {},
     "output_type": "display_data"
    },
    {
     "data": {
      "application/vnd.jupyter.widget-view+json": {
       "model_id": "2e2ebd3c6f254677ba75ebffb871f9b2",
       "version_major": 2,
       "version_minor": 0
      },
      "text/plain": [
       "Generating test split: 0 examples [00:00, ? examples/s]"
      ]
     },
     "metadata": {},
     "output_type": "display_data"
    },
    {
     "name": "stderr",
     "output_type": "stream",
     "text": [
      "Setting num_proc from 3 back to 1 for the test_5s split to disable multiprocessing as it only contains one shard.\n"
     ]
    },
    {
     "data": {
      "application/vnd.jupyter.widget-view+json": {
       "model_id": "7319963d9147427abfd68dc04ebdd9e1",
       "version_major": 2,
       "version_minor": 0
      },
      "text/plain": [
       "Generating test_5s split: 0 examples [00:00, ? examples/s]"
      ]
     },
     "metadata": {},
     "output_type": "display_data"
    },
    {
     "data": {
      "application/vnd.jupyter.widget-view+json": {
       "model_id": "efe07ba9320c42fbac400c0f9bf686c3",
       "version_major": 2,
       "version_minor": 0
      },
      "text/plain": [
       "Train event mapping (num_proc=3):   0%|          | 0/5460 [00:00<?, ? examples/s]"
      ]
     },
     "metadata": {},
     "output_type": "display_data"
    },
    {
     "data": {
      "application/vnd.jupyter.widget-view+json": {
       "model_id": "872d879ced4b459697ca825225a72895",
       "version_major": 2,
       "version_minor": 0
      },
      "text/plain": [
       "sampling: unique-identifier:   0%|          | 0/38170 [00:00<?, ? examples/s]"
      ]
     },
     "metadata": {},
     "output_type": "display_data"
    },
    {
     "name": "stderr",
     "output_type": "stream",
     "text": [
      "sampling: 100%|██████████| 21/21 [00:02<00:00, 10.06it/s]\n"
     ]
    },
    {
     "data": {
      "application/vnd.jupyter.widget-view+json": {
       "model_id": "fbb803c3519b4d25a4b2c12bbc6a1b9c",
       "version_major": 2,
       "version_minor": 0
      },
      "text/plain": [
       "One-hot-encoding train labels. (num_proc=3):   0%|          | 0/17940 [00:00<?, ? examples/s]"
      ]
     },
     "metadata": {},
     "output_type": "display_data"
    },
    {
     "name": "stderr",
     "output_type": "stream",
     "text": [
      "/home/vscode/.cache/pypoetry/virtualenvs/birdset-xS3fZVNL-py3.10/lib/python3.10/site-packages/datasets/load.py:1461: FutureWarning: The repository for DBD-research-group/BirdSet contains custom code which must be executed to correctly load the dataset. You can inspect the repository content at https://hf.co/datasets/DBD-research-group/BirdSet\n",
      "You can avoid this message in future by passing the argument `trust_remote_code=True`.\n",
      "Passing `trust_remote_code=True` will be mandatory to load this dataset from the next major release of `datasets`.\n",
      "  warnings.warn(\n",
      "/home/vscode/.cache/pypoetry/virtualenvs/birdset-xS3fZVNL-py3.10/lib/python3.10/site-packages/datasets/load.py:1461: FutureWarning: The repository for DBD-research-group/BirdSet contains custom code which must be executed to correctly load the dataset. You can inspect the repository content at https://hf.co/datasets/DBD-research-group/BirdSet\n",
      "You can avoid this message in future by passing the argument `trust_remote_code=True`.\n",
      "Passing `trust_remote_code=True` will be mandatory to load this dataset from the next major release of `datasets`.\n",
      "  warnings.warn(\n",
      "/home/vscode/.cache/pypoetry/virtualenvs/birdset-xS3fZVNL-py3.10/lib/python3.10/site-packages/datasets/load.py:1461: FutureWarning: The repository for DBD-research-group/BirdSet contains custom code which must be executed to correctly load the dataset. You can inspect the repository content at https://hf.co/datasets/DBD-research-group/BirdSet\n",
      "You can avoid this message in future by passing the argument `trust_remote_code=True`.\n",
      "Passing `trust_remote_code=True` will be mandatory to load this dataset from the next major release of `datasets`.\n",
      "  warnings.warn(\n",
      "/workspace/birdset/datamodule/base_datamodule.py:480: UserWarning: To copy construct from a tensor, it is recommended to use sourceTensor.clone().detach() or sourceTensor.clone().detach().requires_grad_(True), rather than torch.tensor(sourceTensor).\n",
      "  class_one_hot_matrix = torch.tensor(class_one_hot_matrix, dtype=torch.float32)\n",
      "/workspace/birdset/datamodule/base_datamodule.py:480: UserWarning: To copy construct from a tensor, it is recommended to use sourceTensor.clone().detach() or sourceTensor.clone().detach().requires_grad_(True), rather than torch.tensor(sourceTensor).\n",
      "  class_one_hot_matrix = torch.tensor(class_one_hot_matrix, dtype=torch.float32)\n",
      "/workspace/birdset/datamodule/base_datamodule.py:480: UserWarning: To copy construct from a tensor, it is recommended to use sourceTensor.clone().detach() or sourceTensor.clone().detach().requires_grad_(True), rather than torch.tensor(sourceTensor).\n",
      "  class_one_hot_matrix = torch.tensor(class_one_hot_matrix, dtype=torch.float32)\n"
     ]
    },
    {
     "data": {
      "application/vnd.jupyter.widget-view+json": {
       "model_id": "12c5440ced3449158e9696d16b2a4326",
       "version_major": 2,
       "version_minor": 0
      },
      "text/plain": [
       "One-hot-encoding test_5s labels. (num_proc=3):   0%|          | 0/12000 [00:00<?, ? examples/s]"
      ]
     },
     "metadata": {},
     "output_type": "display_data"
    },
    {
     "name": "stderr",
     "output_type": "stream",
     "text": [
      "/home/vscode/.cache/pypoetry/virtualenvs/birdset-xS3fZVNL-py3.10/lib/python3.10/site-packages/datasets/load.py:1461: FutureWarning: The repository for DBD-research-group/BirdSet contains custom code which must be executed to correctly load the dataset. You can inspect the repository content at https://hf.co/datasets/DBD-research-group/BirdSet\n",
      "You can avoid this message in future by passing the argument `trust_remote_code=True`.\n",
      "Passing `trust_remote_code=True` will be mandatory to load this dataset from the next major release of `datasets`.\n",
      "  warnings.warn(\n",
      "/home/vscode/.cache/pypoetry/virtualenvs/birdset-xS3fZVNL-py3.10/lib/python3.10/site-packages/datasets/load.py:1461: FutureWarning: The repository for DBD-research-group/BirdSet contains custom code which must be executed to correctly load the dataset. You can inspect the repository content at https://hf.co/datasets/DBD-research-group/BirdSet\n",
      "You can avoid this message in future by passing the argument `trust_remote_code=True`.\n",
      "Passing `trust_remote_code=True` will be mandatory to load this dataset from the next major release of `datasets`.\n",
      "  warnings.warn(\n",
      "/home/vscode/.cache/pypoetry/virtualenvs/birdset-xS3fZVNL-py3.10/lib/python3.10/site-packages/datasets/load.py:1461: FutureWarning: The repository for DBD-research-group/BirdSet contains custom code which must be executed to correctly load the dataset. You can inspect the repository content at https://hf.co/datasets/DBD-research-group/BirdSet\n",
      "You can avoid this message in future by passing the argument `trust_remote_code=True`.\n",
      "Passing `trust_remote_code=True` will be mandatory to load this dataset from the next major release of `datasets`.\n",
      "  warnings.warn(\n",
      "/workspace/birdset/datamodule/base_datamodule.py:480: UserWarning: To copy construct from a tensor, it is recommended to use sourceTensor.clone().detach() or sourceTensor.clone().detach().requires_grad_(True), rather than torch.tensor(sourceTensor).\n",
      "  class_one_hot_matrix = torch.tensor(class_one_hot_matrix, dtype=torch.float32)\n",
      "/workspace/birdset/datamodule/base_datamodule.py:480: UserWarning: To copy construct from a tensor, it is recommended to use sourceTensor.clone().detach() or sourceTensor.clone().detach().requires_grad_(True), rather than torch.tensor(sourceTensor).\n",
      "  class_one_hot_matrix = torch.tensor(class_one_hot_matrix, dtype=torch.float32)\n",
      "/workspace/birdset/datamodule/base_datamodule.py:480: UserWarning: To copy construct from a tensor, it is recommended to use sourceTensor.clone().detach() or sourceTensor.clone().detach().requires_grad_(True), rather than torch.tensor(sourceTensor).\n",
      "  class_one_hot_matrix = torch.tensor(class_one_hot_matrix, dtype=torch.float32)\n"
     ]
    },
    {
     "data": {
      "application/vnd.jupyter.widget-view+json": {
       "model_id": "50c2519e85b14e1a86f04a666e8e52fa",
       "version_major": 2,
       "version_minor": 0
      },
      "text/plain": [
       "Saving the dataset (0/1 shards):   0%|          | 0/14352 [00:00<?, ? examples/s]"
      ]
     },
     "metadata": {},
     "output_type": "display_data"
    },
    {
     "data": {
      "application/vnd.jupyter.widget-view+json": {
       "model_id": "30747c6d37724f91914e3dd55a3cb84f",
       "version_major": 2,
       "version_minor": 0
      },
      "text/plain": [
       "Saving the dataset (0/1 shards):   0%|          | 0/3588 [00:00<?, ? examples/s]"
      ]
     },
     "metadata": {},
     "output_type": "display_data"
    },
    {
     "data": {
      "application/vnd.jupyter.widget-view+json": {
       "model_id": "d15432774f434a22ae0f487a8e462018",
       "version_major": 2,
       "version_minor": 0
      },
      "text/plain": [
       "Saving the dataset (0/1 shards):   0%|          | 0/12000 [00:00<?, ? examples/s]"
      ]
     },
     "metadata": {},
     "output_type": "display_data"
    }
   ],
   "source": [
    "datamodule.prepare_data()"
   ]
  },
  {
   "cell_type": "code",
   "execution_count": 14,
   "metadata": {},
   "outputs": [],
   "source": [
    "datamodule.setup(\"fit\")"
   ]
  },
  {
   "cell_type": "code",
   "execution_count": 15,
   "metadata": {},
   "outputs": [
    {
     "name": "stderr",
     "output_type": "stream",
     "text": [
      "2025-01-28 12:24:29.393602: E tensorflow/compiler/xla/stream_executor/cuda/cuda_dnn.cc:9342] Unable to register cuDNN factory: Attempting to register factory for plugin cuDNN when one has already been registered\n",
      "2025-01-28 12:24:29.393639: E tensorflow/compiler/xla/stream_executor/cuda/cuda_fft.cc:609] Unable to register cuFFT factory: Attempting to register factory for plugin cuFFT when one has already been registered\n",
      "2025-01-28 12:24:29.395073: E tensorflow/compiler/xla/stream_executor/cuda/cuda_blas.cc:1518] Unable to register cuBLAS factory: Attempting to register factory for plugin cuBLAS when one has already been registered\n",
      "2025-01-28 12:24:29.488181: I tensorflow/core/platform/cpu_feature_guard.cc:182] This TensorFlow binary is optimized to use available CPU instructions in performance-critical operations.\n",
      "To enable the following instructions: AVX2 FMA, in other operations, rebuild TensorFlow with the appropriate compiler flags.\n"
     ]
    },
    {
     "name": "stdout",
     "output_type": "stream",
     "text": [
      "torch.Size([32, 1, 128, 1024])\n",
      "torch.Size([32, 21])\n"
     ]
    }
   ],
   "source": [
    "train_loader = datamodule.train_dataloader()\n",
    "# get the first batch\n",
    "batch = next(iter(train_loader))\n",
    "# get shape of the batch\n",
    "print(batch[\"input_values\"].shape)\n",
    "print(batch[\"labels\"].shape)"
   ]
  },
  {
   "cell_type": "code",
   "execution_count": 84,
   "metadata": {},
   "outputs": [
    {
     "name": "stderr",
     "output_type": "stream",
     "text": [
      "/home/vscode/.cache/pypoetry/virtualenvs/birdset-xS3fZVNL-py3.10/lib/python3.10/site-packages/datasets/load.py:1461: FutureWarning: The repository for DBD-research-group/BirdSet contains custom code which must be executed to correctly load the dataset. You can inspect the repository content at https://hf.co/datasets/DBD-research-group/BirdSet\n",
      "You can avoid this message in future by passing the argument `trust_remote_code=True`.\n",
      "Passing `trust_remote_code=True` will be mandatory to load this dataset from the next major release of `datasets`.\n",
      "  warnings.warn(\n"
     ]
    },
    {
     "data": {
      "text/plain": [
       "AudioMAEModel(\n",
       "  (model): VisionTransformer(\n",
       "    (patch_embed): PatchEmbed(\n",
       "      (proj): Conv2d(1, 768, kernel_size=(16, 16), stride=(16, 16))\n",
       "      (norm): Identity()\n",
       "    )\n",
       "    (pos_drop): Dropout(p=0.0, inplace=False)\n",
       "    (patch_drop): Identity()\n",
       "    (norm_pre): Identity()\n",
       "    (blocks): Sequential(\n",
       "      (0): Block(\n",
       "        (norm1): LayerNorm((768,), eps=1e-06, elementwise_affine=True)\n",
       "        (attn): Attention(\n",
       "          (qkv): Linear(in_features=768, out_features=2304, bias=True)\n",
       "          (q_norm): Identity()\n",
       "          (k_norm): Identity()\n",
       "          (attn_drop): Dropout(p=0.0, inplace=False)\n",
       "          (proj): Linear(in_features=768, out_features=768, bias=True)\n",
       "          (proj_drop): Dropout(p=0.0, inplace=False)\n",
       "        )\n",
       "        (ls1): Identity()\n",
       "        (drop_path1): Identity()\n",
       "        (norm2): LayerNorm((768,), eps=1e-06, elementwise_affine=True)\n",
       "        (mlp): Mlp(\n",
       "          (fc1): Linear(in_features=768, out_features=3072, bias=True)\n",
       "          (act): GELU(approximate='none')\n",
       "          (drop1): Dropout(p=0.0, inplace=False)\n",
       "          (norm): Identity()\n",
       "          (fc2): Linear(in_features=3072, out_features=768, bias=True)\n",
       "          (drop2): Dropout(p=0.0, inplace=False)\n",
       "        )\n",
       "        (ls2): Identity()\n",
       "        (drop_path2): Identity()\n",
       "      )\n",
       "      (1): Block(\n",
       "        (norm1): LayerNorm((768,), eps=1e-06, elementwise_affine=True)\n",
       "        (attn): Attention(\n",
       "          (qkv): Linear(in_features=768, out_features=2304, bias=True)\n",
       "          (q_norm): Identity()\n",
       "          (k_norm): Identity()\n",
       "          (attn_drop): Dropout(p=0.0, inplace=False)\n",
       "          (proj): Linear(in_features=768, out_features=768, bias=True)\n",
       "          (proj_drop): Dropout(p=0.0, inplace=False)\n",
       "        )\n",
       "        (ls1): Identity()\n",
       "        (drop_path1): Identity()\n",
       "        (norm2): LayerNorm((768,), eps=1e-06, elementwise_affine=True)\n",
       "        (mlp): Mlp(\n",
       "          (fc1): Linear(in_features=768, out_features=3072, bias=True)\n",
       "          (act): GELU(approximate='none')\n",
       "          (drop1): Dropout(p=0.0, inplace=False)\n",
       "          (norm): Identity()\n",
       "          (fc2): Linear(in_features=3072, out_features=768, bias=True)\n",
       "          (drop2): Dropout(p=0.0, inplace=False)\n",
       "        )\n",
       "        (ls2): Identity()\n",
       "        (drop_path2): Identity()\n",
       "      )\n",
       "      (2): Block(\n",
       "        (norm1): LayerNorm((768,), eps=1e-06, elementwise_affine=True)\n",
       "        (attn): Attention(\n",
       "          (qkv): Linear(in_features=768, out_features=2304, bias=True)\n",
       "          (q_norm): Identity()\n",
       "          (k_norm): Identity()\n",
       "          (attn_drop): Dropout(p=0.0, inplace=False)\n",
       "          (proj): Linear(in_features=768, out_features=768, bias=True)\n",
       "          (proj_drop): Dropout(p=0.0, inplace=False)\n",
       "        )\n",
       "        (ls1): Identity()\n",
       "        (drop_path1): Identity()\n",
       "        (norm2): LayerNorm((768,), eps=1e-06, elementwise_affine=True)\n",
       "        (mlp): Mlp(\n",
       "          (fc1): Linear(in_features=768, out_features=3072, bias=True)\n",
       "          (act): GELU(approximate='none')\n",
       "          (drop1): Dropout(p=0.0, inplace=False)\n",
       "          (norm): Identity()\n",
       "          (fc2): Linear(in_features=3072, out_features=768, bias=True)\n",
       "          (drop2): Dropout(p=0.0, inplace=False)\n",
       "        )\n",
       "        (ls2): Identity()\n",
       "        (drop_path2): Identity()\n",
       "      )\n",
       "      (3): Block(\n",
       "        (norm1): LayerNorm((768,), eps=1e-06, elementwise_affine=True)\n",
       "        (attn): Attention(\n",
       "          (qkv): Linear(in_features=768, out_features=2304, bias=True)\n",
       "          (q_norm): Identity()\n",
       "          (k_norm): Identity()\n",
       "          (attn_drop): Dropout(p=0.0, inplace=False)\n",
       "          (proj): Linear(in_features=768, out_features=768, bias=True)\n",
       "          (proj_drop): Dropout(p=0.0, inplace=False)\n",
       "        )\n",
       "        (ls1): Identity()\n",
       "        (drop_path1): Identity()\n",
       "        (norm2): LayerNorm((768,), eps=1e-06, elementwise_affine=True)\n",
       "        (mlp): Mlp(\n",
       "          (fc1): Linear(in_features=768, out_features=3072, bias=True)\n",
       "          (act): GELU(approximate='none')\n",
       "          (drop1): Dropout(p=0.0, inplace=False)\n",
       "          (norm): Identity()\n",
       "          (fc2): Linear(in_features=3072, out_features=768, bias=True)\n",
       "          (drop2): Dropout(p=0.0, inplace=False)\n",
       "        )\n",
       "        (ls2): Identity()\n",
       "        (drop_path2): Identity()\n",
       "      )\n",
       "      (4): Block(\n",
       "        (norm1): LayerNorm((768,), eps=1e-06, elementwise_affine=True)\n",
       "        (attn): Attention(\n",
       "          (qkv): Linear(in_features=768, out_features=2304, bias=True)\n",
       "          (q_norm): Identity()\n",
       "          (k_norm): Identity()\n",
       "          (attn_drop): Dropout(p=0.0, inplace=False)\n",
       "          (proj): Linear(in_features=768, out_features=768, bias=True)\n",
       "          (proj_drop): Dropout(p=0.0, inplace=False)\n",
       "        )\n",
       "        (ls1): Identity()\n",
       "        (drop_path1): Identity()\n",
       "        (norm2): LayerNorm((768,), eps=1e-06, elementwise_affine=True)\n",
       "        (mlp): Mlp(\n",
       "          (fc1): Linear(in_features=768, out_features=3072, bias=True)\n",
       "          (act): GELU(approximate='none')\n",
       "          (drop1): Dropout(p=0.0, inplace=False)\n",
       "          (norm): Identity()\n",
       "          (fc2): Linear(in_features=3072, out_features=768, bias=True)\n",
       "          (drop2): Dropout(p=0.0, inplace=False)\n",
       "        )\n",
       "        (ls2): Identity()\n",
       "        (drop_path2): Identity()\n",
       "      )\n",
       "      (5): Block(\n",
       "        (norm1): LayerNorm((768,), eps=1e-06, elementwise_affine=True)\n",
       "        (attn): Attention(\n",
       "          (qkv): Linear(in_features=768, out_features=2304, bias=True)\n",
       "          (q_norm): Identity()\n",
       "          (k_norm): Identity()\n",
       "          (attn_drop): Dropout(p=0.0, inplace=False)\n",
       "          (proj): Linear(in_features=768, out_features=768, bias=True)\n",
       "          (proj_drop): Dropout(p=0.0, inplace=False)\n",
       "        )\n",
       "        (ls1): Identity()\n",
       "        (drop_path1): Identity()\n",
       "        (norm2): LayerNorm((768,), eps=1e-06, elementwise_affine=True)\n",
       "        (mlp): Mlp(\n",
       "          (fc1): Linear(in_features=768, out_features=3072, bias=True)\n",
       "          (act): GELU(approximate='none')\n",
       "          (drop1): Dropout(p=0.0, inplace=False)\n",
       "          (norm): Identity()\n",
       "          (fc2): Linear(in_features=3072, out_features=768, bias=True)\n",
       "          (drop2): Dropout(p=0.0, inplace=False)\n",
       "        )\n",
       "        (ls2): Identity()\n",
       "        (drop_path2): Identity()\n",
       "      )\n",
       "      (6): Block(\n",
       "        (norm1): LayerNorm((768,), eps=1e-06, elementwise_affine=True)\n",
       "        (attn): Attention(\n",
       "          (qkv): Linear(in_features=768, out_features=2304, bias=True)\n",
       "          (q_norm): Identity()\n",
       "          (k_norm): Identity()\n",
       "          (attn_drop): Dropout(p=0.0, inplace=False)\n",
       "          (proj): Linear(in_features=768, out_features=768, bias=True)\n",
       "          (proj_drop): Dropout(p=0.0, inplace=False)\n",
       "        )\n",
       "        (ls1): Identity()\n",
       "        (drop_path1): Identity()\n",
       "        (norm2): LayerNorm((768,), eps=1e-06, elementwise_affine=True)\n",
       "        (mlp): Mlp(\n",
       "          (fc1): Linear(in_features=768, out_features=3072, bias=True)\n",
       "          (act): GELU(approximate='none')\n",
       "          (drop1): Dropout(p=0.0, inplace=False)\n",
       "          (norm): Identity()\n",
       "          (fc2): Linear(in_features=3072, out_features=768, bias=True)\n",
       "          (drop2): Dropout(p=0.0, inplace=False)\n",
       "        )\n",
       "        (ls2): Identity()\n",
       "        (drop_path2): Identity()\n",
       "      )\n",
       "      (7): Block(\n",
       "        (norm1): LayerNorm((768,), eps=1e-06, elementwise_affine=True)\n",
       "        (attn): Attention(\n",
       "          (qkv): Linear(in_features=768, out_features=2304, bias=True)\n",
       "          (q_norm): Identity()\n",
       "          (k_norm): Identity()\n",
       "          (attn_drop): Dropout(p=0.0, inplace=False)\n",
       "          (proj): Linear(in_features=768, out_features=768, bias=True)\n",
       "          (proj_drop): Dropout(p=0.0, inplace=False)\n",
       "        )\n",
       "        (ls1): Identity()\n",
       "        (drop_path1): Identity()\n",
       "        (norm2): LayerNorm((768,), eps=1e-06, elementwise_affine=True)\n",
       "        (mlp): Mlp(\n",
       "          (fc1): Linear(in_features=768, out_features=3072, bias=True)\n",
       "          (act): GELU(approximate='none')\n",
       "          (drop1): Dropout(p=0.0, inplace=False)\n",
       "          (norm): Identity()\n",
       "          (fc2): Linear(in_features=3072, out_features=768, bias=True)\n",
       "          (drop2): Dropout(p=0.0, inplace=False)\n",
       "        )\n",
       "        (ls2): Identity()\n",
       "        (drop_path2): Identity()\n",
       "      )\n",
       "      (8): Block(\n",
       "        (norm1): LayerNorm((768,), eps=1e-06, elementwise_affine=True)\n",
       "        (attn): Attention(\n",
       "          (qkv): Linear(in_features=768, out_features=2304, bias=True)\n",
       "          (q_norm): Identity()\n",
       "          (k_norm): Identity()\n",
       "          (attn_drop): Dropout(p=0.0, inplace=False)\n",
       "          (proj): Linear(in_features=768, out_features=768, bias=True)\n",
       "          (proj_drop): Dropout(p=0.0, inplace=False)\n",
       "        )\n",
       "        (ls1): Identity()\n",
       "        (drop_path1): Identity()\n",
       "        (norm2): LayerNorm((768,), eps=1e-06, elementwise_affine=True)\n",
       "        (mlp): Mlp(\n",
       "          (fc1): Linear(in_features=768, out_features=3072, bias=True)\n",
       "          (act): GELU(approximate='none')\n",
       "          (drop1): Dropout(p=0.0, inplace=False)\n",
       "          (norm): Identity()\n",
       "          (fc2): Linear(in_features=3072, out_features=768, bias=True)\n",
       "          (drop2): Dropout(p=0.0, inplace=False)\n",
       "        )\n",
       "        (ls2): Identity()\n",
       "        (drop_path2): Identity()\n",
       "      )\n",
       "      (9): Block(\n",
       "        (norm1): LayerNorm((768,), eps=1e-06, elementwise_affine=True)\n",
       "        (attn): Attention(\n",
       "          (qkv): Linear(in_features=768, out_features=2304, bias=True)\n",
       "          (q_norm): Identity()\n",
       "          (k_norm): Identity()\n",
       "          (attn_drop): Dropout(p=0.0, inplace=False)\n",
       "          (proj): Linear(in_features=768, out_features=768, bias=True)\n",
       "          (proj_drop): Dropout(p=0.0, inplace=False)\n",
       "        )\n",
       "        (ls1): Identity()\n",
       "        (drop_path1): Identity()\n",
       "        (norm2): LayerNorm((768,), eps=1e-06, elementwise_affine=True)\n",
       "        (mlp): Mlp(\n",
       "          (fc1): Linear(in_features=768, out_features=3072, bias=True)\n",
       "          (act): GELU(approximate='none')\n",
       "          (drop1): Dropout(p=0.0, inplace=False)\n",
       "          (norm): Identity()\n",
       "          (fc2): Linear(in_features=3072, out_features=768, bias=True)\n",
       "          (drop2): Dropout(p=0.0, inplace=False)\n",
       "        )\n",
       "        (ls2): Identity()\n",
       "        (drop_path2): Identity()\n",
       "      )\n",
       "      (10): Block(\n",
       "        (norm1): LayerNorm((768,), eps=1e-06, elementwise_affine=True)\n",
       "        (attn): Attention(\n",
       "          (qkv): Linear(in_features=768, out_features=2304, bias=True)\n",
       "          (q_norm): Identity()\n",
       "          (k_norm): Identity()\n",
       "          (attn_drop): Dropout(p=0.0, inplace=False)\n",
       "          (proj): Linear(in_features=768, out_features=768, bias=True)\n",
       "          (proj_drop): Dropout(p=0.0, inplace=False)\n",
       "        )\n",
       "        (ls1): Identity()\n",
       "        (drop_path1): Identity()\n",
       "        (norm2): LayerNorm((768,), eps=1e-06, elementwise_affine=True)\n",
       "        (mlp): Mlp(\n",
       "          (fc1): Linear(in_features=768, out_features=3072, bias=True)\n",
       "          (act): GELU(approximate='none')\n",
       "          (drop1): Dropout(p=0.0, inplace=False)\n",
       "          (norm): Identity()\n",
       "          (fc2): Linear(in_features=3072, out_features=768, bias=True)\n",
       "          (drop2): Dropout(p=0.0, inplace=False)\n",
       "        )\n",
       "        (ls2): Identity()\n",
       "        (drop_path2): Identity()\n",
       "      )\n",
       "      (11): Block(\n",
       "        (norm1): LayerNorm((768,), eps=1e-06, elementwise_affine=True)\n",
       "        (attn): Attention(\n",
       "          (qkv): Linear(in_features=768, out_features=2304, bias=True)\n",
       "          (q_norm): Identity()\n",
       "          (k_norm): Identity()\n",
       "          (attn_drop): Dropout(p=0.0, inplace=False)\n",
       "          (proj): Linear(in_features=768, out_features=768, bias=True)\n",
       "          (proj_drop): Dropout(p=0.0, inplace=False)\n",
       "        )\n",
       "        (ls1): Identity()\n",
       "        (drop_path1): Identity()\n",
       "        (norm2): LayerNorm((768,), eps=1e-06, elementwise_affine=True)\n",
       "        (mlp): Mlp(\n",
       "          (fc1): Linear(in_features=768, out_features=3072, bias=True)\n",
       "          (act): GELU(approximate='none')\n",
       "          (drop1): Dropout(p=0.0, inplace=False)\n",
       "          (norm): Identity()\n",
       "          (fc2): Linear(in_features=3072, out_features=768, bias=True)\n",
       "          (drop2): Dropout(p=0.0, inplace=False)\n",
       "        )\n",
       "        (ls2): Identity()\n",
       "        (drop_path2): Identity()\n",
       "      )\n",
       "    )\n",
       "    (norm): LayerNorm((768,), eps=1e-06, elementwise_affine=True)\n",
       "    (fc_norm): Identity()\n",
       "    (head_drop): Dropout(p=0.0, inplace=False)\n",
       "    (head): Identity()\n",
       "  )\n",
       "  (classifier): Linear(in_features=768, out_features=21, bias=True)\n",
       ")"
      ]
     },
     "execution_count": 84,
     "metadata": {},
     "output_type": "execute_result"
    }
   ],
   "source": [
    "from functools import partial\n",
    "from biofoundation.modules.models.audiomae import AudioMAEModel\n",
    "from birdset.configs import NetworkConfig, MulticlassMetricsConfig\n",
    "from torch import nn\n",
    "\n",
    "model =  AudioMAEModel(num_classes=datamodule.num_classes)\n",
    "model"
   ]
  },
  {
   "cell_type": "code",
   "execution_count": 23,
   "metadata": {},
   "outputs": [
    {
     "name": "stdout",
     "output_type": "stream",
     "text": [
      "torch.Size([1, 1, 1024, 128])\n"
     ]
    },
    {
     "data": {
      "text/plain": [
       "tensor([[[[ 0.0879, -0.1448,  0.2320,  ...,  1.0810,  0.9851,  1.1085],\n",
       "          [ 0.8520,  0.3728,  0.7496,  ...,  0.9720,  0.9355,  0.9635],\n",
       "          [ 1.0757,  0.7039,  1.0808,  ...,  1.2369,  1.2061,  1.2079],\n",
       "          ...,\n",
       "          [ 0.4670,  0.4670,  0.4670,  ...,  0.4670,  0.4670,  0.4670],\n",
       "          [ 0.4670,  0.4670,  0.4670,  ...,  0.4670,  0.4670,  0.4670],\n",
       "          [ 0.4670,  0.4670,  0.4670,  ...,  0.4670,  0.4670,  0.4670]]]])"
      ]
     },
     "execution_count": 23,
     "metadata": {},
     "output_type": "execute_result"
    }
   ],
   "source": [
    "melspec= model.preprocess(batch['input_values'][0])\n",
    "print(melspec.size())\n",
    "melspec"
   ]
  },
  {
   "cell_type": "code",
   "execution_count": 36,
   "metadata": {},
   "outputs": [
    {
     "name": "stdout",
     "output_type": "stream",
     "text": [
      "torch.Size([1, 768])\n"
     ]
    },
    {
     "data": {
      "text/plain": [
       "tensor([[-5.5802e-02, -5.1612e-03, -9.1176e-02, -7.0981e-02, -1.5924e-01,\n",
       "         -4.6705e-02, -1.5741e-01, -9.2672e-02,  3.0200e-02, -1.4239e-02,\n",
       "         -2.9631e-01, -1.5146e-02, -5.7024e-03, -4.2623e-03, -9.0804e-02,\n",
       "         -2.3492e-02, -5.8451e-03, -4.6570e-02,  7.2527e-03, -2.2280e-02,\n",
       "         -1.4691e-01, -3.0508e-02, -8.3591e-02, -5.6695e-02, -9.8513e-02,\n",
       "         -5.5567e-02, -3.6628e-02,  4.4137e-02, -1.1131e-02,  4.8503e-02,\n",
       "         -1.0089e-01, -1.2892e-01, -2.6822e-02, -3.6965e-02, -1.2642e-02,\n",
       "         -2.9226e-02, -4.5288e-02, -1.8447e-02, -1.3904e-01, -1.0961e-01,\n",
       "         -8.8908e-02, -8.3141e-02, -5.8948e-02, -2.1350e-02,  3.1231e-03,\n",
       "         -4.6166e-02, -7.0890e-02, -2.6003e-02,  2.7877e-02, -8.7055e-02,\n",
       "         -5.0934e-02, -4.2907e-02,  9.5327e-03, -4.0284e-02, -6.4604e-02,\n",
       "         -5.4470e-02, -2.6052e-02, -6.3104e-02, -7.9351e-02,  2.6942e-02,\n",
       "          5.8276e-03, -3.7060e-02,  1.4764e-02, -1.6773e-01, -7.4977e-03,\n",
       "         -7.7646e-03,  4.9723e-02, -6.9234e-02,  4.5356e-03, -1.3834e+00,\n",
       "         -1.1636e-02, -4.1601e-02, -9.1549e-02, -3.3266e-02,  3.0385e-02,\n",
       "         -5.2136e-02, -1.2256e-01, -2.2291e-02, -9.6169e-02, -2.0875e-02,\n",
       "          5.2233e-02, -8.1132e-02, -5.6573e-02, -1.6795e-01,  3.7508e-02,\n",
       "         -4.4009e-02, -9.8866e-02,  4.6909e-02, -6.5580e-02, -1.0481e-01,\n",
       "         -1.5010e-02, -4.9651e-02, -1.2494e-01, -5.8625e-02, -7.7425e-02,\n",
       "         -1.8006e-02, -5.7507e-02, -1.4527e-02, -4.3554e-02, -3.2164e-02,\n",
       "         -2.9146e-02, -1.0323e-01, -1.2640e-02, -3.9209e-02, -4.0448e-02,\n",
       "         -7.3044e-02, -5.1620e-03, -5.8714e-02, -1.5338e-01, -4.1840e-02,\n",
       "         -7.2304e-02, -9.4565e-02, -3.2058e-02, -4.1418e-02, -1.4177e-01,\n",
       "         -2.2935e-01,  1.0444e-02, -1.0364e-02, -9.3970e-03, -8.0315e-03,\n",
       "         -1.0498e-01,  7.3299e-02, -6.1314e-02,  2.9736e-02, -8.7115e-02,\n",
       "         -1.8311e-01, -4.4105e-02, -8.1767e-02, -1.8992e-01, -1.0342e-01,\n",
       "         -4.3656e-02, -1.4248e-01, -7.9984e-02, -5.5968e-02, -6.7367e-02,\n",
       "          1.3459e-02, -1.9019e-02,  1.9861e-02, -9.9552e-04,  1.5602e-02,\n",
       "          4.4610e-03, -1.3295e-01, -1.0165e-01, -5.6410e-02, -8.4833e-02,\n",
       "         -1.0332e-01, -4.5657e-03, -1.2613e-01, -6.0198e-02,  2.6708e-02,\n",
       "         -2.7063e-02, -6.5705e-02,  1.6276e-02, -3.5814e-02,  3.0857e-03,\n",
       "         -1.3041e-01, -7.6332e-02,  7.1087e-03, -7.4044e-02, -1.0578e-01,\n",
       "         -9.3204e-02, -1.9923e-02, -3.5756e-02, -1.4070e-01, -9.9841e-02,\n",
       "         -2.2849e-02, -8.9423e-02, -1.7653e-02, -3.2091e-01, -1.2862e-02,\n",
       "         -5.7464e-02,  3.5021e-03, -1.5872e-01, -5.4161e-02, -4.2287e-02,\n",
       "         -5.9259e-02, -5.9403e-02,  3.7090e-02, -6.0264e-02, -1.7395e-02,\n",
       "          3.5978e-03, -9.0413e-02, -1.1709e-01, -3.1256e-01, -7.2431e-03,\n",
       "          3.5472e-02, -3.5549e-02, -3.7287e-02,  1.0936e-02, -1.0602e-02,\n",
       "         -5.2456e-02, -1.4991e-02, -3.6110e-02, -1.1589e-01, -2.7447e-03,\n",
       "         -8.9252e-02,  1.2324e-01, -2.7264e-01, -1.0566e-01, -6.6863e-02,\n",
       "         -2.7083e-02, -2.3564e-02, -4.6522e-02,  9.4988e-03, -7.1897e-02,\n",
       "         -1.3297e-02, -5.4767e-02, -5.2193e-02, -4.7613e-02,  4.2164e-02,\n",
       "         -4.1873e-01, -5.6933e-02, -1.0947e-02,  3.2784e-03, -7.1896e-03,\n",
       "         -2.7955e-03,  1.6913e-01, -6.8311e-02, -7.9836e-02, -6.0271e-02,\n",
       "         -5.3255e-02, -3.8782e-02, -1.1527e-02, -7.6047e-03, -3.2785e-02,\n",
       "         -7.6204e-02, -4.5488e-02,  6.1461e-03, -2.9941e-03,  8.8077e-03,\n",
       "          1.5684e-02, -5.5359e-02, -9.2459e-02, -4.4130e-02,  2.9086e-02,\n",
       "          1.2462e-02, -7.1239e-03, -9.3521e-03, -5.8392e-02, -1.2700e-01,\n",
       "          1.9999e-02, -2.9376e-02,  1.7392e-02,  1.9470e-02,  3.2599e-02,\n",
       "          5.6127e-03, -2.3311e-02,  6.1070e-02, -6.3036e-02, -9.8825e-02,\n",
       "         -4.2069e-02,  1.7299e-02,  3.6433e-03, -1.2959e-02,  2.6717e-02,\n",
       "         -3.8459e-02, -5.6000e-02, -1.9514e-01, -3.4495e-02, -6.3531e-03,\n",
       "         -1.2569e-01,  2.9011e-02, -1.1022e-01,  1.8527e-02,  7.4735e-02,\n",
       "         -5.1872e-02, -1.2244e-01,  7.0842e-04, -4.5693e-02, -6.1650e-03,\n",
       "         -5.2590e-02, -5.5023e-02,  5.7158e-02, -6.1895e-02, -1.1118e-01,\n",
       "          1.1949e-01, -2.0218e-02, -1.3077e-02, -1.5793e-02, -5.7302e-02,\n",
       "         -3.5347e-02,  1.0078e-02, -7.3059e-02, -1.8027e-02, -3.3547e-02,\n",
       "         -1.6113e-01, -4.8094e-02,  1.3001e-02, -2.5662e-01, -6.6622e-02,\n",
       "         -9.1716e-02, -4.4666e-02, -3.8502e-02, -1.1717e-01, -9.4196e-01,\n",
       "          2.7416e-02,  5.0906e-02, -7.2584e-02, -5.0897e-02, -1.3490e-01,\n",
       "         -1.3667e-01, -2.6486e-02,  4.4256e-02,  1.4513e-04,  5.0107e-02,\n",
       "         -9.3173e-02, -2.0959e-02, -1.1643e-02,  4.4565e-02, -5.1710e-02,\n",
       "         -2.5880e+00, -5.8981e-02, -5.7203e-02,  3.6186e-02,  3.6668e-02,\n",
       "         -3.9865e-02, -7.1172e-02,  1.1050e-02, -7.4607e-01, -8.5228e-03,\n",
       "         -1.4627e-01,  8.7968e-03, -5.0065e-02, -4.9366e-02,  3.8896e-02,\n",
       "         -5.7876e-02, -7.3764e-02, -1.4492e-02, -5.8532e-02,  1.0091e-01,\n",
       "         -2.1532e-02, -4.8010e-02, -3.2240e-02,  6.4419e-02, -4.7617e-02,\n",
       "         -1.4574e-02,  5.7116e-02, -5.1131e-02, -3.4662e-01,  6.7962e-02,\n",
       "         -4.9094e-02, -3.6566e-02, -3.2353e-02, -7.9942e-02, -4.6342e-02,\n",
       "         -6.6623e-02, -1.7610e-02, -9.8817e-02,  3.3314e-02,  4.3497e-03,\n",
       "         -1.3032e-02, -4.2758e-01, -9.6652e-02,  4.2065e-02, -5.5431e-02,\n",
       "         -1.1417e-02, -4.3663e-02, -7.1242e-02, -1.0538e-01, -2.5837e-02,\n",
       "         -1.2161e-01, -5.3944e-02, -2.0573e-02, -2.3227e-02, -1.5848e-02,\n",
       "         -6.9265e-02, -8.8913e-02, -8.3723e-03, -1.4156e-02, -2.3683e-02,\n",
       "          6.8146e-02, -6.4418e-02, -2.2412e-02, -5.3124e-02, -4.0128e-02,\n",
       "         -5.5016e-04, -7.1574e-03, -5.4466e-02, -4.8396e-02, -5.2854e-02,\n",
       "         -3.2610e-02, -3.2045e-02, -8.2175e-02, -7.6886e-02, -7.9416e-02,\n",
       "         -7.5169e-02, -9.8064e-02, -6.0886e-02, -3.9197e-02,  1.6631e-02,\n",
       "         -5.6918e-02, -1.3119e-03, -9.4582e-03, -3.0019e-01,  5.3665e-04,\n",
       "         -5.3579e-02, -6.2313e-02,  5.4029e-02,  9.1373e-02, -2.3417e-03,\n",
       "          1.6558e-02, -3.3302e-02, -7.9529e-02, -6.6306e-02, -5.7538e-04,\n",
       "          2.3587e-02, -1.0596e-01, -3.9121e-02, -2.5848e-02, -3.9487e-01,\n",
       "         -4.9576e-02, -3.0205e-02,  1.5143e-02, -6.0020e-02, -8.4652e-02,\n",
       "          3.3451e-02, -2.9591e-02,  4.1048e-02, -2.2091e-02, -5.5289e-02,\n",
       "         -3.2067e-02, -3.1747e-03,  1.1663e-02, -3.1330e-02, -9.8265e-03,\n",
       "         -3.1068e-01, -3.7517e-02, -1.9717e-02, -9.9780e-03, -1.9095e-02,\n",
       "         -8.8344e-02, -9.4501e-02, -6.3057e-02, -4.6593e-02, -6.5060e-02,\n",
       "         -1.2571e-01, -2.9461e-02, -5.3208e-02, -5.2326e-02,  5.9888e-04,\n",
       "          3.5363e-02, -2.3611e-02,  1.0773e-02, -1.2386e-01, -1.7307e-01,\n",
       "         -1.5123e-01, -1.1533e-01,  7.0261e-02, -3.0517e-02,  6.7670e-03,\n",
       "         -1.0015e-01, -1.0580e-02,  9.9719e-03, -1.9274e-01, -2.7653e-03,\n",
       "         -4.7387e-02, -1.0140e-01, -7.7521e-02, -6.3988e-03, -4.3252e-02,\n",
       "          4.9740e-02, -4.9884e-02, -1.1147e-01, -6.5842e-02, -5.3486e-02,\n",
       "          2.5172e-02, -3.9750e-02, -3.2134e-02,  1.8372e-02, -1.4473e-01,\n",
       "         -1.0032e-01, -6.7908e-02, -1.4116e-01, -5.7999e-02, -1.3752e-01,\n",
       "         -1.4374e-01, -5.3503e-02,  5.1062e-02,  1.6917e-02, -4.7172e-02,\n",
       "         -1.2612e-02, -5.5429e-02, -4.0992e-02, -6.6514e-02, -1.3358e-01,\n",
       "          3.3319e-02, -1.1073e-01,  8.7017e-03, -1.0402e-01, -2.5881e-02,\n",
       "         -1.2157e-01, -2.5060e-02, -6.6941e-02, -3.4435e-02, -4.7334e-02,\n",
       "         -1.3046e-01, -1.3789e-01,  7.4351e-02, -8.9471e-02,  3.5178e-02,\n",
       "         -8.7483e-02,  2.0881e-02, -7.8021e-02, -3.7959e-02, -4.5823e-02,\n",
       "         -2.4826e-02, -4.0202e-02, -6.3064e-02, -9.1592e-02,  3.2218e-02,\n",
       "         -9.5269e-02, -9.3324e-02,  4.0591e-03,  1.7774e-02, -8.2579e-02,\n",
       "         -1.1438e-01, -1.0186e-01, -6.7000e-03, -2.8538e-01, -1.1578e-01,\n",
       "         -2.9872e-02,  2.0874e-02, -8.5166e-02,  4.0348e-02, -1.7393e-02,\n",
       "         -2.5976e-02, -2.9702e-02, -1.4869e-01, -1.1222e-01,  5.6658e-02,\n",
       "         -3.0181e-02, -2.9832e-02, -6.4517e-02, -4.3289e-02, -5.7290e-02,\n",
       "         -6.2850e-02,  1.8836e-02, -3.7514e-02, -4.3105e-02, -7.1476e-02,\n",
       "          2.1365e-03,  2.2253e-02, -8.2232e-02,  3.8565e-03, -1.7240e-02,\n",
       "          2.4223e-03, -1.2346e-02, -8.7908e-03, -7.3457e-03, -4.5260e-02,\n",
       "          1.5302e-02,  1.2690e-02, -1.1541e-01, -1.3094e-01, -1.0029e-01,\n",
       "         -3.1840e-02, -3.4880e-02, -2.1325e-02, -3.9586e-01, -7.7006e-02,\n",
       "         -1.1769e-02, -1.2588e-01,  1.9813e+01, -7.7144e-02, -3.8112e-02,\n",
       "          9.1888e-03, -2.7104e-02,  7.7977e-03,  2.0234e-02, -1.4964e-02,\n",
       "          1.1260e-02, -4.0802e-01, -1.8894e-02, -9.2804e-02, -3.6510e-02,\n",
       "         -5.8626e-03, -4.6940e-02, -3.1914e-02, -1.5055e-01, -8.4489e-02,\n",
       "         -8.9380e-03, -8.1359e-02, -1.0400e-01, -1.1166e-01, -6.8812e-02,\n",
       "          1.6138e-02,  6.5481e-02, -5.3153e-02,  4.2305e-02, -7.6176e-02,\n",
       "          9.1370e-03, -1.1273e-01, -3.4772e-02, -3.9567e-02,  1.4472e-04,\n",
       "         -8.0126e-02, -1.1601e-01, -5.2705e-02, -4.4847e-02, -3.4645e-02,\n",
       "         -3.8871e-02,  1.0627e-03, -2.1494e-02, -4.6445e-02,  5.4101e-02,\n",
       "         -3.2931e-02,  1.2383e-02, -6.0777e-02, -3.7420e-02, -5.1833e-02,\n",
       "         -6.5607e-02,  1.6012e-02,  1.5030e-02, -4.5567e-02, -7.3485e-02,\n",
       "         -6.7661e-02,  1.2484e-02, -4.9916e-02,  8.2562e-03,  4.1537e-03,\n",
       "         -2.5039e-02, -1.4503e-01, -5.0516e-02,  5.6415e-02, -3.8947e-02,\n",
       "          4.1854e-02,  4.3205e-03, -3.8378e-02,  3.3574e-02, -8.2873e-02,\n",
       "         -6.2381e-02, -5.1716e-02, -1.3488e-01, -6.6368e-02, -8.7502e-02,\n",
       "         -3.6611e-02, -4.7675e-01,  2.5744e-02, -4.2117e-02,  4.4812e-02,\n",
       "         -1.2971e-02, -1.9477e-01, -1.8346e-02, -3.8520e-02, -9.0622e-02,\n",
       "         -2.2304e-02, -9.1553e-02, -1.8798e-02, -1.9098e-01,  2.2778e-02,\n",
       "          3.4015e-02,  2.3754e-02,  8.7101e-03, -1.1760e-01,  4.4112e-02,\n",
       "         -6.8692e-02, -8.5724e-02, -4.8018e-02,  2.9784e-02,  2.3813e-02,\n",
       "         -1.5174e-01, -5.0920e-01, -3.3078e-03, -2.0807e-02,  4.0254e-02,\n",
       "          1.2589e-02, -2.1094e-01,  3.7177e-02,  1.1531e-02, -8.6074e-02,\n",
       "         -5.5925e-02, -5.5685e-02,  1.1367e-03,  1.0739e-02,  1.9456e-02,\n",
       "          2.6841e-03, -5.5133e-02, -3.5628e-02,  7.3256e-03, -6.6957e-02,\n",
       "         -8.2400e-02, -4.9351e-02, -1.2156e-02,  5.3573e-02,  2.7392e-03,\n",
       "          3.6380e-02, -8.5181e-02, -1.7761e-01, -4.8625e-02, -1.3488e-02,\n",
       "          2.7289e-03, -6.6422e-02, -3.4854e-02, -3.0632e-03, -1.3180e-02,\n",
       "         -1.1390e-02,  7.7550e-02, -3.3237e-02,  1.5602e-03, -3.0339e-01,\n",
       "         -4.2127e-02, -3.2687e-02, -2.6531e-02,  4.1604e-02, -1.5913e-02,\n",
       "          2.3863e-02, -1.7966e-03, -5.7677e-02,  5.9609e-03, -1.7438e-02,\n",
       "         -3.9992e-03,  1.2080e-02, -5.6017e-01,  1.0943e-02, -2.9251e-02,\n",
       "          2.2347e-02, -3.2411e-02, -1.4563e-01, -1.0440e-01, -1.5738e-01,\n",
       "         -2.7298e-02, -5.5687e-02,  2.5835e-02, -1.2314e-01, -7.4914e-02,\n",
       "         -3.8897e-02, -5.4404e-04,  1.3545e-02, -3.4247e-02, -6.6740e-04,\n",
       "         -1.5480e-03, -5.0456e-02, -3.4869e-01, -5.0668e-04, -1.0342e-01,\n",
       "         -1.6383e-02, -3.6971e-02, -1.0255e-02,  6.5451e-03, -1.1401e-01,\n",
       "         -9.7358e-02,  4.5243e-02, -3.1937e-02,  4.2350e-02, -1.7721e-02,\n",
       "         -1.8262e-02, -1.7724e-02, -3.2225e-02, -2.2810e-01, -9.4890e-03,\n",
       "         -4.5426e-02, -1.6407e-01, -7.4274e-02, -1.0555e-01, -1.5778e-01,\n",
       "         -3.1909e-02, -6.6424e-02, -1.9819e-02, -7.0038e-02, -2.5289e-02,\n",
       "         -5.2791e-02, -3.5693e-02,  4.3802e-03, -1.1436e-02,  1.6718e-02,\n",
       "         -2.6330e-02,  9.4487e-02, -3.3565e-02]], grad_fn=<SelectBackward0>)"
      ]
     },
     "execution_count": 36,
     "metadata": {},
     "output_type": "execute_result"
    }
   ],
   "source": [
    "embeddings = model.get_embeddings(batch['input_values'][0])\n",
    "print(embeddings.size())\n",
    "embeddings"
   ]
  },
  {
   "cell_type": "code",
   "execution_count": 43,
   "metadata": {},
   "outputs": [
    {
     "data": {
      "image/png": "[encoded data removed]",
      "text/plain": [
       "<Figure size 800x400 with 1 Axes>"
      ]
     },
     "metadata": {},
     "output_type": "display_data"
    }
   ],
   "source": [
    "import torch\n",
    "import matplotlib.pyplot as plt\n",
    "\n",
    "# Example tensor (replace this with your actual tensor)\n",
    "embedding_tensor = embeddings\n",
    "\n",
    "# Convert tensor to numpy array for plotting\n",
    "embedding_array = embedding_tensor.squeeze()\n",
    "embedding_array=embedding_array.detach().numpy()  # Remove the first dimension\n",
    "\n",
    "# Plot the embedding as a line chart\n",
    "plt.figure(figsize=(8, 4))\n",
    "plt.plot(embedding_array, color='b', label='Embedding')\n",
    "plt.title('1D Embedding Visualization')\n",
    "plt.xlabel('Feature Index')\n",
    "plt.ylabel('Value')\n",
    "plt.legend()\n",
    "plt.grid(True)\n",
    "plt.show()\n",
    "\n"
   ]
  },
  {
   "cell_type": "code",
   "execution_count": 75,
   "metadata": {},
   "outputs": [
    {
     "name": "stdout",
     "output_type": "stream",
     "text": [
      "(1024, 128)\n"
     ]
    },
    {
     "data": {
      "image/png": "[encoded data removed]",
      "text/plain": [
       "<Figure size 1000x600 with 2 Axes>"
      ]
     },
     "metadata": {},
     "output_type": "display_data"
    }
   ],
   "source": [
    "import torch\n",
    "import matplotlib.pyplot as plt\n",
    "import numpy as np\n",
    "\n",
    "# Example tensor (replace this with your actual tensor)\n",
    "melspec_tensor = melspec # Replace this with your actual tensor\n",
    "melspec_array = melspec_tensor.squeeze().detach().numpy()  # Remove the batch and channel dimensions\n",
    "print (melspec_array.shape)\n",
    "# Plot the spectrogram\n",
    "plt.figure(figsize=(10, 6))\n",
    "plt.imshow(melspec_array.T, aspect='auto', origin='lower', cmap='viridis')\n",
    "plt.colorbar(label='Amplitude (dB)')\n",
    "plt.title('Mel-Spectrogram')\n",
    "plt.xlabel('Time Frames')\n",
    "plt.ylabel('Mel Frequency Bins')\n",
    "plt.show()\n",
    "\n"
   ]
  },
  {
   "cell_type": "code",
   "execution_count": 80,
   "metadata": {},
   "outputs": [
    {
     "name": "stdout",
     "output_type": "stream",
     "text": [
      "torch.Size([1, 21])\n"
     ]
    },
    {
     "data": {
      "text/plain": [
       "<bound method AudioMAEModel.load_model of AudioMAEModel(\n",
       "  (model): VisionTransformer(\n",
       "    (patch_embed): PatchEmbed(\n",
       "      (proj): Conv2d(1, 768, kernel_size=(16, 16), stride=(16, 16))\n",
       "      (norm): Identity()\n",
       "    )\n",
       "    (pos_drop): Dropout(p=0.0, inplace=False)\n",
       "    (patch_drop): Identity()\n",
       "    (norm_pre): Identity()\n",
       "    (blocks): Sequential(\n",
       "      (0): Block(\n",
       "        (norm1): LayerNorm((768,), eps=1e-06, elementwise_affine=True)\n",
       "        (attn): Attention(\n",
       "          (qkv): Linear(in_features=768, out_features=2304, bias=True)\n",
       "          (q_norm): Identity()\n",
       "          (k_norm): Identity()\n",
       "          (attn_drop): Dropout(p=0.0, inplace=False)\n",
       "          (proj): Linear(in_features=768, out_features=768, bias=True)\n",
       "          (proj_drop): Dropout(p=0.0, inplace=False)\n",
       "        )\n",
       "        (ls1): Identity()\n",
       "        (drop_path1): Identity()\n",
       "        (norm2): LayerNorm((768,), eps=1e-06, elementwise_affine=True)\n",
       "        (mlp): Mlp(\n",
       "          (fc1): Linear(in_features=768, out_features=3072, bias=True)\n",
       "          (act): GELU(approximate='none')\n",
       "          (drop1): Dropout(p=0.0, inplace=False)\n",
       "          (norm): Identity()\n",
       "          (fc2): Linear(in_features=3072, out_features=768, bias=True)\n",
       "          (drop2): Dropout(p=0.0, inplace=False)\n",
       "        )\n",
       "        (ls2): Identity()\n",
       "        (drop_path2): Identity()\n",
       "      )\n",
       "      (1): Block(\n",
       "        (norm1): LayerNorm((768,), eps=1e-06, elementwise_affine=True)\n",
       "        (attn): Attention(\n",
       "          (qkv): Linear(in_features=768, out_features=2304, bias=True)\n",
       "          (q_norm): Identity()\n",
       "          (k_norm): Identity()\n",
       "          (attn_drop): Dropout(p=0.0, inplace=False)\n",
       "          (proj): Linear(in_features=768, out_features=768, bias=True)\n",
       "          (proj_drop): Dropout(p=0.0, inplace=False)\n",
       "        )\n",
       "        (ls1): Identity()\n",
       "        (drop_path1): Identity()\n",
       "        (norm2): LayerNorm((768,), eps=1e-06, elementwise_affine=True)\n",
       "        (mlp): Mlp(\n",
       "          (fc1): Linear(in_features=768, out_features=3072, bias=True)\n",
       "          (act): GELU(approximate='none')\n",
       "          (drop1): Dropout(p=0.0, inplace=False)\n",
       "          (norm): Identity()\n",
       "          (fc2): Linear(in_features=3072, out_features=768, bias=True)\n",
       "          (drop2): Dropout(p=0.0, inplace=False)\n",
       "        )\n",
       "        (ls2): Identity()\n",
       "        (drop_path2): Identity()\n",
       "      )\n",
       "      (2): Block(\n",
       "        (norm1): LayerNorm((768,), eps=1e-06, elementwise_affine=True)\n",
       "        (attn): Attention(\n",
       "          (qkv): Linear(in_features=768, out_features=2304, bias=True)\n",
       "          (q_norm): Identity()\n",
       "          (k_norm): Identity()\n",
       "          (attn_drop): Dropout(p=0.0, inplace=False)\n",
       "          (proj): Linear(in_features=768, out_features=768, bias=True)\n",
       "          (proj_drop): Dropout(p=0.0, inplace=False)\n",
       "        )\n",
       "        (ls1): Identity()\n",
       "        (drop_path1): Identity()\n",
       "        (norm2): LayerNorm((768,), eps=1e-06, elementwise_affine=True)\n",
       "        (mlp): Mlp(\n",
       "          (fc1): Linear(in_features=768, out_features=3072, bias=True)\n",
       "          (act): GELU(approximate='none')\n",
       "          (drop1): Dropout(p=0.0, inplace=False)\n",
       "          (norm): Identity()\n",
       "          (fc2): Linear(in_features=3072, out_features=768, bias=True)\n",
       "          (drop2): Dropout(p=0.0, inplace=False)\n",
       "        )\n",
       "        (ls2): Identity()\n",
       "        (drop_path2): Identity()\n",
       "      )\n",
       "      (3): Block(\n",
       "        (norm1): LayerNorm((768,), eps=1e-06, elementwise_affine=True)\n",
       "        (attn): Attention(\n",
       "          (qkv): Linear(in_features=768, out_features=2304, bias=True)\n",
       "          (q_norm): Identity()\n",
       "          (k_norm): Identity()\n",
       "          (attn_drop): Dropout(p=0.0, inplace=False)\n",
       "          (proj): Linear(in_features=768, out_features=768, bias=True)\n",
       "          (proj_drop): Dropout(p=0.0, inplace=False)\n",
       "        )\n",
       "        (ls1): Identity()\n",
       "        (drop_path1): Identity()\n",
       "        (norm2): LayerNorm((768,), eps=1e-06, elementwise_affine=True)\n",
       "        (mlp): Mlp(\n",
       "          (fc1): Linear(in_features=768, out_features=3072, bias=True)\n",
       "          (act): GELU(approximate='none')\n",
       "          (drop1): Dropout(p=0.0, inplace=False)\n",
       "          (norm): Identity()\n",
       "          (fc2): Linear(in_features=3072, out_features=768, bias=True)\n",
       "          (drop2): Dropout(p=0.0, inplace=False)\n",
       "        )\n",
       "        (ls2): Identity()\n",
       "        (drop_path2): Identity()\n",
       "      )\n",
       "      (4): Block(\n",
       "        (norm1): LayerNorm((768,), eps=1e-06, elementwise_affine=True)\n",
       "        (attn): Attention(\n",
       "          (qkv): Linear(in_features=768, out_features=2304, bias=True)\n",
       "          (q_norm): Identity()\n",
       "          (k_norm): Identity()\n",
       "          (attn_drop): Dropout(p=0.0, inplace=False)\n",
       "          (proj): Linear(in_features=768, out_features=768, bias=True)\n",
       "          (proj_drop): Dropout(p=0.0, inplace=False)\n",
       "        )\n",
       "        (ls1): Identity()\n",
       "        (drop_path1): Identity()\n",
       "        (norm2): LayerNorm((768,), eps=1e-06, elementwise_affine=True)\n",
       "        (mlp): Mlp(\n",
       "          (fc1): Linear(in_features=768, out_features=3072, bias=True)\n",
       "          (act): GELU(approximate='none')\n",
       "          (drop1): Dropout(p=0.0, inplace=False)\n",
       "          (norm): Identity()\n",
       "          (fc2): Linear(in_features=3072, out_features=768, bias=True)\n",
       "          (drop2): Dropout(p=0.0, inplace=False)\n",
       "        )\n",
       "        (ls2): Identity()\n",
       "        (drop_path2): Identity()\n",
       "      )\n",
       "      (5): Block(\n",
       "        (norm1): LayerNorm((768,), eps=1e-06, elementwise_affine=True)\n",
       "        (attn): Attention(\n",
       "          (qkv): Linear(in_features=768, out_features=2304, bias=True)\n",
       "          (q_norm): Identity()\n",
       "          (k_norm): Identity()\n",
       "          (attn_drop): Dropout(p=0.0, inplace=False)\n",
       "          (proj): Linear(in_features=768, out_features=768, bias=True)\n",
       "          (proj_drop): Dropout(p=0.0, inplace=False)\n",
       "        )\n",
       "        (ls1): Identity()\n",
       "        (drop_path1): Identity()\n",
       "        (norm2): LayerNorm((768,), eps=1e-06, elementwise_affine=True)\n",
       "        (mlp): Mlp(\n",
       "          (fc1): Linear(in_features=768, out_features=3072, bias=True)\n",
       "          (act): GELU(approximate='none')\n",
       "          (drop1): Dropout(p=0.0, inplace=False)\n",
       "          (norm): Identity()\n",
       "          (fc2): Linear(in_features=3072, out_features=768, bias=True)\n",
       "          (drop2): Dropout(p=0.0, inplace=False)\n",
       "        )\n",
       "        (ls2): Identity()\n",
       "        (drop_path2): Identity()\n",
       "      )\n",
       "      (6): Block(\n",
       "        (norm1): LayerNorm((768,), eps=1e-06, elementwise_affine=True)\n",
       "        (attn): Attention(\n",
       "          (qkv): Linear(in_features=768, out_features=2304, bias=True)\n",
       "          (q_norm): Identity()\n",
       "          (k_norm): Identity()\n",
       "          (attn_drop): Dropout(p=0.0, inplace=False)\n",
       "          (proj): Linear(in_features=768, out_features=768, bias=True)\n",
       "          (proj_drop): Dropout(p=0.0, inplace=False)\n",
       "        )\n",
       "        (ls1): Identity()\n",
       "        (drop_path1): Identity()\n",
       "        (norm2): LayerNorm((768,), eps=1e-06, elementwise_affine=True)\n",
       "        (mlp): Mlp(\n",
       "          (fc1): Linear(in_features=768, out_features=3072, bias=True)\n",
       "          (act): GELU(approximate='none')\n",
       "          (drop1): Dropout(p=0.0, inplace=False)\n",
       "          (norm): Identity()\n",
       "          (fc2): Linear(in_features=3072, out_features=768, bias=True)\n",
       "          (drop2): Dropout(p=0.0, inplace=False)\n",
       "        )\n",
       "        (ls2): Identity()\n",
       "        (drop_path2): Identity()\n",
       "      )\n",
       "      (7): Block(\n",
       "        (norm1): LayerNorm((768,), eps=1e-06, elementwise_affine=True)\n",
       "        (attn): Attention(\n",
       "          (qkv): Linear(in_features=768, out_features=2304, bias=True)\n",
       "          (q_norm): Identity()\n",
       "          (k_norm): Identity()\n",
       "          (attn_drop): Dropout(p=0.0, inplace=False)\n",
       "          (proj): Linear(in_features=768, out_features=768, bias=True)\n",
       "          (proj_drop): Dropout(p=0.0, inplace=False)\n",
       "        )\n",
       "        (ls1): Identity()\n",
       "        (drop_path1): Identity()\n",
       "        (norm2): LayerNorm((768,), eps=1e-06, elementwise_affine=True)\n",
       "        (mlp): Mlp(\n",
       "          (fc1): Linear(in_features=768, out_features=3072, bias=True)\n",
       "          (act): GELU(approximate='none')\n",
       "          (drop1): Dropout(p=0.0, inplace=False)\n",
       "          (norm): Identity()\n",
       "          (fc2): Linear(in_features=3072, out_features=768, bias=True)\n",
       "          (drop2): Dropout(p=0.0, inplace=False)\n",
       "        )\n",
       "        (ls2): Identity()\n",
       "        (drop_path2): Identity()\n",
       "      )\n",
       "      (8): Block(\n",
       "        (norm1): LayerNorm((768,), eps=1e-06, elementwise_affine=True)\n",
       "        (attn): Attention(\n",
       "          (qkv): Linear(in_features=768, out_features=2304, bias=True)\n",
       "          (q_norm): Identity()\n",
       "          (k_norm): Identity()\n",
       "          (attn_drop): Dropout(p=0.0, inplace=False)\n",
       "          (proj): Linear(in_features=768, out_features=768, bias=True)\n",
       "          (proj_drop): Dropout(p=0.0, inplace=False)\n",
       "        )\n",
       "        (ls1): Identity()\n",
       "        (drop_path1): Identity()\n",
       "        (norm2): LayerNorm((768,), eps=1e-06, elementwise_affine=True)\n",
       "        (mlp): Mlp(\n",
       "          (fc1): Linear(in_features=768, out_features=3072, bias=True)\n",
       "          (act): GELU(approximate='none')\n",
       "          (drop1): Dropout(p=0.0, inplace=False)\n",
       "          (norm): Identity()\n",
       "          (fc2): Linear(in_features=3072, out_features=768, bias=True)\n",
       "          (drop2): Dropout(p=0.0, inplace=False)\n",
       "        )\n",
       "        (ls2): Identity()\n",
       "        (drop_path2): Identity()\n",
       "      )\n",
       "      (9): Block(\n",
       "        (norm1): LayerNorm((768,), eps=1e-06, elementwise_affine=True)\n",
       "        (attn): Attention(\n",
       "          (qkv): Linear(in_features=768, out_features=2304, bias=True)\n",
       "          (q_norm): Identity()\n",
       "          (k_norm): Identity()\n",
       "          (attn_drop): Dropout(p=0.0, inplace=False)\n",
       "          (proj): Linear(in_features=768, out_features=768, bias=True)\n",
       "          (proj_drop): Dropout(p=0.0, inplace=False)\n",
       "        )\n",
       "        (ls1): Identity()\n",
       "        (drop_path1): Identity()\n",
       "        (norm2): LayerNorm((768,), eps=1e-06, elementwise_affine=True)\n",
       "        (mlp): Mlp(\n",
       "          (fc1): Linear(in_features=768, out_features=3072, bias=True)\n",
       "          (act): GELU(approximate='none')\n",
       "          (drop1): Dropout(p=0.0, inplace=False)\n",
       "          (norm): Identity()\n",
       "          (fc2): Linear(in_features=3072, out_features=768, bias=True)\n",
       "          (drop2): Dropout(p=0.0, inplace=False)\n",
       "        )\n",
       "        (ls2): Identity()\n",
       "        (drop_path2): Identity()\n",
       "      )\n",
       "      (10): Block(\n",
       "        (norm1): LayerNorm((768,), eps=1e-06, elementwise_affine=True)\n",
       "        (attn): Attention(\n",
       "          (qkv): Linear(in_features=768, out_features=2304, bias=True)\n",
       "          (q_norm): Identity()\n",
       "          (k_norm): Identity()\n",
       "          (attn_drop): Dropout(p=0.0, inplace=False)\n",
       "          (proj): Linear(in_features=768, out_features=768, bias=True)\n",
       "          (proj_drop): Dropout(p=0.0, inplace=False)\n",
       "        )\n",
       "        (ls1): Identity()\n",
       "        (drop_path1): Identity()\n",
       "        (norm2): LayerNorm((768,), eps=1e-06, elementwise_affine=True)\n",
       "        (mlp): Mlp(\n",
       "          (fc1): Linear(in_features=768, out_features=3072, bias=True)\n",
       "          (act): GELU(approximate='none')\n",
       "          (drop1): Dropout(p=0.0, inplace=False)\n",
       "          (norm): Identity()\n",
       "          (fc2): Linear(in_features=3072, out_features=768, bias=True)\n",
       "          (drop2): Dropout(p=0.0, inplace=False)\n",
       "        )\n",
       "        (ls2): Identity()\n",
       "        (drop_path2): Identity()\n",
       "      )\n",
       "      (11): Block(\n",
       "        (norm1): LayerNorm((768,), eps=1e-06, elementwise_affine=True)\n",
       "        (attn): Attention(\n",
       "          (qkv): Linear(in_features=768, out_features=2304, bias=True)\n",
       "          (q_norm): Identity()\n",
       "          (k_norm): Identity()\n",
       "          (attn_drop): Dropout(p=0.0, inplace=False)\n",
       "          (proj): Linear(in_features=768, out_features=768, bias=True)\n",
       "          (proj_drop): Dropout(p=0.0, inplace=False)\n",
       "        )\n",
       "        (ls1): Identity()\n",
       "        (drop_path1): Identity()\n",
       "        (norm2): LayerNorm((768,), eps=1e-06, elementwise_affine=True)\n",
       "        (mlp): Mlp(\n",
       "          (fc1): Linear(in_features=768, out_features=3072, bias=True)\n",
       "          (act): GELU(approximate='none')\n",
       "          (drop1): Dropout(p=0.0, inplace=False)\n",
       "          (norm): Identity()\n",
       "          (fc2): Linear(in_features=3072, out_features=768, bias=True)\n",
       "          (drop2): Dropout(p=0.0, inplace=False)\n",
       "        )\n",
       "        (ls2): Identity()\n",
       "        (drop_path2): Identity()\n",
       "      )\n",
       "    )\n",
       "    (norm): LayerNorm((768,), eps=1e-06, elementwise_affine=True)\n",
       "    (fc_norm): Identity()\n",
       "    (head_drop): Dropout(p=0.0, inplace=False)\n",
       "    (head): Identity()\n",
       "  )\n",
       "  (classifier): Linear(in_features=768, out_features=21, bias=True)\n",
       ")>"
      ]
     },
     "execution_count": 80,
     "metadata": {},
     "output_type": "execute_result"
    }
   ],
   "source": [
    "from torch.nn import BCEWithLogitsLoss\n",
    "from torch.nn.modules.loss import _Loss\n",
    "logits = model.forward(batch['input_values'][0])\n",
    "print(logits.size())\n",
    "model.load_model"
   ]
  },
  {
   "cell_type": "code",
   "execution_count": 109,
   "metadata": {},
   "outputs": [
    {
     "name": "stdout",
     "output_type": "stream",
     "text": [
      "torch.Size([21])\n",
      "torch.Size([21])\n",
      "Loss: 0.6337890625\n"
     ]
    }
   ],
   "source": [
    "logits = model.forward(batch['input_values'][0])\n",
    "#loss = torch.nn.BCEWithLogitsLoss(logits[0],batch['labels'][0])\n",
    "print(batch['labels'][0].size())\n",
    "print(logits[0].size())\n",
    "labels = batch['labels'][0]\n",
    "\n",
    "# Create the loss function\n",
    "criterion = torch.nn.BCEWithLogitsLoss()\n",
    "\n",
    "# Compute the loss\n",
    "loss = criterion(logits[0], labels)\n",
    "\n",
    "print(f\"Loss: {loss.item()}\")"
   ]
  }
 ],
 "metadata": {
  "kernelspec": {
   "display_name": "birdset-xS3fZVNL-py3.10",
   "language": "python",
   "name": "python3"
  },
  "language_info": {
   "codemirror_mode": {
    "name": "ipython",
    "version": 3
   },
   "file_extension": ".py",
   "mimetype": "text/x-python",
   "name": "python",
   "nbconvert_exporter": "python",
   "pygments_lexer": "ipython3",
   "version": "3.10.12"
  }
 },
 "nbformat": 4,
 "nbformat_minor": 2
}
