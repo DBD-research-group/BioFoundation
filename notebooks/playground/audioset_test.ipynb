{
 "cells": [
  {
   "cell_type": "code",
   "execution_count": 1,
   "id": "4062e5e0",
   "metadata": {},
   "outputs": [
    {
     "data": {
      "application/vnd.jupyter.widget-view+json": {
       "model_id": "91be14211a5c4743af0af8aca229dc13",
       "version_major": 2,
       "version_minor": 0
      },
      "text/plain": [
       "Loading dataset shards:   0%|          | 0/52 [00:00<?, ?it/s]"
      ]
     },
     "metadata": {},
     "output_type": "display_data"
    },
    {
     "data": {
      "application/vnd.jupyter.widget-view+json": {
       "model_id": "869b543510d544a19114eab1f367c146",
       "version_major": 2,
       "version_minor": 0
      },
      "text/plain": [
       "Loading dataset shards:   0%|          | 0/48 [00:00<?, ?it/s]"
      ]
     },
     "metadata": {},
     "output_type": "display_data"
    },
    {
     "name": "stdout",
     "output_type": "stream",
     "text": [
      "train: 41100 rows\n",
      "test: 37772 rows\n"
     ]
    }
   ],
   "source": [
    "from datasets import load_dataset\n",
    "\n",
    "# Load the dataset from Hugging Face\n",
    "dataset = load_dataset(\"confit/audioset-20k-wds\")\n",
    "\n",
    "# Check number of rows per split\n",
    "for split in dataset:\n",
    "    print(f\"{split}: {len(dataset[split])} rows\")"
   ]
  },
  {
   "cell_type": "code",
   "execution_count": 2,
   "id": "2536f046",
   "metadata": {},
   "outputs": [],
   "source": [
    "import pandas as pd\n",
    "\n",
    "df_train = dataset[\"train\"].to_pandas()\n",
    "df_test = dataset[\"test\"].to_pandas()"
   ]
  },
  {
   "cell_type": "code",
   "execution_count": 3,
   "id": "d03ae531",
   "metadata": {},
   "outputs": [
    {
     "name": "stdout",
     "output_type": "stream",
     "text": [
      "Number of keys: train 41100, test 37772\n"
     ]
    }
   ],
   "source": [
    "print(f\"Number of keys: train {len(df_train)}, test {len(df_test)}\")"
   ]
  },
  {
   "cell_type": "code",
   "execution_count": 4,
   "id": "b9dbd69e",
   "metadata": {},
   "outputs": [],
   "source": [
    "df_train_unique = df_train.drop_duplicates(subset=\"__key__\")\n",
    "df_test_unique = df_test.drop_duplicates(subset=\"__key__\")"
   ]
  },
  {
   "cell_type": "code",
   "execution_count": 5,
   "id": "154a793f",
   "metadata": {},
   "outputs": [
    {
     "name": "stdout",
     "output_type": "stream",
     "text": [
      "Number of unique keys: train 20550, test 18886\n"
     ]
    }
   ],
   "source": [
    "print(\n",
    "    f\"Number of unique keys: train {len(df_train_unique)}, test {len(df_test_unique)}\"\n",
    ")"
   ]
  }
 ],
 "metadata": {
  "kernelspec": {
   "display_name": "birdset-xS3fZVNL-py3.10",
   "language": "python",
   "name": "python3"
  },
  "language_info": {
   "codemirror_mode": {
    "name": "ipython",
    "version": 3
   },
   "file_extension": ".py",
   "mimetype": "text/x-python",
   "name": "python",
   "nbconvert_exporter": "python",
   "pygments_lexer": "ipython3",
   "version": "3.10.12"
  }
 },
 "nbformat": 4,
 "nbformat_minor": 5
}
